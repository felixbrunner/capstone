{
 "cells": [
  {
   "cell_type": "markdown",
   "id": "pharmaceutical-scoop",
   "metadata": {},
   "source": [
    "# 03 - Modeling"
   ]
  },
  {
   "cell_type": "markdown",
   "id": "respective-tulsa",
   "metadata": {},
   "source": [
    "## Imports"
   ]
  },
  {
   "cell_type": "code",
   "execution_count": 1,
   "id": "internal-survival",
   "metadata": {},
   "outputs": [],
   "source": [
    "%load_ext autoreload\n",
    "%autoreload 2"
   ]
  },
  {
   "cell_type": "code",
   "execution_count": 2,
   "id": "painful-closure",
   "metadata": {},
   "outputs": [],
   "source": [
    "import numpy as np\n",
    "import pandas as pd\n",
    "import sklearn as skl\n",
    "import matplotlib.pyplot as plt\n",
    "import seaborn as sns\n",
    "import pandas_profiling as pp\n",
    "import time"
   ]
  },
  {
   "cell_type": "code",
   "execution_count": 3,
   "id": "floppy-spirituality",
   "metadata": {},
   "outputs": [],
   "source": [
    "import sys\n",
    "sys.path.append('../')\n",
    "\n",
    "import src"
   ]
  },
  {
   "cell_type": "code",
   "execution_count": 4,
   "id": "roman-stone",
   "metadata": {},
   "outputs": [],
   "source": [
    "plt.style.use('fivethirtyeight')\n",
    "pd.set_option('precision', 4)"
   ]
  },
  {
   "cell_type": "markdown",
   "id": "comprehensive-emphasis",
   "metadata": {},
   "source": [
    "## Prepare data"
   ]
  },
  {
   "cell_type": "code",
   "execution_count": 5,
   "id": "secure-rubber",
   "metadata": {},
   "outputs": [],
   "source": [
    "df = pd.read_pickle('../data/training.pickle')"
   ]
  },
  {
   "cell_type": "code",
   "execution_count": 6,
   "id": "arabic-riverside",
   "metadata": {},
   "outputs": [
    {
     "data": {
      "text/html": [
       "<div>\n",
       "<style scoped>\n",
       "    .dataframe tbody tr th:only-of-type {\n",
       "        vertical-align: middle;\n",
       "    }\n",
       "\n",
       "    .dataframe tbody tr th {\n",
       "        vertical-align: top;\n",
       "    }\n",
       "\n",
       "    .dataframe thead th {\n",
       "        text-align: right;\n",
       "    }\n",
       "</style>\n",
       "<table border=\"1\" class=\"dataframe\">\n",
       "  <thead>\n",
       "    <tr style=\"text-align: right;\">\n",
       "      <th></th>\n",
       "      <th>type</th>\n",
       "      <th>date</th>\n",
       "      <th>operation</th>\n",
       "      <th>lat</th>\n",
       "      <th>long</th>\n",
       "      <th>sex</th>\n",
       "      <th>age</th>\n",
       "      <th>ethnicity_self</th>\n",
       "      <th>ethnicity_officer</th>\n",
       "      <th>legislation</th>\n",
       "      <th>search_target</th>\n",
       "      <th>outcome</th>\n",
       "      <th>found_target</th>\n",
       "      <th>stripped</th>\n",
       "      <th>station</th>\n",
       "      <th>offense</th>\n",
       "      <th>success</th>\n",
       "    </tr>\n",
       "    <tr>\n",
       "      <th>observation_id</th>\n",
       "      <th></th>\n",
       "      <th></th>\n",
       "      <th></th>\n",
       "      <th></th>\n",
       "      <th></th>\n",
       "      <th></th>\n",
       "      <th></th>\n",
       "      <th></th>\n",
       "      <th></th>\n",
       "      <th></th>\n",
       "      <th></th>\n",
       "      <th></th>\n",
       "      <th></th>\n",
       "      <th></th>\n",
       "      <th></th>\n",
       "      <th></th>\n",
       "      <th></th>\n",
       "    </tr>\n",
       "  </thead>\n",
       "  <tbody>\n",
       "    <tr>\n",
       "      <th>d62c9e35-6293-45fc-aab6-706bdac1601e</th>\n",
       "      <td>Person search</td>\n",
       "      <td>2017-12-01 00:00:00+00:00</td>\n",
       "      <td>False</td>\n",
       "      <td>50.9234</td>\n",
       "      <td>-0.4611</td>\n",
       "      <td>Male</td>\n",
       "      <td>18-24</td>\n",
       "      <td>White - English/Welsh/Scottish/Northern Irish/...</td>\n",
       "      <td>White</td>\n",
       "      <td>Misuse of Drugs Act 1971 (section 23)</td>\n",
       "      <td>Controlled drugs</td>\n",
       "      <td>Offender given drugs possession warning</td>\n",
       "      <td>False</td>\n",
       "      <td>False</td>\n",
       "      <td>sussex</td>\n",
       "      <td>True</td>\n",
       "      <td>False</td>\n",
       "    </tr>\n",
       "  </tbody>\n",
       "</table>\n",
       "</div>"
      ],
      "text/plain": [
       "                                               type                      date  \\\n",
       "observation_id                                                                  \n",
       "d62c9e35-6293-45fc-aab6-706bdac1601e  Person search 2017-12-01 00:00:00+00:00   \n",
       "\n",
       "                                     operation      lat    long   sex    age  \\\n",
       "observation_id                                                                 \n",
       "d62c9e35-6293-45fc-aab6-706bdac1601e     False  50.9234 -0.4611  Male  18-24   \n",
       "\n",
       "                                                                         ethnicity_self  \\\n",
       "observation_id                                                                            \n",
       "d62c9e35-6293-45fc-aab6-706bdac1601e  White - English/Welsh/Scottish/Northern Irish/...   \n",
       "\n",
       "                                     ethnicity_officer  \\\n",
       "observation_id                                           \n",
       "d62c9e35-6293-45fc-aab6-706bdac1601e             White   \n",
       "\n",
       "                                                                legislation  \\\n",
       "observation_id                                                                \n",
       "d62c9e35-6293-45fc-aab6-706bdac1601e  Misuse of Drugs Act 1971 (section 23)   \n",
       "\n",
       "                                         search_target  \\\n",
       "observation_id                                           \n",
       "d62c9e35-6293-45fc-aab6-706bdac1601e  Controlled drugs   \n",
       "\n",
       "                                                                      outcome  \\\n",
       "observation_id                                                                  \n",
       "d62c9e35-6293-45fc-aab6-706bdac1601e  Offender given drugs possession warning   \n",
       "\n",
       "                                      found_target stripped station  offense  \\\n",
       "observation_id                                                                 \n",
       "d62c9e35-6293-45fc-aab6-706bdac1601e         False    False  sussex     True   \n",
       "\n",
       "                                      success  \n",
       "observation_id                                 \n",
       "d62c9e35-6293-45fc-aab6-706bdac1601e    False  "
      ]
     },
     "execution_count": 6,
     "metadata": {},
     "output_type": "execute_result"
    }
   ],
   "source": [
    "df.head(1)"
   ]
  },
  {
   "cell_type": "markdown",
   "id": "straight-olympus",
   "metadata": {},
   "source": [
    "#### Drop metropolitan station from dataset"
   ]
  },
  {
   "cell_type": "code",
   "execution_count": 8,
   "id": "silver-alias",
   "metadata": {},
   "outputs": [
    {
     "data": {
      "text/plain": [
       "(309317, 17)"
      ]
     },
     "execution_count": 8,
     "metadata": {},
     "output_type": "execute_result"
    }
   ],
   "source": [
    "df = df[df.station!='metropolitan']\n",
    "df.shape"
   ]
  },
  {
   "cell_type": "markdown",
   "id": "surprised-reaction",
   "metadata": {},
   "source": [
    "#### Select relevant columns"
   ]
  },
  {
   "cell_type": "markdown",
   "id": "operational-prophet",
   "metadata": {},
   "source": [
    "Requests will have the following format:\n",
    "```\n",
    "[\"observation_id\": <string>,\n",
    " \"Type\": <string>,\n",
    " \"Date\": <string>,\n",
    " \"Part of a policing operation\": <boolean>,\n",
    " \"Latitude\": <float>,\n",
    " \"Longitude\": <float>,\n",
    " \"Gender\": <string>,\n",
    " \"Age range\": <string>,\n",
    " \"Officer-defined ethnicity\": <string>,\n",
    " \"Legislation\": <string>,\n",
    " \"Object of search\": <string>,\n",
    " \"station\": <string>]\n",
    " '''\n"
   ]
  },
  {
   "cell_type": "code",
   "execution_count": 9,
   "id": "ideal-plumbing",
   "metadata": {},
   "outputs": [],
   "source": [
    "supplied_columns = ['type', 'date', 'operation', 'lat', 'long', 'sex', 'age', 'ethnicity_officer', 'legislation', 'search_target', 'station']"
   ]
  },
  {
   "cell_type": "code",
   "execution_count": 10,
   "id": "legitimate-instruction",
   "metadata": {},
   "outputs": [],
   "source": [
    "X = df[supplied_columns]\n",
    "y = df.success.values"
   ]
  },
  {
   "cell_type": "markdown",
   "id": "average-plant",
   "metadata": {},
   "source": [
    "### Processed Data Profile"
   ]
  },
  {
   "cell_type": "code",
   "execution_count": 112,
   "id": "hollow-watts",
   "metadata": {},
   "outputs": [
    {
     "data": {
      "application/vnd.jupyter.widget-view+json": {
       "model_id": "5eee553821934438b6bb7d8110dc98bc",
       "version_major": 2,
       "version_minor": 0
      },
      "text/plain": [
       "Summarize dataset:   0%|          | 0/26 [00:00<?, ?it/s]"
      ]
     },
     "metadata": {},
     "output_type": "display_data"
    },
    {
     "data": {
      "application/vnd.jupyter.widget-view+json": {
       "model_id": "3b73ace9e6ce4a5fb4b507cb65b73639",
       "version_major": 2,
       "version_minor": 0
      },
      "text/plain": [
       "Generate report structure:   0%|          | 0/1 [00:00<?, ?it/s]"
      ]
     },
     "metadata": {},
     "output_type": "display_data"
    },
    {
     "data": {
      "application/vnd.jupyter.widget-view+json": {
       "model_id": "c14ce051fea54eb1ac2e2bbf7646f4cb",
       "version_major": 2,
       "version_minor": 0
      },
      "text/plain": [
       "Render HTML:   0%|          | 0/1 [00:00<?, ?it/s]"
      ]
     },
     "metadata": {},
     "output_type": "display_data"
    },
    {
     "data": {
      "application/vnd.jupyter.widget-view+json": {
       "model_id": "7765982241e141c6b54af99e30bf53e7",
       "version_major": 2,
       "version_minor": 0
      },
      "text/plain": [
       "Export report to file:   0%|          | 0/1 [00:00<?, ?it/s]"
      ]
     },
     "metadata": {},
     "output_type": "display_data"
    }
   ],
   "source": [
    "profile = pp.ProfileReport(df[supplied_columns+['success']], title='Training Data Profiling Report', explorative=False, minimal=False, pool_size=0, progress_bar=True)\n",
    "profile.to_file('../reports/profiling/processed_profile.html')"
   ]
  },
  {
   "cell_type": "markdown",
   "id": "seven-schema",
   "metadata": {},
   "source": [
    "## Pipeline"
   ]
  },
  {
   "cell_type": "code",
   "execution_count": 11,
   "id": "little-crossing",
   "metadata": {},
   "outputs": [],
   "source": [
    "from sklearn.impute import SimpleImputer\n",
    "from sklearn.compose import ColumnTransformer\n",
    "from sklearn.preprocessing import OneHotEncoder, FunctionTransformer, KBinsDiscretizer, StandardScaler\n",
    "from sklearn.pipeline import Pipeline, FeatureUnion\n",
    "from category_encoders.target_encoder import TargetEncoder\n",
    "\n",
    "import datetime as dt"
   ]
  },
  {
   "cell_type": "markdown",
   "id": "paperback-degree",
   "metadata": {},
   "source": [
    "### Preprocessing\n",
    "#### Categorical Features"
   ]
  },
  {
   "cell_type": "markdown",
   "id": "interesting-kinase",
   "metadata": {},
   "source": [
    "##### Assume searches with missing operation field did not happen as part of policing operation."
   ]
  },
  {
   "cell_type": "code",
   "execution_count": 12,
   "id": "greatest-country",
   "metadata": {},
   "outputs": [],
   "source": [
    "# df.operation = df.operation.fillna(False)\n",
    "operation_imputer = SimpleImputer(strategy='constant', fill_value=False)#, missing_values=None)"
   ]
  },
  {
   "cell_type": "markdown",
   "id": "spatial-personality",
   "metadata": {},
   "source": [
    "##### Replace missing legislations with 'unknown', then one-hot-encode column."
   ]
  },
  {
   "cell_type": "code",
   "execution_count": 13,
   "id": "generous-mount",
   "metadata": {},
   "outputs": [],
   "source": [
    "# df.legislation = df.legislation.astype('str').fillna('unknown').astype('category')\n",
    "legislation_imputer = SimpleImputer(strategy='constant', fill_value='unknown')\n",
    "legislation_encoder = OneHotEncoder(handle_unknown='ignore', sparse=False)\n",
    "legislation_preprocessor = Pipeline(steps=[('legislation_imputer', legislation_imputer),\n",
    "                                           ('legislation_encoder', legislation_encoder)])"
   ]
  },
  {
   "cell_type": "markdown",
   "id": "encouraging-playback",
   "metadata": {},
   "source": [
    "##### One-hot-encode categorical features"
   ]
  },
  {
   "cell_type": "code",
   "execution_count": 14,
   "id": "crazy-nirvana",
   "metadata": {},
   "outputs": [],
   "source": [
    "# categoricals = X.select_dtypes(['category']).columns.tolist()\n",
    "# categoricals.remove('legislation') # feature is already dealt with\n",
    "# categoricals.remove('ethnicity_officer') # will not use this feature to avoid explicit discrimination\n",
    "\n",
    "categoricals = ['type', 'sex', 'age', 'search_target', 'station']\n",
    "oh_encoder = OneHotEncoder(handle_unknown='ignore', sparse=False)"
   ]
  },
  {
   "cell_type": "markdown",
   "id": "caring-nightlife",
   "metadata": {},
   "source": [
    "##### Combine categorical preprocessing steps"
   ]
  },
  {
   "cell_type": "code",
   "execution_count": 15,
   "id": "retained-christopher",
   "metadata": {},
   "outputs": [],
   "source": [
    "cat_preprocessor = ColumnTransformer(transformers=[('operation', operation_imputer, ['operation']),\n",
    "                                                   ('legislation', legislation_preprocessor, ['legislation']),\n",
    "                                                   ('cat_encoder', oh_encoder, categoricals)],\n",
    "                                     remainder='drop')"
   ]
  },
  {
   "cell_type": "markdown",
   "id": "indie-democracy",
   "metadata": {},
   "source": [
    "#### Coordinate Features"
   ]
  },
  {
   "cell_type": "markdown",
   "id": "annoying-rachel",
   "metadata": {},
   "source": [
    "##### Fill missing coordinate data with station means"
   ]
  },
  {
   "cell_type": "code",
   "execution_count": 16,
   "id": "heavy-bobby",
   "metadata": {},
   "outputs": [],
   "source": [
    "#coordinate_dict = X.groupby('station')[['lat', 'long']].mean().fillna(X.mean()).to_dict()\n",
    "coordinate_dict = \\\n",
    "{'lat': {'avon-and-somerset': 51.33301534853675,\n",
    "  'bedfordshire': 51.99520005035238,\n",
    "  'btp': 52.04498213727202,\n",
    "  'cambridgeshire': 52.401295645642094,\n",
    "  'cheshire': 53.27243561712015,\n",
    "  'city-of-london': 51.515283227020134,\n",
    "  'cleveland': 54.581267715107955,\n",
    "  'cumbria': 54.53797709350655,\n",
    "  'derbyshire': 53.01032026513161,\n",
    "  'devon-and-cornwall': 50.53555175443321,\n",
    "  'dorset': 50.71701186632197,\n",
    "  'durham': 54.68330272246215,\n",
    "  'dyfed-powys': 52.06194421428571,\n",
    "  'essex': 51.72007429847026,\n",
    "  'gloucestershire': 51.84977152248181,\n",
    "  'greater-manchester': 53.47859898644197,\n",
    "  'gwent': 51.60761234256556,\n",
    "  'hampshire': 50.93652569163378,\n",
    "  'hertfordshire': 51.76037049985289,\n",
    "  'humberside': 53.48481868431375,\n",
    "  'kent': 51.374468082246494,\n",
    "  'lancashire': 53.78500562755108,\n",
    "  'leicestershire': 52.65751631679406,\n",
    "  'lincolnshire': 53.10683554523824,\n",
    "  'merseyside': 53.436241618732225,\n",
    "  'metropolitan': 52.515362957924715,\n",
    "  'norfolk': 52.64006103976567,\n",
    "  'north-wales': 53.17569351116731,\n",
    "  'north-yorkshire': 54.041700087409595,\n",
    "  'northamptonshire': 52.29232862938288,\n",
    "  'northumbria': 54.98786282962144,\n",
    "  'nottinghamshire': 52.98302869082842,\n",
    "  'south-yorkshire': 52.515362957924715,\n",
    "  'staffordshire': 52.87808759739836,\n",
    "  'suffolk': 52.139193867362344,\n",
    "  'surrey': 51.32796300224013,\n",
    "  'sussex': 50.90980622282589,\n",
    "  'thames-valley': 51.69650944703028,\n",
    "  'warwickshire': 52.36734886374945,\n",
    "  'west-mercia': 52.413887931124385,\n",
    "  'west-yorkshire': 53.77299550808837,\n",
    "  'wiltshire': 51.37899916477772},\n",
    " 'long': {'avon-and-somerset': -2.6959433559473505,\n",
    "  'bedfordshire': -0.4249400266868079,\n",
    "  'btp': -0.7715286391456624,\n",
    "  'cambridgeshire': -0.04725813646789005,\n",
    "  'cheshire': -2.6387643686903965,\n",
    "  'city-of-london': -0.0896220290722526,\n",
    "  'cleveland': -1.2457966712230222,\n",
    "  'cumbria': -3.136673164935065,\n",
    "  'derbyshire': -1.4773875202376467,\n",
    "  'devon-and-cornwall': -4.066873729177866,\n",
    "  'dorset': -2.0917077684638166,\n",
    "  'durham': -1.594638016918649,\n",
    "  'dyfed-powys': -4.084971542857141,\n",
    "  'essex': 0.538986324416861,\n",
    "  'gloucestershire': -2.188883543046356,\n",
    "  'greater-manchester': -2.248505129745514,\n",
    "  'gwent': -3.0290781326530665,\n",
    "  'hampshire': -1.1898053439685032,\n",
    "  'hertfordshire': -0.2575871883632099,\n",
    "  'humberside': -0.4107479908496726,\n",
    "  'kent': 0.5604151309456336,\n",
    "  'lancashire': -2.7154059084062276,\n",
    "  'leicestershire': -1.1627258218159886,\n",
    "  'lincolnshire': -0.35191183908730256,\n",
    "  'merseyside': -2.9378837346396676,\n",
    "  'metropolitan': -1.3420896304429029,\n",
    "  'norfolk': 1.1136251113436533,\n",
    "  'north-wales': -3.5303938708385822,\n",
    "  'north-yorkshire': -1.1725005511775388,\n",
    "  'northamptonshire': -0.8297320040567943,\n",
    "  'northumbria': -1.5853070855440516,\n",
    "  'nottinghamshire': -1.1530782153432024,\n",
    "  'south-yorkshire': -1.3420896304429029,\n",
    "  'staffordshire': -2.0221622171637286,\n",
    "  'suffolk': 1.0365897135618494,\n",
    "  'surrey': -0.4413027473143175,\n",
    "  'sussex': -0.16365491495299755,\n",
    "  'thames-valley': -0.9660928864365886,\n",
    "  'warwickshire': -1.4958054560654521,\n",
    "  'west-mercia': -2.3846032813072715,\n",
    "  'west-yorkshire': -1.6477957410954118,\n",
    "  'wiltshire': -1.9166443269398472}}"
   ]
  },
  {
   "cell_type": "code",
   "execution_count": 17,
   "id": "effective-superior",
   "metadata": {},
   "outputs": [],
   "source": [
    "coordinate_imputer = FunctionTransformer(src.modeling.fill_coordinates_with_station_means)\n",
    "coordinate_discretizer = KBinsDiscretizer(n_bins=50, encode='ordinal')\n",
    "coordinate_categorizer = FunctionTransformer(src.modeling.grid_to_category)\n",
    "coordinate_encoder = TargetEncoder(cols=None, handle_missing='value', handle_unknown='value')"
   ]
  },
  {
   "cell_type": "code",
   "execution_count": 18,
   "id": "retired-analysis",
   "metadata": {},
   "outputs": [],
   "source": [
    "coordinate_preprocessor = Pipeline(steps=[('fill_means', coordinate_imputer),\n",
    "                                          ('discretize', coordinate_discretizer),\n",
    "                                          ('categorizer', coordinate_categorizer),\n",
    "                                          ('encode', coordinate_encoder),\n",
    "                                         ])"
   ]
  },
  {
   "cell_type": "markdown",
   "id": "infectious-completion",
   "metadata": {},
   "source": [
    "#### Datetime features"
   ]
  },
  {
   "cell_type": "code",
   "execution_count": 19,
   "id": "annoying-bridal",
   "metadata": {},
   "outputs": [],
   "source": [
    "date_extractor = FunctionTransformer(src.modeling.extract_datetime_features)\n",
    "date_encoder = OneHotEncoder(handle_unknown='ignore', sparse=False)\n",
    "date_scaler = StandardScaler()"
   ]
  },
  {
   "cell_type": "code",
   "execution_count": 20,
   "id": "integral-diving",
   "metadata": {},
   "outputs": [],
   "source": [
    "date_transformer = ColumnTransformer(transformers=[('oh_encoder', date_encoder, ['hour', 'weekday']),\n",
    "                                                   ('scaler', date_scaler, ['daycount', 'sqrt_daycount']),\n",
    "                                                  ])"
   ]
  },
  {
   "cell_type": "code",
   "execution_count": 21,
   "id": "actual-military",
   "metadata": {},
   "outputs": [],
   "source": [
    "date_preprocessor = Pipeline(steps=[('extract', date_extractor),\n",
    "                                    ('transform', date_transformer)])"
   ]
  },
  {
   "cell_type": "markdown",
   "id": "organic-potter",
   "metadata": {},
   "source": [
    "#### Combine all preprocessing steps"
   ]
  },
  {
   "cell_type": "code",
   "execution_count": 22,
   "id": "champion-surprise",
   "metadata": {},
   "outputs": [],
   "source": [
    "feature_preprocessor = FeatureUnion(transformer_list=[('categoricals', cat_preprocessor),\n",
    "                                                      ('location', coordinate_preprocessor),\n",
    "                                                      ('date', date_preprocessor)])"
   ]
  },
  {
   "cell_type": "markdown",
   "id": "proper-citation",
   "metadata": {},
   "source": [
    "### Model Selection"
   ]
  },
  {
   "cell_type": "code",
   "execution_count": 23,
   "id": "quiet-immune",
   "metadata": {},
   "outputs": [],
   "source": [
    "from sklearn.model_selection import train_test_split\n",
    "from sklearn.metrics import classification_report, confusion_matrix, precision_score, roc_auc_score\n",
    "\n",
    "from sklearn.tree import DecisionTreeClassifier\n",
    "from sklearn.linear_model import LogisticRegression, SGDClassifier\n",
    "from sklearn.svm import SVC\n",
    "from sklearn.ensemble import GradientBoostingClassifier, RandomForestClassifier, AdaBoostClassifier\n",
    "\n",
    "from xgboost import XGBClassifier\n",
    "from lightgbm import LGBMClassifier\n",
    "from catboost import CatBoostClassifier"
   ]
  },
  {
   "cell_type": "markdown",
   "id": "technological-ridge",
   "metadata": {},
   "source": [
    "#### Train-Validation Split"
   ]
  },
  {
   "cell_type": "code",
   "execution_count": 24,
   "id": "secure-jersey",
   "metadata": {},
   "outputs": [],
   "source": [
    "X_train, X_val, y_train, y_val = train_test_split(X, y, test_size=0.3, random_state=0, stratify=X[['station']], shuffle=True)"
   ]
  },
  {
   "cell_type": "markdown",
   "id": "institutional-queen",
   "metadata": {},
   "source": [
    "#### Plain-Vanilla Models"
   ]
  },
  {
   "cell_type": "code",
   "execution_count": 25,
   "id": "indoor-carrier",
   "metadata": {},
   "outputs": [],
   "source": [
    "# tree-based models\n",
    "dtc = ('Decision Tree', DecisionTreeClassifier())\n",
    "rfc = ('Random Forest', RandomForestClassifier())\n",
    "\n",
    "# nonlinear regression models\n",
    "lrc = ('Logistic Regression', LogisticRegression())\n",
    "sgd = ('Stochastic Gradient', SGDClassifier(loss='log'))\n",
    "\n",
    "# other classifiers\n",
    "svc = SVC() #too slow\n",
    "gbc = GradientBoostingClassifier() #too slow\n",
    "\n",
    "# gradient boosting methods\n",
    "abc = ('Ada Boost', AdaBoostClassifier()) #slow but okay\n",
    "xgb = ('XG Boost', XGBClassifier()) #okay\n",
    "lgbm = ('Light GBM', LGBMClassifier()) #fast\n",
    "cbc = ('Cat Boost', CatBoostClassifier(iterations=100)) #keeps crashing"
   ]
  },
  {
   "cell_type": "code",
   "execution_count": 26,
   "id": "substantial-photographer",
   "metadata": {},
   "outputs": [],
   "source": [
    "classifiers = [dtc, rfc, lrc, sgd, abc, lgbm]"
   ]
  },
  {
   "cell_type": "code",
   "execution_count": 142,
   "id": "cooperative-routine",
   "metadata": {},
   "outputs": [
    {
     "name": "stderr",
     "output_type": "stream",
     "text": [
      "/home/rubelrennfix/.virtualenvs/capstone/lib/python3.6/site-packages/sklearn/preprocessing/_discretization.py:222: UserWarning: Bins whose width are too small (i.e., <= 1e-8) in feature 0 are removed. Consider decreasing the number of bins.\n",
      "  'decreasing the number of bins.' % jj)\n",
      "/home/rubelrennfix/.virtualenvs/capstone/lib/python3.6/site-packages/sklearn/preprocessing/_discretization.py:222: UserWarning: Bins whose width are too small (i.e., <= 1e-8) in feature 1 are removed. Consider decreasing the number of bins.\n",
      "  'decreasing the number of bins.' % jj)\n",
      "/home/rubelrennfix/.virtualenvs/capstone/lib/python3.6/site-packages/category_encoders/utils.py:21: FutureWarning: is_categorical is deprecated and will be removed in a future version.  Use is_categorical_dtype instead\n",
      "  elif pd.api.types.is_categorical(cols):\n"
     ]
    },
    {
     "name": "stdout",
     "output_type": "stream",
     "text": [
      "Trained Decision Tree in 23.23686671257019\n"
     ]
    },
    {
     "name": "stderr",
     "output_type": "stream",
     "text": [
      "/home/rubelrennfix/.virtualenvs/capstone/lib/python3.6/site-packages/sklearn/preprocessing/_discretization.py:222: UserWarning: Bins whose width are too small (i.e., <= 1e-8) in feature 0 are removed. Consider decreasing the number of bins.\n",
      "  'decreasing the number of bins.' % jj)\n",
      "/home/rubelrennfix/.virtualenvs/capstone/lib/python3.6/site-packages/sklearn/preprocessing/_discretization.py:222: UserWarning: Bins whose width are too small (i.e., <= 1e-8) in feature 1 are removed. Consider decreasing the number of bins.\n",
      "  'decreasing the number of bins.' % jj)\n",
      "/home/rubelrennfix/.virtualenvs/capstone/lib/python3.6/site-packages/category_encoders/utils.py:21: FutureWarning: is_categorical is deprecated and will be removed in a future version.  Use is_categorical_dtype instead\n",
      "  elif pd.api.types.is_categorical(cols):\n"
     ]
    },
    {
     "name": "stdout",
     "output_type": "stream",
     "text": [
      "Trained Random Forest in 94.64336061477661\n"
     ]
    },
    {
     "name": "stderr",
     "output_type": "stream",
     "text": [
      "/home/rubelrennfix/.virtualenvs/capstone/lib/python3.6/site-packages/sklearn/preprocessing/_discretization.py:222: UserWarning: Bins whose width are too small (i.e., <= 1e-8) in feature 0 are removed. Consider decreasing the number of bins.\n",
      "  'decreasing the number of bins.' % jj)\n",
      "/home/rubelrennfix/.virtualenvs/capstone/lib/python3.6/site-packages/sklearn/preprocessing/_discretization.py:222: UserWarning: Bins whose width are too small (i.e., <= 1e-8) in feature 1 are removed. Consider decreasing the number of bins.\n",
      "  'decreasing the number of bins.' % jj)\n",
      "/home/rubelrennfix/.virtualenvs/capstone/lib/python3.6/site-packages/category_encoders/utils.py:21: FutureWarning: is_categorical is deprecated and will be removed in a future version.  Use is_categorical_dtype instead\n",
      "  elif pd.api.types.is_categorical(cols):\n",
      "/home/rubelrennfix/.virtualenvs/capstone/lib/python3.6/site-packages/sklearn/linear_model/_logistic.py:765: ConvergenceWarning: lbfgs failed to converge (status=1):\n",
      "STOP: TOTAL NO. of ITERATIONS REACHED LIMIT.\n",
      "\n",
      "Increase the number of iterations (max_iter) or scale the data as shown in:\n",
      "    https://scikit-learn.org/stable/modules/preprocessing.html\n",
      "Please also refer to the documentation for alternative solver options:\n",
      "    https://scikit-learn.org/stable/modules/linear_model.html#logistic-regression\n",
      "  extra_warning_msg=_LOGISTIC_SOLVER_CONVERGENCE_MSG)\n"
     ]
    },
    {
     "name": "stdout",
     "output_type": "stream",
     "text": [
      "Trained Logistic Regression in 18.465213537216187\n"
     ]
    },
    {
     "name": "stderr",
     "output_type": "stream",
     "text": [
      "/home/rubelrennfix/.virtualenvs/capstone/lib/python3.6/site-packages/sklearn/preprocessing/_discretization.py:222: UserWarning: Bins whose width are too small (i.e., <= 1e-8) in feature 0 are removed. Consider decreasing the number of bins.\n",
      "  'decreasing the number of bins.' % jj)\n",
      "/home/rubelrennfix/.virtualenvs/capstone/lib/python3.6/site-packages/sklearn/preprocessing/_discretization.py:222: UserWarning: Bins whose width are too small (i.e., <= 1e-8) in feature 1 are removed. Consider decreasing the number of bins.\n",
      "  'decreasing the number of bins.' % jj)\n",
      "/home/rubelrennfix/.virtualenvs/capstone/lib/python3.6/site-packages/category_encoders/utils.py:21: FutureWarning: is_categorical is deprecated and will be removed in a future version.  Use is_categorical_dtype instead\n",
      "  elif pd.api.types.is_categorical(cols):\n"
     ]
    },
    {
     "name": "stdout",
     "output_type": "stream",
     "text": [
      "Trained Stochastic Gradient in 8.115864515304565\n"
     ]
    },
    {
     "name": "stderr",
     "output_type": "stream",
     "text": [
      "/home/rubelrennfix/.virtualenvs/capstone/lib/python3.6/site-packages/sklearn/preprocessing/_discretization.py:222: UserWarning: Bins whose width are too small (i.e., <= 1e-8) in feature 0 are removed. Consider decreasing the number of bins.\n",
      "  'decreasing the number of bins.' % jj)\n",
      "/home/rubelrennfix/.virtualenvs/capstone/lib/python3.6/site-packages/sklearn/preprocessing/_discretization.py:222: UserWarning: Bins whose width are too small (i.e., <= 1e-8) in feature 1 are removed. Consider decreasing the number of bins.\n",
      "  'decreasing the number of bins.' % jj)\n",
      "/home/rubelrennfix/.virtualenvs/capstone/lib/python3.6/site-packages/category_encoders/utils.py:21: FutureWarning: is_categorical is deprecated and will be removed in a future version.  Use is_categorical_dtype instead\n",
      "  elif pd.api.types.is_categorical(cols):\n"
     ]
    },
    {
     "name": "stdout",
     "output_type": "stream",
     "text": [
      "Trained Ada Boost in 105.11181211471558\n"
     ]
    },
    {
     "name": "stderr",
     "output_type": "stream",
     "text": [
      "/home/rubelrennfix/.virtualenvs/capstone/lib/python3.6/site-packages/sklearn/preprocessing/_discretization.py:222: UserWarning: Bins whose width are too small (i.e., <= 1e-8) in feature 0 are removed. Consider decreasing the number of bins.\n",
      "  'decreasing the number of bins.' % jj)\n",
      "/home/rubelrennfix/.virtualenvs/capstone/lib/python3.6/site-packages/sklearn/preprocessing/_discretization.py:222: UserWarning: Bins whose width are too small (i.e., <= 1e-8) in feature 1 are removed. Consider decreasing the number of bins.\n",
      "  'decreasing the number of bins.' % jj)\n",
      "/home/rubelrennfix/.virtualenvs/capstone/lib/python3.6/site-packages/category_encoders/utils.py:21: FutureWarning: is_categorical is deprecated and will be removed in a future version.  Use is_categorical_dtype instead\n",
      "  elif pd.api.types.is_categorical(cols):\n"
     ]
    },
    {
     "name": "stdout",
     "output_type": "stream",
     "text": [
      "Trained Light GBM in 8.779697179794312\n",
      "CPU times: user 7min 21s, sys: 1min 22s, total: 8min 44s\n",
      "Wall time: 8min 27s\n"
     ]
    }
   ],
   "source": [
    "%%time\n",
    "df_plain_models = pd.DataFrame(index=['Benchmark']+[name for (name, clf) in classifiers],\n",
    "                               columns=pd.MultiIndex.from_product([['train', 'val'], []]))\n",
    "\n",
    "# evaluate benchmark\n",
    "df_plain_models.at['Benchmark', ('all', 'time')] = 0\n",
    "df_plain_models.at['Benchmark', ('all', 'precision')] = precision_score(y, np.ones(y.shape))\n",
    "df_plain_models.at['Benchmark', ('all', 'auroc')] = roc_auc_score(y, np.ones(y.shape))\n",
    "df_plain_models.at['Benchmark', ('all', 'within_station')] = src.evaluate.within_station_discrepancy(np.ones(y.shape), y, X).max()\n",
    "df_plain_models.at['Benchmark', ('all', 'within_station_std')] = src.evaluate.within_station_discrepancy(np.ones(y.shape), y, X).std()\n",
    "df_plain_models.at['Benchmark', ('all', 'across_station')] = src.evaluate.across_station_discrepancy(np.ones(y.shape), y, X)\n",
    "df_plain_models.at['Benchmark', ('all', 'across_group')] = src.evaluate.across_subgroup_discrepancy(np.ones(y.shape), y, X)\n",
    "\n",
    "for name, clf in classifiers:\n",
    "    # build pipeline\n",
    "    pipeline = Pipeline(steps=[('preprocess', feature_preprocessor),\n",
    "                               ('clf', clf)],\n",
    "                        verbose=False)\n",
    "    \n",
    "    # train\n",
    "    t = time.time()\n",
    "    pipeline.fit(X_train, y_train)\n",
    "    elapsed = time.time() - t\n",
    "    df_plain_models.at[name, ('train', 'time')] = elapsed\n",
    "    \n",
    "    # predict\n",
    "    authorised_train = src.evaluate.authorise_search(pipeline, X_train)\n",
    "    authorised_val = src.evaluate.authorise_search(pipeline, X_val)\n",
    "    pred_train = pipeline.predict(X_train)\n",
    "    pred_val = pipeline.predict(X_val)\n",
    "    \n",
    "    # evaluate\n",
    "    df_plain_models.at[name, ('train', 'precision')] = precision_score(y_train, authorised_train)\n",
    "    df_plain_models.at[name, ('val', 'precision')] = precision_score(y_val, authorised_val)\n",
    "    \n",
    "    df_plain_models.at[name, ('train', 'auroc')] = roc_auc_score(y_train, authorised_train)\n",
    "    df_plain_models.at[name, ('val', 'auroc')] = roc_auc_score(y_val, authorised_val)\n",
    "    \n",
    "    df_plain_models.at[name, ('train', 'within_station')] = src.evaluate.within_station_discrepancy(authorised_train, y_train, X_train).max()\n",
    "    df_plain_models.at[name, ('val', 'within_station')] = src.evaluate.within_station_discrepancy(authorised_val, y_val, X_val).max()\n",
    "    \n",
    "    df_plain_models.at[name, ('train', 'within_station_std')] = src.evaluate.within_station_discrepancy(authorised_train, y_train, X_train).std()\n",
    "    df_plain_models.at[name, ('val', 'within_station_std')] = src.evaluate.within_station_discrepancy(authorised_val, y_val, X_val).std()\n",
    "    \n",
    "    df_plain_models.at[name, ('train', 'across_station')] = src.evaluate.across_station_discrepancy(authorised_train, y_train, X_train)\n",
    "    df_plain_models.at[name, ('val', 'across_station')] = src.evaluate.across_station_discrepancy(authorised_val, y_val, X_val)\n",
    "    \n",
    "    df_plain_models.at[name, ('train', 'across_group')] = src.evaluate.across_subgroup_discrepancy(authorised_train, y_train, X_train)\n",
    "    df_plain_models.at[name, ('val', 'across_group')] = src.evaluate.across_subgroup_discrepancy(authorised_val, y_val, X_val)\n",
    "    \n",
    "    print('Trained {} in {}'.format(name, elapsed))\n",
    "    \n",
    "df_plain_models.to_pickle('../data/df_plain_models.pickle')"
   ]
  },
  {
   "cell_type": "markdown",
   "id": "imperial-tomato",
   "metadata": {},
   "source": [
    "#### Client fairness requirements:\n",
    "This is a very interesting question. We are not data scientists here at the IT department, so please tell us in your report if our expectation is unreasonable. We would hope that (A) there would not be a discrepancy of more than 5 percentage points between population sub-groups, which would be defined as (B) a (station, ethnicity, gender) tuple, and that the discrepancy between stations (average per station) would not be larger than 10 percentage points.  We have no way to tell whether our expectations are realistic, of course, but trust that you can guide us in this process. Please note that we are only concerned about age when deciding about clothes removal. For now we are not interested in ages when deciding whether or not to conduct a search.\n"
   ]
  },
  {
   "cell_type": "code",
   "execution_count": 144,
   "id": "finished-adjustment",
   "metadata": {},
   "outputs": [
    {
     "data": {
      "image/png": "[encoded data removed]",
      "text/plain": [
       "<Figure size 1224x720 with 4 Axes>"
      ]
     },
     "metadata": {},
     "output_type": "display_data"
    }
   ],
   "source": [
    "src.plots.make_evaluation_plot()"
   ]
  },
  {
   "cell_type": "markdown",
   "id": "meaningful-dominant",
   "metadata": {},
   "source": [
    "#### Cross-validation of hyperparameters"
   ]
  },
  {
   "cell_type": "code",
   "execution_count": 27,
   "id": "reserved-blanket",
   "metadata": {},
   "outputs": [],
   "source": [
    "from sklearn.model_selection import RandomizedSearchCV, StratifiedKFold"
   ]
  },
  {
   "cell_type": "code",
   "execution_count": 28,
   "id": "functioning-career",
   "metadata": {},
   "outputs": [],
   "source": [
    "# set model pipeline\n",
    "pipeline = Pipeline(steps=[('preprocess', feature_preprocessor),\n",
    "                           ('clf', sgd[1])],\n",
    "                        verbose=False)\n",
    "\n",
    "# set CV parameters\n",
    "grid = {'clf__penalty': ['elasticnet'],\n",
    "        'clf__alpha': np.geomspace(1e-6, 1e-2, 15),\n",
    "        'clf__l1_ratio': [0]+np.geomspace(1e-5, 1e0, 15).tolist(),\n",
    "        'clf__random_state': [0],\n",
    "       }\n",
    "split = StratifiedKFold(n_splits=5, shuffle=True, random_state=0)\n",
    "cv = RandomizedSearchCV(pipeline, param_distributions=grid, scoring=precision_score, n_iter=30, n_jobs=3, cv=split, verbose=1, random_state=0)"
   ]
  },
  {
   "cell_type": "code",
   "execution_count": 29,
   "id": "electric-project",
   "metadata": {},
   "outputs": [
    {
     "name": "stdout",
     "output_type": "stream",
     "text": [
      "Fitting 5 folds for each of 30 candidates, totalling 150 fits\n"
     ]
    },
    {
     "name": "stderr",
     "output_type": "stream",
     "text": [
      "/home/rubelrennfix/.virtualenvs/capstone/lib/python3.6/site-packages/sklearn/model_selection/_search.py:921: UserWarning: One or more of the test scores are non-finite: [nan nan nan nan nan nan nan nan nan nan nan nan nan nan nan nan nan nan\n",
      " nan nan nan nan nan nan nan nan nan nan nan nan]\n",
      "  category=UserWarning\n",
      "/home/rubelrennfix/.virtualenvs/capstone/lib/python3.6/site-packages/sklearn/preprocessing/_discretization.py:222: UserWarning: Bins whose width are too small (i.e., <= 1e-8) in feature 0 are removed. Consider decreasing the number of bins.\n",
      "  'decreasing the number of bins.' % jj)\n",
      "/home/rubelrennfix/.virtualenvs/capstone/lib/python3.6/site-packages/sklearn/preprocessing/_discretization.py:222: UserWarning: Bins whose width are too small (i.e., <= 1e-8) in feature 1 are removed. Consider decreasing the number of bins.\n",
      "  'decreasing the number of bins.' % jj)\n",
      "/home/rubelrennfix/.virtualenvs/capstone/lib/python3.6/site-packages/category_encoders/utils.py:21: FutureWarning: is_categorical is deprecated and will be removed in a future version.  Use is_categorical_dtype instead\n",
      "  elif pd.api.types.is_categorical(cols):\n"
     ]
    },
    {
     "name": "stdout",
     "output_type": "stream",
     "text": [
      "CPU times: user 45.6 s, sys: 6.5 s, total: 52.1 s\n",
      "Wall time: 21min 10s\n"
     ]
    }
   ],
   "source": [
    "%%time\n",
    "# fit\n",
    "cv.fit(X, y)\n",
    "\n",
    "# store\n",
    "pipeline_ = cv.best_estimator_"
   ]
  },
  {
   "cell_type": "code",
   "execution_count": 104,
   "id": "infinite-ribbon",
   "metadata": {},
   "outputs": [
    {
     "data": {
      "text/html": [
       "<style>div.sk-top-container {color: black;background-color: white;}div.sk-toggleable {background-color: white;}label.sk-toggleable__label {cursor: pointer;display: block;width: 100%;margin-bottom: 0;padding: 0.2em 0.3em;box-sizing: border-box;text-align: center;}div.sk-toggleable__content {max-height: 0;max-width: 0;overflow: hidden;text-align: left;background-color: #f0f8ff;}div.sk-toggleable__content pre {margin: 0.2em;color: black;border-radius: 0.25em;background-color: #f0f8ff;}input.sk-toggleable__control:checked~div.sk-toggleable__content {max-height: 200px;max-width: 100%;overflow: auto;}div.sk-estimator input.sk-toggleable__control:checked~label.sk-toggleable__label {background-color: #d4ebff;}div.sk-label input.sk-toggleable__control:checked~label.sk-toggleable__label {background-color: #d4ebff;}input.sk-hidden--visually {border: 0;clip: rect(1px 1px 1px 1px);clip: rect(1px, 1px, 1px, 1px);height: 1px;margin: -1px;overflow: hidden;padding: 0;position: absolute;width: 1px;}div.sk-estimator {font-family: monospace;background-color: #f0f8ff;margin: 0.25em 0.25em;border: 1px dotted black;border-radius: 0.25em;box-sizing: border-box;}div.sk-estimator:hover {background-color: #d4ebff;}div.sk-parallel-item::after {content: \"\";width: 100%;border-bottom: 1px solid gray;flex-grow: 1;}div.sk-label:hover label.sk-toggleable__label {background-color: #d4ebff;}div.sk-serial::before {content: \"\";position: absolute;border-left: 1px solid gray;box-sizing: border-box;top: 2em;bottom: 0;left: 50%;}div.sk-serial {display: flex;flex-direction: column;align-items: center;background-color: white;}div.sk-item {z-index: 1;}div.sk-parallel {display: flex;align-items: stretch;justify-content: center;background-color: white;}div.sk-parallel-item {display: flex;flex-direction: column;position: relative;background-color: white;}div.sk-parallel-item:first-child::after {align-self: flex-end;width: 50%;}div.sk-parallel-item:last-child::after {align-self: flex-start;width: 50%;}div.sk-parallel-item:only-child::after {width: 0;}div.sk-dashed-wrapped {border: 1px dashed gray;margin: 0.2em;box-sizing: border-box;padding-bottom: 0.1em;background-color: white;position: relative;}div.sk-label label {font-family: monospace;font-weight: bold;background-color: white;display: inline-block;line-height: 1.2em;}div.sk-label-container {position: relative;z-index: 2;text-align: center;}div.sk-container {display: inline-block;position: relative;}</style><div class=\"sk-top-container\"><div class=\"sk-container\"><div class=\"sk-item sk-dashed-wrapped\"><div class=\"sk-label-container\"><div class=\"sk-label sk-toggleable\"><input class=\"sk-toggleable__control sk-hidden--visually\" id=\"858dd71f-0093-48e7-b591-15f4574dec03\" type=\"checkbox\" ><label class=\"sk-toggleable__label\" for=\"858dd71f-0093-48e7-b591-15f4574dec03\">Pipeline</label><div class=\"sk-toggleable__content\"><pre>Pipeline(steps=[('preprocess',\n",
       "                 FeatureUnion(transformer_list=[('categoricals',\n",
       "                                                 ColumnTransformer(transformers=[('operation',\n",
       "                                                                                  SimpleImputer(fill_value=False,\n",
       "                                                                                                strategy='constant'),\n",
       "                                                                                  ['operation']),\n",
       "                                                                                 ('legislation',\n",
       "                                                                                  Pipeline(steps=[('legislation_imputer',\n",
       "                                                                                                   SimpleImputer(fill_value='unknown',\n",
       "                                                                                                                 strategy='constant')),\n",
       "                                                                                                  ('legislation_encoder',\n",
       "                                                                                                   OneHotEncoder(handle_unknow...\n",
       "                                                                  FunctionTransformer(func=<function extract_datetime_features at 0x7f9d27ee5048>)),\n",
       "                                                                 ('transform',\n",
       "                                                                  ColumnTransformer(transformers=[('oh_encoder',\n",
       "                                                                                                   OneHotEncoder(handle_unknown='ignore',\n",
       "                                                                                                                 sparse=False),\n",
       "                                                                                                   ['hour',\n",
       "                                                                                                    'weekday']),\n",
       "                                                                                                  ('scaler',\n",
       "                                                                                                   StandardScaler(),\n",
       "                                                                                                   ['daycount',\n",
       "                                                                                                    'sqrt_daycount'])]))]))])),\n",
       "                ('clf',\n",
       "                 SGDClassifier(alpha=5.1794746792312125e-05,\n",
       "                               l1_ratio=0.19306977288832497, loss='log',\n",
       "                               penalty='elasticnet', random_state=0))])</pre></div></div></div><div class=\"sk-serial\"><div class=\"sk-item sk-dashed-wrapped\"><div class=\"sk-label-container\"><div class=\"sk-label sk-toggleable\"><input class=\"sk-toggleable__control sk-hidden--visually\" id=\"72e0a255-f86b-46bf-b94d-bb178b807893\" type=\"checkbox\" ><label class=\"sk-toggleable__label\" for=\"72e0a255-f86b-46bf-b94d-bb178b807893\">preprocess: FeatureUnion</label><div class=\"sk-toggleable__content\"><pre>FeatureUnion(transformer_list=[('categoricals',\n",
       "                                ColumnTransformer(transformers=[('operation',\n",
       "                                                                 SimpleImputer(fill_value=False,\n",
       "                                                                               strategy='constant'),\n",
       "                                                                 ['operation']),\n",
       "                                                                ('legislation',\n",
       "                                                                 Pipeline(steps=[('legislation_imputer',\n",
       "                                                                                  SimpleImputer(fill_value='unknown',\n",
       "                                                                                                strategy='constant')),\n",
       "                                                                                 ('legislation_encoder',\n",
       "                                                                                  OneHotEncoder(handle_unknown='ignore',\n",
       "                                                                                                sparse=False))]),\n",
       "                                                                 ['...\n",
       "                                                 FunctionTransformer(func=<function grid_to_category at 0x7f9d27edaf28>)),\n",
       "                                                ('encode',\n",
       "                                                 TargetEncoder(cols=[0]))])),\n",
       "                               ('date',\n",
       "                                Pipeline(steps=[('extract',\n",
       "                                                 FunctionTransformer(func=<function extract_datetime_features at 0x7f9d27ee5048>)),\n",
       "                                                ('transform',\n",
       "                                                 ColumnTransformer(transformers=[('oh_encoder',\n",
       "                                                                                  OneHotEncoder(handle_unknown='ignore',\n",
       "                                                                                                sparse=False),\n",
       "                                                                                  ['hour',\n",
       "                                                                                   'weekday']),\n",
       "                                                                                 ('scaler',\n",
       "                                                                                  StandardScaler(),\n",
       "                                                                                  ['daycount',\n",
       "                                                                                   'sqrt_daycount'])]))]))])</pre></div></div></div><div class=\"sk-parallel\"><div class=\"sk-parallel-item\"><div class=\"sk-item\"><div class=\"sk-label-container\"><div class=\"sk-label sk-toggleable\"><label>categoricals</label></div></div><div class=\"sk-serial\"><div class=\"sk-item sk-dashed-wrapped\"><div class=\"sk-parallel\"><div class=\"sk-parallel-item\"><div class=\"sk-item\"><div class=\"sk-label-container\"><div class=\"sk-label sk-toggleable\"><input class=\"sk-toggleable__control sk-hidden--visually\" id=\"3e6ebcb0-d4a6-4255-b088-ecaee9af6816\" type=\"checkbox\" ><label class=\"sk-toggleable__label\" for=\"3e6ebcb0-d4a6-4255-b088-ecaee9af6816\">operation</label><div class=\"sk-toggleable__content\"><pre>['operation']</pre></div></div></div><div class=\"sk-serial\"><div class=\"sk-item\"><div class=\"sk-estimator sk-toggleable\"><input class=\"sk-toggleable__control sk-hidden--visually\" id=\"40a27ad5-1d09-42ce-ba30-1eea16344ec4\" type=\"checkbox\" ><label class=\"sk-toggleable__label\" for=\"40a27ad5-1d09-42ce-ba30-1eea16344ec4\">SimpleImputer</label><div class=\"sk-toggleable__content\"><pre>SimpleImputer(fill_value=False, strategy='constant')</pre></div></div></div></div></div></div><div class=\"sk-parallel-item\"><div class=\"sk-item\"><div class=\"sk-label-container\"><div class=\"sk-label sk-toggleable\"><input class=\"sk-toggleable__control sk-hidden--visually\" id=\"69a6bba4-8c93-4de7-af87-d2b16e13e75f\" type=\"checkbox\" ><label class=\"sk-toggleable__label\" for=\"69a6bba4-8c93-4de7-af87-d2b16e13e75f\">legislation</label><div class=\"sk-toggleable__content\"><pre>['legislation']</pre></div></div></div><div class=\"sk-serial\"><div class=\"sk-item\"><div class=\"sk-serial\"><div class=\"sk-item\"><div class=\"sk-estimator sk-toggleable\"><input class=\"sk-toggleable__control sk-hidden--visually\" id=\"5674a072-b3aa-4c90-8257-bb40efbd3fd1\" type=\"checkbox\" ><label class=\"sk-toggleable__label\" for=\"5674a072-b3aa-4c90-8257-bb40efbd3fd1\">SimpleImputer</label><div class=\"sk-toggleable__content\"><pre>SimpleImputer(fill_value='unknown', strategy='constant')</pre></div></div></div><div class=\"sk-item\"><div class=\"sk-estimator sk-toggleable\"><input class=\"sk-toggleable__control sk-hidden--visually\" id=\"af11afde-5734-47ff-9cdd-a24619b43d90\" type=\"checkbox\" ><label class=\"sk-toggleable__label\" for=\"af11afde-5734-47ff-9cdd-a24619b43d90\">OneHotEncoder</label><div class=\"sk-toggleable__content\"><pre>OneHotEncoder(handle_unknown='ignore', sparse=False)</pre></div></div></div></div></div></div></div></div><div class=\"sk-parallel-item\"><div class=\"sk-item\"><div class=\"sk-label-container\"><div class=\"sk-label sk-toggleable\"><input class=\"sk-toggleable__control sk-hidden--visually\" id=\"11fccc78-124d-4db4-a92a-39d8fa019589\" type=\"checkbox\" ><label class=\"sk-toggleable__label\" for=\"11fccc78-124d-4db4-a92a-39d8fa019589\">cat_encoder</label><div class=\"sk-toggleable__content\"><pre>['type', 'sex', 'age', 'search_target', 'station']</pre></div></div></div><div class=\"sk-serial\"><div class=\"sk-item\"><div class=\"sk-estimator sk-toggleable\"><input class=\"sk-toggleable__control sk-hidden--visually\" id=\"def7ed89-cf37-4811-82ff-5a4904202216\" type=\"checkbox\" ><label class=\"sk-toggleable__label\" for=\"def7ed89-cf37-4811-82ff-5a4904202216\">OneHotEncoder</label><div class=\"sk-toggleable__content\"><pre>OneHotEncoder(handle_unknown='ignore', sparse=False)</pre></div></div></div></div></div></div></div></div></div></div></div><div class=\"sk-parallel-item\"><div class=\"sk-item\"><div class=\"sk-label-container\"><div class=\"sk-label sk-toggleable\"><label>location</label></div></div><div class=\"sk-serial\"><div class=\"sk-item\"><div class=\"sk-serial\"><div class=\"sk-item\"><div class=\"sk-estimator sk-toggleable\"><input class=\"sk-toggleable__control sk-hidden--visually\" id=\"2ee70b80-ca90-4134-906d-e8ca7b4642ec\" type=\"checkbox\" ><label class=\"sk-toggleable__label\" for=\"2ee70b80-ca90-4134-906d-e8ca7b4642ec\">FunctionTransformer</label><div class=\"sk-toggleable__content\"><pre>FunctionTransformer(func=<function fill_coordinates_with_station_means at 0x7f9d27edaea0>)</pre></div></div></div><div class=\"sk-item\"><div class=\"sk-estimator sk-toggleable\"><input class=\"sk-toggleable__control sk-hidden--visually\" id=\"066ab601-c000-40ad-8eec-3052d2951e5c\" type=\"checkbox\" ><label class=\"sk-toggleable__label\" for=\"066ab601-c000-40ad-8eec-3052d2951e5c\">KBinsDiscretizer</label><div class=\"sk-toggleable__content\"><pre>KBinsDiscretizer(encode='ordinal', n_bins=50)</pre></div></div></div><div class=\"sk-item\"><div class=\"sk-estimator sk-toggleable\"><input class=\"sk-toggleable__control sk-hidden--visually\" id=\"394f04cf-34e2-4388-a85b-b3ec54bd73a0\" type=\"checkbox\" ><label class=\"sk-toggleable__label\" for=\"394f04cf-34e2-4388-a85b-b3ec54bd73a0\">FunctionTransformer</label><div class=\"sk-toggleable__content\"><pre>FunctionTransformer(func=<function grid_to_category at 0x7f9d27edaf28>)</pre></div></div></div><div class=\"sk-item\"><div class=\"sk-estimator sk-toggleable\"><input class=\"sk-toggleable__control sk-hidden--visually\" id=\"ff27cfd0-a26b-4a22-9ce6-2a3003146843\" type=\"checkbox\" ><label class=\"sk-toggleable__label\" for=\"ff27cfd0-a26b-4a22-9ce6-2a3003146843\">TargetEncoder</label><div class=\"sk-toggleable__content\"><pre>TargetEncoder(cols=[0])</pre></div></div></div></div></div></div></div></div><div class=\"sk-parallel-item\"><div class=\"sk-item\"><div class=\"sk-label-container\"><div class=\"sk-label sk-toggleable\"><label>date</label></div></div><div class=\"sk-serial\"><div class=\"sk-item\"><div class=\"sk-serial\"><div class=\"sk-item\"><div class=\"sk-estimator sk-toggleable\"><input class=\"sk-toggleable__control sk-hidden--visually\" id=\"391e0ce1-86c0-416a-b5e6-2d841ca276e8\" type=\"checkbox\" ><label class=\"sk-toggleable__label\" for=\"391e0ce1-86c0-416a-b5e6-2d841ca276e8\">FunctionTransformer</label><div class=\"sk-toggleable__content\"><pre>FunctionTransformer(func=<function extract_datetime_features at 0x7f9d27ee5048>)</pre></div></div></div><div class=\"sk-item sk-dashed-wrapped\"><div class=\"sk-label-container\"><div class=\"sk-label sk-toggleable\"><input class=\"sk-toggleable__control sk-hidden--visually\" id=\"58ef01b8-2274-4539-9348-71d4bbd8d042\" type=\"checkbox\" ><label class=\"sk-toggleable__label\" for=\"58ef01b8-2274-4539-9348-71d4bbd8d042\">transform: ColumnTransformer</label><div class=\"sk-toggleable__content\"><pre>ColumnTransformer(transformers=[('oh_encoder',\n",
       "                                 OneHotEncoder(handle_unknown='ignore',\n",
       "                                               sparse=False),\n",
       "                                 ['hour', 'weekday']),\n",
       "                                ('scaler', StandardScaler(),\n",
       "                                 ['daycount', 'sqrt_daycount'])])</pre></div></div></div><div class=\"sk-parallel\"><div class=\"sk-parallel-item\"><div class=\"sk-item\"><div class=\"sk-label-container\"><div class=\"sk-label sk-toggleable\"><input class=\"sk-toggleable__control sk-hidden--visually\" id=\"7976304f-9865-42d6-8d9e-b081c969c8b7\" type=\"checkbox\" ><label class=\"sk-toggleable__label\" for=\"7976304f-9865-42d6-8d9e-b081c969c8b7\">oh_encoder</label><div class=\"sk-toggleable__content\"><pre>['hour', 'weekday']</pre></div></div></div><div class=\"sk-serial\"><div class=\"sk-item\"><div class=\"sk-estimator sk-toggleable\"><input class=\"sk-toggleable__control sk-hidden--visually\" id=\"c3a537b4-5502-4001-939e-f5787fd2db27\" type=\"checkbox\" ><label class=\"sk-toggleable__label\" for=\"c3a537b4-5502-4001-939e-f5787fd2db27\">OneHotEncoder</label><div class=\"sk-toggleable__content\"><pre>OneHotEncoder(handle_unknown='ignore', sparse=False)</pre></div></div></div></div></div></div><div class=\"sk-parallel-item\"><div class=\"sk-item\"><div class=\"sk-label-container\"><div class=\"sk-label sk-toggleable\"><input class=\"sk-toggleable__control sk-hidden--visually\" id=\"6f43efc4-4f09-4153-a032-3b6a39181685\" type=\"checkbox\" ><label class=\"sk-toggleable__label\" for=\"6f43efc4-4f09-4153-a032-3b6a39181685\">scaler</label><div class=\"sk-toggleable__content\"><pre>['daycount', 'sqrt_daycount']</pre></div></div></div><div class=\"sk-serial\"><div class=\"sk-item\"><div class=\"sk-estimator sk-toggleable\"><input class=\"sk-toggleable__control sk-hidden--visually\" id=\"0bb4da7e-caa2-43a4-ab6f-474106f4597f\" type=\"checkbox\" ><label class=\"sk-toggleable__label\" for=\"0bb4da7e-caa2-43a4-ab6f-474106f4597f\">StandardScaler</label><div class=\"sk-toggleable__content\"><pre>StandardScaler()</pre></div></div></div></div></div></div></div></div></div></div></div></div></div></div></div><div class=\"sk-item\"><div class=\"sk-estimator sk-toggleable\"><input class=\"sk-toggleable__control sk-hidden--visually\" id=\"369e91d8-3cd4-4706-9b6b-074b30b553b3\" type=\"checkbox\" ><label class=\"sk-toggleable__label\" for=\"369e91d8-3cd4-4706-9b6b-074b30b553b3\">SGDClassifier</label><div class=\"sk-toggleable__content\"><pre>SGDClassifier(alpha=5.1794746792312125e-05, l1_ratio=0.19306977288832497,\n",
       "              loss='log', penalty='elasticnet', random_state=0)</pre></div></div></div></div></div></div></div>"
      ],
      "text/plain": [
       "Pipeline(steps=[('preprocess',\n",
       "                 FeatureUnion(transformer_list=[('categoricals',\n",
       "                                                 ColumnTransformer(transformers=[('operation',\n",
       "                                                                                  SimpleImputer(fill_value=False,\n",
       "                                                                                                strategy='constant'),\n",
       "                                                                                  ['operation']),\n",
       "                                                                                 ('legislation',\n",
       "                                                                                  Pipeline(steps=[('legislation_imputer',\n",
       "                                                                                                   SimpleImputer(fill_value='unknown',\n",
       "                                                                                                                 strategy='constant')),\n",
       "                                                                                                  ('legislation_encoder',\n",
       "                                                                                                   OneHotEncoder(handle_unknow...\n",
       "                                                                  FunctionTransformer(func=<function extract_datetime_features at 0x7f9d27ee5048>)),\n",
       "                                                                 ('transform',\n",
       "                                                                  ColumnTransformer(transformers=[('oh_encoder',\n",
       "                                                                                                   OneHotEncoder(handle_unknown='ignore',\n",
       "                                                                                                                 sparse=False),\n",
       "                                                                                                   ['hour',\n",
       "                                                                                                    'weekday']),\n",
       "                                                                                                  ('scaler',\n",
       "                                                                                                   StandardScaler(),\n",
       "                                                                                                   ['daycount',\n",
       "                                                                                                    'sqrt_daycount'])]))]))])),\n",
       "                ('clf',\n",
       "                 SGDClassifier(alpha=5.1794746792312125e-05,\n",
       "                               l1_ratio=0.19306977288832497, loss='log',\n",
       "                               penalty='elasticnet', random_state=0))])"
      ]
     },
     "execution_count": 104,
     "metadata": {},
     "output_type": "execute_result"
    }
   ],
   "source": [
    "skl.set_config(display='diagram') #'text'\n",
    "pipeline_"
   ]
  },
  {
   "cell_type": "markdown",
   "id": "downtown-nepal",
   "metadata": {},
   "source": [
    "#### Analyse Results"
   ]
  },
  {
   "cell_type": "markdown",
   "id": "sustainable-kinase",
   "metadata": {},
   "source": [
    "##### Success metrics"
   ]
  },
  {
   "cell_type": "code",
   "execution_count": 32,
   "id": "regional-monkey",
   "metadata": {},
   "outputs": [
    {
     "data": {
      "text/html": [
       "<div>\n",
       "<style scoped>\n",
       "    .dataframe tbody tr th:only-of-type {\n",
       "        vertical-align: middle;\n",
       "    }\n",
       "\n",
       "    .dataframe tbody tr th {\n",
       "        vertical-align: top;\n",
       "    }\n",
       "\n",
       "    .dataframe thead th {\n",
       "        text-align: right;\n",
       "    }\n",
       "</style>\n",
       "<table border=\"1\" class=\"dataframe\">\n",
       "  <thead>\n",
       "    <tr style=\"text-align: right;\">\n",
       "      <th></th>\n",
       "      <th>Model</th>\n",
       "      <th>Benchmark</th>\n",
       "      <th>Target</th>\n",
       "    </tr>\n",
       "  </thead>\n",
       "  <tbody>\n",
       "    <tr>\n",
       "      <th>Search precision</th>\n",
       "      <td>0.2401</td>\n",
       "      <td>0.2014</td>\n",
       "      <td>-</td>\n",
       "    </tr>\n",
       "    <tr>\n",
       "      <th>Maximum discrimination within station between ethnicity-gender-subgroup</th>\n",
       "      <td>0.2681</td>\n",
       "      <td>0.24</td>\n",
       "      <td>0.05</td>\n",
       "    </tr>\n",
       "    <tr>\n",
       "      <th>Maximum precision discrepancy between stations overall</th>\n",
       "      <td>0.1974</td>\n",
       "      <td>0.3602</td>\n",
       "      <td>0.1</td>\n",
       "    </tr>\n",
       "    <tr>\n",
       "      <th>Maximum discrimination between ethnicity-gender-subgroups</th>\n",
       "      <td>0.05137</td>\n",
       "      <td>0.04013</td>\n",
       "      <td>0.05</td>\n",
       "    </tr>\n",
       "  </tbody>\n",
       "</table>\n",
       "</div>"
      ],
      "text/plain": [
       "                                                      Model Benchmark Target\n",
       "Search precision                                     0.2401    0.2014      -\n",
       "Maximum discrimination within station between e...   0.2681      0.24   0.05\n",
       "Maximum precision discrepancy between stations ...   0.1974    0.3602    0.1\n",
       "Maximum discrimination between ethnicity-gender...  0.05137   0.04013   0.05"
      ]
     },
     "execution_count": 32,
     "metadata": {},
     "output_type": "execute_result"
    }
   ],
   "source": [
    "# set up\n",
    "df_results = pd.DataFrame(index=['Search precision',\n",
    "                                 'Maximum discrimination within station between ethnicity-gender-subgroup',\n",
    "                                 'Maximum precision discrepancy between stations overall',\n",
    "                                 'Maximum discrimination between ethnicity-gender-subgroups'],\n",
    "                          columns=['Model', 'Benchmark', 'Target'])\n",
    "\n",
    "# pipeline\n",
    "authorised = src.evaluate.authorise_search(pipeline_, X)\n",
    "df_results.iat[0, 0] = precision_score(y, authorised)\n",
    "df_results.iat[1, 0] = src.evaluate.within_station_discrepancy(authorised, y, X).max()\n",
    "df_results.iat[2, 0] = src.evaluate.across_station_discrepancy(authorised, y, X)\n",
    "df_results.iat[3, 0] = src.evaluate.across_subgroup_discrepancy(authorised, y, X)\n",
    "\n",
    "# evaluate benchmark\n",
    "df_results.iat[0, 1] = precision_score(y, np.ones(y.shape))\n",
    "df_results.iat[1, 1] = src.evaluate.within_station_discrepancy(np.ones(y.shape), y, X).max()\n",
    "df_results.iat[2, 1] = src.evaluate.across_station_discrepancy(np.ones(y.shape), y, X)\n",
    "df_results.iat[3, 1] = src.evaluate.across_subgroup_discrepancy(np.ones(y.shape), y, X)\n",
    "\n",
    "# targets\n",
    "df_results.iat[0, 2] = '-'\n",
    "df_results.iat[1, 2] = 0.05\n",
    "df_results.iat[2, 2] = 0.1\n",
    "df_results.iat[3, 2] = 0.05\n",
    "\n",
    "df_results"
   ]
  },
  {
   "cell_type": "markdown",
   "id": "cooperative-pipeline",
   "metadata": {},
   "source": [
    "##### Confusion Matrix"
   ]
  },
  {
   "cell_type": "code",
   "execution_count": 33,
   "id": "greenhouse-inventory",
   "metadata": {},
   "outputs": [
    {
     "data": {
      "text/html": [
       "<div>\n",
       "<style scoped>\n",
       "    .dataframe tbody tr th:only-of-type {\n",
       "        vertical-align: middle;\n",
       "    }\n",
       "\n",
       "    .dataframe tbody tr th {\n",
       "        vertical-align: top;\n",
       "    }\n",
       "\n",
       "    .dataframe thead tr th {\n",
       "        text-align: left;\n",
       "    }\n",
       "</style>\n",
       "<table border=\"1\" class=\"dataframe\">\n",
       "  <thead>\n",
       "    <tr>\n",
       "      <th></th>\n",
       "      <th></th>\n",
       "      <th colspan=\"2\" halign=\"left\">Predicted outcome</th>\n",
       "    </tr>\n",
       "    <tr>\n",
       "      <th></th>\n",
       "      <th></th>\n",
       "      <th>no succes</th>\n",
       "      <th>success</th>\n",
       "    </tr>\n",
       "  </thead>\n",
       "  <tbody>\n",
       "    <tr>\n",
       "      <th rowspan=\"2\" valign=\"top\">True outcome</th>\n",
       "      <th>no succes</th>\n",
       "      <td>63572</td>\n",
       "      <td>183459</td>\n",
       "    </tr>\n",
       "    <tr>\n",
       "      <th>success</th>\n",
       "      <td>4335</td>\n",
       "      <td>57951</td>\n",
       "    </tr>\n",
       "  </tbody>\n",
       "</table>\n",
       "</div>"
      ],
      "text/plain": [
       "                       Predicted outcome        \n",
       "                               no succes success\n",
       "True outcome no succes             63572  183459\n",
       "             success                4335   57951"
      ]
     },
     "execution_count": 33,
     "metadata": {},
     "output_type": "execute_result"
    }
   ],
   "source": [
    "authorised = src.evaluate.authorise_search(pipeline_, X)\n",
    "pd.DataFrame(confusion_matrix(y, authorised),\n",
    "             index=pd.MultiIndex.from_product([['True outcome'], ['no succes', 'success']]),\n",
    "             columns=pd.MultiIndex.from_product([['Predicted outcome'], ['no succes', 'success']]),\n",
    "            )"
   ]
  },
  {
   "cell_type": "markdown",
   "id": "declared-alliance",
   "metadata": {},
   "source": [
    "##### Fairness"
   ]
  },
  {
   "cell_type": "code",
   "execution_count": 36,
   "id": "experienced-jonathan",
   "metadata": {},
   "outputs": [
    {
     "data": {
      "text/html": [
       "<div>\n",
       "<style scoped>\n",
       "    .dataframe tbody tr th:only-of-type {\n",
       "        vertical-align: middle;\n",
       "    }\n",
       "\n",
       "    .dataframe tbody tr th {\n",
       "        vertical-align: top;\n",
       "    }\n",
       "\n",
       "    .dataframe thead th {\n",
       "        text-align: right;\n",
       "    }\n",
       "</style>\n",
       "<table border=\"1\" class=\"dataframe\">\n",
       "  <thead>\n",
       "    <tr style=\"text-align: right;\">\n",
       "      <th>gender</th>\n",
       "      <th>Female</th>\n",
       "      <th>Male</th>\n",
       "    </tr>\n",
       "    <tr>\n",
       "      <th>ethnicity</th>\n",
       "      <th></th>\n",
       "      <th></th>\n",
       "    </tr>\n",
       "  </thead>\n",
       "  <tbody>\n",
       "    <tr>\n",
       "      <th>Asian</th>\n",
       "      <td>0.2323</td>\n",
       "      <td>0.2358</td>\n",
       "    </tr>\n",
       "    <tr>\n",
       "      <th>Black</th>\n",
       "      <td>0.2267</td>\n",
       "      <td>0.2375</td>\n",
       "    </tr>\n",
       "    <tr>\n",
       "      <th>Mixed</th>\n",
       "      <td>0.2039</td>\n",
       "      <td>0.2360</td>\n",
       "    </tr>\n",
       "    <tr>\n",
       "      <th>Other</th>\n",
       "      <td>0.2553</td>\n",
       "      <td>0.2422</td>\n",
       "    </tr>\n",
       "    <tr>\n",
       "      <th>White</th>\n",
       "      <td>0.2121</td>\n",
       "      <td>0.2447</td>\n",
       "    </tr>\n",
       "  </tbody>\n",
       "</table>\n",
       "</div>"
      ],
      "text/plain": [
       "gender     Female    Male\n",
       "ethnicity                \n",
       "Asian      0.2323  0.2358\n",
       "Black      0.2267  0.2375\n",
       "Mixed      0.2039  0.2360\n",
       "Other      0.2553  0.2422\n",
       "White      0.2121  0.2447"
      ]
     },
     "execution_count": 36,
     "metadata": {},
     "output_type": "execute_result"
    }
   ],
   "source": [
    "src.evaluate.calculate_subgroup_precisions(authorised, y, X, grouping=['ethnicity', 'gender']).unstack()"
   ]
  },
  {
   "cell_type": "code",
   "execution_count": 87,
   "id": "subjective-hudson",
   "metadata": {},
   "outputs": [
    {
     "data": {
      "text/html": [
       "<div>\n",
       "<style scoped>\n",
       "    .dataframe tbody tr th:only-of-type {\n",
       "        vertical-align: middle;\n",
       "    }\n",
       "\n",
       "    .dataframe tbody tr th {\n",
       "        vertical-align: top;\n",
       "    }\n",
       "\n",
       "    .dataframe thead th {\n",
       "        text-align: right;\n",
       "    }\n",
       "</style>\n",
       "<table border=\"1\" class=\"dataframe\">\n",
       "  <thead>\n",
       "    <tr style=\"text-align: right;\">\n",
       "      <th>gender</th>\n",
       "      <th>Female</th>\n",
       "      <th>Male</th>\n",
       "    </tr>\n",
       "    <tr>\n",
       "      <th>ethnicity</th>\n",
       "      <th></th>\n",
       "      <th></th>\n",
       "    </tr>\n",
       "  </thead>\n",
       "  <tbody>\n",
       "    <tr>\n",
       "      <th>Asian</th>\n",
       "      <td>0.1936</td>\n",
       "      <td>0.2006</td>\n",
       "    </tr>\n",
       "    <tr>\n",
       "      <th>Black</th>\n",
       "      <td>0.1991</td>\n",
       "      <td>0.2076</td>\n",
       "    </tr>\n",
       "    <tr>\n",
       "      <th>Mixed</th>\n",
       "      <td>0.1864</td>\n",
       "      <td>0.2119</td>\n",
       "    </tr>\n",
       "    <tr>\n",
       "      <th>Other</th>\n",
       "      <td>0.2194</td>\n",
       "      <td>0.2126</td>\n",
       "    </tr>\n",
       "    <tr>\n",
       "      <th>White</th>\n",
       "      <td>0.1793</td>\n",
       "      <td>0.2031</td>\n",
       "    </tr>\n",
       "  </tbody>\n",
       "</table>\n",
       "</div>"
      ],
      "text/plain": [
       "gender     Female    Male\n",
       "ethnicity                \n",
       "Asian      0.1936  0.2006\n",
       "Black      0.1991  0.2076\n",
       "Mixed      0.1864  0.2119\n",
       "Other      0.2194  0.2126\n",
       "White      0.1793  0.2031"
      ]
     },
     "execution_count": 87,
     "metadata": {},
     "output_type": "execute_result"
    }
   ],
   "source": [
    "src.evaluate.calculate_subgroup_precisions(np.ones(y.shape), y, X, grouping=['ethnicity', 'gender']).unstack()"
   ]
  },
  {
   "cell_type": "code",
   "execution_count": 86,
   "id": "sunrise-style",
   "metadata": {},
   "outputs": [
    {
     "data": {
      "image/png": "[encoded data removed]",
      "text/plain": [
       "<Figure size 1224x216 with 1 Axes>"
      ]
     },
     "metadata": {},
     "output_type": "display_data"
    }
   ],
   "source": [
    "fig, ax = plt.subplots(1, 1, figsize=(17,3))\n",
    "\n",
    "ax.set_title('Search precision by station')\n",
    "ax.bar(x=np.arange(0, 42, 1), height=src.evaluate.calculate_subgroup_precisions(authorised, y, X, grouping=['station']), label='Model')\n",
    "ax.scatter(x=np.arange(0, 42, 1), y=src.evaluate.calculate_subgroup_precisions(np.ones(y.shape), y, X, grouping=['station']), zorder=10, label='Benchmark', marker='_', s=100)\n",
    "ax.axhline(precision_score(y, np.ones(y.shape)), linewidth=2, linestyle='--', c='k', label='Average')\n",
    "ax.set_xticks(np.arange(0, 42, 1))\n",
    "ax.set_xticklabels(df_station_precision.index, rotation=90)\n",
    "ax.legend(bbox_to_anchor=(1.1, 0.5), ncol=1)\n",
    "\n",
    "plt.show()\n",
    "\n",
    "fig.savefig('../reports/figures/staions_precision.jpg', dpi=300, bbox_inches='tight')"
   ]
  },
  {
   "cell_type": "markdown",
   "id": "authentic-anthropology",
   "metadata": {},
   "source": [
    "### Serialise"
   ]
  },
  {
   "cell_type": "code",
   "execution_count": 30,
   "id": "realistic-damages",
   "metadata": {},
   "outputs": [],
   "source": [
    "import json\n",
    "import pickle\n",
    "import joblib"
   ]
  },
  {
   "cell_type": "code",
   "execution_count": 31,
   "id": "false-uncle",
   "metadata": {},
   "outputs": [
    {
     "data": {
      "text/plain": [
       "['../deploy/pipeline.pickle']"
      ]
     },
     "execution_count": 31,
     "metadata": {},
     "output_type": "execute_result"
    }
   ],
   "source": [
    "# serialise\n",
    "with open('../deploy/columns.json', 'w') as fh:\n",
    "    json.dump(X.columns.tolist(), fh)\n",
    "    \n",
    "with open('../deploy/dtypes.pickle', 'wb') as fh:\n",
    "    pickle.dump(X.dtypes, fh)\n",
    "    \n",
    "joblib.dump(pipeline_, '../deploy/pipeline.pickle')"
   ]
  }
 ],
 "metadata": {
  "kernelspec": {
   "display_name": "Python 3",
   "language": "python",
   "name": "python3"
  },
  "language_info": {
   "codemirror_mode": {
    "name": "ipython",
    "version": 3
   },
   "file_extension": ".py",
   "mimetype": "text/x-python",
   "name": "python",
   "nbconvert_exporter": "python",
   "pygments_lexer": "ipython3",
   "version": "3.6.9"
  }
 },
 "nbformat": 4,
 "nbformat_minor": 5
}
