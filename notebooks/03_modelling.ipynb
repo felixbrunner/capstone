{
 "cells": [
  {
   "cell_type": "markdown",
   "id": "adolescent-proposition",
   "metadata": {},
   "source": [
    "# 03 - Modeling"
   ]
  },
  {
   "cell_type": "markdown",
   "id": "dynamic-preview",
   "metadata": {},
   "source": [
    "## Imports"
   ]
  },
  {
   "cell_type": "code",
   "execution_count": 1,
   "id": "sexual-stable",
   "metadata": {},
   "outputs": [],
   "source": [
    "%load_ext autoreload\n",
    "%autoreload 2"
   ]
  },
  {
   "cell_type": "code",
   "execution_count": 2,
   "id": "sticky-trading",
   "metadata": {},
   "outputs": [],
   "source": [
    "import numpy as np\n",
    "import pandas as pd\n",
    "import sklearn as skl\n",
    "import matplotlib.pyplot as plt\n",
    "import seaborn as sns\n",
    "import pandas_profiling as pp\n",
    "import time"
   ]
  },
  {
   "cell_type": "code",
   "execution_count": 3,
   "id": "furnished-northeast",
   "metadata": {},
   "outputs": [],
   "source": [
    "import sys\n",
    "sys.path.append('../')\n",
    "\n",
    "import src"
   ]
  },
  {
   "cell_type": "code",
   "execution_count": 4,
   "id": "curious-hebrew",
   "metadata": {},
   "outputs": [],
   "source": [
    "plt.style.use('fivethirtyeight')\n",
    "pd.set_option('precision', 4)"
   ]
  },
  {
   "cell_type": "markdown",
   "id": "capable-concern",
   "metadata": {},
   "source": [
    "## Prepare data"
   ]
  },
  {
   "cell_type": "code",
   "execution_count": 5,
   "id": "antique-encounter",
   "metadata": {},
   "outputs": [],
   "source": [
    "df = pd.read_pickle('../data/training.pickle')"
   ]
  },
  {
   "cell_type": "code",
   "execution_count": 6,
   "id": "forward-slovenia",
   "metadata": {},
   "outputs": [
    {
     "data": {
      "text/html": [
       "<div>\n",
       "<style scoped>\n",
       "    .dataframe tbody tr th:only-of-type {\n",
       "        vertical-align: middle;\n",
       "    }\n",
       "\n",
       "    .dataframe tbody tr th {\n",
       "        vertical-align: top;\n",
       "    }\n",
       "\n",
       "    .dataframe thead th {\n",
       "        text-align: right;\n",
       "    }\n",
       "</style>\n",
       "<table border=\"1\" class=\"dataframe\">\n",
       "  <thead>\n",
       "    <tr style=\"text-align: right;\">\n",
       "      <th></th>\n",
       "      <th>type</th>\n",
       "      <th>date</th>\n",
       "      <th>operation</th>\n",
       "      <th>lat</th>\n",
       "      <th>long</th>\n",
       "      <th>sex</th>\n",
       "      <th>age</th>\n",
       "      <th>ethnicity_self</th>\n",
       "      <th>ethnicity_officer</th>\n",
       "      <th>legislation</th>\n",
       "      <th>search_target</th>\n",
       "      <th>outcome</th>\n",
       "      <th>found_target</th>\n",
       "      <th>stripped</th>\n",
       "      <th>station</th>\n",
       "      <th>offense</th>\n",
       "      <th>success</th>\n",
       "    </tr>\n",
       "    <tr>\n",
       "      <th>observation_id</th>\n",
       "      <th></th>\n",
       "      <th></th>\n",
       "      <th></th>\n",
       "      <th></th>\n",
       "      <th></th>\n",
       "      <th></th>\n",
       "      <th></th>\n",
       "      <th></th>\n",
       "      <th></th>\n",
       "      <th></th>\n",
       "      <th></th>\n",
       "      <th></th>\n",
       "      <th></th>\n",
       "      <th></th>\n",
       "      <th></th>\n",
       "      <th></th>\n",
       "      <th></th>\n",
       "    </tr>\n",
       "  </thead>\n",
       "  <tbody>\n",
       "    <tr>\n",
       "      <th>d62c9e35-6293-45fc-aab6-706bdac1601e</th>\n",
       "      <td>Person search</td>\n",
       "      <td>2017-12-01 00:00:00+00:00</td>\n",
       "      <td>False</td>\n",
       "      <td>50.9234</td>\n",
       "      <td>-0.4611</td>\n",
       "      <td>Male</td>\n",
       "      <td>18-24</td>\n",
       "      <td>White - English/Welsh/Scottish/Northern Irish/...</td>\n",
       "      <td>White</td>\n",
       "      <td>Misuse of Drugs Act 1971 (section 23)</td>\n",
       "      <td>Controlled drugs</td>\n",
       "      <td>Offender given drugs possession warning</td>\n",
       "      <td>False</td>\n",
       "      <td>False</td>\n",
       "      <td>sussex</td>\n",
       "      <td>True</td>\n",
       "      <td>False</td>\n",
       "    </tr>\n",
       "  </tbody>\n",
       "</table>\n",
       "</div>"
      ],
      "text/plain": [
       "                                               type                      date  \\\n",
       "observation_id                                                                  \n",
       "d62c9e35-6293-45fc-aab6-706bdac1601e  Person search 2017-12-01 00:00:00+00:00   \n",
       "\n",
       "                                     operation      lat    long   sex    age  \\\n",
       "observation_id                                                                 \n",
       "d62c9e35-6293-45fc-aab6-706bdac1601e     False  50.9234 -0.4611  Male  18-24   \n",
       "\n",
       "                                                                         ethnicity_self  \\\n",
       "observation_id                                                                            \n",
       "d62c9e35-6293-45fc-aab6-706bdac1601e  White - English/Welsh/Scottish/Northern Irish/...   \n",
       "\n",
       "                                     ethnicity_officer  \\\n",
       "observation_id                                           \n",
       "d62c9e35-6293-45fc-aab6-706bdac1601e             White   \n",
       "\n",
       "                                                                legislation  \\\n",
       "observation_id                                                                \n",
       "d62c9e35-6293-45fc-aab6-706bdac1601e  Misuse of Drugs Act 1971 (section 23)   \n",
       "\n",
       "                                         search_target  \\\n",
       "observation_id                                           \n",
       "d62c9e35-6293-45fc-aab6-706bdac1601e  Controlled drugs   \n",
       "\n",
       "                                                                      outcome  \\\n",
       "observation_id                                                                  \n",
       "d62c9e35-6293-45fc-aab6-706bdac1601e  Offender given drugs possession warning   \n",
       "\n",
       "                                      found_target stripped station  offense  \\\n",
       "observation_id                                                                 \n",
       "d62c9e35-6293-45fc-aab6-706bdac1601e         False    False  sussex     True   \n",
       "\n",
       "                                      success  \n",
       "observation_id                                 \n",
       "d62c9e35-6293-45fc-aab6-706bdac1601e    False  "
      ]
     },
     "execution_count": 6,
     "metadata": {},
     "output_type": "execute_result"
    }
   ],
   "source": [
    "df.head(1)"
   ]
  },
  {
   "cell_type": "markdown",
   "id": "motivated-reader",
   "metadata": {},
   "source": [
    "#### Drop metropolitan station from dataset"
   ]
  },
  {
   "cell_type": "code",
   "execution_count": 7,
   "id": "induced-accommodation",
   "metadata": {},
   "outputs": [
    {
     "data": {
      "text/plain": [
       "(309317, 17)"
      ]
     },
     "execution_count": 7,
     "metadata": {},
     "output_type": "execute_result"
    }
   ],
   "source": [
    "df = df[df.station!='metropolitan']\n",
    "df.shape"
   ]
  },
  {
   "cell_type": "markdown",
   "id": "grave-madonna",
   "metadata": {},
   "source": [
    "#### Select relevant columns"
   ]
  },
  {
   "cell_type": "markdown",
   "id": "pretty-ready",
   "metadata": {},
   "source": [
    "Requests will have the following format:\n",
    "```\n",
    "[\"observation_id\": <string>,\n",
    " \"Type\": <string>,\n",
    " \"Date\": <string>,\n",
    " \"Part of a policing operation\": <boolean>,\n",
    " \"Latitude\": <float>,\n",
    " \"Longitude\": <float>,\n",
    " \"Gender\": <string>,\n",
    " \"Age range\": <string>,\n",
    " \"Officer-defined ethnicity\": <string>,\n",
    " \"Legislation\": <string>,\n",
    " \"Object of search\": <string>,\n",
    " \"station\": <string>]\n",
    " '''\n"
   ]
  },
  {
   "cell_type": "code",
   "execution_count": 8,
   "id": "lesser-gentleman",
   "metadata": {},
   "outputs": [],
   "source": [
    "supplied_columns = ['type', 'date', 'operation', 'lat', 'long', 'sex', 'age', 'ethnicity_officer', 'legislation', 'search_target', 'station']"
   ]
  },
  {
   "cell_type": "code",
   "execution_count": 9,
   "id": "perceived-hypothetical",
   "metadata": {},
   "outputs": [],
   "source": [
    "X = df[supplied_columns]\n",
    "y = df.success.values"
   ]
  },
  {
   "cell_type": "markdown",
   "id": "tested-latest",
   "metadata": {},
   "source": [
    "### Processed Data Profile"
   ]
  },
  {
   "cell_type": "code",
   "execution_count": 10,
   "id": "signed-panel",
   "metadata": {},
   "outputs": [
    {
     "data": {
      "application/vnd.jupyter.widget-view+json": {
       "model_id": "ccbdcef3305d47e1ac7123bccf25a66e",
       "version_major": 2,
       "version_minor": 0
      },
      "text/plain": [
       "Summarize dataset:   0%|          | 0/26 [00:00<?, ?it/s]"
      ]
     },
     "metadata": {},
     "output_type": "display_data"
    },
    {
     "data": {
      "application/vnd.jupyter.widget-view+json": {
       "model_id": "57ce98ba0f7b4b61a5ba5924e015fb43",
       "version_major": 2,
       "version_minor": 0
      },
      "text/plain": [
       "Generate report structure:   0%|          | 0/1 [00:00<?, ?it/s]"
      ]
     },
     "metadata": {},
     "output_type": "display_data"
    },
    {
     "data": {
      "application/vnd.jupyter.widget-view+json": {
       "model_id": "3bba2fdb158d40f3b743c241fba87cb8",
       "version_major": 2,
       "version_minor": 0
      },
      "text/plain": [
       "Render HTML:   0%|          | 0/1 [00:00<?, ?it/s]"
      ]
     },
     "metadata": {},
     "output_type": "display_data"
    },
    {
     "data": {
      "application/vnd.jupyter.widget-view+json": {
       "model_id": "54d23b5f2c064cc7b88e7a8e331279a0",
       "version_major": 2,
       "version_minor": 0
      },
      "text/plain": [
       "Export report to file:   0%|          | 0/1 [00:00<?, ?it/s]"
      ]
     },
     "metadata": {},
     "output_type": "display_data"
    }
   ],
   "source": [
    "profile = pp.ProfileReport(df[supplied_columns+['success']], title='Training Data Profiling Report', explorative=False, minimal=False, pool_size=0, progress_bar=True)\n",
    "profile.to_file('../reports/profiling/processed_profile.html')"
   ]
  },
  {
   "cell_type": "markdown",
   "id": "specific-witness",
   "metadata": {},
   "source": [
    "## Pipeline"
   ]
  },
  {
   "cell_type": "code",
   "execution_count": 11,
   "id": "computational-convergence",
   "metadata": {},
   "outputs": [],
   "source": [
    "from sklearn.impute import SimpleImputer\n",
    "from sklearn.compose import ColumnTransformer\n",
    "from sklearn.preprocessing import OneHotEncoder, FunctionTransformer, KBinsDiscretizer, StandardScaler\n",
    "from sklearn.pipeline import Pipeline, FeatureUnion\n",
    "from category_encoders.target_encoder import TargetEncoder\n",
    "\n",
    "import datetime as dt"
   ]
  },
  {
   "cell_type": "markdown",
   "id": "electric-socket",
   "metadata": {},
   "source": [
    "### Preprocessing\n",
    "#### Categorical Features"
   ]
  },
  {
   "cell_type": "markdown",
   "id": "eligible-expansion",
   "metadata": {},
   "source": [
    "##### Assume searches with missing operation field did not happen as part of policing operation."
   ]
  },
  {
   "cell_type": "code",
   "execution_count": 12,
   "id": "worst-verse",
   "metadata": {},
   "outputs": [],
   "source": [
    "# df.operation = df.operation.fillna(False)\n",
    "operation_imputer = SimpleImputer(strategy='constant', fill_value=False)#, missing_values=None)"
   ]
  },
  {
   "cell_type": "markdown",
   "id": "catholic-shirt",
   "metadata": {},
   "source": [
    "##### Replace missing legislations with 'unknown', then one-hot-encode column."
   ]
  },
  {
   "cell_type": "code",
   "execution_count": 13,
   "id": "industrial-circulation",
   "metadata": {},
   "outputs": [],
   "source": [
    "# df.legislation = df.legislation.astype('str').fillna('unknown').astype('category')\n",
    "legislation_imputer = SimpleImputer(strategy='constant', fill_value='unknown')\n",
    "legislation_encoder = OneHotEncoder(handle_unknown='ignore', sparse=False)\n",
    "legislation_preprocessor = Pipeline(steps=[('legislation_imputer', legislation_imputer),\n",
    "                                           ('legislation_encoder', legislation_encoder)])"
   ]
  },
  {
   "cell_type": "markdown",
   "id": "preceding-surname",
   "metadata": {},
   "source": [
    "##### One-hot-encode categorical features"
   ]
  },
  {
   "cell_type": "code",
   "execution_count": 14,
   "id": "accomplished-samoa",
   "metadata": {},
   "outputs": [],
   "source": [
    "# categoricals = X.select_dtypes(['category']).columns.tolist()\n",
    "# categoricals.remove('legislation') # feature is already dealt with\n",
    "# categoricals.remove('ethnicity_officer') # will not use this feature to avoid explicit discrimination\n",
    "\n",
    "categoricals = ['type', 'sex', 'age', 'search_target', 'station']\n",
    "oh_encoder = OneHotEncoder(handle_unknown='ignore', sparse=False)"
   ]
  },
  {
   "cell_type": "markdown",
   "id": "beginning-spanking",
   "metadata": {},
   "source": [
    "##### Combine categorical preprocessing steps"
   ]
  },
  {
   "cell_type": "code",
   "execution_count": 15,
   "id": "loaded-dancing",
   "metadata": {},
   "outputs": [],
   "source": [
    "cat_preprocessor = ColumnTransformer(transformers=[('operation', operation_imputer, ['operation']),\n",
    "                                                   ('legislation', legislation_preprocessor, ['legislation']),\n",
    "                                                   ('cat_encoder', oh_encoder, categoricals)],\n",
    "                                     remainder='drop')"
   ]
  },
  {
   "cell_type": "markdown",
   "id": "looking-extraction",
   "metadata": {},
   "source": [
    "#### Coordinate Features"
   ]
  },
  {
   "cell_type": "markdown",
   "id": "european-classics",
   "metadata": {},
   "source": [
    "##### Fill missing coordinate data with station means"
   ]
  },
  {
   "cell_type": "code",
   "execution_count": 16,
   "id": "coral-approach",
   "metadata": {},
   "outputs": [],
   "source": [
    "#coordinate_dict = X.groupby('station')[['lat', 'long']].mean().fillna(X.mean()).to_dict()\n",
    "coordinate_dict = \\\n",
    "{'lat': {'avon-and-somerset': 51.33301534853675,\n",
    "  'bedfordshire': 51.99520005035238,\n",
    "  'btp': 52.04498213727202,\n",
    "  'cambridgeshire': 52.401295645642094,\n",
    "  'cheshire': 53.27243561712015,\n",
    "  'city-of-london': 51.515283227020134,\n",
    "  'cleveland': 54.581267715107955,\n",
    "  'cumbria': 54.53797709350655,\n",
    "  'derbyshire': 53.01032026513161,\n",
    "  'devon-and-cornwall': 50.53555175443321,\n",
    "  'dorset': 50.71701186632197,\n",
    "  'durham': 54.68330272246215,\n",
    "  'dyfed-powys': 52.06194421428571,\n",
    "  'essex': 51.72007429847026,\n",
    "  'gloucestershire': 51.84977152248181,\n",
    "  'greater-manchester': 53.47859898644197,\n",
    "  'gwent': 51.60761234256556,\n",
    "  'hampshire': 50.93652569163378,\n",
    "  'hertfordshire': 51.76037049985289,\n",
    "  'humberside': 53.48481868431375,\n",
    "  'kent': 51.374468082246494,\n",
    "  'lancashire': 53.78500562755108,\n",
    "  'leicestershire': 52.65751631679406,\n",
    "  'lincolnshire': 53.10683554523824,\n",
    "  'merseyside': 53.436241618732225,\n",
    "  'metropolitan': 52.515362957924715,\n",
    "  'norfolk': 52.64006103976567,\n",
    "  'north-wales': 53.17569351116731,\n",
    "  'north-yorkshire': 54.041700087409595,\n",
    "  'northamptonshire': 52.29232862938288,\n",
    "  'northumbria': 54.98786282962144,\n",
    "  'nottinghamshire': 52.98302869082842,\n",
    "  'south-yorkshire': 52.515362957924715,\n",
    "  'staffordshire': 52.87808759739836,\n",
    "  'suffolk': 52.139193867362344,\n",
    "  'surrey': 51.32796300224013,\n",
    "  'sussex': 50.90980622282589,\n",
    "  'thames-valley': 51.69650944703028,\n",
    "  'warwickshire': 52.36734886374945,\n",
    "  'west-mercia': 52.413887931124385,\n",
    "  'west-yorkshire': 53.77299550808837,\n",
    "  'wiltshire': 51.37899916477772},\n",
    " 'long': {'avon-and-somerset': -2.6959433559473505,\n",
    "  'bedfordshire': -0.4249400266868079,\n",
    "  'btp': -0.7715286391456624,\n",
    "  'cambridgeshire': -0.04725813646789005,\n",
    "  'cheshire': -2.6387643686903965,\n",
    "  'city-of-london': -0.0896220290722526,\n",
    "  'cleveland': -1.2457966712230222,\n",
    "  'cumbria': -3.136673164935065,\n",
    "  'derbyshire': -1.4773875202376467,\n",
    "  'devon-and-cornwall': -4.066873729177866,\n",
    "  'dorset': -2.0917077684638166,\n",
    "  'durham': -1.594638016918649,\n",
    "  'dyfed-powys': -4.084971542857141,\n",
    "  'essex': 0.538986324416861,\n",
    "  'gloucestershire': -2.188883543046356,\n",
    "  'greater-manchester': -2.248505129745514,\n",
    "  'gwent': -3.0290781326530665,\n",
    "  'hampshire': -1.1898053439685032,\n",
    "  'hertfordshire': -0.2575871883632099,\n",
    "  'humberside': -0.4107479908496726,\n",
    "  'kent': 0.5604151309456336,\n",
    "  'lancashire': -2.7154059084062276,\n",
    "  'leicestershire': -1.1627258218159886,\n",
    "  'lincolnshire': -0.35191183908730256,\n",
    "  'merseyside': -2.9378837346396676,\n",
    "  'metropolitan': -1.3420896304429029,\n",
    "  'norfolk': 1.1136251113436533,\n",
    "  'north-wales': -3.5303938708385822,\n",
    "  'north-yorkshire': -1.1725005511775388,\n",
    "  'northamptonshire': -0.8297320040567943,\n",
    "  'northumbria': -1.5853070855440516,\n",
    "  'nottinghamshire': -1.1530782153432024,\n",
    "  'south-yorkshire': -1.3420896304429029,\n",
    "  'staffordshire': -2.0221622171637286,\n",
    "  'suffolk': 1.0365897135618494,\n",
    "  'surrey': -0.4413027473143175,\n",
    "  'sussex': -0.16365491495299755,\n",
    "  'thames-valley': -0.9660928864365886,\n",
    "  'warwickshire': -1.4958054560654521,\n",
    "  'west-mercia': -2.3846032813072715,\n",
    "  'west-yorkshire': -1.6477957410954118,\n",
    "  'wiltshire': -1.9166443269398472}}"
   ]
  },
  {
   "cell_type": "code",
   "execution_count": 17,
   "id": "joint-clark",
   "metadata": {},
   "outputs": [],
   "source": [
    "coordinate_imputer = FunctionTransformer(src.modeling.fill_coordinates_with_station_means)\n",
    "coordinate_discretizer = KBinsDiscretizer(n_bins=50, encode='ordinal')\n",
    "coordinate_categorizer = FunctionTransformer(src.modeling.grid_to_category)\n",
    "coordinate_encoder = TargetEncoder(cols=None, handle_missing='value', handle_unknown='value')"
   ]
  },
  {
   "cell_type": "code",
   "execution_count": 18,
   "id": "ordinary-gospel",
   "metadata": {},
   "outputs": [],
   "source": [
    "coordinate_preprocessor = Pipeline(steps=[('fill_means', coordinate_imputer),\n",
    "                                          ('discretize', coordinate_discretizer),\n",
    "                                          ('categorizer', coordinate_categorizer),\n",
    "                                          ('encode', coordinate_encoder),\n",
    "                                         ])"
   ]
  },
  {
   "cell_type": "markdown",
   "id": "subtle-august",
   "metadata": {},
   "source": [
    "#### Datetime features"
   ]
  },
  {
   "cell_type": "code",
   "execution_count": 19,
   "id": "sustainable-seattle",
   "metadata": {},
   "outputs": [],
   "source": [
    "date_extractor = FunctionTransformer(src.modeling.extract_datetime_features)\n",
    "date_encoder = OneHotEncoder(handle_unknown='ignore', sparse=False)\n",
    "date_scaler = StandardScaler()"
   ]
  },
  {
   "cell_type": "code",
   "execution_count": 20,
   "id": "strange-track",
   "metadata": {},
   "outputs": [],
   "source": [
    "date_transformer = ColumnTransformer(transformers=[('oh_encoder', date_encoder, ['hour', 'weekday']),\n",
    "                                                   ('scaler', date_scaler, ['daycount', 'sqrt_daycount']),\n",
    "                                                  ])"
   ]
  },
  {
   "cell_type": "code",
   "execution_count": 21,
   "id": "perceived-angel",
   "metadata": {},
   "outputs": [],
   "source": [
    "date_preprocessor = Pipeline(steps=[('extract', date_extractor),\n",
    "                                    ('transform', date_transformer)])"
   ]
  },
  {
   "cell_type": "markdown",
   "id": "bizarre-advice",
   "metadata": {},
   "source": [
    "#### Combine all preprocessing steps"
   ]
  },
  {
   "cell_type": "code",
   "execution_count": 22,
   "id": "norman-basketball",
   "metadata": {},
   "outputs": [],
   "source": [
    "feature_preprocessor = FeatureUnion(transformer_list=[('categoricals', cat_preprocessor),\n",
    "                                                      ('location', coordinate_preprocessor),\n",
    "                                                      ('date', date_preprocessor)])"
   ]
  },
  {
   "cell_type": "markdown",
   "id": "extra-pleasure",
   "metadata": {},
   "source": [
    "### Model Selection"
   ]
  },
  {
   "cell_type": "code",
   "execution_count": 15,
   "id": "initial-clear",
   "metadata": {},
   "outputs": [],
   "source": [
    "from sklearn.model_selection import train_test_split\n",
    "from sklearn.metrics import classification_report, confusion_matrix, precision_score, roc_auc_score\n",
    "\n",
    "from sklearn.tree import DecisionTreeClassifier\n",
    "from sklearn.linear_model import LogisticRegression, SGDClassifier\n",
    "from sklearn.svm import SVC\n",
    "from sklearn.ensemble import GradientBoostingClassifier, RandomForestClassifier, AdaBoostClassifier\n",
    "\n",
    "from xgboost import XGBClassifier\n",
    "from lightgbm import LGBMClassifier\n",
    "from catboost import CatBoostClassifier"
   ]
  },
  {
   "cell_type": "markdown",
   "id": "correct-mirror",
   "metadata": {},
   "source": [
    "#### Train-Validation Split"
   ]
  },
  {
   "cell_type": "code",
   "execution_count": 24,
   "id": "dressed-semester",
   "metadata": {},
   "outputs": [],
   "source": [
    "X_train, X_val, y_train, y_val = train_test_split(X, y, test_size=0.3, random_state=0, stratify=X[['station']], shuffle=True)"
   ]
  },
  {
   "cell_type": "markdown",
   "id": "related-interstate",
   "metadata": {},
   "source": [
    "#### Plain-Vanilla Models"
   ]
  },
  {
   "cell_type": "code",
   "execution_count": 25,
   "id": "ahead-creek",
   "metadata": {},
   "outputs": [],
   "source": [
    "# tree-based models\n",
    "dtc = ('Decision Tree', DecisionTreeClassifier())\n",
    "rfc = ('Random Forest', RandomForestClassifier())\n",
    "\n",
    "# nonlinear regression models\n",
    "lrc = ('Logistic Regression', LogisticRegression())\n",
    "sgd = ('Stochastic Gradient', SGDClassifier(loss='log'))\n",
    "\n",
    "# other classifiers\n",
    "svc = SVC() #too slow\n",
    "gbc = GradientBoostingClassifier() #too slow\n",
    "\n",
    "# gradient boosting methods\n",
    "abc = ('Ada Boost', AdaBoostClassifier()) #slow but okay\n",
    "xgb = ('XG Boost', XGBClassifier()) #okay\n",
    "lgbm = ('Light GBM', LGBMClassifier()) #fast\n",
    "cbc = ('Cat Boost', CatBoostClassifier(iterations=100)) #keeps crashing"
   ]
  },
  {
   "cell_type": "code",
   "execution_count": 26,
   "id": "prepared-roots",
   "metadata": {},
   "outputs": [],
   "source": [
    "classifiers = [dtc, rfc, lrc, sgd, abc, lgbm]"
   ]
  },
  {
   "cell_type": "code",
   "execution_count": 27,
   "id": "material-azerbaijan",
   "metadata": {},
   "outputs": [
    {
     "name": "stderr",
     "output_type": "stream",
     "text": [
      "/home/rubelrennfix/.virtualenvs/capstone/lib/python3.6/site-packages/sklearn/preprocessing/_discretization.py:222: UserWarning: Bins whose width are too small (i.e., <= 1e-8) in feature 0 are removed. Consider decreasing the number of bins.\n",
      "  'decreasing the number of bins.' % jj)\n",
      "/home/rubelrennfix/.virtualenvs/capstone/lib/python3.6/site-packages/sklearn/preprocessing/_discretization.py:222: UserWarning: Bins whose width are too small (i.e., <= 1e-8) in feature 1 are removed. Consider decreasing the number of bins.\n",
      "  'decreasing the number of bins.' % jj)\n",
      "/home/rubelrennfix/.virtualenvs/capstone/lib/python3.6/site-packages/category_encoders/utils.py:21: FutureWarning: is_categorical is deprecated and will be removed in a future version.  Use is_categorical_dtype instead\n",
      "  elif pd.api.types.is_categorical(cols):\n"
     ]
    },
    {
     "name": "stdout",
     "output_type": "stream",
     "text": [
      "Trained Decision Tree in 17.903661727905273\n"
     ]
    },
    {
     "name": "stderr",
     "output_type": "stream",
     "text": [
      "/home/rubelrennfix/.virtualenvs/capstone/lib/python3.6/site-packages/sklearn/preprocessing/_discretization.py:222: UserWarning: Bins whose width are too small (i.e., <= 1e-8) in feature 0 are removed. Consider decreasing the number of bins.\n",
      "  'decreasing the number of bins.' % jj)\n",
      "/home/rubelrennfix/.virtualenvs/capstone/lib/python3.6/site-packages/sklearn/preprocessing/_discretization.py:222: UserWarning: Bins whose width are too small (i.e., <= 1e-8) in feature 1 are removed. Consider decreasing the number of bins.\n",
      "  'decreasing the number of bins.' % jj)\n",
      "/home/rubelrennfix/.virtualenvs/capstone/lib/python3.6/site-packages/category_encoders/utils.py:21: FutureWarning: is_categorical is deprecated and will be removed in a future version.  Use is_categorical_dtype instead\n",
      "  elif pd.api.types.is_categorical(cols):\n"
     ]
    },
    {
     "name": "stdout",
     "output_type": "stream",
     "text": [
      "Trained Random Forest in 101.30093216896057\n"
     ]
    },
    {
     "name": "stderr",
     "output_type": "stream",
     "text": [
      "/home/rubelrennfix/.virtualenvs/capstone/lib/python3.6/site-packages/sklearn/preprocessing/_discretization.py:222: UserWarning: Bins whose width are too small (i.e., <= 1e-8) in feature 0 are removed. Consider decreasing the number of bins.\n",
      "  'decreasing the number of bins.' % jj)\n",
      "/home/rubelrennfix/.virtualenvs/capstone/lib/python3.6/site-packages/sklearn/preprocessing/_discretization.py:222: UserWarning: Bins whose width are too small (i.e., <= 1e-8) in feature 1 are removed. Consider decreasing the number of bins.\n",
      "  'decreasing the number of bins.' % jj)\n",
      "/home/rubelrennfix/.virtualenvs/capstone/lib/python3.6/site-packages/category_encoders/utils.py:21: FutureWarning: is_categorical is deprecated and will be removed in a future version.  Use is_categorical_dtype instead\n",
      "  elif pd.api.types.is_categorical(cols):\n",
      "/home/rubelrennfix/.virtualenvs/capstone/lib/python3.6/site-packages/sklearn/linear_model/_logistic.py:765: ConvergenceWarning: lbfgs failed to converge (status=1):\n",
      "STOP: TOTAL NO. of ITERATIONS REACHED LIMIT.\n",
      "\n",
      "Increase the number of iterations (max_iter) or scale the data as shown in:\n",
      "    https://scikit-learn.org/stable/modules/preprocessing.html\n",
      "Please also refer to the documentation for alternative solver options:\n",
      "    https://scikit-learn.org/stable/modules/linear_model.html#logistic-regression\n",
      "  extra_warning_msg=_LOGISTIC_SOLVER_CONVERGENCE_MSG)\n"
     ]
    },
    {
     "name": "stdout",
     "output_type": "stream",
     "text": [
      "Trained Logistic Regression in 21.184828281402588\n"
     ]
    },
    {
     "name": "stderr",
     "output_type": "stream",
     "text": [
      "/home/rubelrennfix/.virtualenvs/capstone/lib/python3.6/site-packages/sklearn/preprocessing/_discretization.py:222: UserWarning: Bins whose width are too small (i.e., <= 1e-8) in feature 0 are removed. Consider decreasing the number of bins.\n",
      "  'decreasing the number of bins.' % jj)\n",
      "/home/rubelrennfix/.virtualenvs/capstone/lib/python3.6/site-packages/sklearn/preprocessing/_discretization.py:222: UserWarning: Bins whose width are too small (i.e., <= 1e-8) in feature 1 are removed. Consider decreasing the number of bins.\n",
      "  'decreasing the number of bins.' % jj)\n",
      "/home/rubelrennfix/.virtualenvs/capstone/lib/python3.6/site-packages/category_encoders/utils.py:21: FutureWarning: is_categorical is deprecated and will be removed in a future version.  Use is_categorical_dtype instead\n",
      "  elif pd.api.types.is_categorical(cols):\n"
     ]
    },
    {
     "name": "stdout",
     "output_type": "stream",
     "text": [
      "Trained Stochastic Gradient in 15.279914855957031\n"
     ]
    },
    {
     "name": "stderr",
     "output_type": "stream",
     "text": [
      "/home/rubelrennfix/.virtualenvs/capstone/lib/python3.6/site-packages/sklearn/preprocessing/_discretization.py:222: UserWarning: Bins whose width are too small (i.e., <= 1e-8) in feature 0 are removed. Consider decreasing the number of bins.\n",
      "  'decreasing the number of bins.' % jj)\n",
      "/home/rubelrennfix/.virtualenvs/capstone/lib/python3.6/site-packages/sklearn/preprocessing/_discretization.py:222: UserWarning: Bins whose width are too small (i.e., <= 1e-8) in feature 1 are removed. Consider decreasing the number of bins.\n",
      "  'decreasing the number of bins.' % jj)\n",
      "/home/rubelrennfix/.virtualenvs/capstone/lib/python3.6/site-packages/category_encoders/utils.py:21: FutureWarning: is_categorical is deprecated and will be removed in a future version.  Use is_categorical_dtype instead\n",
      "  elif pd.api.types.is_categorical(cols):\n"
     ]
    },
    {
     "name": "stdout",
     "output_type": "stream",
     "text": [
      "Trained Ada Boost in 103.73062753677368\n"
     ]
    },
    {
     "name": "stderr",
     "output_type": "stream",
     "text": [
      "/home/rubelrennfix/.virtualenvs/capstone/lib/python3.6/site-packages/sklearn/preprocessing/_discretization.py:222: UserWarning: Bins whose width are too small (i.e., <= 1e-8) in feature 0 are removed. Consider decreasing the number of bins.\n",
      "  'decreasing the number of bins.' % jj)\n",
      "/home/rubelrennfix/.virtualenvs/capstone/lib/python3.6/site-packages/sklearn/preprocessing/_discretization.py:222: UserWarning: Bins whose width are too small (i.e., <= 1e-8) in feature 1 are removed. Consider decreasing the number of bins.\n",
      "  'decreasing the number of bins.' % jj)\n",
      "/home/rubelrennfix/.virtualenvs/capstone/lib/python3.6/site-packages/category_encoders/utils.py:21: FutureWarning: is_categorical is deprecated and will be removed in a future version.  Use is_categorical_dtype instead\n",
      "  elif pd.api.types.is_categorical(cols):\n"
     ]
    },
    {
     "name": "stdout",
     "output_type": "stream",
     "text": [
      "Trained Light GBM in 8.627115964889526\n",
      "CPU times: user 7min 32s, sys: 1min 25s, total: 8min 57s\n",
      "Wall time: 8min 44s\n"
     ]
    }
   ],
   "source": [
    "%%time\n",
    "df_plain_models = pd.DataFrame(index=['Benchmark']+[name for (name, clf) in classifiers],\n",
    "                               columns=pd.MultiIndex.from_product([['train', 'val'], []]))\n",
    "\n",
    "# evaluate benchmark\n",
    "df_plain_models.at['Benchmark', ('all', 'time')] = 0\n",
    "df_plain_models.at['Benchmark', ('all', 'precision')] = precision_score(y, np.ones(y.shape))\n",
    "df_plain_models.at['Benchmark', ('all', 'auroc')] = roc_auc_score(y, np.ones(y.shape))\n",
    "df_plain_models.at['Benchmark', ('all', 'within_station')] = src.evaluate.within_station_discrepancy(np.ones(y.shape), y, X).max()\n",
    "df_plain_models.at['Benchmark', ('all', 'within_station_std')] = src.evaluate.within_station_discrepancy(np.ones(y.shape), y, X).std()\n",
    "df_plain_models.at['Benchmark', ('all', 'across_station')] = src.evaluate.across_station_discrepancy(np.ones(y.shape), y, X)\n",
    "df_plain_models.at['Benchmark', ('all', 'across_group')] = src.evaluate.across_subgroup_discrepancy(np.ones(y.shape), y, X)\n",
    "\n",
    "for name, clf in classifiers:\n",
    "    # build pipeline\n",
    "    pipeline = Pipeline(steps=[('preprocess', feature_preprocessor),\n",
    "                               ('clf', clf)],\n",
    "                        verbose=False)\n",
    "    \n",
    "    # train\n",
    "    t = time.time()\n",
    "    pipeline.fit(X_train, y_train)\n",
    "    elapsed = time.time() - t\n",
    "    df_plain_models.at[name, ('train', 'time')] = elapsed\n",
    "    \n",
    "    # predict\n",
    "    authorised_train = src.evaluate.authorise_search(pipeline, X_train)\n",
    "    authorised_val = src.evaluate.authorise_search(pipeline, X_val)\n",
    "    pred_train = pipeline.predict(X_train)\n",
    "    pred_val = pipeline.predict(X_val)\n",
    "    \n",
    "    # evaluate\n",
    "    df_plain_models.at[name, ('train', 'precision')] = precision_score(y_train, authorised_train)\n",
    "    df_plain_models.at[name, ('val', 'precision')] = precision_score(y_val, authorised_val)\n",
    "    \n",
    "    df_plain_models.at[name, ('train', 'auroc')] = roc_auc_score(y_train, authorised_train)\n",
    "    df_plain_models.at[name, ('val', 'auroc')] = roc_auc_score(y_val, authorised_val)\n",
    "    \n",
    "    df_plain_models.at[name, ('train', 'within_station')] = src.evaluate.within_station_discrepancy(authorised_train, y_train, X_train).max()\n",
    "    df_plain_models.at[name, ('val', 'within_station')] = src.evaluate.within_station_discrepancy(authorised_val, y_val, X_val).max()\n",
    "    \n",
    "    df_plain_models.at[name, ('train', 'within_station_std')] = src.evaluate.within_station_discrepancy(authorised_train, y_train, X_train).std()\n",
    "    df_plain_models.at[name, ('val', 'within_station_std')] = src.evaluate.within_station_discrepancy(authorised_val, y_val, X_val).std()\n",
    "    \n",
    "    df_plain_models.at[name, ('train', 'across_station')] = src.evaluate.across_station_discrepancy(authorised_train, y_train, X_train)\n",
    "    df_plain_models.at[name, ('val', 'across_station')] = src.evaluate.across_station_discrepancy(authorised_val, y_val, X_val)\n",
    "    \n",
    "    df_plain_models.at[name, ('train', 'across_group')] = src.evaluate.across_subgroup_discrepancy(authorised_train, y_train, X_train)\n",
    "    df_plain_models.at[name, ('val', 'across_group')] = src.evaluate.across_subgroup_discrepancy(authorised_val, y_val, X_val)\n",
    "    \n",
    "    print('Trained {} in {}'.format(name, elapsed))\n",
    "    \n",
    "df_plain_models.to_pickle('../data/df_plain_models.pickle')"
   ]
  },
  {
   "cell_type": "markdown",
   "id": "sought-institute",
   "metadata": {},
   "source": [
    "#### Client fairness requirements:\n",
    "This is a very interesting question. We are not data scientists here at the IT department, so please tell us in your report if our expectation is unreasonable. We would hope that (A) there would not be a discrepancy of more than 5 percentage points between population sub-groups, which would be defined as (B) a (station, ethnicity, gender) tuple, and that the discrepancy between stations (average per station) would not be larger than 10 percentage points.  We have no way to tell whether our expectations are realistic, of course, but trust that you can guide us in this process. Please note that we are only concerned about age when deciding about clothes removal. For now we are not interested in ages when deciding whether or not to conduct a search.\n"
   ]
  },
  {
   "cell_type": "code",
   "execution_count": 107,
   "id": "powered-interface",
   "metadata": {},
   "outputs": [
    {
     "name": "stdout",
     "output_type": "stream",
     "text": [
      "['Benchmark', 'Decision Tree', 'Random Forest', 'Logistic Regression', 'Stochastic Gradient', 'Ada Boost', 'Light GBM']\n"
     ]
    },
    {
     "name": "stderr",
     "output_type": "stream",
     "text": [
      "../src/plots.py:261: UserWarning: FixedFormatter should only be used together with FixedLocator\n",
      "  ax.set_xticklabels(labels)\n"
     ]
    },
    {
     "data": {
      "image/png": "[encoded data removed]",
      "text/plain": [
       "<Figure size 1224x720 with 4 Axes>"
      ]
     },
     "metadata": {},
     "output_type": "display_data"
    }
   ],
   "source": [
    "src.plots.make_evaluation_plot()"
   ]
  },
  {
   "cell_type": "markdown",
   "id": "historic-portal",
   "metadata": {},
   "source": [
    "#### Cross-validation of hyperparameters"
   ]
  },
  {
   "cell_type": "code",
   "execution_count": 108,
   "id": "genuine-cologne",
   "metadata": {},
   "outputs": [],
   "source": [
    "from sklearn.model_selection import RandomizedSearchCV, StratifiedKFold"
   ]
  },
  {
   "cell_type": "code",
   "execution_count": 109,
   "id": "human-potential",
   "metadata": {},
   "outputs": [],
   "source": [
    "# set model pipeline\n",
    "pipeline = Pipeline(steps=[('preprocess', feature_preprocessor),\n",
    "                           ('clf', sgd[1])],\n",
    "                        verbose=False)\n",
    "\n",
    "# set CV parameters\n",
    "grid = {'clf__penalty': ['elasticnet'],\n",
    "        'clf__alpha': np.geomspace(1e-6, 1e-2, 15),\n",
    "        'clf__l1_ratio': [0]+np.geomspace(1e-5, 1e0, 15).tolist(),\n",
    "        'clf__random_state': [0],\n",
    "       }\n",
    "split = StratifiedKFold(n_splits=5, shuffle=True, random_state=0)\n",
    "cv = RandomizedSearchCV(pipeline, param_distributions=grid, scoring=precision_score, n_iter=30, n_jobs=3, cv=split, verbose=1, random_state=0)"
   ]
  },
  {
   "cell_type": "code",
   "execution_count": 110,
   "id": "silent-lease",
   "metadata": {},
   "outputs": [
    {
     "name": "stdout",
     "output_type": "stream",
     "text": [
      "Fitting 5 folds for each of 30 candidates, totalling 150 fits\n"
     ]
    },
    {
     "name": "stderr",
     "output_type": "stream",
     "text": [
      "/home/rubelrennfix/.virtualenvs/capstone/lib/python3.6/site-packages/sklearn/model_selection/_search.py:921: UserWarning: One or more of the test scores are non-finite: [nan nan nan nan nan nan nan nan nan nan nan nan nan nan nan nan nan nan\n",
      " nan nan nan nan nan nan nan nan nan nan nan nan]\n",
      "  category=UserWarning\n",
      "/home/rubelrennfix/.virtualenvs/capstone/lib/python3.6/site-packages/sklearn/preprocessing/_discretization.py:222: UserWarning: Bins whose width are too small (i.e., <= 1e-8) in feature 0 are removed. Consider decreasing the number of bins.\n",
      "  'decreasing the number of bins.' % jj)\n",
      "/home/rubelrennfix/.virtualenvs/capstone/lib/python3.6/site-packages/sklearn/preprocessing/_discretization.py:222: UserWarning: Bins whose width are too small (i.e., <= 1e-8) in feature 1 are removed. Consider decreasing the number of bins.\n",
      "  'decreasing the number of bins.' % jj)\n",
      "/home/rubelrennfix/.virtualenvs/capstone/lib/python3.6/site-packages/category_encoders/utils.py:21: FutureWarning: is_categorical is deprecated and will be removed in a future version.  Use is_categorical_dtype instead\n",
      "  elif pd.api.types.is_categorical(cols):\n"
     ]
    },
    {
     "name": "stdout",
     "output_type": "stream",
     "text": [
      "CPU times: user 42 s, sys: 6.7 s, total: 48.7 s\n",
      "Wall time: 17min 58s\n"
     ]
    }
   ],
   "source": [
    "%%time\n",
    "# fit\n",
    "cv.fit(X, y)\n",
    "\n",
    "# store\n",
    "pipeline_ = cv.best_estimator_"
   ]
  },
  {
   "cell_type": "code",
   "execution_count": 111,
   "id": "owned-gilbert",
   "metadata": {},
   "outputs": [
    {
     "data": {
      "text/html": [
       "<style>div.sk-top-container {color: black;background-color: white;}div.sk-toggleable {background-color: white;}label.sk-toggleable__label {cursor: pointer;display: block;width: 100%;margin-bottom: 0;padding: 0.2em 0.3em;box-sizing: border-box;text-align: center;}div.sk-toggleable__content {max-height: 0;max-width: 0;overflow: hidden;text-align: left;background-color: #f0f8ff;}div.sk-toggleable__content pre {margin: 0.2em;color: black;border-radius: 0.25em;background-color: #f0f8ff;}input.sk-toggleable__control:checked~div.sk-toggleable__content {max-height: 200px;max-width: 100%;overflow: auto;}div.sk-estimator input.sk-toggleable__control:checked~label.sk-toggleable__label {background-color: #d4ebff;}div.sk-label input.sk-toggleable__control:checked~label.sk-toggleable__label {background-color: #d4ebff;}input.sk-hidden--visually {border: 0;clip: rect(1px 1px 1px 1px);clip: rect(1px, 1px, 1px, 1px);height: 1px;margin: -1px;overflow: hidden;padding: 0;position: absolute;width: 1px;}div.sk-estimator {font-family: monospace;background-color: #f0f8ff;margin: 0.25em 0.25em;border: 1px dotted black;border-radius: 0.25em;box-sizing: border-box;}div.sk-estimator:hover {background-color: #d4ebff;}div.sk-parallel-item::after {content: \"\";width: 100%;border-bottom: 1px solid gray;flex-grow: 1;}div.sk-label:hover label.sk-toggleable__label {background-color: #d4ebff;}div.sk-serial::before {content: \"\";position: absolute;border-left: 1px solid gray;box-sizing: border-box;top: 2em;bottom: 0;left: 50%;}div.sk-serial {display: flex;flex-direction: column;align-items: center;background-color: white;}div.sk-item {z-index: 1;}div.sk-parallel {display: flex;align-items: stretch;justify-content: center;background-color: white;}div.sk-parallel-item {display: flex;flex-direction: column;position: relative;background-color: white;}div.sk-parallel-item:first-child::after {align-self: flex-end;width: 50%;}div.sk-parallel-item:last-child::after {align-self: flex-start;width: 50%;}div.sk-parallel-item:only-child::after {width: 0;}div.sk-dashed-wrapped {border: 1px dashed gray;margin: 0.2em;box-sizing: border-box;padding-bottom: 0.1em;background-color: white;position: relative;}div.sk-label label {font-family: monospace;font-weight: bold;background-color: white;display: inline-block;line-height: 1.2em;}div.sk-label-container {position: relative;z-index: 2;text-align: center;}div.sk-container {display: inline-block;position: relative;}</style><div class=\"sk-top-container\"><div class=\"sk-container\"><div class=\"sk-item sk-dashed-wrapped\"><div class=\"sk-label-container\"><div class=\"sk-label sk-toggleable\"><input class=\"sk-toggleable__control sk-hidden--visually\" id=\"8758d610-0407-4694-9ce9-3f483bc24230\" type=\"checkbox\" ><label class=\"sk-toggleable__label\" for=\"8758d610-0407-4694-9ce9-3f483bc24230\">Pipeline</label><div class=\"sk-toggleable__content\"><pre>Pipeline(steps=[('preprocess',\n",
       "                 FeatureUnion(transformer_list=[('categoricals',\n",
       "                                                 ColumnTransformer(transformers=[('operation',\n",
       "                                                                                  SimpleImputer(fill_value=False,\n",
       "                                                                                                strategy='constant'),\n",
       "                                                                                  ['operation']),\n",
       "                                                                                 ('legislation',\n",
       "                                                                                  Pipeline(steps=[('legislation_imputer',\n",
       "                                                                                                   SimpleImputer(fill_value='unknown',\n",
       "                                                                                                                 strategy='constant')),\n",
       "                                                                                                  ('legislation_encoder',\n",
       "                                                                                                   OneHotEncoder(handle_unknow...\n",
       "                                                                  FunctionTransformer(func=<function extract_datetime_features at 0x7fc325663620>)),\n",
       "                                                                 ('transform',\n",
       "                                                                  ColumnTransformer(transformers=[('oh_encoder',\n",
       "                                                                                                   OneHotEncoder(handle_unknown='ignore',\n",
       "                                                                                                                 sparse=False),\n",
       "                                                                                                   ['hour',\n",
       "                                                                                                    'weekday']),\n",
       "                                                                                                  ('scaler',\n",
       "                                                                                                   StandardScaler(),\n",
       "                                                                                                   ['daycount',\n",
       "                                                                                                    'sqrt_daycount'])]))]))])),\n",
       "                ('clf',\n",
       "                 SGDClassifier(alpha=5.1794746792312125e-05,\n",
       "                               l1_ratio=0.19306977288832497, loss='log',\n",
       "                               penalty='elasticnet', random_state=0))])</pre></div></div></div><div class=\"sk-serial\"><div class=\"sk-item sk-dashed-wrapped\"><div class=\"sk-label-container\"><div class=\"sk-label sk-toggleable\"><input class=\"sk-toggleable__control sk-hidden--visually\" id=\"a2d001ee-8123-43b4-879a-eff63832b7b3\" type=\"checkbox\" ><label class=\"sk-toggleable__label\" for=\"a2d001ee-8123-43b4-879a-eff63832b7b3\">preprocess: FeatureUnion</label><div class=\"sk-toggleable__content\"><pre>FeatureUnion(transformer_list=[('categoricals',\n",
       "                                ColumnTransformer(transformers=[('operation',\n",
       "                                                                 SimpleImputer(fill_value=False,\n",
       "                                                                               strategy='constant'),\n",
       "                                                                 ['operation']),\n",
       "                                                                ('legislation',\n",
       "                                                                 Pipeline(steps=[('legislation_imputer',\n",
       "                                                                                  SimpleImputer(fill_value='unknown',\n",
       "                                                                                                strategy='constant')),\n",
       "                                                                                 ('legislation_encoder',\n",
       "                                                                                  OneHotEncoder(handle_unknown='ignore',\n",
       "                                                                                                sparse=False))]),\n",
       "                                                                 ['...\n",
       "                                                 FunctionTransformer(func=<function grid_to_category at 0x7fc325663598>)),\n",
       "                                                ('encode',\n",
       "                                                 TargetEncoder(cols=[0]))])),\n",
       "                               ('date',\n",
       "                                Pipeline(steps=[('extract',\n",
       "                                                 FunctionTransformer(func=<function extract_datetime_features at 0x7fc325663620>)),\n",
       "                                                ('transform',\n",
       "                                                 ColumnTransformer(transformers=[('oh_encoder',\n",
       "                                                                                  OneHotEncoder(handle_unknown='ignore',\n",
       "                                                                                                sparse=False),\n",
       "                                                                                  ['hour',\n",
       "                                                                                   'weekday']),\n",
       "                                                                                 ('scaler',\n",
       "                                                                                  StandardScaler(),\n",
       "                                                                                  ['daycount',\n",
       "                                                                                   'sqrt_daycount'])]))]))])</pre></div></div></div><div class=\"sk-parallel\"><div class=\"sk-parallel-item\"><div class=\"sk-item\"><div class=\"sk-label-container\"><div class=\"sk-label sk-toggleable\"><label>categoricals</label></div></div><div class=\"sk-serial\"><div class=\"sk-item sk-dashed-wrapped\"><div class=\"sk-parallel\"><div class=\"sk-parallel-item\"><div class=\"sk-item\"><div class=\"sk-label-container\"><div class=\"sk-label sk-toggleable\"><input class=\"sk-toggleable__control sk-hidden--visually\" id=\"d66d1c8a-a4f3-43a3-a067-2da7679b81e6\" type=\"checkbox\" ><label class=\"sk-toggleable__label\" for=\"d66d1c8a-a4f3-43a3-a067-2da7679b81e6\">operation</label><div class=\"sk-toggleable__content\"><pre>['operation']</pre></div></div></div><div class=\"sk-serial\"><div class=\"sk-item\"><div class=\"sk-estimator sk-toggleable\"><input class=\"sk-toggleable__control sk-hidden--visually\" id=\"7b3c4690-29a4-4567-b5b6-49f3484a5269\" type=\"checkbox\" ><label class=\"sk-toggleable__label\" for=\"7b3c4690-29a4-4567-b5b6-49f3484a5269\">SimpleImputer</label><div class=\"sk-toggleable__content\"><pre>SimpleImputer(fill_value=False, strategy='constant')</pre></div></div></div></div></div></div><div class=\"sk-parallel-item\"><div class=\"sk-item\"><div class=\"sk-label-container\"><div class=\"sk-label sk-toggleable\"><input class=\"sk-toggleable__control sk-hidden--visually\" id=\"2618de1a-297d-4b0c-9d09-cd7b5e216ed2\" type=\"checkbox\" ><label class=\"sk-toggleable__label\" for=\"2618de1a-297d-4b0c-9d09-cd7b5e216ed2\">legislation</label><div class=\"sk-toggleable__content\"><pre>['legislation']</pre></div></div></div><div class=\"sk-serial\"><div class=\"sk-item\"><div class=\"sk-serial\"><div class=\"sk-item\"><div class=\"sk-estimator sk-toggleable\"><input class=\"sk-toggleable__control sk-hidden--visually\" id=\"4d75fe3b-e1b9-478e-89d5-ab52fa49f8bd\" type=\"checkbox\" ><label class=\"sk-toggleable__label\" for=\"4d75fe3b-e1b9-478e-89d5-ab52fa49f8bd\">SimpleImputer</label><div class=\"sk-toggleable__content\"><pre>SimpleImputer(fill_value='unknown', strategy='constant')</pre></div></div></div><div class=\"sk-item\"><div class=\"sk-estimator sk-toggleable\"><input class=\"sk-toggleable__control sk-hidden--visually\" id=\"234c8c92-383d-45b3-a639-317cb71f2d2d\" type=\"checkbox\" ><label class=\"sk-toggleable__label\" for=\"234c8c92-383d-45b3-a639-317cb71f2d2d\">OneHotEncoder</label><div class=\"sk-toggleable__content\"><pre>OneHotEncoder(handle_unknown='ignore', sparse=False)</pre></div></div></div></div></div></div></div></div><div class=\"sk-parallel-item\"><div class=\"sk-item\"><div class=\"sk-label-container\"><div class=\"sk-label sk-toggleable\"><input class=\"sk-toggleable__control sk-hidden--visually\" id=\"8acbeb4e-b6fc-4a31-b805-c596dc0e4833\" type=\"checkbox\" ><label class=\"sk-toggleable__label\" for=\"8acbeb4e-b6fc-4a31-b805-c596dc0e4833\">cat_encoder</label><div class=\"sk-toggleable__content\"><pre>['type', 'sex', 'age', 'search_target', 'station']</pre></div></div></div><div class=\"sk-serial\"><div class=\"sk-item\"><div class=\"sk-estimator sk-toggleable\"><input class=\"sk-toggleable__control sk-hidden--visually\" id=\"c7bb0cee-81f2-4ad5-be8f-43fcc9cf71ef\" type=\"checkbox\" ><label class=\"sk-toggleable__label\" for=\"c7bb0cee-81f2-4ad5-be8f-43fcc9cf71ef\">OneHotEncoder</label><div class=\"sk-toggleable__content\"><pre>OneHotEncoder(handle_unknown='ignore', sparse=False)</pre></div></div></div></div></div></div></div></div></div></div></div><div class=\"sk-parallel-item\"><div class=\"sk-item\"><div class=\"sk-label-container\"><div class=\"sk-label sk-toggleable\"><label>location</label></div></div><div class=\"sk-serial\"><div class=\"sk-item\"><div class=\"sk-serial\"><div class=\"sk-item\"><div class=\"sk-estimator sk-toggleable\"><input class=\"sk-toggleable__control sk-hidden--visually\" id=\"7ed536cb-8192-4e7b-b1c6-9c55f4c5ce61\" type=\"checkbox\" ><label class=\"sk-toggleable__label\" for=\"7ed536cb-8192-4e7b-b1c6-9c55f4c5ce61\">FunctionTransformer</label><div class=\"sk-toggleable__content\"><pre>FunctionTransformer(func=<function fill_coordinates_with_station_means at 0x7fc325663510>)</pre></div></div></div><div class=\"sk-item\"><div class=\"sk-estimator sk-toggleable\"><input class=\"sk-toggleable__control sk-hidden--visually\" id=\"2f8324be-f8f9-420b-8535-db0ce2615411\" type=\"checkbox\" ><label class=\"sk-toggleable__label\" for=\"2f8324be-f8f9-420b-8535-db0ce2615411\">KBinsDiscretizer</label><div class=\"sk-toggleable__content\"><pre>KBinsDiscretizer(encode='ordinal', n_bins=50)</pre></div></div></div><div class=\"sk-item\"><div class=\"sk-estimator sk-toggleable\"><input class=\"sk-toggleable__control sk-hidden--visually\" id=\"317d6ce9-9e27-443c-8e31-7c500d5b0540\" type=\"checkbox\" ><label class=\"sk-toggleable__label\" for=\"317d6ce9-9e27-443c-8e31-7c500d5b0540\">FunctionTransformer</label><div class=\"sk-toggleable__content\"><pre>FunctionTransformer(func=<function grid_to_category at 0x7fc325663598>)</pre></div></div></div><div class=\"sk-item\"><div class=\"sk-estimator sk-toggleable\"><input class=\"sk-toggleable__control sk-hidden--visually\" id=\"afa22738-7266-4013-a3d5-8708504dc91a\" type=\"checkbox\" ><label class=\"sk-toggleable__label\" for=\"afa22738-7266-4013-a3d5-8708504dc91a\">TargetEncoder</label><div class=\"sk-toggleable__content\"><pre>TargetEncoder(cols=[0])</pre></div></div></div></div></div></div></div></div><div class=\"sk-parallel-item\"><div class=\"sk-item\"><div class=\"sk-label-container\"><div class=\"sk-label sk-toggleable\"><label>date</label></div></div><div class=\"sk-serial\"><div class=\"sk-item\"><div class=\"sk-serial\"><div class=\"sk-item\"><div class=\"sk-estimator sk-toggleable\"><input class=\"sk-toggleable__control sk-hidden--visually\" id=\"ca8652cc-824b-4200-841c-a060b8d75a79\" type=\"checkbox\" ><label class=\"sk-toggleable__label\" for=\"ca8652cc-824b-4200-841c-a060b8d75a79\">FunctionTransformer</label><div class=\"sk-toggleable__content\"><pre>FunctionTransformer(func=<function extract_datetime_features at 0x7fc325663620>)</pre></div></div></div><div class=\"sk-item sk-dashed-wrapped\"><div class=\"sk-label-container\"><div class=\"sk-label sk-toggleable\"><input class=\"sk-toggleable__control sk-hidden--visually\" id=\"dbccb664-7ba5-400f-8225-1e16db4eaa21\" type=\"checkbox\" ><label class=\"sk-toggleable__label\" for=\"dbccb664-7ba5-400f-8225-1e16db4eaa21\">transform: ColumnTransformer</label><div class=\"sk-toggleable__content\"><pre>ColumnTransformer(transformers=[('oh_encoder',\n",
       "                                 OneHotEncoder(handle_unknown='ignore',\n",
       "                                               sparse=False),\n",
       "                                 ['hour', 'weekday']),\n",
       "                                ('scaler', StandardScaler(),\n",
       "                                 ['daycount', 'sqrt_daycount'])])</pre></div></div></div><div class=\"sk-parallel\"><div class=\"sk-parallel-item\"><div class=\"sk-item\"><div class=\"sk-label-container\"><div class=\"sk-label sk-toggleable\"><input class=\"sk-toggleable__control sk-hidden--visually\" id=\"7a1e97f2-f21a-4129-8229-a1606a9ac44a\" type=\"checkbox\" ><label class=\"sk-toggleable__label\" for=\"7a1e97f2-f21a-4129-8229-a1606a9ac44a\">oh_encoder</label><div class=\"sk-toggleable__content\"><pre>['hour', 'weekday']</pre></div></div></div><div class=\"sk-serial\"><div class=\"sk-item\"><div class=\"sk-estimator sk-toggleable\"><input class=\"sk-toggleable__control sk-hidden--visually\" id=\"f675affc-ae4f-415d-b1ac-c8f95ca998a6\" type=\"checkbox\" ><label class=\"sk-toggleable__label\" for=\"f675affc-ae4f-415d-b1ac-c8f95ca998a6\">OneHotEncoder</label><div class=\"sk-toggleable__content\"><pre>OneHotEncoder(handle_unknown='ignore', sparse=False)</pre></div></div></div></div></div></div><div class=\"sk-parallel-item\"><div class=\"sk-item\"><div class=\"sk-label-container\"><div class=\"sk-label sk-toggleable\"><input class=\"sk-toggleable__control sk-hidden--visually\" id=\"8189caa1-2beb-4cec-a3a5-7735e90ca925\" type=\"checkbox\" ><label class=\"sk-toggleable__label\" for=\"8189caa1-2beb-4cec-a3a5-7735e90ca925\">scaler</label><div class=\"sk-toggleable__content\"><pre>['daycount', 'sqrt_daycount']</pre></div></div></div><div class=\"sk-serial\"><div class=\"sk-item\"><div class=\"sk-estimator sk-toggleable\"><input class=\"sk-toggleable__control sk-hidden--visually\" id=\"89f649df-fcbe-470c-8c11-159169473d02\" type=\"checkbox\" ><label class=\"sk-toggleable__label\" for=\"89f649df-fcbe-470c-8c11-159169473d02\">StandardScaler</label><div class=\"sk-toggleable__content\"><pre>StandardScaler()</pre></div></div></div></div></div></div></div></div></div></div></div></div></div></div></div><div class=\"sk-item\"><div class=\"sk-estimator sk-toggleable\"><input class=\"sk-toggleable__control sk-hidden--visually\" id=\"efcf948d-e249-4f2c-8dd7-7746e51b7cfb\" type=\"checkbox\" ><label class=\"sk-toggleable__label\" for=\"efcf948d-e249-4f2c-8dd7-7746e51b7cfb\">SGDClassifier</label><div class=\"sk-toggleable__content\"><pre>SGDClassifier(alpha=5.1794746792312125e-05, l1_ratio=0.19306977288832497,\n",
       "              loss='log', penalty='elasticnet', random_state=0)</pre></div></div></div></div></div></div></div>"
      ],
      "text/plain": [
       "Pipeline(steps=[('preprocess',\n",
       "                 FeatureUnion(transformer_list=[('categoricals',\n",
       "                                                 ColumnTransformer(transformers=[('operation',\n",
       "                                                                                  SimpleImputer(fill_value=False,\n",
       "                                                                                                strategy='constant'),\n",
       "                                                                                  ['operation']),\n",
       "                                                                                 ('legislation',\n",
       "                                                                                  Pipeline(steps=[('legislation_imputer',\n",
       "                                                                                                   SimpleImputer(fill_value='unknown',\n",
       "                                                                                                                 strategy='constant')),\n",
       "                                                                                                  ('legislation_encoder',\n",
       "                                                                                                   OneHotEncoder(handle_unknow...\n",
       "                                                                  FunctionTransformer(func=<function extract_datetime_features at 0x7fc325663620>)),\n",
       "                                                                 ('transform',\n",
       "                                                                  ColumnTransformer(transformers=[('oh_encoder',\n",
       "                                                                                                   OneHotEncoder(handle_unknown='ignore',\n",
       "                                                                                                                 sparse=False),\n",
       "                                                                                                   ['hour',\n",
       "                                                                                                    'weekday']),\n",
       "                                                                                                  ('scaler',\n",
       "                                                                                                   StandardScaler(),\n",
       "                                                                                                   ['daycount',\n",
       "                                                                                                    'sqrt_daycount'])]))]))])),\n",
       "                ('clf',\n",
       "                 SGDClassifier(alpha=5.1794746792312125e-05,\n",
       "                               l1_ratio=0.19306977288832497, loss='log',\n",
       "                               penalty='elasticnet', random_state=0))])"
      ]
     },
     "execution_count": 111,
     "metadata": {},
     "output_type": "execute_result"
    }
   ],
   "source": [
    "skl.set_config(display='diagram') #'text'\n",
    "pipeline_"
   ]
  },
  {
   "cell_type": "markdown",
   "id": "wrapped-concord",
   "metadata": {},
   "source": [
    "#### Analyse Results"
   ]
  },
  {
   "cell_type": "code",
   "execution_count": 13,
   "id": "higher-planet",
   "metadata": {},
   "outputs": [],
   "source": [
    "# import joblib\n",
    "# pipeline_ = joblib.load('../models/pipeline.pickle')"
   ]
  },
  {
   "cell_type": "markdown",
   "id": "statistical-cycling",
   "metadata": {},
   "source": [
    "##### Success metrics"
   ]
  },
  {
   "cell_type": "code",
   "execution_count": 121,
   "id": "fifty-register",
   "metadata": {},
   "outputs": [
    {
     "data": {
      "text/html": [
       "<div>\n",
       "<style scoped>\n",
       "    .dataframe tbody tr th:only-of-type {\n",
       "        vertical-align: middle;\n",
       "    }\n",
       "\n",
       "    .dataframe tbody tr th {\n",
       "        vertical-align: top;\n",
       "    }\n",
       "\n",
       "    .dataframe thead th {\n",
       "        text-align: right;\n",
       "    }\n",
       "</style>\n",
       "<table border=\"1\" class=\"dataframe\">\n",
       "  <thead>\n",
       "    <tr style=\"text-align: right;\">\n",
       "      <th></th>\n",
       "      <th>Model</th>\n",
       "      <th>Benchmark</th>\n",
       "      <th>Target</th>\n",
       "    </tr>\n",
       "  </thead>\n",
       "  <tbody>\n",
       "    <tr>\n",
       "      <th>Search precision</th>\n",
       "      <td>0.24</td>\n",
       "      <td>0.2014</td>\n",
       "      <td>-</td>\n",
       "    </tr>\n",
       "    <tr>\n",
       "      <th>Maximum difference in precision between ethnicity-gender-subgroups within stations</th>\n",
       "      <td>0.2913</td>\n",
       "      <td>0.24</td>\n",
       "      <td>0.05</td>\n",
       "    </tr>\n",
       "    <tr>\n",
       "      <th>Maximum difference in precision between stations</th>\n",
       "      <td>0.1988</td>\n",
       "      <td>0.3602</td>\n",
       "      <td>0.1</td>\n",
       "    </tr>\n",
       "    <tr>\n",
       "      <th>Maximum difference in precision between ethnicity-gender-subgroups</th>\n",
       "      <td>0.05109</td>\n",
       "      <td>0.04013</td>\n",
       "      <td>0.05</td>\n",
       "    </tr>\n",
       "  </tbody>\n",
       "</table>\n",
       "</div>"
      ],
      "text/plain": [
       "                                                      Model Benchmark Target\n",
       "Search precision                                       0.24    0.2014      -\n",
       "Maximum difference in precision between ethnici...   0.2913      0.24   0.05\n",
       "Maximum difference in precision between stations     0.1988    0.3602    0.1\n",
       "Maximum difference in precision between ethnici...  0.05109   0.04013   0.05"
      ]
     },
     "execution_count": 121,
     "metadata": {},
     "output_type": "execute_result"
    }
   ],
   "source": [
    "# set up\n",
    "df_results = pd.DataFrame(index=['Search precision',\n",
    "                                 'Maximum difference in precision between ethnicity-gender-subgroups within stations',\n",
    "                                 'Maximum difference in precision between stations',\n",
    "                                 'Maximum difference in precision between ethnicity-gender-subgroups'],\n",
    "                          columns=['Model', 'Benchmark', 'Target'])\n",
    "\n",
    "# pipeline\n",
    "authorised = src.evaluate.authorise_search(pipeline_, X)\n",
    "df_results.iat[0, 0] = precision_score(y, authorised)\n",
    "df_results.iat[1, 0] = src.evaluate.within_station_discrepancy(authorised, y, X).max()\n",
    "df_results.iat[2, 0] = src.evaluate.across_station_discrepancy(authorised, y, X)\n",
    "df_results.iat[3, 0] = src.evaluate.across_subgroup_discrepancy(authorised, y, X)\n",
    "\n",
    "# evaluate benchmark\n",
    "df_results.iat[0, 1] = precision_score(y, np.ones(y.shape))\n",
    "df_results.iat[1, 1] = src.evaluate.within_station_discrepancy(np.ones(y.shape), y, X).max()\n",
    "df_results.iat[2, 1] = src.evaluate.across_station_discrepancy(np.ones(y.shape), y, X)\n",
    "df_results.iat[3, 1] = src.evaluate.across_subgroup_discrepancy(np.ones(y.shape), y, X)\n",
    "\n",
    "# targets\n",
    "df_results.iat[0, 2] = '-'\n",
    "df_results.iat[1, 2] = 0.05\n",
    "df_results.iat[2, 2] = 0.1\n",
    "df_results.iat[3, 2] = 0.05\n",
    "\n",
    "df_results"
   ]
  },
  {
   "cell_type": "markdown",
   "id": "certain-routine",
   "metadata": {},
   "source": [
    "##### Confusion Matrix"
   ]
  },
  {
   "cell_type": "code",
   "execution_count": 113,
   "id": "digital-standard",
   "metadata": {},
   "outputs": [
    {
     "data": {
      "text/html": [
       "<div>\n",
       "<style scoped>\n",
       "    .dataframe tbody tr th:only-of-type {\n",
       "        vertical-align: middle;\n",
       "    }\n",
       "\n",
       "    .dataframe tbody tr th {\n",
       "        vertical-align: top;\n",
       "    }\n",
       "\n",
       "    .dataframe thead tr th {\n",
       "        text-align: left;\n",
       "    }\n",
       "</style>\n",
       "<table border=\"1\" class=\"dataframe\">\n",
       "  <thead>\n",
       "    <tr>\n",
       "      <th></th>\n",
       "      <th></th>\n",
       "      <th colspan=\"2\" halign=\"left\">Predicted outcome</th>\n",
       "    </tr>\n",
       "    <tr>\n",
       "      <th></th>\n",
       "      <th></th>\n",
       "      <th>no succes</th>\n",
       "      <th>success</th>\n",
       "    </tr>\n",
       "  </thead>\n",
       "  <tbody>\n",
       "    <tr>\n",
       "      <th rowspan=\"2\" valign=\"top\">True outcome</th>\n",
       "      <th>no succes</th>\n",
       "      <td>63651</td>\n",
       "      <td>183380</td>\n",
       "    </tr>\n",
       "    <tr>\n",
       "      <th>success</th>\n",
       "      <td>4369</td>\n",
       "      <td>57917</td>\n",
       "    </tr>\n",
       "  </tbody>\n",
       "</table>\n",
       "</div>"
      ],
      "text/plain": [
       "                       Predicted outcome        \n",
       "                               no succes success\n",
       "True outcome no succes             63651  183380\n",
       "             success                4369   57917"
      ]
     },
     "execution_count": 113,
     "metadata": {},
     "output_type": "execute_result"
    }
   ],
   "source": [
    "authorised = src.evaluate.authorise_search(pipeline_, X)\n",
    "pd.DataFrame(confusion_matrix(y, authorised),\n",
    "             index=pd.MultiIndex.from_product([['True outcome'], ['no succes', 'success']]),\n",
    "             columns=pd.MultiIndex.from_product([['Predicted outcome'], ['no succes', 'success']]),\n",
    "            )"
   ]
  },
  {
   "cell_type": "markdown",
   "id": "coupled-august",
   "metadata": {},
   "source": [
    "##### Fairness"
   ]
  },
  {
   "cell_type": "code",
   "execution_count": 114,
   "id": "afraid-headline",
   "metadata": {},
   "outputs": [
    {
     "data": {
      "text/html": [
       "<div>\n",
       "<style scoped>\n",
       "    .dataframe tbody tr th:only-of-type {\n",
       "        vertical-align: middle;\n",
       "    }\n",
       "\n",
       "    .dataframe tbody tr th {\n",
       "        vertical-align: top;\n",
       "    }\n",
       "\n",
       "    .dataframe thead th {\n",
       "        text-align: right;\n",
       "    }\n",
       "</style>\n",
       "<table border=\"1\" class=\"dataframe\">\n",
       "  <thead>\n",
       "    <tr style=\"text-align: right;\">\n",
       "      <th>gender</th>\n",
       "      <th>Female</th>\n",
       "      <th>Male</th>\n",
       "    </tr>\n",
       "    <tr>\n",
       "      <th>ethnicity</th>\n",
       "      <th></th>\n",
       "      <th></th>\n",
       "    </tr>\n",
       "  </thead>\n",
       "  <tbody>\n",
       "    <tr>\n",
       "      <th>Asian</th>\n",
       "      <td>0.2249</td>\n",
       "      <td>0.2417</td>\n",
       "    </tr>\n",
       "    <tr>\n",
       "      <th>Black</th>\n",
       "      <td>0.2240</td>\n",
       "      <td>0.2468</td>\n",
       "    </tr>\n",
       "    <tr>\n",
       "      <th>Mixed</th>\n",
       "      <td>0.2042</td>\n",
       "      <td>0.2530</td>\n",
       "    </tr>\n",
       "    <tr>\n",
       "      <th>Other</th>\n",
       "      <td>0.2553</td>\n",
       "      <td>0.2535</td>\n",
       "    </tr>\n",
       "    <tr>\n",
       "      <th>White</th>\n",
       "      <td>0.2057</td>\n",
       "      <td>0.2434</td>\n",
       "    </tr>\n",
       "  </tbody>\n",
       "</table>\n",
       "</div>"
      ],
      "text/plain": [
       "gender     Female    Male\n",
       "ethnicity                \n",
       "Asian      0.2249  0.2417\n",
       "Black      0.2240  0.2468\n",
       "Mixed      0.2042  0.2530\n",
       "Other      0.2553  0.2535\n",
       "White      0.2057  0.2434"
      ]
     },
     "execution_count": 114,
     "metadata": {},
     "output_type": "execute_result"
    }
   ],
   "source": [
    "src.evaluate.calculate_subgroup_precisions(authorised, y, X, grouping=['ethnicity', 'gender']).unstack()"
   ]
  },
  {
   "cell_type": "code",
   "execution_count": 115,
   "id": "coastal-amsterdam",
   "metadata": {},
   "outputs": [
    {
     "data": {
      "text/html": [
       "<div>\n",
       "<style scoped>\n",
       "    .dataframe tbody tr th:only-of-type {\n",
       "        vertical-align: middle;\n",
       "    }\n",
       "\n",
       "    .dataframe tbody tr th {\n",
       "        vertical-align: top;\n",
       "    }\n",
       "\n",
       "    .dataframe thead th {\n",
       "        text-align: right;\n",
       "    }\n",
       "</style>\n",
       "<table border=\"1\" class=\"dataframe\">\n",
       "  <thead>\n",
       "    <tr style=\"text-align: right;\">\n",
       "      <th>gender</th>\n",
       "      <th>Female</th>\n",
       "      <th>Male</th>\n",
       "    </tr>\n",
       "    <tr>\n",
       "      <th>ethnicity</th>\n",
       "      <th></th>\n",
       "      <th></th>\n",
       "    </tr>\n",
       "  </thead>\n",
       "  <tbody>\n",
       "    <tr>\n",
       "      <th>Asian</th>\n",
       "      <td>0.1936</td>\n",
       "      <td>0.2006</td>\n",
       "    </tr>\n",
       "    <tr>\n",
       "      <th>Black</th>\n",
       "      <td>0.1991</td>\n",
       "      <td>0.2076</td>\n",
       "    </tr>\n",
       "    <tr>\n",
       "      <th>Mixed</th>\n",
       "      <td>0.1864</td>\n",
       "      <td>0.2119</td>\n",
       "    </tr>\n",
       "    <tr>\n",
       "      <th>Other</th>\n",
       "      <td>0.2194</td>\n",
       "      <td>0.2126</td>\n",
       "    </tr>\n",
       "    <tr>\n",
       "      <th>White</th>\n",
       "      <td>0.1793</td>\n",
       "      <td>0.2031</td>\n",
       "    </tr>\n",
       "  </tbody>\n",
       "</table>\n",
       "</div>"
      ],
      "text/plain": [
       "gender     Female    Male\n",
       "ethnicity                \n",
       "Asian      0.1936  0.2006\n",
       "Black      0.1991  0.2076\n",
       "Mixed      0.1864  0.2119\n",
       "Other      0.2194  0.2126\n",
       "White      0.1793  0.2031"
      ]
     },
     "execution_count": 115,
     "metadata": {},
     "output_type": "execute_result"
    }
   ],
   "source": [
    "src.evaluate.calculate_subgroup_precisions(np.ones(y.shape), y, X, grouping=['ethnicity', 'gender']).unstack()"
   ]
  },
  {
   "cell_type": "code",
   "execution_count": 117,
   "id": "foster-lodging",
   "metadata": {},
   "outputs": [
    {
     "data": {
      "image/png": "[encoded data removed]",
      "text/plain": [
       "<Figure size 1224x216 with 1 Axes>"
      ]
     },
     "metadata": {},
     "output_type": "display_data"
    }
   ],
   "source": [
    "fig, ax = plt.subplots(1, 1, figsize=(17,3))\n",
    "\n",
    "ax.set_title('Search precision by station')\n",
    "ax.bar(x=np.arange(0, 42, 1), height=src.evaluate.calculate_subgroup_precisions(authorised, y, X, grouping=['station']), label='Model')\n",
    "ax.scatter(x=np.arange(0, 42, 1), y=src.evaluate.calculate_subgroup_precisions(np.ones(y.shape), y, X, grouping=['station']), zorder=10, label='Benchmark', marker='_', s=100)\n",
    "ax.axhline(precision_score(y, np.ones(y.shape)), linewidth=2, linestyle='--', c='k', label='Average')\n",
    "ax.set_xticks(np.arange(0, 42, 1))\n",
    "ax.set_xticklabels(src.evaluate.calculate_subgroup_precisions(authorised, y, X, grouping=['station']).index, rotation=90)\n",
    "ax.legend(bbox_to_anchor=(1.1, 0.5), ncol=1)\n",
    "\n",
    "plt.show()\n",
    "\n",
    "#fig.savefig('../reports/figures/staions_precision.jpg', dpi=300, bbox_inches='tight')"
   ]
  },
  {
   "cell_type": "markdown",
   "id": "suburban-blood",
   "metadata": {},
   "source": [
    "### Serialise"
   ]
  },
  {
   "cell_type": "code",
   "execution_count": 118,
   "id": "liable-punishment",
   "metadata": {},
   "outputs": [],
   "source": [
    "import json\n",
    "import pickle\n",
    "import joblib"
   ]
  },
  {
   "cell_type": "code",
   "execution_count": 31,
   "id": "beautiful-kazakhstan",
   "metadata": {},
   "outputs": [
    {
     "data": {
      "text/plain": [
       "['../deploy/pipeline.pickle']"
      ]
     },
     "execution_count": 31,
     "metadata": {},
     "output_type": "execute_result"
    }
   ],
   "source": [
    "# serialise\n",
    "with open('../deploy/columns.json', 'w') as fh:\n",
    "    json.dump(X.columns.tolist(), fh)\n",
    "    \n",
    "with open('../deploy/dtypes.pickle', 'wb') as fh:\n",
    "    pickle.dump(X.dtypes, fh)\n",
    "\n",
    "joblib.dump(pipeline_, '../models/pipeline.pickle')\n",
    "\n",
    "joblib.dump(pipeline_, '../deploy/pipeline.pickle')"
   ]
  }
 ],
 "metadata": {
  "kernelspec": {
   "display_name": "Python 3",
   "language": "python",
   "name": "python3"
  },
  "language_info": {
   "codemirror_mode": {
    "name": "ipython",
    "version": 3
   },
   "file_extension": ".py",
   "mimetype": "text/x-python",
   "name": "python",
   "nbconvert_exporter": "python",
   "pygments_lexer": "ipython3",
   "version": "3.6.9"
  }
 },
 "nbformat": 4,
 "nbformat_minor": 5
}
