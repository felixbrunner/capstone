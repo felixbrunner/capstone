{
 "cells": [
  {
   "cell_type": "markdown",
   "id": "opponent-hostel",
   "metadata": {},
   "source": [
    "# 03 - Modeling"
   ]
  },
  {
   "cell_type": "markdown",
   "id": "defensive-candle",
   "metadata": {},
   "source": [
    "## Imports"
   ]
  },
  {
   "cell_type": "code",
   "execution_count": 1,
   "id": "indian-ground",
   "metadata": {},
   "outputs": [],
   "source": [
    "%load_ext autoreload\n",
    "%autoreload 2"
   ]
  },
  {
   "cell_type": "code",
   "execution_count": 2,
   "id": "breathing-appeal",
   "metadata": {},
   "outputs": [],
   "source": [
    "import numpy as np\n",
    "import pandas as pd\n",
    "import sklearn as skl\n",
    "import matplotlib.pyplot as plt\n",
    "import seaborn as sns\n",
    "import pandas_profiling as pp\n",
    "import time"
   ]
  },
  {
   "cell_type": "code",
   "execution_count": 3,
   "id": "super-biotechnology",
   "metadata": {},
   "outputs": [],
   "source": [
    "import sys\n",
    "sys.path.append('../')\n",
    "\n",
    "import src"
   ]
  },
  {
   "cell_type": "code",
   "execution_count": 4,
   "id": "organizational-excitement",
   "metadata": {},
   "outputs": [],
   "source": [
    "plt.style.use('fivethirtyeight')"
   ]
  },
  {
   "cell_type": "markdown",
   "id": "acceptable-exchange",
   "metadata": {},
   "source": [
    "## Prepare data"
   ]
  },
  {
   "cell_type": "code",
   "execution_count": 5,
   "id": "velvet-gnome",
   "metadata": {},
   "outputs": [],
   "source": [
    "df = pd.read_pickle('../data/training.pickle')"
   ]
  },
  {
   "cell_type": "code",
   "execution_count": 6,
   "id": "several-contest",
   "metadata": {},
   "outputs": [
    {
     "data": {
      "text/html": [
       "<div>\n",
       "<style scoped>\n",
       "    .dataframe tbody tr th:only-of-type {\n",
       "        vertical-align: middle;\n",
       "    }\n",
       "\n",
       "    .dataframe tbody tr th {\n",
       "        vertical-align: top;\n",
       "    }\n",
       "\n",
       "    .dataframe thead th {\n",
       "        text-align: right;\n",
       "    }\n",
       "</style>\n",
       "<table border=\"1\" class=\"dataframe\">\n",
       "  <thead>\n",
       "    <tr style=\"text-align: right;\">\n",
       "      <th></th>\n",
       "      <th>type</th>\n",
       "      <th>date</th>\n",
       "      <th>operation</th>\n",
       "      <th>lat</th>\n",
       "      <th>long</th>\n",
       "      <th>sex</th>\n",
       "      <th>age</th>\n",
       "      <th>ethnicity_self</th>\n",
       "      <th>ethnicity_officer</th>\n",
       "      <th>legislation</th>\n",
       "      <th>search_target</th>\n",
       "      <th>outcome</th>\n",
       "      <th>found_target</th>\n",
       "      <th>stripped</th>\n",
       "      <th>station</th>\n",
       "      <th>offense</th>\n",
       "      <th>success</th>\n",
       "    </tr>\n",
       "    <tr>\n",
       "      <th>observation_id</th>\n",
       "      <th></th>\n",
       "      <th></th>\n",
       "      <th></th>\n",
       "      <th></th>\n",
       "      <th></th>\n",
       "      <th></th>\n",
       "      <th></th>\n",
       "      <th></th>\n",
       "      <th></th>\n",
       "      <th></th>\n",
       "      <th></th>\n",
       "      <th></th>\n",
       "      <th></th>\n",
       "      <th></th>\n",
       "      <th></th>\n",
       "      <th></th>\n",
       "      <th></th>\n",
       "    </tr>\n",
       "  </thead>\n",
       "  <tbody>\n",
       "    <tr>\n",
       "      <th>d62c9e35-6293-45fc-aab6-706bdac1601e</th>\n",
       "      <td>Person search</td>\n",
       "      <td>2017-12-01 00:00:00+00:00</td>\n",
       "      <td>False</td>\n",
       "      <td>50.923411</td>\n",
       "      <td>-0.461108</td>\n",
       "      <td>Male</td>\n",
       "      <td>18-24</td>\n",
       "      <td>White - English/Welsh/Scottish/Northern Irish/...</td>\n",
       "      <td>White</td>\n",
       "      <td>Misuse of Drugs Act 1971 (section 23)</td>\n",
       "      <td>Controlled drugs</td>\n",
       "      <td>Offender given drugs possession warning</td>\n",
       "      <td>False</td>\n",
       "      <td>False</td>\n",
       "      <td>sussex</td>\n",
       "      <td>True</td>\n",
       "      <td>False</td>\n",
       "    </tr>\n",
       "  </tbody>\n",
       "</table>\n",
       "</div>"
      ],
      "text/plain": [
       "                                               type                      date  \\\n",
       "observation_id                                                                  \n",
       "d62c9e35-6293-45fc-aab6-706bdac1601e  Person search 2017-12-01 00:00:00+00:00   \n",
       "\n",
       "                                     operation        lat      long   sex  \\\n",
       "observation_id                                                              \n",
       "d62c9e35-6293-45fc-aab6-706bdac1601e     False  50.923411 -0.461108  Male   \n",
       "\n",
       "                                        age  \\\n",
       "observation_id                                \n",
       "d62c9e35-6293-45fc-aab6-706bdac1601e  18-24   \n",
       "\n",
       "                                                                         ethnicity_self  \\\n",
       "observation_id                                                                            \n",
       "d62c9e35-6293-45fc-aab6-706bdac1601e  White - English/Welsh/Scottish/Northern Irish/...   \n",
       "\n",
       "                                     ethnicity_officer  \\\n",
       "observation_id                                           \n",
       "d62c9e35-6293-45fc-aab6-706bdac1601e             White   \n",
       "\n",
       "                                                                legislation  \\\n",
       "observation_id                                                                \n",
       "d62c9e35-6293-45fc-aab6-706bdac1601e  Misuse of Drugs Act 1971 (section 23)   \n",
       "\n",
       "                                         search_target  \\\n",
       "observation_id                                           \n",
       "d62c9e35-6293-45fc-aab6-706bdac1601e  Controlled drugs   \n",
       "\n",
       "                                                                      outcome  \\\n",
       "observation_id                                                                  \n",
       "d62c9e35-6293-45fc-aab6-706bdac1601e  Offender given drugs possession warning   \n",
       "\n",
       "                                      found_target stripped station  offense  \\\n",
       "observation_id                                                                 \n",
       "d62c9e35-6293-45fc-aab6-706bdac1601e         False    False  sussex     True   \n",
       "\n",
       "                                      success  \n",
       "observation_id                                 \n",
       "d62c9e35-6293-45fc-aab6-706bdac1601e    False  "
      ]
     },
     "execution_count": 6,
     "metadata": {},
     "output_type": "execute_result"
    }
   ],
   "source": [
    "df.head(1)"
   ]
  },
  {
   "cell_type": "markdown",
   "id": "concrete-gnome",
   "metadata": {},
   "source": [
    "#### Drop metropolitan station from dataset"
   ]
  },
  {
   "cell_type": "code",
   "execution_count": 7,
   "id": "greenhouse-length",
   "metadata": {},
   "outputs": [],
   "source": [
    "df = df[df.station!='metropolitan']"
   ]
  },
  {
   "cell_type": "markdown",
   "id": "other-hygiene",
   "metadata": {},
   "source": [
    "#### Select relevant columns"
   ]
  },
  {
   "cell_type": "markdown",
   "id": "answering-swing",
   "metadata": {},
   "source": [
    "Requests will have the following format:\n",
    "```\n",
    "[\"observation_id\": <string>,\n",
    " \"Type\": <string>,\n",
    " \"Date\": <string>,\n",
    " \"Part of a policing operation\": <boolean>,\n",
    " \"Latitude\": <float>,\n",
    " \"Longitude\": <float>,\n",
    " \"Gender\": <string>,\n",
    " \"Age range\": <string>,\n",
    " \"Officer-defined ethnicity\": <string>,\n",
    " \"Legislation\": <string>,\n",
    " \"Object of search\": <string>,\n",
    " \"station\": <string>]\n",
    " '''\n"
   ]
  },
  {
   "cell_type": "code",
   "execution_count": 8,
   "id": "judicial-jacket",
   "metadata": {},
   "outputs": [],
   "source": [
    "supplied_columns = ['type', 'date', 'operation', 'lat', 'long', 'sex', 'age', 'ethnicity_officer', 'legislation', 'search_target', 'station']"
   ]
  },
  {
   "cell_type": "code",
   "execution_count": 9,
   "id": "nonprofit-dance",
   "metadata": {},
   "outputs": [],
   "source": [
    "X = df[supplied_columns]\n",
    "y = df.success.values"
   ]
  },
  {
   "cell_type": "markdown",
   "id": "simple-functionality",
   "metadata": {},
   "source": [
    "### Processed Data Profile"
   ]
  },
  {
   "cell_type": "code",
   "execution_count": 11,
   "id": "activated-species",
   "metadata": {},
   "outputs": [
    {
     "data": {
      "application/vnd.jupyter.widget-view+json": {
       "model_id": "76311b558b9d43149d590295f0d37062",
       "version_major": 2,
       "version_minor": 0
      },
      "text/plain": [
       "Summarize dataset:   0%|          | 0/25 [00:00<?, ?it/s]"
      ]
     },
     "metadata": {},
     "output_type": "display_data"
    },
    {
     "data": {
      "application/vnd.jupyter.widget-view+json": {
       "model_id": "5d2ac76d14a14ec4aee5244cc00a5fe5",
       "version_major": 2,
       "version_minor": 0
      },
      "text/plain": [
       "Generate report structure:   0%|          | 0/1 [00:00<?, ?it/s]"
      ]
     },
     "metadata": {},
     "output_type": "display_data"
    },
    {
     "data": {
      "application/vnd.jupyter.widget-view+json": {
       "model_id": "9f996f651e0940648b7dbebdfdc2ec76",
       "version_major": 2,
       "version_minor": 0
      },
      "text/plain": [
       "Render HTML:   0%|          | 0/1 [00:00<?, ?it/s]"
      ]
     },
     "metadata": {},
     "output_type": "display_data"
    },
    {
     "data": {
      "application/vnd.jupyter.widget-view+json": {
       "model_id": "6a463adc80ab4465a05fe6cba63dcaa0",
       "version_major": 2,
       "version_minor": 0
      },
      "text/plain": [
       "Export report to file:   0%|          | 0/1 [00:00<?, ?it/s]"
      ]
     },
     "metadata": {},
     "output_type": "display_data"
    }
   ],
   "source": [
    "profile = pp.ProfileReport(X, title='Training Data Profiling Report', explorative=False, minimal=False, pool_size=0, progress_bar=True)\n",
    "profile.to_file('../reports/profiling/processed_profile.html')"
   ]
  },
  {
   "cell_type": "markdown",
   "id": "nearby-resort",
   "metadata": {},
   "source": [
    "## Pipeline"
   ]
  },
  {
   "cell_type": "code",
   "execution_count": 10,
   "id": "disabled-notebook",
   "metadata": {},
   "outputs": [],
   "source": [
    "from sklearn.impute import SimpleImputer\n",
    "from sklearn.compose import ColumnTransformer\n",
    "from sklearn.preprocessing import OneHotEncoder, FunctionTransformer, KBinsDiscretizer, StandardScaler\n",
    "from sklearn.pipeline import Pipeline, FeatureUnion\n",
    "from category_encoders.target_encoder import TargetEncoder\n",
    "\n",
    "import datetime as dt"
   ]
  },
  {
   "cell_type": "markdown",
   "id": "final-romantic",
   "metadata": {},
   "source": [
    "### Preprocessing\n",
    "#### Categorical Features"
   ]
  },
  {
   "cell_type": "markdown",
   "id": "computational-wonder",
   "metadata": {},
   "source": [
    "##### Assume searches with missing operation field did not happen as part of policing operation."
   ]
  },
  {
   "cell_type": "code",
   "execution_count": 11,
   "id": "spread-latest",
   "metadata": {},
   "outputs": [],
   "source": [
    "# df.operation = df.operation.fillna(False)\n",
    "operation_imputer = SimpleImputer(strategy='constant', fill_value=False)"
   ]
  },
  {
   "cell_type": "markdown",
   "id": "liable-wisconsin",
   "metadata": {},
   "source": [
    "##### Replace missing legislations with 'unknown', then one-hot-encode column."
   ]
  },
  {
   "cell_type": "code",
   "execution_count": 12,
   "id": "outdoor-planner",
   "metadata": {},
   "outputs": [],
   "source": [
    "# df.legislation = df.legislation.astype('str').fillna('unknown').astype('category')\n",
    "legislation_imputer = SimpleImputer(strategy='constant', fill_value='unknown')\n",
    "legislation_encoder = OneHotEncoder(handle_unknown='ignore', sparse=False)\n",
    "legislation_preprocessor = Pipeline(steps=[('legislation_imputer', legislation_imputer),\n",
    "                                           ('legislation_encoder', legislation_encoder)])"
   ]
  },
  {
   "cell_type": "markdown",
   "id": "inclusive-depth",
   "metadata": {},
   "source": [
    "##### One-hot-encode categorical features"
   ]
  },
  {
   "cell_type": "code",
   "execution_count": 13,
   "id": "operational-contact",
   "metadata": {},
   "outputs": [],
   "source": [
    "# categoricals = X.select_dtypes(['category']).columns.tolist()\n",
    "# categoricals.remove('legislation') # feature is already dealt with\n",
    "# categoricals.remove('ethnicity_officer') # will not use this feature to avoid discrimination\n",
    "\n",
    "categoricals = ['type', 'sex', 'age', 'search_target', 'station']\n",
    "oh_encoder = OneHotEncoder(handle_unknown='ignore', sparse=False)"
   ]
  },
  {
   "cell_type": "markdown",
   "id": "convenient-export",
   "metadata": {},
   "source": [
    "##### Combine categorical preprocessing steps"
   ]
  },
  {
   "cell_type": "code",
   "execution_count": 14,
   "id": "antique-angel",
   "metadata": {},
   "outputs": [],
   "source": [
    "cat_preprocessor = ColumnTransformer(transformers=[('operation', operation_imputer, ['operation']),\n",
    "                                                   ('legislation', legislation_preprocessor, ['legislation']),\n",
    "                                                   ('cat_encoder', oh_encoder, categoricals)],\n",
    "                                     remainder='drop')"
   ]
  },
  {
   "cell_type": "markdown",
   "id": "arranged-brass",
   "metadata": {},
   "source": [
    "#### Coordinate Features"
   ]
  },
  {
   "cell_type": "markdown",
   "id": "respective-hanging",
   "metadata": {},
   "source": [
    "##### Fill missing coordinate data with station means"
   ]
  },
  {
   "cell_type": "code",
   "execution_count": 15,
   "id": "broke-seating",
   "metadata": {},
   "outputs": [],
   "source": [
    "#coordinate_dict = X.groupby('station')[['lat', 'long']].mean().fillna(X.mean()).to_dict()\n",
    "coordinate_dict = \\\n",
    "{'lat': {'avon-and-somerset': 51.33301534853675,\n",
    "  'bedfordshire': 51.99520005035238,\n",
    "  'btp': 52.04498213727202,\n",
    "  'cambridgeshire': 52.401295645642094,\n",
    "  'cheshire': 53.27243561712015,\n",
    "  'city-of-london': 51.515283227020134,\n",
    "  'cleveland': 54.581267715107955,\n",
    "  'cumbria': 54.53797709350655,\n",
    "  'derbyshire': 53.01032026513161,\n",
    "  'devon-and-cornwall': 50.53555175443321,\n",
    "  'dorset': 50.71701186632197,\n",
    "  'durham': 54.68330272246215,\n",
    "  'dyfed-powys': 52.06194421428571,\n",
    "  'essex': 51.72007429847026,\n",
    "  'gloucestershire': 51.84977152248181,\n",
    "  'greater-manchester': 53.47859898644197,\n",
    "  'gwent': 51.60761234256556,\n",
    "  'hampshire': 50.93652569163378,\n",
    "  'hertfordshire': 51.76037049985289,\n",
    "  'humberside': 53.48481868431375,\n",
    "  'kent': 51.374468082246494,\n",
    "  'lancashire': 53.78500562755108,\n",
    "  'leicestershire': 52.65751631679406,\n",
    "  'lincolnshire': 53.10683554523824,\n",
    "  'merseyside': 53.436241618732225,\n",
    "  'metropolitan': 52.515362957924715,\n",
    "  'norfolk': 52.64006103976567,\n",
    "  'north-wales': 53.17569351116731,\n",
    "  'north-yorkshire': 54.041700087409595,\n",
    "  'northamptonshire': 52.29232862938288,\n",
    "  'northumbria': 54.98786282962144,\n",
    "  'nottinghamshire': 52.98302869082842,\n",
    "  'south-yorkshire': 52.515362957924715,\n",
    "  'staffordshire': 52.87808759739836,\n",
    "  'suffolk': 52.139193867362344,\n",
    "  'surrey': 51.32796300224013,\n",
    "  'sussex': 50.90980622282589,\n",
    "  'thames-valley': 51.69650944703028,\n",
    "  'warwickshire': 52.36734886374945,\n",
    "  'west-mercia': 52.413887931124385,\n",
    "  'west-yorkshire': 53.77299550808837,\n",
    "  'wiltshire': 51.37899916477772},\n",
    " 'long': {'avon-and-somerset': -2.6959433559473505,\n",
    "  'bedfordshire': -0.4249400266868079,\n",
    "  'btp': -0.7715286391456624,\n",
    "  'cambridgeshire': -0.04725813646789005,\n",
    "  'cheshire': -2.6387643686903965,\n",
    "  'city-of-london': -0.0896220290722526,\n",
    "  'cleveland': -1.2457966712230222,\n",
    "  'cumbria': -3.136673164935065,\n",
    "  'derbyshire': -1.4773875202376467,\n",
    "  'devon-and-cornwall': -4.066873729177866,\n",
    "  'dorset': -2.0917077684638166,\n",
    "  'durham': -1.594638016918649,\n",
    "  'dyfed-powys': -4.084971542857141,\n",
    "  'essex': 0.538986324416861,\n",
    "  'gloucestershire': -2.188883543046356,\n",
    "  'greater-manchester': -2.248505129745514,\n",
    "  'gwent': -3.0290781326530665,\n",
    "  'hampshire': -1.1898053439685032,\n",
    "  'hertfordshire': -0.2575871883632099,\n",
    "  'humberside': -0.4107479908496726,\n",
    "  'kent': 0.5604151309456336,\n",
    "  'lancashire': -2.7154059084062276,\n",
    "  'leicestershire': -1.1627258218159886,\n",
    "  'lincolnshire': -0.35191183908730256,\n",
    "  'merseyside': -2.9378837346396676,\n",
    "  'metropolitan': -1.3420896304429029,\n",
    "  'norfolk': 1.1136251113436533,\n",
    "  'north-wales': -3.5303938708385822,\n",
    "  'north-yorkshire': -1.1725005511775388,\n",
    "  'northamptonshire': -0.8297320040567943,\n",
    "  'northumbria': -1.5853070855440516,\n",
    "  'nottinghamshire': -1.1530782153432024,\n",
    "  'south-yorkshire': -1.3420896304429029,\n",
    "  'staffordshire': -2.0221622171637286,\n",
    "  'suffolk': 1.0365897135618494,\n",
    "  'surrey': -0.4413027473143175,\n",
    "  'sussex': -0.16365491495299755,\n",
    "  'thames-valley': -0.9660928864365886,\n",
    "  'warwickshire': -1.4958054560654521,\n",
    "  'west-mercia': -2.3846032813072715,\n",
    "  'west-yorkshire': -1.6477957410954118,\n",
    "  'wiltshire': -1.9166443269398472}}"
   ]
  },
  {
   "cell_type": "code",
   "execution_count": 16,
   "id": "delayed-conducting",
   "metadata": {},
   "outputs": [],
   "source": [
    "coordinate_imputer = FunctionTransformer(src.modeling.fill_coordinates_with_station_means)\n",
    "coordinate_discretizer = KBinsDiscretizer(n_bins=50, encode='ordinal')\n",
    "coordinate_categorizer = FunctionTransformer(src.modeling.grid_to_category)\n",
    "coordinate_encoder = TargetEncoder(cols=None, handle_missing='value', handle_unknown='value')"
   ]
  },
  {
   "cell_type": "code",
   "execution_count": 17,
   "id": "worse-burlington",
   "metadata": {},
   "outputs": [],
   "source": [
    "coordinate_preprocessor = Pipeline(steps=[('fill_means', coordinate_imputer),\n",
    "                                          ('discretize', coordinate_discretizer),\n",
    "                                          ('categorizer', coordinate_categorizer),\n",
    "                                          ('encode', coordinate_encoder),\n",
    "                                         ])"
   ]
  },
  {
   "cell_type": "markdown",
   "id": "herbal-bowling",
   "metadata": {},
   "source": [
    "#### Datetime features"
   ]
  },
  {
   "cell_type": "code",
   "execution_count": 18,
   "id": "adult-crossing",
   "metadata": {},
   "outputs": [],
   "source": [
    "date_extractor = FunctionTransformer(src.modeling.extract_datetime_features)\n",
    "date_encoder = OneHotEncoder(handle_unknown='ignore', sparse=False)\n",
    "date_scaler = StandardScaler()"
   ]
  },
  {
   "cell_type": "code",
   "execution_count": 19,
   "id": "characteristic-owner",
   "metadata": {},
   "outputs": [],
   "source": [
    "date_transformer = ColumnTransformer(transformers=[('oh_encoder', date_encoder, ['hour', 'weekday']),\n",
    "                                                   ('scaler', date_scaler, ['daycount', 'sqrt_daycount']),\n",
    "                                                  ])"
   ]
  },
  {
   "cell_type": "code",
   "execution_count": 20,
   "id": "caring-specific",
   "metadata": {},
   "outputs": [],
   "source": [
    "date_preprocessor = Pipeline(steps=[('extract', date_extractor),\n",
    "                                    ('transform', date_transformer)])"
   ]
  },
  {
   "cell_type": "markdown",
   "id": "palestinian-alert",
   "metadata": {},
   "source": [
    "#### Combine all preprocessing steps"
   ]
  },
  {
   "cell_type": "code",
   "execution_count": 21,
   "id": "focal-copying",
   "metadata": {},
   "outputs": [],
   "source": [
    "feature_preprocessor = FeatureUnion(transformer_list=[('categoricals', cat_preprocessor),\n",
    "                                                      ('location', coordinate_preprocessor),\n",
    "                                                      ('date', date_preprocessor)])"
   ]
  },
  {
   "cell_type": "markdown",
   "id": "casual-plymouth",
   "metadata": {},
   "source": [
    "### Model Selection"
   ]
  },
  {
   "cell_type": "code",
   "execution_count": 22,
   "id": "wrapped-emerald",
   "metadata": {},
   "outputs": [],
   "source": [
    "from sklearn.model_selection import train_test_split\n",
    "from sklearn.metrics import classification_report, confusion_matrix, precision_score, roc_auc_score\n",
    "\n",
    "from sklearn.tree import DecisionTreeClassifier\n",
    "from sklearn.linear_model import LogisticRegression, SGDClassifier\n",
    "from sklearn.svm import SVC\n",
    "from sklearn.ensemble import GradientBoostingClassifier, RandomForestClassifier, AdaBoostClassifier\n",
    "\n",
    "from xgboost import XGBClassifier\n",
    "from lightgbm import LGBMClassifier\n",
    "from catboost import CatBoostClassifier"
   ]
  },
  {
   "cell_type": "markdown",
   "id": "twenty-astrology",
   "metadata": {},
   "source": [
    "#### Train-Validation Split"
   ]
  },
  {
   "cell_type": "code",
   "execution_count": 48,
   "id": "hourly-father",
   "metadata": {},
   "outputs": [],
   "source": [
    "X_train, X_val, y_train, y_val = train_test_split(X, y, test_size=0.3, random_state=0, stratify=X[['station']], shuffle=True)"
   ]
  },
  {
   "cell_type": "markdown",
   "id": "organic-petite",
   "metadata": {},
   "source": [
    "#### Define Plain-Vanilla Models"
   ]
  },
  {
   "cell_type": "code",
   "execution_count": 27,
   "id": "comparable-calcium",
   "metadata": {},
   "outputs": [],
   "source": [
    "# tree-based models\n",
    "dtc = ('Decision Tree', DecisionTreeClassifier())\n",
    "rfc = ('Random Forest', RandomForestClassifier())\n",
    "\n",
    "# nonlinear regression models\n",
    "lrc = ('Logistic Regression', LogisticRegression())\n",
    "sgd = ('Stochastic Gradient', SGDClassifier(loss='log'))\n",
    "\n",
    "# other classifiers\n",
    "# svc = SVC() #too slow\n",
    "# gbc = GradientBoostingClassifier() #too slow\n",
    "\n",
    "# gradient boosting methods\n",
    "abc = ('Ada Boost', AdaBoostClassifier()) #slow but okay\n",
    "xgb = ('XG Boost', XGBClassifier()) #okay\n",
    "lgbm = ('Light GBM', LGBMClassifier()) #fast\n",
    "# cbc = ('Cat Boost', CatBoostClassifier(iterations=100)) #keeps crashing"
   ]
  },
  {
   "cell_type": "code",
   "execution_count": 29,
   "id": "comfortable-settlement",
   "metadata": {},
   "outputs": [],
   "source": [
    "classifiers = [dtc, rfc, lrc, sgd, abc, xgb, lgbm]"
   ]
  },
  {
   "cell_type": "code",
   "execution_count": 77,
   "id": "professional-washer",
   "metadata": {},
   "outputs": [
    {
     "data": {
      "text/html": [
       "<div>\n",
       "<style scoped>\n",
       "    .dataframe tbody tr th:only-of-type {\n",
       "        vertical-align: middle;\n",
       "    }\n",
       "\n",
       "    .dataframe tbody tr th {\n",
       "        vertical-align: top;\n",
       "    }\n",
       "\n",
       "    .dataframe thead th {\n",
       "        text-align: right;\n",
       "    }\n",
       "</style>\n",
       "<table border=\"1\" class=\"dataframe\">\n",
       "  <thead>\n",
       "    <tr style=\"text-align: right;\">\n",
       "      <th></th>\n",
       "      <th>type</th>\n",
       "      <th>date</th>\n",
       "      <th>operation</th>\n",
       "      <th>lat</th>\n",
       "      <th>long</th>\n",
       "      <th>sex</th>\n",
       "      <th>age</th>\n",
       "      <th>ethnicity_officer</th>\n",
       "      <th>legislation</th>\n",
       "      <th>search_target</th>\n",
       "      <th>station</th>\n",
       "    </tr>\n",
       "    <tr>\n",
       "      <th>observation_id</th>\n",
       "      <th></th>\n",
       "      <th></th>\n",
       "      <th></th>\n",
       "      <th></th>\n",
       "      <th></th>\n",
       "      <th></th>\n",
       "      <th></th>\n",
       "      <th></th>\n",
       "      <th></th>\n",
       "      <th></th>\n",
       "      <th></th>\n",
       "    </tr>\n",
       "  </thead>\n",
       "  <tbody>\n",
       "    <tr>\n",
       "      <th>b85c7d69-2f90-42ba-b732-d7cdd91853e5</th>\n",
       "      <td>Person search</td>\n",
       "      <td>2019-09-02 14:13:00+00:00</td>\n",
       "      <td>False</td>\n",
       "      <td>51.669554</td>\n",
       "      <td>-0.41318</td>\n",
       "      <td>Male</td>\n",
       "      <td>18-24</td>\n",
       "      <td>Black</td>\n",
       "      <td>Police and Criminal Evidence Act 1984 (section 1)</td>\n",
       "      <td>Offensive weapons</td>\n",
       "      <td>hertfordshire</td>\n",
       "    </tr>\n",
       "  </tbody>\n",
       "</table>\n",
       "</div>"
      ],
      "text/plain": [
       "                                               type                      date  \\\n",
       "observation_id                                                                  \n",
       "b85c7d69-2f90-42ba-b732-d7cdd91853e5  Person search 2019-09-02 14:13:00+00:00   \n",
       "\n",
       "                                     operation        lat     long   sex  \\\n",
       "observation_id                                                             \n",
       "b85c7d69-2f90-42ba-b732-d7cdd91853e5     False  51.669554 -0.41318  Male   \n",
       "\n",
       "                                        age ethnicity_officer  \\\n",
       "observation_id                                                  \n",
       "b85c7d69-2f90-42ba-b732-d7cdd91853e5  18-24             Black   \n",
       "\n",
       "                                                                            legislation  \\\n",
       "observation_id                                                                            \n",
       "b85c7d69-2f90-42ba-b732-d7cdd91853e5  Police and Criminal Evidence Act 1984 (section 1)   \n",
       "\n",
       "                                          search_target        station  \n",
       "observation_id                                                          \n",
       "b85c7d69-2f90-42ba-b732-d7cdd91853e5  Offensive weapons  hertfordshire  "
      ]
     },
     "execution_count": 77,
     "metadata": {},
     "output_type": "execute_result"
    }
   ],
   "source": [
    "X_train.iloc[0:1]"
   ]
  },
  {
   "cell_type": "code",
   "execution_count": 81,
   "id": "expanded-resistance",
   "metadata": {},
   "outputs": [],
   "source": [
    "import json"
   ]
  },
  {
   "cell_type": "code",
   "execution_count": 85,
   "id": "organized-farmer",
   "metadata": {},
   "outputs": [],
   "source": [
    "a = json.dumps(True)"
   ]
  },
  {
   "cell_type": "code",
   "execution_count": 79,
   "id": "extended-blackberry",
   "metadata": {},
   "outputs": [
    {
     "data": {
      "text/plain": [
       "True"
      ]
     },
     "execution_count": 79,
     "metadata": {},
     "output_type": "execute_result"
    }
   ],
   "source": [
    "src.evaluate.authorise_search(pipeline, X_train.iloc[0:1])[0]"
   ]
  },
  {
   "cell_type": "code",
   "execution_count": 45,
   "id": "technical-costume",
   "metadata": {},
   "outputs": [
    {
     "name": "stderr",
     "output_type": "stream",
     "text": [
      "/home/rubelrennfix/.virtualenvs/capstone/lib/python3.6/site-packages/sklearn/preprocessing/_discretization.py:222: UserWarning: Bins whose width are too small (i.e., <= 1e-8) in feature 0 are removed. Consider decreasing the number of bins.\n",
      "  'decreasing the number of bins.' % jj)\n",
      "/home/rubelrennfix/.virtualenvs/capstone/lib/python3.6/site-packages/sklearn/preprocessing/_discretization.py:222: UserWarning: Bins whose width are too small (i.e., <= 1e-8) in feature 1 are removed. Consider decreasing the number of bins.\n",
      "  'decreasing the number of bins.' % jj)\n",
      "/home/rubelrennfix/.virtualenvs/capstone/lib/python3.6/site-packages/category_encoders/utils.py:21: FutureWarning: is_categorical is deprecated and will be removed in a future version.  Use is_categorical_dtype instead\n",
      "  elif pd.api.types.is_categorical(cols):\n",
      "/home/rubelrennfix/.virtualenvs/capstone/lib/python3.6/site-packages/sklearn/linear_model/_logistic.py:765: ConvergenceWarning: lbfgs failed to converge (status=1):\n",
      "STOP: TOTAL NO. of ITERATIONS REACHED LIMIT.\n",
      "\n",
      "Increase the number of iterations (max_iter) or scale the data as shown in:\n",
      "    https://scikit-learn.org/stable/modules/preprocessing.html\n",
      "Please also refer to the documentation for alternative solver options:\n",
      "    https://scikit-learn.org/stable/modules/linear_model.html#logistic-regression\n",
      "  extra_warning_msg=_LOGISTIC_SOLVER_CONVERGENCE_MSG)\n"
     ]
    },
    {
     "data": {
      "text/plain": [
       "Pipeline(steps=[('preprocess',\n",
       "                 FeatureUnion(transformer_list=[('categoricals',\n",
       "                                                 ColumnTransformer(transformers=[('operation',\n",
       "                                                                                  SimpleImputer(fill_value=False,\n",
       "                                                                                                strategy='constant'),\n",
       "                                                                                  ['operation']),\n",
       "                                                                                 ('legislation',\n",
       "                                                                                  Pipeline(steps=[('legislation_imputer',\n",
       "                                                                                                   SimpleImputer(fill_value='unknown',\n",
       "                                                                                                                 strategy='constant')),\n",
       "                                                                                                  ('legislation_encoder',\n",
       "                                                                                                   OneHotEncoder(handle_unknow...\n",
       "                                                                  TargetEncoder(cols=[0]))])),\n",
       "                                                ('date',\n",
       "                                                 Pipeline(steps=[('extract',\n",
       "                                                                  FunctionTransformer(func=<function extract_datetime_features at 0x7fe533c330d0>)),\n",
       "                                                                 ('transform',\n",
       "                                                                  ColumnTransformer(transformers=[('oh_encoder',\n",
       "                                                                                                   OneHotEncoder(handle_unknown='ignore',\n",
       "                                                                                                                 sparse=False),\n",
       "                                                                                                   ['hour',\n",
       "                                                                                                    'weekday']),\n",
       "                                                                                                  ('scaler',\n",
       "                                                                                                   StandardScaler(),\n",
       "                                                                                                   ['daycount',\n",
       "                                                                                                    'sqrt_daycount'])]))]))])),\n",
       "                ('clf', LogisticRegression())])"
      ]
     },
     "execution_count": 45,
     "metadata": {},
     "output_type": "execute_result"
    }
   ],
   "source": [
    "##WEGg\n",
    "pipeline = Pipeline(steps=[('preprocess', feature_preprocessor),\n",
    "                               ('clf', lrc[1])],\n",
    "                        verbose=False)\n",
    "pipeline.fit(X_train, y_train)"
   ]
  },
  {
   "cell_type": "code",
   "execution_count": 54,
   "id": "median-candidate",
   "metadata": {},
   "outputs": [
    {
     "name": "stderr",
     "output_type": "stream",
     "text": [
      "/home/rubelrennfix/.virtualenvs/capstone/lib/python3.6/site-packages/sklearn/preprocessing/_discretization.py:222: UserWarning: Bins whose width are too small (i.e., <= 1e-8) in feature 0 are removed. Consider decreasing the number of bins.\n",
      "  'decreasing the number of bins.' % jj)\n",
      "/home/rubelrennfix/.virtualenvs/capstone/lib/python3.6/site-packages/sklearn/preprocessing/_discretization.py:222: UserWarning: Bins whose width are too small (i.e., <= 1e-8) in feature 1 are removed. Consider decreasing the number of bins.\n",
      "  'decreasing the number of bins.' % jj)\n",
      "/home/rubelrennfix/.virtualenvs/capstone/lib/python3.6/site-packages/category_encoders/utils.py:21: FutureWarning: is_categorical is deprecated and will be removed in a future version.  Use is_categorical_dtype instead\n",
      "  elif pd.api.types.is_categorical(cols):\n"
     ]
    },
    {
     "name": "stdout",
     "output_type": "stream",
     "text": [
      "Trained Decision Tree in 15.824686050415039\n"
     ]
    },
    {
     "name": "stderr",
     "output_type": "stream",
     "text": [
      "/home/rubelrennfix/.virtualenvs/capstone/lib/python3.6/site-packages/sklearn/preprocessing/_discretization.py:222: UserWarning: Bins whose width are too small (i.e., <= 1e-8) in feature 0 are removed. Consider decreasing the number of bins.\n",
      "  'decreasing the number of bins.' % jj)\n",
      "/home/rubelrennfix/.virtualenvs/capstone/lib/python3.6/site-packages/sklearn/preprocessing/_discretization.py:222: UserWarning: Bins whose width are too small (i.e., <= 1e-8) in feature 1 are removed. Consider decreasing the number of bins.\n",
      "  'decreasing the number of bins.' % jj)\n",
      "/home/rubelrennfix/.virtualenvs/capstone/lib/python3.6/site-packages/category_encoders/utils.py:21: FutureWarning: is_categorical is deprecated and will be removed in a future version.  Use is_categorical_dtype instead\n",
      "  elif pd.api.types.is_categorical(cols):\n"
     ]
    },
    {
     "name": "stdout",
     "output_type": "stream",
     "text": [
      "Trained Random Forest in 85.83330774307251\n"
     ]
    },
    {
     "name": "stderr",
     "output_type": "stream",
     "text": [
      "/home/rubelrennfix/.virtualenvs/capstone/lib/python3.6/site-packages/sklearn/preprocessing/_discretization.py:222: UserWarning: Bins whose width are too small (i.e., <= 1e-8) in feature 0 are removed. Consider decreasing the number of bins.\n",
      "  'decreasing the number of bins.' % jj)\n",
      "/home/rubelrennfix/.virtualenvs/capstone/lib/python3.6/site-packages/sklearn/preprocessing/_discretization.py:222: UserWarning: Bins whose width are too small (i.e., <= 1e-8) in feature 1 are removed. Consider decreasing the number of bins.\n",
      "  'decreasing the number of bins.' % jj)\n",
      "/home/rubelrennfix/.virtualenvs/capstone/lib/python3.6/site-packages/category_encoders/utils.py:21: FutureWarning: is_categorical is deprecated and will be removed in a future version.  Use is_categorical_dtype instead\n",
      "  elif pd.api.types.is_categorical(cols):\n",
      "/home/rubelrennfix/.virtualenvs/capstone/lib/python3.6/site-packages/sklearn/linear_model/_logistic.py:765: ConvergenceWarning: lbfgs failed to converge (status=1):\n",
      "STOP: TOTAL NO. of ITERATIONS REACHED LIMIT.\n",
      "\n",
      "Increase the number of iterations (max_iter) or scale the data as shown in:\n",
      "    https://scikit-learn.org/stable/modules/preprocessing.html\n",
      "Please also refer to the documentation for alternative solver options:\n",
      "    https://scikit-learn.org/stable/modules/linear_model.html#logistic-regression\n",
      "  extra_warning_msg=_LOGISTIC_SOLVER_CONVERGENCE_MSG)\n"
     ]
    },
    {
     "name": "stdout",
     "output_type": "stream",
     "text": [
      "Trained Logistic Regression in 18.302623510360718\n"
     ]
    },
    {
     "name": "stderr",
     "output_type": "stream",
     "text": [
      "/home/rubelrennfix/.virtualenvs/capstone/lib/python3.6/site-packages/sklearn/preprocessing/_discretization.py:222: UserWarning: Bins whose width are too small (i.e., <= 1e-8) in feature 0 are removed. Consider decreasing the number of bins.\n",
      "  'decreasing the number of bins.' % jj)\n",
      "/home/rubelrennfix/.virtualenvs/capstone/lib/python3.6/site-packages/sklearn/preprocessing/_discretization.py:222: UserWarning: Bins whose width are too small (i.e., <= 1e-8) in feature 1 are removed. Consider decreasing the number of bins.\n",
      "  'decreasing the number of bins.' % jj)\n",
      "/home/rubelrennfix/.virtualenvs/capstone/lib/python3.6/site-packages/category_encoders/utils.py:21: FutureWarning: is_categorical is deprecated and will be removed in a future version.  Use is_categorical_dtype instead\n",
      "  elif pd.api.types.is_categorical(cols):\n"
     ]
    },
    {
     "name": "stdout",
     "output_type": "stream",
     "text": [
      "Trained Stochastic Gradient in 7.496161699295044\n"
     ]
    },
    {
     "name": "stderr",
     "output_type": "stream",
     "text": [
      "/home/rubelrennfix/.virtualenvs/capstone/lib/python3.6/site-packages/sklearn/preprocessing/_discretization.py:222: UserWarning: Bins whose width are too small (i.e., <= 1e-8) in feature 0 are removed. Consider decreasing the number of bins.\n",
      "  'decreasing the number of bins.' % jj)\n",
      "/home/rubelrennfix/.virtualenvs/capstone/lib/python3.6/site-packages/sklearn/preprocessing/_discretization.py:222: UserWarning: Bins whose width are too small (i.e., <= 1e-8) in feature 1 are removed. Consider decreasing the number of bins.\n",
      "  'decreasing the number of bins.' % jj)\n",
      "/home/rubelrennfix/.virtualenvs/capstone/lib/python3.6/site-packages/category_encoders/utils.py:21: FutureWarning: is_categorical is deprecated and will be removed in a future version.  Use is_categorical_dtype instead\n",
      "  elif pd.api.types.is_categorical(cols):\n"
     ]
    },
    {
     "name": "stdout",
     "output_type": "stream",
     "text": [
      "Trained Ada Boost in 100.75494813919067\n"
     ]
    },
    {
     "name": "stderr",
     "output_type": "stream",
     "text": [
      "/home/rubelrennfix/.virtualenvs/capstone/lib/python3.6/site-packages/sklearn/preprocessing/_discretization.py:222: UserWarning: Bins whose width are too small (i.e., <= 1e-8) in feature 0 are removed. Consider decreasing the number of bins.\n",
      "  'decreasing the number of bins.' % jj)\n",
      "/home/rubelrennfix/.virtualenvs/capstone/lib/python3.6/site-packages/sklearn/preprocessing/_discretization.py:222: UserWarning: Bins whose width are too small (i.e., <= 1e-8) in feature 1 are removed. Consider decreasing the number of bins.\n",
      "  'decreasing the number of bins.' % jj)\n",
      "/home/rubelrennfix/.virtualenvs/capstone/lib/python3.6/site-packages/category_encoders/utils.py:21: FutureWarning: is_categorical is deprecated and will be removed in a future version.  Use is_categorical_dtype instead\n",
      "  elif pd.api.types.is_categorical(cols):\n",
      "/home/rubelrennfix/.virtualenvs/capstone/lib/python3.6/site-packages/xgboost/sklearn.py:888: UserWarning: The use of label encoder in XGBClassifier is deprecated and will be removed in a future release. To remove this warning, do the following: 1) Pass option use_label_encoder=False when constructing XGBClassifier object; and 2) Encode your labels (y) as integers starting with 0, i.e. 0, 1, 2, ..., [num_class - 1].\n",
      "  warnings.warn(label_encoder_deprecation_msg, UserWarning)\n"
     ]
    },
    {
     "name": "stdout",
     "output_type": "stream",
     "text": [
      "[17:54:50] WARNING: ../src/learner.cc:1061: Starting in XGBoost 1.3.0, the default evaluation metric used with the objective 'binary:logistic' was changed from 'error' to 'logloss'. Explicitly set eval_metric if you'd like to restore the old behavior.\n",
      "Trained XG Boost in 64.17622017860413\n"
     ]
    },
    {
     "name": "stderr",
     "output_type": "stream",
     "text": [
      "/home/rubelrennfix/.virtualenvs/capstone/lib/python3.6/site-packages/sklearn/preprocessing/_discretization.py:222: UserWarning: Bins whose width are too small (i.e., <= 1e-8) in feature 0 are removed. Consider decreasing the number of bins.\n",
      "  'decreasing the number of bins.' % jj)\n",
      "/home/rubelrennfix/.virtualenvs/capstone/lib/python3.6/site-packages/sklearn/preprocessing/_discretization.py:222: UserWarning: Bins whose width are too small (i.e., <= 1e-8) in feature 1 are removed. Consider decreasing the number of bins.\n",
      "  'decreasing the number of bins.' % jj)\n",
      "/home/rubelrennfix/.virtualenvs/capstone/lib/python3.6/site-packages/category_encoders/utils.py:21: FutureWarning: is_categorical is deprecated and will be removed in a future version.  Use is_categorical_dtype instead\n",
      "  elif pd.api.types.is_categorical(cols):\n"
     ]
    },
    {
     "name": "stdout",
     "output_type": "stream",
     "text": [
      "Trained Light GBM in 8.862217426300049\n",
      "CPU times: user 10min 52s, sys: 1min 17s, total: 12min 10s\n",
      "Wall time: 9min 17s\n"
     ]
    }
   ],
   "source": [
    "%%time\n",
    "df_plain_models = pd.DataFrame(index=['Baseline']+[name for (name, clf) in classifiers],\n",
    "                               columns=pd.MultiIndex.from_product([['train', 'val'], []]))\n",
    "\n",
    "# evaluate baseline\n",
    "df_plain_models.at['Baseline', ('train', 'time')] = 0\n",
    "\n",
    "df_plain_models.at['Baseline', ('train', 'precision')] = precision_score(y_train, np.ones(y_train.shape))\n",
    "df_plain_models.at['Baseline', ('val', 'precision')] = precision_score(y_val, np.ones(y_val.shape))\n",
    "\n",
    "df_plain_models.at['Baseline', ('train', 'auroc')] = roc_auc_score(y_train, np.ones(y_train.shape))\n",
    "df_plain_models.at['Baseline', ('val', 'auroc')] = roc_auc_score(y_val, np.ones(y_val.shape))\n",
    "    \n",
    "df_plain_models.at['Baseline', ('train', 'within_station')] = src.evaluate.within_station_discrepancy(np.ones(y_train.shape), y_train, X_train).max()\n",
    "df_plain_models.at['Baseline', ('val', 'within_station')] = src.evaluate.within_station_discrepancy(np.ones(y_val.shape), y_val, X_val).max()\n",
    "\n",
    "df_plain_models.at['Baseline', ('train', 'within_station_std')] = src.evaluate.within_station_discrepancy(np.ones(y_train.shape), y_train, X_train).std()\n",
    "df_plain_models.at['Baseline', ('val', 'within_station_std')] = src.evaluate.within_station_discrepancy(np.ones(y_val.shape), y_val, X_val).std()\n",
    "    \n",
    "df_plain_models.at['Baseline', ('train', 'across_station')] = src.evaluate.across_station_discrepancy(np.ones(y_train.shape), y_train, X_train)\n",
    "df_plain_models.at['Baseline', ('val', 'across_station')] = src.evaluate.across_station_discrepancy(np.ones(y_val.shape), y_val, X_val)\n",
    "    \n",
    "df_plain_models.at['Baseline', ('train', 'across_group')] = src.evaluate.across_subgroup_discrepancy(np.ones(y_train.shape), y_train, X_train)\n",
    "df_plain_models.at['Baseline', ('val', 'across_group')] = src.evaluate.across_subgroup_discrepancy(np.ones(y_val.shape), y_val, X_val)\n",
    "\n",
    "for name, clf in classifiers:\n",
    "    # build pipeline\n",
    "    pipeline = Pipeline(steps=[('preprocess', feature_preprocessor),\n",
    "                               ('clf', clf)],\n",
    "                        verbose=False)\n",
    "    \n",
    "    # train\n",
    "    t = time.time()\n",
    "    pipeline.fit(X_train, y_train)\n",
    "    elapsed = time.time() - t\n",
    "    df_plain_models.at[name, ('train', 'time')] = elapsed\n",
    "    \n",
    "    # predict\n",
    "    authorised_train = src.evaluate.authorise_search(pipeline, X_train)\n",
    "    authorised_val = src.evaluate.authorise_search(pipeline, X_val)\n",
    "    pred_train = pipeline.predict(X_train)\n",
    "    pred_val = pipeline.predict(X_val)\n",
    "    \n",
    "    # evaluate\n",
    "    df_plain_models.at[name, ('train', 'precision')] = precision_score(y_train, pred_train)\n",
    "    df_plain_models.at[name, ('val', 'precision')] = precision_score(y_val, pred_val)\n",
    "    \n",
    "    df_plain_models.at[name, ('train', 'auroc')] = roc_auc_score(y_train, pred_train)\n",
    "    df_plain_models.at[name, ('val', 'auroc')] = roc_auc_score(y_val, pred_val)\n",
    "    \n",
    "    df_plain_models.at[name, ('train', 'within_station')] = src.evaluate.within_station_discrepancy(pred_train, y_train, X_train).max()\n",
    "    df_plain_models.at[name, ('val', 'within_station')] = src.evaluate.within_station_discrepancy(pred_val, y_val, X_val).max()\n",
    "    \n",
    "    df_plain_models.at[name, ('train', 'within_station_std')] = src.evaluate.within_station_discrepancy(pred_train, y_train, X_train).std()\n",
    "    df_plain_models.at[name, ('val', 'within_station_std')] = src.evaluate.within_station_discrepancy(pred_val, y_val, X_val).std()\n",
    "    \n",
    "    df_plain_models.at[name, ('train', 'across_station')] = src.evaluate.across_station_discrepancy(pred_train, y_train, X_train)\n",
    "    df_plain_models.at[name, ('val', 'across_station')] = src.evaluate.across_station_discrepancy(pred_val, y_val, X_val)\n",
    "    \n",
    "    df_plain_models.at[name, ('train', 'across_group')] = src.evaluate.across_subgroup_discrepancy(pred_train, y_train, X_train)\n",
    "    df_plain_models.at[name, ('val', 'across_group')] = src.evaluate.across_subgroup_discrepancy(pred_val, y_val, X_val)\n",
    "    \n",
    "    print('Trained {} in {}'.format(name, elapsed))\n",
    "    \n",
    "df_plain_models.to_pickle('../data/df_plain_models.pickle')"
   ]
  },
  {
   "cell_type": "code",
   "execution_count": 71,
   "id": "absolute-miracle",
   "metadata": {},
   "outputs": [
    {
     "data": {
      "text/html": [
       "<div>\n",
       "<style scoped>\n",
       "    .dataframe tbody tr th:only-of-type {\n",
       "        vertical-align: middle;\n",
       "    }\n",
       "\n",
       "    .dataframe tbody tr th {\n",
       "        vertical-align: top;\n",
       "    }\n",
       "\n",
       "    .dataframe thead th {\n",
       "        text-align: right;\n",
       "    }\n",
       "</style>\n",
       "<table border=\"1\" class=\"dataframe\">\n",
       "  <thead>\n",
       "    <tr style=\"text-align: right;\">\n",
       "      <th></th>\n",
       "      <th>time</th>\n",
       "      <th>precision</th>\n",
       "      <th>auroc</th>\n",
       "      <th>within_station</th>\n",
       "      <th>within_station_std</th>\n",
       "      <th>across_station</th>\n",
       "      <th>across_group</th>\n",
       "    </tr>\n",
       "  </thead>\n",
       "  <tbody>\n",
       "    <tr>\n",
       "      <th>Baseline</th>\n",
       "      <td>0.000000</td>\n",
       "      <td>0.201366</td>\n",
       "      <td>0.500000</td>\n",
       "      <td>0.273469</td>\n",
       "      <td>0.065433</td>\n",
       "      <td>0.358063</td>\n",
       "      <td>0.046824</td>\n",
       "    </tr>\n",
       "    <tr>\n",
       "      <th>Decision Tree</th>\n",
       "      <td>15.824686</td>\n",
       "      <td>0.996630</td>\n",
       "      <td>0.960822</td>\n",
       "      <td>0.076923</td>\n",
       "      <td>0.017838</td>\n",
       "      <td>0.018182</td>\n",
       "      <td>0.008511</td>\n",
       "    </tr>\n",
       "    <tr>\n",
       "      <th>Random Forest</th>\n",
       "      <td>85.833308</td>\n",
       "      <td>0.978921</td>\n",
       "      <td>0.967174</td>\n",
       "      <td>0.250000</td>\n",
       "      <td>0.055820</td>\n",
       "      <td>0.040423</td>\n",
       "      <td>0.026961</td>\n",
       "    </tr>\n",
       "    <tr>\n",
       "      <th>Logistic Regression</th>\n",
       "      <td>18.302624</td>\n",
       "      <td>0.532534</td>\n",
       "      <td>0.505554</td>\n",
       "      <td>1.000000</td>\n",
       "      <td>0.359431</td>\n",
       "      <td>1.000000</td>\n",
       "      <td>0.589041</td>\n",
       "    </tr>\n",
       "    <tr>\n",
       "      <th>Stochastic Gradient</th>\n",
       "      <td>7.496162</td>\n",
       "      <td>0.532880</td>\n",
       "      <td>0.504199</td>\n",
       "      <td>1.000000</td>\n",
       "      <td>0.394917</td>\n",
       "      <td>1.000000</td>\n",
       "      <td>0.750000</td>\n",
       "    </tr>\n",
       "    <tr>\n",
       "      <th>Ada Boost</th>\n",
       "      <td>100.754948</td>\n",
       "      <td>0.528802</td>\n",
       "      <td>0.504081</td>\n",
       "      <td>1.000000</td>\n",
       "      <td>0.387337</td>\n",
       "      <td>1.000000</td>\n",
       "      <td>0.558442</td>\n",
       "    </tr>\n",
       "    <tr>\n",
       "      <th>XG Boost</th>\n",
       "      <td>64.176220</td>\n",
       "      <td>0.701675</td>\n",
       "      <td>0.515870</td>\n",
       "      <td>1.000000</td>\n",
       "      <td>0.340864</td>\n",
       "      <td>0.400000</td>\n",
       "      <td>0.350575</td>\n",
       "    </tr>\n",
       "    <tr>\n",
       "      <th>Light GBM</th>\n",
       "      <td>8.862217</td>\n",
       "      <td>0.675994</td>\n",
       "      <td>0.504628</td>\n",
       "      <td>1.000000</td>\n",
       "      <td>0.382090</td>\n",
       "      <td>0.750000</td>\n",
       "      <td>0.800000</td>\n",
       "    </tr>\n",
       "  </tbody>\n",
       "</table>\n",
       "</div>"
      ],
      "text/plain": [
       "                           time  precision     auroc  within_station  \\\n",
       "Baseline               0.000000   0.201366  0.500000        0.273469   \n",
       "Decision Tree         15.824686   0.996630  0.960822        0.076923   \n",
       "Random Forest         85.833308   0.978921  0.967174        0.250000   \n",
       "Logistic Regression   18.302624   0.532534  0.505554        1.000000   \n",
       "Stochastic Gradient    7.496162   0.532880  0.504199        1.000000   \n",
       "Ada Boost            100.754948   0.528802  0.504081        1.000000   \n",
       "XG Boost              64.176220   0.701675  0.515870        1.000000   \n",
       "Light GBM              8.862217   0.675994  0.504628        1.000000   \n",
       "\n",
       "                     within_station_std  across_station  across_group  \n",
       "Baseline                       0.065433        0.358063      0.046824  \n",
       "Decision Tree                  0.017838        0.018182      0.008511  \n",
       "Random Forest                  0.055820        0.040423      0.026961  \n",
       "Logistic Regression            0.359431        1.000000      0.589041  \n",
       "Stochastic Gradient            0.394917        1.000000      0.750000  \n",
       "Ada Boost                      0.387337        1.000000      0.558442  \n",
       "XG Boost                       0.340864        0.400000      0.350575  \n",
       "Light GBM                      0.382090        0.750000      0.800000  "
      ]
     },
     "execution_count": 71,
     "metadata": {},
     "output_type": "execute_result"
    }
   ],
   "source": [
    "df_plain_models['train']"
   ]
  },
  {
   "cell_type": "code",
   "execution_count": 72,
   "id": "domestic-pickup",
   "metadata": {},
   "outputs": [
    {
     "data": {
      "text/html": [
       "<div>\n",
       "<style scoped>\n",
       "    .dataframe tbody tr th:only-of-type {\n",
       "        vertical-align: middle;\n",
       "    }\n",
       "\n",
       "    .dataframe tbody tr th {\n",
       "        vertical-align: top;\n",
       "    }\n",
       "\n",
       "    .dataframe thead th {\n",
       "        text-align: right;\n",
       "    }\n",
       "</style>\n",
       "<table border=\"1\" class=\"dataframe\">\n",
       "  <thead>\n",
       "    <tr style=\"text-align: right;\">\n",
       "      <th></th>\n",
       "      <th>precision</th>\n",
       "      <th>auroc</th>\n",
       "      <th>within_station</th>\n",
       "      <th>within_station_std</th>\n",
       "      <th>across_station</th>\n",
       "      <th>across_group</th>\n",
       "    </tr>\n",
       "  </thead>\n",
       "  <tbody>\n",
       "    <tr>\n",
       "      <th>Baseline</th>\n",
       "      <td>0.201366</td>\n",
       "      <td>0.500000</td>\n",
       "      <td>0.216552</td>\n",
       "      <td>0.057785</td>\n",
       "      <td>0.365060</td>\n",
       "      <td>0.083333</td>\n",
       "    </tr>\n",
       "    <tr>\n",
       "      <th>Decision Tree</th>\n",
       "      <td>0.297680</td>\n",
       "      <td>0.559253</td>\n",
       "      <td>0.400000</td>\n",
       "      <td>0.108713</td>\n",
       "      <td>0.414035</td>\n",
       "      <td>0.411765</td>\n",
       "    </tr>\n",
       "    <tr>\n",
       "      <th>Random Forest</th>\n",
       "      <td>0.384603</td>\n",
       "      <td>0.538997</td>\n",
       "      <td>0.750000</td>\n",
       "      <td>0.203253</td>\n",
       "      <td>0.336043</td>\n",
       "      <td>0.500000</td>\n",
       "    </tr>\n",
       "    <tr>\n",
       "      <th>Logistic Regression</th>\n",
       "      <td>0.431138</td>\n",
       "      <td>0.503857</td>\n",
       "      <td>1.000000</td>\n",
       "      <td>0.393698</td>\n",
       "      <td>1.000000</td>\n",
       "      <td>0.500000</td>\n",
       "    </tr>\n",
       "    <tr>\n",
       "      <th>Stochastic Gradient</th>\n",
       "      <td>0.463291</td>\n",
       "      <td>0.503466</td>\n",
       "      <td>1.000000</td>\n",
       "      <td>0.379665</td>\n",
       "      <td>1.000000</td>\n",
       "      <td>0.666667</td>\n",
       "    </tr>\n",
       "    <tr>\n",
       "      <th>Ada Boost</th>\n",
       "      <td>0.461972</td>\n",
       "      <td>0.503100</td>\n",
       "      <td>1.000000</td>\n",
       "      <td>0.335291</td>\n",
       "      <td>1.000000</td>\n",
       "      <td>1.000000</td>\n",
       "    </tr>\n",
       "    <tr>\n",
       "      <th>XG Boost</th>\n",
       "      <td>0.431843</td>\n",
       "      <td>0.507081</td>\n",
       "      <td>1.000000</td>\n",
       "      <td>0.364872</td>\n",
       "      <td>0.585714</td>\n",
       "      <td>0.652778</td>\n",
       "    </tr>\n",
       "    <tr>\n",
       "      <th>Light GBM</th>\n",
       "      <td>0.441065</td>\n",
       "      <td>0.502112</td>\n",
       "      <td>1.000000</td>\n",
       "      <td>0.358968</td>\n",
       "      <td>1.000000</td>\n",
       "      <td>0.666667</td>\n",
       "    </tr>\n",
       "  </tbody>\n",
       "</table>\n",
       "</div>"
      ],
      "text/plain": [
       "                     precision     auroc  within_station  within_station_std  \\\n",
       "Baseline              0.201366  0.500000        0.216552            0.057785   \n",
       "Decision Tree         0.297680  0.559253        0.400000            0.108713   \n",
       "Random Forest         0.384603  0.538997        0.750000            0.203253   \n",
       "Logistic Regression   0.431138  0.503857        1.000000            0.393698   \n",
       "Stochastic Gradient   0.463291  0.503466        1.000000            0.379665   \n",
       "Ada Boost             0.461972  0.503100        1.000000            0.335291   \n",
       "XG Boost              0.431843  0.507081        1.000000            0.364872   \n",
       "Light GBM             0.441065  0.502112        1.000000            0.358968   \n",
       "\n",
       "                     across_station  across_group  \n",
       "Baseline                   0.365060      0.083333  \n",
       "Decision Tree              0.414035      0.411765  \n",
       "Random Forest              0.336043      0.500000  \n",
       "Logistic Regression        1.000000      0.500000  \n",
       "Stochastic Gradient        1.000000      0.666667  \n",
       "Ada Boost                  1.000000      1.000000  \n",
       "XG Boost                   0.585714      0.652778  \n",
       "Light GBM                  1.000000      0.666667  "
      ]
     },
     "execution_count": 72,
     "metadata": {},
     "output_type": "execute_result"
    }
   ],
   "source": [
    "df_plain_models['val']"
   ]
  },
  {
   "cell_type": "code",
   "execution_count": null,
   "id": "automotive-thinking",
   "metadata": {},
   "outputs": [],
   "source": []
  },
  {
   "cell_type": "code",
   "execution_count": null,
   "id": "statewide-america",
   "metadata": {},
   "outputs": [],
   "source": []
  },
  {
   "cell_type": "code",
   "execution_count": null,
   "id": "accompanied-spice",
   "metadata": {},
   "outputs": [],
   "source": []
  },
  {
   "cell_type": "code",
   "execution_count": null,
   "id": "stunning-volleyball",
   "metadata": {},
   "outputs": [],
   "source": []
  },
  {
   "cell_type": "code",
   "execution_count": null,
   "id": "illegal-seeking",
   "metadata": {},
   "outputs": [],
   "source": []
  },
  {
   "cell_type": "code",
   "execution_count": 57,
   "id": "surface-cooler",
   "metadata": {},
   "outputs": [
    {
     "data": {
      "text/plain": [
       "<AxesSubplot:>"
      ]
     },
     "execution_count": 57,
     "metadata": {},
     "output_type": "execute_result"
    },
    {
     "data": {
      "image/png": "[encoded data removed]",
      "text/plain": [
       "<Figure size 432x288 with 1 Axes>"
      ]
     },
     "metadata": {},
     "output_type": "display_data"
    }
   ],
   "source": [
    "df_plain_models.plot()"
   ]
  },
  {
   "cell_type": "code",
   "execution_count": 26,
   "id": "valid-source",
   "metadata": {
    "collapsed": true,
    "jupyter": {
     "outputs_hidden": true
    }
   },
   "outputs": [
    {
     "name": "stderr",
     "output_type": "stream",
     "text": [
      "/home/rubelrennfix/.virtualenvs/capstone/lib/python3.6/site-packages/sklearn/preprocessing/_discretization.py:222: UserWarning: Bins whose width are too small (i.e., <= 1e-8) in feature 0 are removed. Consider decreasing the number of bins.\n",
      "  'decreasing the number of bins.' % jj)\n",
      "/home/rubelrennfix/.virtualenvs/capstone/lib/python3.6/site-packages/sklearn/preprocessing/_discretization.py:222: UserWarning: Bins whose width are too small (i.e., <= 1e-8) in feature 1 are removed. Consider decreasing the number of bins.\n",
      "  'decreasing the number of bins.' % jj)\n",
      "/home/rubelrennfix/.virtualenvs/capstone/lib/python3.6/site-packages/category_encoders/utils.py:21: FutureWarning: is_categorical is deprecated and will be removed in a future version.  Use is_categorical_dtype instead\n",
      "  elif pd.api.types.is_categorical(cols):\n"
     ]
    },
    {
     "name": "stdout",
     "output_type": "stream",
     "text": [
      "[Pipeline] ........ (step 1 of 2) Processing preprocess, total=   5.5s\n",
      "Learning rate set to 0.5\n",
      "0:\tlearn: 0.5203100\ttotal: 175ms\tremaining: 17.3s\n",
      "1:\tlearn: 0.4813107\ttotal: 264ms\tremaining: 12.9s\n",
      "2:\tlearn: 0.4703295\ttotal: 320ms\tremaining: 10.3s\n",
      "3:\tlearn: 0.4674993\ttotal: 386ms\tremaining: 9.27s\n",
      "4:\tlearn: 0.4657250\ttotal: 492ms\tremaining: 9.35s\n",
      "5:\tlearn: 0.4648003\ttotal: 578ms\tremaining: 9.05s\n",
      "6:\tlearn: 0.4627423\ttotal: 668ms\tremaining: 8.88s\n",
      "7:\tlearn: 0.4612158\ttotal: 764ms\tremaining: 8.78s\n",
      "8:\tlearn: 0.4608525\ttotal: 830ms\tremaining: 8.4s\n",
      "9:\tlearn: 0.4598281\ttotal: 916ms\tremaining: 8.24s\n",
      "10:\tlearn: 0.4594051\ttotal: 1.03s\tremaining: 8.34s\n",
      "11:\tlearn: 0.4588135\ttotal: 1.11s\tremaining: 8.16s\n",
      "12:\tlearn: 0.4582233\ttotal: 1.21s\tremaining: 8.09s\n",
      "13:\tlearn: 0.4579194\ttotal: 1.29s\tremaining: 7.96s\n",
      "14:\tlearn: 0.4573831\ttotal: 1.36s\tremaining: 7.72s\n",
      "15:\tlearn: 0.4568056\ttotal: 1.44s\tremaining: 7.55s\n",
      "16:\tlearn: 0.4564929\ttotal: 1.54s\tremaining: 7.52s\n",
      "17:\tlearn: 0.4562317\ttotal: 1.63s\tremaining: 7.43s\n",
      "18:\tlearn: 0.4557608\ttotal: 1.72s\tremaining: 7.34s\n",
      "19:\tlearn: 0.4555385\ttotal: 1.81s\tremaining: 7.24s\n",
      "20:\tlearn: 0.4553983\ttotal: 1.88s\tremaining: 7.06s\n",
      "21:\tlearn: 0.4551967\ttotal: 1.96s\tremaining: 6.93s\n",
      "22:\tlearn: 0.4547521\ttotal: 2.06s\tremaining: 6.88s\n",
      "23:\tlearn: 0.4545033\ttotal: 2.14s\tremaining: 6.79s\n",
      "24:\tlearn: 0.4542771\ttotal: 2.24s\tremaining: 6.71s\n",
      "25:\tlearn: 0.4541193\ttotal: 2.33s\tremaining: 6.62s\n",
      "26:\tlearn: 0.4539319\ttotal: 2.39s\tremaining: 6.47s\n",
      "27:\tlearn: 0.4536026\ttotal: 2.47s\tremaining: 6.35s\n",
      "28:\tlearn: 0.4534144\ttotal: 2.56s\tremaining: 6.27s\n",
      "29:\tlearn: 0.4530282\ttotal: 2.67s\tremaining: 6.23s\n",
      "30:\tlearn: 0.4528453\ttotal: 2.76s\tremaining: 6.14s\n",
      "31:\tlearn: 0.4524949\ttotal: 2.85s\tremaining: 6.05s\n",
      "32:\tlearn: 0.4523564\ttotal: 2.93s\tremaining: 5.96s\n",
      "33:\tlearn: 0.4521797\ttotal: 3.03s\tremaining: 5.89s\n",
      "34:\tlearn: 0.4520167\ttotal: 3.1s\tremaining: 5.76s\n",
      "35:\tlearn: 0.4518296\ttotal: 3.18s\tremaining: 5.65s\n",
      "36:\tlearn: 0.4514137\ttotal: 3.28s\tremaining: 5.58s\n",
      "37:\tlearn: 0.4512937\ttotal: 3.35s\tremaining: 5.46s\n",
      "38:\tlearn: 0.4510150\ttotal: 3.42s\tremaining: 5.36s\n",
      "39:\tlearn: 0.4506806\ttotal: 3.52s\tremaining: 5.28s\n",
      "40:\tlearn: 0.4505136\ttotal: 3.62s\tremaining: 5.2s\n",
      "41:\tlearn: 0.4503506\ttotal: 3.71s\tremaining: 5.12s\n",
      "42:\tlearn: 0.4501397\ttotal: 3.8s\tremaining: 5.04s\n",
      "43:\tlearn: 0.4499967\ttotal: 3.87s\tremaining: 4.92s\n",
      "44:\tlearn: 0.4498250\ttotal: 3.95s\tremaining: 4.82s\n",
      "45:\tlearn: 0.4495722\ttotal: 4.04s\tremaining: 4.75s\n",
      "46:\tlearn: 0.4493393\ttotal: 4.13s\tremaining: 4.66s\n",
      "47:\tlearn: 0.4491487\ttotal: 4.22s\tremaining: 4.58s\n",
      "48:\tlearn: 0.4489230\ttotal: 4.32s\tremaining: 4.49s\n",
      "49:\tlearn: 0.4487734\ttotal: 4.38s\tremaining: 4.38s\n",
      "50:\tlearn: 0.4485714\ttotal: 4.46s\tremaining: 4.29s\n",
      "51:\tlearn: 0.4483718\ttotal: 4.56s\tremaining: 4.21s\n",
      "52:\tlearn: 0.4481902\ttotal: 4.65s\tremaining: 4.13s\n",
      "53:\tlearn: 0.4480167\ttotal: 4.74s\tremaining: 4.04s\n",
      "54:\tlearn: 0.4478250\ttotal: 4.83s\tremaining: 3.95s\n",
      "55:\tlearn: 0.4476814\ttotal: 4.9s\tremaining: 3.85s\n",
      "56:\tlearn: 0.4475806\ttotal: 4.98s\tremaining: 3.76s\n",
      "57:\tlearn: 0.4474251\ttotal: 5.09s\tremaining: 3.68s\n",
      "58:\tlearn: 0.4473300\ttotal: 5.19s\tremaining: 3.6s\n",
      "59:\tlearn: 0.4471634\ttotal: 5.29s\tremaining: 3.52s\n",
      "60:\tlearn: 0.4470532\ttotal: 5.37s\tremaining: 3.43s\n",
      "61:\tlearn: 0.4469035\ttotal: 5.46s\tremaining: 3.35s\n",
      "62:\tlearn: 0.4467449\ttotal: 5.55s\tremaining: 3.26s\n",
      "63:\tlearn: 0.4465653\ttotal: 5.62s\tremaining: 3.16s\n",
      "64:\tlearn: 0.4465063\ttotal: 5.72s\tremaining: 3.08s\n",
      "65:\tlearn: 0.4463427\ttotal: 5.84s\tremaining: 3.01s\n",
      "66:\tlearn: 0.4461917\ttotal: 5.92s\tremaining: 2.92s\n",
      "67:\tlearn: 0.4459150\ttotal: 6.02s\tremaining: 2.83s\n",
      "68:\tlearn: 0.4458116\ttotal: 6.19s\tremaining: 2.78s\n",
      "69:\tlearn: 0.4456630\ttotal: 6.4s\tremaining: 2.74s\n",
      "70:\tlearn: 0.4455549\ttotal: 6.56s\tremaining: 2.68s\n",
      "71:\tlearn: 0.4454508\ttotal: 6.67s\tremaining: 2.59s\n",
      "72:\tlearn: 0.4453259\ttotal: 6.77s\tremaining: 2.5s\n",
      "73:\tlearn: 0.4451920\ttotal: 6.87s\tremaining: 2.41s\n",
      "74:\tlearn: 0.4450789\ttotal: 6.96s\tremaining: 2.32s\n",
      "75:\tlearn: 0.4449590\ttotal: 7.05s\tremaining: 2.23s\n",
      "76:\tlearn: 0.4448453\ttotal: 7.12s\tremaining: 2.13s\n",
      "77:\tlearn: 0.4446881\ttotal: 7.2s\tremaining: 2.03s\n",
      "78:\tlearn: 0.4445865\ttotal: 7.29s\tremaining: 1.94s\n",
      "79:\tlearn: 0.4444408\ttotal: 7.4s\tremaining: 1.85s\n",
      "80:\tlearn: 0.4443717\ttotal: 7.49s\tremaining: 1.76s\n",
      "81:\tlearn: 0.4442015\ttotal: 7.58s\tremaining: 1.66s\n",
      "82:\tlearn: 0.4440947\ttotal: 7.67s\tremaining: 1.57s\n",
      "83:\tlearn: 0.4439902\ttotal: 7.77s\tremaining: 1.48s\n",
      "84:\tlearn: 0.4439070\ttotal: 7.86s\tremaining: 1.39s\n",
      "85:\tlearn: 0.4437594\ttotal: 7.94s\tremaining: 1.29s\n",
      "86:\tlearn: 0.4436368\ttotal: 8.04s\tremaining: 1.2s\n",
      "87:\tlearn: 0.4434948\ttotal: 8.15s\tremaining: 1.11s\n",
      "88:\tlearn: 0.4433890\ttotal: 8.32s\tremaining: 1.03s\n",
      "89:\tlearn: 0.4433113\ttotal: 8.44s\tremaining: 938ms\n",
      "90:\tlearn: 0.4432153\ttotal: 8.54s\tremaining: 844ms\n",
      "91:\tlearn: 0.4430889\ttotal: 8.61s\tremaining: 749ms\n",
      "92:\tlearn: 0.4428769\ttotal: 8.7s\tremaining: 655ms\n",
      "93:\tlearn: 0.4427884\ttotal: 8.81s\tremaining: 562ms\n",
      "94:\tlearn: 0.4426554\ttotal: 8.9s\tremaining: 468ms\n",
      "95:\tlearn: 0.4424780\ttotal: 8.99s\tremaining: 375ms\n",
      "96:\tlearn: 0.4423138\ttotal: 9.08s\tremaining: 281ms\n",
      "97:\tlearn: 0.4421603\ttotal: 9.15s\tremaining: 187ms\n",
      "98:\tlearn: 0.4420664\ttotal: 9.23s\tremaining: 93.3ms\n",
      "99:\tlearn: 0.4419437\ttotal: 9.32s\tremaining: 0us\n",
      "[Pipeline] ............... (step 2 of 2) Processing clf, total=  11.8s\n"
     ]
    },
    {
     "data": {
      "text/plain": [
       "Pipeline(steps=[('preprocess',\n",
       "                 FeatureUnion(transformer_list=[('categoricals',\n",
       "                                                 ColumnTransformer(transformers=[('operation',\n",
       "                                                                                  SimpleImputer(fill_value=False,\n",
       "                                                                                                strategy='constant'),\n",
       "                                                                                  ['operation']),\n",
       "                                                                                 ('legislation',\n",
       "                                                                                  Pipeline(steps=[('legislation_imputer',\n",
       "                                                                                                   SimpleImputer(fill_value='unknown',\n",
       "                                                                                                                 strategy='constant')),\n",
       "                                                                                                  ('legislation_encoder',\n",
       "                                                                                                   OneHotEncoder(handle_unknow...\n",
       "                                                                  FunctionTransformer(func=<function extract_datetime_features at 0x7f4f8e21af28>)),\n",
       "                                                                 ('transform',\n",
       "                                                                  ColumnTransformer(transformers=[('oh_encoder',\n",
       "                                                                                                   OneHotEncoder(handle_unknown='ignore',\n",
       "                                                                                                                 sparse=False),\n",
       "                                                                                                   ['hour',\n",
       "                                                                                                    'weekday']),\n",
       "                                                                                                  ('scaler',\n",
       "                                                                                                   StandardScaler(),\n",
       "                                                                                                   ['daycount',\n",
       "                                                                                                    'sqrt_daycount'])]))]))])),\n",
       "                ('clf',\n",
       "                 <catboost.core.CatBoostClassifier object at 0x7f4f5fd250b8>)],\n",
       "         verbose=True)"
      ]
     },
     "execution_count": 26,
     "metadata": {},
     "output_type": "execute_result"
    }
   ],
   "source": [
    "pipeline = Pipeline(steps=[('preprocess', feature_preprocessor),\n",
    "                           ('clf', cbc[1])],\n",
    "                        verbose=True)\n",
    "pipeline.fit(X_train, y_train)"
   ]
  },
  {
   "cell_type": "code",
   "execution_count": null,
   "id": "forty-latino",
   "metadata": {},
   "outputs": [],
   "source": []
  },
  {
   "cell_type": "code",
   "execution_count": null,
   "id": "instrumental-defeat",
   "metadata": {},
   "outputs": [],
   "source": []
  },
  {
   "cell_type": "code",
   "execution_count": 31,
   "id": "organic-stanley",
   "metadata": {},
   "outputs": [],
   "source": [
    "# construct & train pipeline\n",
    "pipeline = Pipeline(steps=[('preprocess', feature_preprocessor),\n",
    "                           ('clf', dtc)],\n",
    "                        verbose=True)\n",
    "pipeline.fit(X_train, y_train)\n",
    "\n",
    "# predict\n",
    "authorised_train = src.evaluate.authorise_search(pipeline, X_train)\n",
    "authorised_val = src.evaluate.authorise_search(pipeline, X_val)\n",
    "pred_train = pipeline.predict(X_train)\n",
    "pred_val = pipeline.predict(X_val)\n",
    "\n",
    "#\n",
    "pred_train = src.evaluate.authorise_search(pipeline, X_train)\n",
    "pred_val = src.evaluate.authorise_search(pipeline, X_val)\n",
    "\n"
   ]
  },
  {
   "cell_type": "code",
   "execution_count": null,
   "id": "alert-portsmouth",
   "metadata": {},
   "outputs": [],
   "source": []
  },
  {
   "cell_type": "code",
   "execution_count": 40,
   "id": "thirty-lloyd",
   "metadata": {},
   "outputs": [],
   "source": []
  },
  {
   "cell_type": "code",
   "execution_count": null,
   "id": "sharing-tobago",
   "metadata": {},
   "outputs": [],
   "source": []
  },
  {
   "cell_type": "code",
   "execution_count": 41,
   "id": "surprising-jacksonville",
   "metadata": {},
   "outputs": [
    {
     "name": "stdout",
     "output_type": "stream",
     "text": [
      "0.914500870513708 0.29317029525797794\n"
     ]
    }
   ],
   "source": [
    "score_train = precision_score(y_train, pred_train)\n",
    "score_val = precision_score(y_val, pred_val)\n",
    "\n",
    "print(score_train, score_val)"
   ]
  },
  {
   "cell_type": "code",
   "execution_count": null,
   "id": "greek-treat",
   "metadata": {},
   "outputs": [],
   "source": []
  },
  {
   "cell_type": "code",
   "execution_count": 42,
   "id": "higher-newcastle",
   "metadata": {},
   "outputs": [
    {
     "data": {
      "text/html": [
       "<div>\n",
       "<style scoped>\n",
       "    .dataframe tbody tr th:only-of-type {\n",
       "        vertical-align: middle;\n",
       "    }\n",
       "\n",
       "    .dataframe tbody tr th {\n",
       "        vertical-align: top;\n",
       "    }\n",
       "\n",
       "    .dataframe thead th {\n",
       "        text-align: right;\n",
       "    }\n",
       "</style>\n",
       "<table border=\"1\" class=\"dataframe\">\n",
       "  <thead>\n",
       "    <tr style=\"text-align: right;\">\n",
       "      <th>gender</th>\n",
       "      <th>Female</th>\n",
       "      <th>Male</th>\n",
       "    </tr>\n",
       "    <tr>\n",
       "      <th>ethnicity</th>\n",
       "      <th></th>\n",
       "      <th></th>\n",
       "    </tr>\n",
       "  </thead>\n",
       "  <tbody>\n",
       "    <tr>\n",
       "      <th>Asian</th>\n",
       "      <td>0.945736</td>\n",
       "      <td>0.896135</td>\n",
       "    </tr>\n",
       "    <tr>\n",
       "      <th>Black</th>\n",
       "      <td>0.974468</td>\n",
       "      <td>0.904176</td>\n",
       "    </tr>\n",
       "    <tr>\n",
       "      <th>Mixed</th>\n",
       "      <td>1.000000</td>\n",
       "      <td>0.926740</td>\n",
       "    </tr>\n",
       "    <tr>\n",
       "      <th>Other</th>\n",
       "      <td>0.957746</td>\n",
       "      <td>0.904437</td>\n",
       "    </tr>\n",
       "    <tr>\n",
       "      <th>White</th>\n",
       "      <td>0.966594</td>\n",
       "      <td>0.911802</td>\n",
       "    </tr>\n",
       "  </tbody>\n",
       "</table>\n",
       "</div>"
      ],
      "text/plain": [
       "gender       Female      Male\n",
       "ethnicity                    \n",
       "Asian      0.945736  0.896135\n",
       "Black      0.974468  0.904176\n",
       "Mixed      1.000000  0.926740\n",
       "Other      0.957746  0.904437\n",
       "White      0.966594  0.911802"
      ]
     },
     "execution_count": 42,
     "metadata": {},
     "output_type": "execute_result"
    }
   ],
   "source": [
    "src.evaluate.calculate_subgroup_precisions(pred_train, y_train, X_train, grouping=['ethnicity', 'gender']).unstack()"
   ]
  },
  {
   "cell_type": "code",
   "execution_count": 43,
   "id": "equal-rachel",
   "metadata": {},
   "outputs": [
    {
     "data": {
      "text/plain": [
       "station\n",
       "avon-and-somerset     0.911372\n",
       "bedfordshire          0.911252\n",
       "btp                   0.919149\n",
       "cambridgeshire        0.926829\n",
       "cheshire              0.961499\n",
       "city-of-london        0.954103\n",
       "cleveland             0.931818\n",
       "cumbria               0.965318\n",
       "derbyshire            0.941634\n",
       "devon-and-cornwall    0.934146\n",
       "dorset                0.859073\n",
       "durham                0.922975\n",
       "dyfed-powys           0.865672\n",
       "essex                 0.908972\n",
       "gloucestershire       0.918200\n",
       "greater-manchester    0.938931\n",
       "gwent                      NaN\n",
       "hampshire             0.918990\n",
       "hertfordshire         0.925000\n",
       "humberside                 NaN\n",
       "kent                  0.945070\n",
       "lancashire            0.924312\n",
       "leicestershire        0.958525\n",
       "lincolnshire          0.950512\n",
       "merseyside            0.939752\n",
       "metropolitan               NaN\n",
       "norfolk               0.889299\n",
       "north-wales           0.921371\n",
       "north-yorkshire       0.955224\n",
       "northamptonshire      0.898119\n",
       "northumbria           0.922276\n",
       "nottinghamshire       0.929587\n",
       "south-yorkshire       0.813595\n",
       "staffordshire         0.922512\n",
       "suffolk               0.895556\n",
       "surrey                0.844282\n",
       "sussex                0.868289\n",
       "thames-valley         0.821806\n",
       "warwickshire          0.938144\n",
       "west-mercia           0.927894\n",
       "west-yorkshire        0.938488\n",
       "wiltshire             0.904762\n",
       "dtype: float64"
      ]
     },
     "execution_count": 43,
     "metadata": {},
     "output_type": "execute_result"
    }
   ],
   "source": [
    "src.evaluate.calculate_subgroup_precisions(pred_train, y_train, X_train, grouping=['station'])#.plot()#.unstack()"
   ]
  },
  {
   "cell_type": "code",
   "execution_count": null,
   "id": "coral-stupid",
   "metadata": {},
   "outputs": [],
   "source": []
  },
  {
   "cell_type": "code",
   "execution_count": 44,
   "id": "numerical-parcel",
   "metadata": {},
   "outputs": [
    {
     "data": {
      "text/plain": [
       "0.35945945945945945"
      ]
     },
     "execution_count": 44,
     "metadata": {},
     "output_type": "execute_result"
    }
   ],
   "source": [
    "src.evaluate.within_station_discrepancy(pred_train, y_train, X_train).max()"
   ]
  },
  {
   "cell_type": "code",
   "execution_count": 45,
   "id": "extreme-measure",
   "metadata": {},
   "outputs": [
    {
     "data": {
      "text/plain": [
       "0.1517229646252496"
      ]
     },
     "execution_count": 45,
     "metadata": {},
     "output_type": "execute_result"
    }
   ],
   "source": [
    "src.evaluate.across_station_discrepancy(pred_train, y_train, X_train)"
   ]
  },
  {
   "cell_type": "code",
   "execution_count": 46,
   "id": "commercial-husband",
   "metadata": {},
   "outputs": [
    {
     "data": {
      "text/plain": [
       "0.10386536944517488"
      ]
     },
     "execution_count": 46,
     "metadata": {},
     "output_type": "execute_result"
    }
   ],
   "source": [
    "src.evaluate.across_subgroup_discrepancy(pred_train, y_train, X_train)"
   ]
  },
  {
   "cell_type": "code",
   "execution_count": null,
   "id": "refined-swing",
   "metadata": {},
   "outputs": [],
   "source": []
  },
  {
   "cell_type": "code",
   "execution_count": 47,
   "id": "declared-powder",
   "metadata": {},
   "outputs": [
    {
     "data": {
      "text/plain": [
       "0.4123157248157248"
      ]
     },
     "execution_count": 47,
     "metadata": {},
     "output_type": "execute_result"
    }
   ],
   "source": [
    "src.evaluate.within_station_discrepancy(pred_val, y_val, X_val).max()"
   ]
  },
  {
   "cell_type": "code",
   "execution_count": 48,
   "id": "great-distance",
   "metadata": {},
   "outputs": [
    {
     "data": {
      "text/plain": [
       "0.40460526315789475"
      ]
     },
     "execution_count": 48,
     "metadata": {},
     "output_type": "execute_result"
    }
   ],
   "source": [
    "src.evaluate.across_station_discrepancy(pred_val, y_val, X_val)"
   ]
  },
  {
   "cell_type": "code",
   "execution_count": 49,
   "id": "inappropriate-worse",
   "metadata": {},
   "outputs": [
    {
     "data": {
      "text/plain": [
       "0.325"
      ]
     },
     "execution_count": 49,
     "metadata": {},
     "output_type": "execute_result"
    }
   ],
   "source": [
    "src.evaluate.across_subgroup_discrepancy(pred_val, y_val, X_val)"
   ]
  },
  {
   "cell_type": "code",
   "execution_count": null,
   "id": "superb-process",
   "metadata": {},
   "outputs": [],
   "source": []
  },
  {
   "cell_type": "code",
   "execution_count": 50,
   "id": "precise-green",
   "metadata": {},
   "outputs": [
    {
     "data": {
      "text/plain": [
       "0.24004004004004004"
      ]
     },
     "execution_count": 50,
     "metadata": {},
     "output_type": "execute_result"
    }
   ],
   "source": [
    "src.evaluate.within_station_discrepancy(np.ones(y.shape), y, X).max()"
   ]
  },
  {
   "cell_type": "code",
   "execution_count": 51,
   "id": "sixth-cocktail",
   "metadata": {},
   "outputs": [
    {
     "data": {
      "text/plain": [
       "0.36015878744135693"
      ]
     },
     "execution_count": 51,
     "metadata": {},
     "output_type": "execute_result"
    }
   ],
   "source": [
    "src.evaluate.across_station_discrepancy(np.ones(y.shape), y, X)"
   ]
  },
  {
   "cell_type": "code",
   "execution_count": 52,
   "id": "unusual-moore",
   "metadata": {},
   "outputs": [
    {
     "data": {
      "text/plain": [
       "0.04012796417456782"
      ]
     },
     "execution_count": 52,
     "metadata": {},
     "output_type": "execute_result"
    }
   ],
   "source": [
    "src.evaluate.across_subgroup_discrepancy(np.ones(y.shape), y, X)"
   ]
  },
  {
   "cell_type": "code",
   "execution_count": null,
   "id": "postal-madness",
   "metadata": {},
   "outputs": [],
   "source": []
  },
  {
   "cell_type": "code",
   "execution_count": 126,
   "id": "positive-milwaukee",
   "metadata": {},
   "outputs": [],
   "source": []
  },
  {
   "cell_type": "code",
   "execution_count": 123,
   "id": "cleared-research",
   "metadata": {},
   "outputs": [
    {
     "data": {
      "text/plain": [
       "<AxesSubplot:xlabel='ethnicity,gender'>"
      ]
     },
     "execution_count": 123,
     "metadata": {},
     "output_type": "execute_result"
    },
    {
     "data": {
      "image/png": "[encoded data removed]",
      "text/plain": [
       "<Figure size 1080x720 with 1 Axes>"
      ]
     },
     "metadata": {},
     "output_type": "display_data"
    }
   ],
   "source": [
    "df_subscores.plot(figsize=(15,10))"
   ]
  },
  {
   "cell_type": "code",
   "execution_count": 75,
   "id": "sixth-identification",
   "metadata": {},
   "outputs": [
    {
     "data": {
      "text/plain": [
       "mean    0.196808\n",
       "std     0.081252\n",
       "dtype: float64"
      ]
     },
     "execution_count": 75,
     "metadata": {},
     "output_type": "execute_result"
    }
   ],
   "source": [
    "df_subscores.dropna().agg(['mean', 'std'])#.unstack()"
   ]
  },
  {
   "cell_type": "code",
   "execution_count": null,
   "id": "southeast-screw",
   "metadata": {},
   "outputs": [],
   "source": []
  },
  {
   "cell_type": "code",
   "execution_count": 34,
   "id": "adaptive-diana",
   "metadata": {},
   "outputs": [],
   "source": []
  },
  {
   "cell_type": "code",
   "execution_count": 45,
   "id": "diagnostic-destination",
   "metadata": {},
   "outputs": [
    {
     "name": "stdout",
     "output_type": "stream",
     "text": [
      "0.23476976895138713 0.23309774108610007\n"
     ]
    }
   ],
   "source": [
    "# logistic regression\n",
    "pred_train = pipeline.predict(X_train)\n",
    "pred_val = pipeline.predict(X_val)\n",
    "\n",
    "pred_train = authorise_search(pipeline, X_train)\n",
    "pred_val = authorise_search(pipeline, X_val)\n",
    "\n",
    "score_train = precision_score(y_train, pred_train)\n",
    "score_val = precision_score(y_val, pred_val)\n",
    "\n",
    "print(score_train, score_val)"
   ]
  },
  {
   "cell_type": "code",
   "execution_count": 49,
   "id": "inappropriate-reservoir",
   "metadata": {},
   "outputs": [
    {
     "name": "stdout",
     "output_type": "stream",
     "text": [
      "0.9040430582990522 0.29598624710366994\n"
     ]
    }
   ],
   "source": [
    "# tree\n",
    "pred_train = authorise_search(pipeline, X_train)\n",
    "pred_val = authorise_search(pipeline, X_val)\n",
    "\n",
    "score_train = precision_score(y_train, pred_train)\n",
    "score_val = precision_score(y_val, pred_val)\n",
    "\n",
    "print(score_train, score_val)"
   ]
  },
  {
   "cell_type": "code",
   "execution_count": 57,
   "id": "guided-matthew",
   "metadata": {},
   "outputs": [
    {
     "name": "stdout",
     "output_type": "stream",
     "text": [
      "0.2295369582468855 0.22824487299554672\n"
     ]
    }
   ],
   "source": [
    "# stochastic gradient descent\n",
    "pred_train = authorise_search(pipeline, X_train)\n",
    "pred_val = authorise_search(pipeline, X_val)\n",
    "\n",
    "score_train = precision_score(y_train, pred_train)\n",
    "score_val = precision_score(y_val, pred_val)\n",
    "\n",
    "print(score_train, score_val)"
   ]
  },
  {
   "cell_type": "code",
   "execution_count": 69,
   "id": "mechanical-passport",
   "metadata": {},
   "outputs": [
    {
     "name": "stdout",
     "output_type": "stream",
     "text": [
      "0.5267731750842106 0.2618030066871135\n"
     ]
    }
   ],
   "source": [
    "# random forrest\n",
    "pred_train = authorise_search(pipeline, X_train)\n",
    "pred_val = authorise_search(pipeline, X_val)\n",
    "\n",
    "score_train = precision_score(y_train, pred_train)\n",
    "score_val = precision_score(y_val, pred_val)\n",
    "\n",
    "print(score_train, score_val)"
   ]
  },
  {
   "cell_type": "code",
   "execution_count": 35,
   "id": "developed-norman",
   "metadata": {},
   "outputs": [
    {
     "name": "stdout",
     "output_type": "stream",
     "text": [
      "0.24838121995653986 0.24270587463939156\n"
     ]
    }
   ],
   "source": [
    "# XGB\n",
    "pred_train = authorise_search(pipeline, X_train)\n",
    "pred_val = authorise_search(pipeline, X_val)\n",
    "\n",
    "score_train = precision_score(y_train, pred_train)\n",
    "score_val = precision_score(y_val, pred_val)\n",
    "\n",
    "print(score_train, score_val)"
   ]
  },
  {
   "cell_type": "code",
   "execution_count": 38,
   "id": "unknown-heating",
   "metadata": {},
   "outputs": [
    {
     "name": "stdout",
     "output_type": "stream",
     "text": [
      "0.24268189191221493 0.23942960833748173\n"
     ]
    }
   ],
   "source": [
    "# LGBM\n",
    "pred_train = authorise_search(pipeline, X_train)\n",
    "pred_val = authorise_search(pipeline, X_val)\n",
    "\n",
    "score_train = precision_score(y_train, pred_train)\n",
    "score_val = precision_score(y_val, pred_val)\n",
    "\n",
    "print(score_train, score_val)"
   ]
  },
  {
   "cell_type": "code",
   "execution_count": 41,
   "id": "indie-valley",
   "metadata": {},
   "outputs": [
    {
     "name": "stdout",
     "output_type": "stream",
     "text": [
      "0.2514887565549729 0.24520869001512607\n"
     ]
    }
   ],
   "source": [
    "# CatBoost\n",
    "pred_train = authorise_search(pipeline, X_train)\n",
    "pred_val = authorise_search(pipeline, X_val)\n",
    "\n",
    "score_train = precision_score(y_train, pred_train)\n",
    "score_val = precision_score(y_val, pred_val)\n",
    "\n",
    "print(score_train, score_val)"
   ]
  },
  {
   "cell_type": "code",
   "execution_count": 49,
   "id": "written-scheme",
   "metadata": {},
   "outputs": [
    {
     "name": "stdout",
     "output_type": "stream",
     "text": [
      "0.20147680689004124 0.20103452735031682\n"
     ]
    }
   ],
   "source": [
    "# AdaBoost\n",
    "pred_train = authorise_search(pipeline, X_train)\n",
    "pred_val = authorise_search(pipeline, X_val)\n",
    "\n",
    "score_train = precision_score(y_train, pred_train)\n",
    "score_val = precision_score(y_val, pred_val)\n",
    "\n",
    "print(score_train, score_val)"
   ]
  },
  {
   "cell_type": "code",
   "execution_count": null,
   "id": "acknowledged-thomson",
   "metadata": {},
   "outputs": [],
   "source": []
  },
  {
   "cell_type": "code",
   "execution_count": null,
   "id": "answering-suicide",
   "metadata": {},
   "outputs": [],
   "source": []
  },
  {
   "cell_type": "code",
   "execution_count": null,
   "id": "vocational-principal",
   "metadata": {},
   "outputs": [],
   "source": []
  },
  {
   "cell_type": "code",
   "execution_count": 50,
   "id": "ideal-colombia",
   "metadata": {},
   "outputs": [
    {
     "data": {
      "text/plain": [
       "0.5"
      ]
     },
     "execution_count": 50,
     "metadata": {},
     "output_type": "execute_result"
    }
   ],
   "source": [
    "roc_auc_score(y_val, pred_val)"
   ]
  },
  {
   "cell_type": "code",
   "execution_count": null,
   "id": "indie-phrase",
   "metadata": {},
   "outputs": [],
   "source": []
  },
  {
   "cell_type": "code",
   "execution_count": null,
   "id": "ancient-trance",
   "metadata": {},
   "outputs": [],
   "source": []
  },
  {
   "cell_type": "code",
   "execution_count": null,
   "id": "posted-counter",
   "metadata": {},
   "outputs": [],
   "source": []
  },
  {
   "cell_type": "code",
   "execution_count": null,
   "id": "touched-trader",
   "metadata": {},
   "outputs": [],
   "source": []
  },
  {
   "cell_type": "code",
   "execution_count": null,
   "id": "grave-moment",
   "metadata": {},
   "outputs": [],
   "source": []
  },
  {
   "cell_type": "code",
   "execution_count": null,
   "id": "spread-region",
   "metadata": {},
   "outputs": [],
   "source": [
    "for clf in classifiers:\n",
    "    clf.fit(X_train, y_train)\n",
    "    y_pred= clf.predict(X_test)\n",
    "    acc = accuracy_score(y_test, y_pred)\n",
    "    print(\"Accuracy of %s is %s\"%(clf, acc))\n",
    "    cm = confusion_matrix(y_test, y_pred)\n",
    "    print(\"Confusion Matrix of %s is %s\"%(clf, cm)"
   ]
  },
  {
   "cell_type": "code",
   "execution_count": null,
   "id": "digital-denmark",
   "metadata": {},
   "outputs": [],
   "source": []
  },
  {
   "cell_type": "code",
   "execution_count": null,
   "id": "abroad-samoa",
   "metadata": {},
   "outputs": [],
   "source": []
  },
  {
   "cell_type": "markdown",
   "id": "exempt-knife",
   "metadata": {},
   "source": [
    "### Model"
   ]
  },
  {
   "cell_type": "code",
   "execution_count": 690,
   "id": "objective-stomach",
   "metadata": {},
   "outputs": [],
   "source": []
  },
  {
   "cell_type": "markdown",
   "id": "disturbed-satellite",
   "metadata": {},
   "source": [
    "## Training"
   ]
  },
  {
   "cell_type": "code",
   "execution_count": 694,
   "id": "incredible-heater",
   "metadata": {},
   "outputs": [
    {
     "name": "stderr",
     "output_type": "stream",
     "text": [
      "/home/rubelrennfix/.virtualenvs/capstone/lib/python3.6/site-packages/sklearn/preprocessing/_discretization.py:222: UserWarning: Bins whose width are too small (i.e., <= 1e-8) in feature 0 are removed. Consider decreasing the number of bins.\n",
      "  'decreasing the number of bins.' % jj)\n",
      "/home/rubelrennfix/.virtualenvs/capstone/lib/python3.6/site-packages/sklearn/preprocessing/_discretization.py:222: UserWarning: Bins whose width are too small (i.e., <= 1e-8) in feature 1 are removed. Consider decreasing the number of bins.\n",
      "  'decreasing the number of bins.' % jj)\n",
      "/home/rubelrennfix/.virtualenvs/capstone/lib/python3.6/site-packages/category_encoders/utils.py:21: FutureWarning: is_categorical is deprecated and will be removed in a future version.  Use is_categorical_dtype instead\n",
      "  elif pd.api.types.is_categorical(cols):\n"
     ]
    },
    {
     "data": {
      "text/plain": [
       "Pipeline(steps=[('preprocess',\n",
       "                 FeatureUnion(transformer_list=[('categoricals',\n",
       "                                                 ColumnTransformer(transformers=[('operation',\n",
       "                                                                                  SimpleImputer(fill_value=False,\n",
       "                                                                                                strategy='constant'),\n",
       "                                                                                  ['operation']),\n",
       "                                                                                 ('legislation',\n",
       "                                                                                  Pipeline(steps=[('legislation_imputer',\n",
       "                                                                                                   SimpleImputer(fill_value='unknown',\n",
       "                                                                                                                 strategy='constant')),\n",
       "                                                                                                  ('legislation_encoder',\n",
       "                                                                                                   OneHotEncoder(handle_unknow...\n",
       "                                                                  TargetEncoder(cols=[0]))])),\n",
       "                                                ('date',\n",
       "                                                 Pipeline(steps=[('extract',\n",
       "                                                                  FunctionTransformer(func=<function extract_datetime_features at 0x7f7e7f135158>)),\n",
       "                                                                 ('transform',\n",
       "                                                                  ColumnTransformer(transformers=[('oh_encoder',\n",
       "                                                                                                   OneHotEncoder(handle_unknown='ignore',\n",
       "                                                                                                                 sparse=False),\n",
       "                                                                                                   ['hour',\n",
       "                                                                                                    'weekday']),\n",
       "                                                                                                  ('scaler',\n",
       "                                                                                                   StandardScaler(),\n",
       "                                                                                                   ['daycount',\n",
       "                                                                                                    'sqrt_daycount'])]))]))])),\n",
       "                ('clf', DecisionTreeClassifier())])"
      ]
     },
     "execution_count": 694,
     "metadata": {},
     "output_type": "execute_result"
    }
   ],
   "source": [
    "pipeline.fit(X, y)"
   ]
  },
  {
   "cell_type": "code",
   "execution_count": null,
   "id": "flexible-macintosh",
   "metadata": {},
   "outputs": [],
   "source": []
  },
  {
   "cell_type": "markdown",
   "id": "considered-music",
   "metadata": {},
   "source": [
    "#### Evaluate"
   ]
  },
  {
   "cell_type": "code",
   "execution_count": 698,
   "id": "rough-template",
   "metadata": {},
   "outputs": [],
   "source": [
    "authorised = authorise_search(pipeline, X)"
   ]
  },
  {
   "cell_type": "code",
   "execution_count": 699,
   "id": "tracked-syria",
   "metadata": {},
   "outputs": [],
   "source": [
    "authorised2 = authorise_search(pipeline2, X)"
   ]
  },
  {
   "cell_type": "code",
   "execution_count": 700,
   "id": "north-terminology",
   "metadata": {},
   "outputs": [],
   "source": [
    "authorised3 = authorise_search(pipeline3, X)"
   ]
  },
  {
   "cell_type": "code",
   "execution_count": null,
   "id": "necessary-license",
   "metadata": {},
   "outputs": [],
   "source": []
  },
  {
   "cell_type": "code",
   "execution_count": null,
   "id": "arabic-latest",
   "metadata": {},
   "outputs": [],
   "source": []
  },
  {
   "cell_type": "code",
   "execution_count": 701,
   "id": "double-richardson",
   "metadata": {},
   "outputs": [
    {
     "data": {
      "text/plain": [
       "False    0.772567\n",
       "True     0.227433\n",
       "dtype: float64"
      ]
     },
     "execution_count": 701,
     "metadata": {},
     "output_type": "execute_result"
    }
   ],
   "source": [
    "pd.Series(authorised).value_counts()/len(y)"
   ]
  },
  {
   "cell_type": "code",
   "execution_count": 702,
   "id": "personal-mobility",
   "metadata": {},
   "outputs": [
    {
     "data": {
      "text/plain": [
       "True     0.815759\n",
       "False    0.184241\n",
       "dtype: float64"
      ]
     },
     "execution_count": 702,
     "metadata": {},
     "output_type": "execute_result"
    }
   ],
   "source": [
    "pd.Series(authorised2).value_counts()/len(y)"
   ]
  },
  {
   "cell_type": "code",
   "execution_count": 703,
   "id": "hydraulic-wonder",
   "metadata": {},
   "outputs": [
    {
     "data": {
      "text/plain": [
       "True     0.836779\n",
       "False    0.163221\n",
       "dtype: float64"
      ]
     },
     "execution_count": 703,
     "metadata": {},
     "output_type": "execute_result"
    }
   ],
   "source": [
    "pd.Series(authorised3).value_counts()/len(y)"
   ]
  },
  {
   "cell_type": "code",
   "execution_count": 704,
   "id": "cross-century",
   "metadata": {},
   "outputs": [
    {
     "data": {
      "text/plain": [
       "array([[238965,   8066],\n",
       "       [     3,  62283]])"
      ]
     },
     "execution_count": 704,
     "metadata": {},
     "output_type": "execute_result"
    }
   ],
   "source": [
    "confusion_matrix(y, authorised)"
   ]
  },
  {
   "cell_type": "code",
   "execution_count": 705,
   "id": "amended-heating",
   "metadata": {},
   "outputs": [
    {
     "data": {
      "text/plain": [
       "array([[ 53850, 193181],\n",
       "       [  3139,  59147]])"
      ]
     },
     "execution_count": 705,
     "metadata": {},
     "output_type": "execute_result"
    }
   ],
   "source": [
    "confusion_matrix(y, authorised2)"
   ]
  },
  {
   "cell_type": "code",
   "execution_count": 706,
   "id": "pursuant-reach",
   "metadata": {},
   "outputs": [
    {
     "data": {
      "text/plain": [
       "array([[ 47885, 199146],\n",
       "       [  2602,  59684]])"
      ]
     },
     "execution_count": 706,
     "metadata": {},
     "output_type": "execute_result"
    }
   ],
   "source": [
    "confusion_matrix(y, authorised3)"
   ]
  },
  {
   "cell_type": "code",
   "execution_count": null,
   "id": "operational-pantyhose",
   "metadata": {},
   "outputs": [],
   "source": []
  },
  {
   "cell_type": "code",
   "execution_count": null,
   "id": "surgical-warehouse",
   "metadata": {},
   "outputs": [],
   "source": []
  },
  {
   "cell_type": "code",
   "execution_count": 712,
   "id": "covered-developer",
   "metadata": {},
   "outputs": [
    {
     "data": {
      "text/plain": [
       "0.9999518350833253"
      ]
     },
     "execution_count": 712,
     "metadata": {},
     "output_type": "execute_result"
    }
   ],
   "source": [
    "recall_score(y, authorised)"
   ]
  },
  {
   "cell_type": "code",
   "execution_count": 713,
   "id": "accepting-journalist",
   "metadata": {},
   "outputs": [
    {
     "data": {
      "text/plain": [
       "0.949603442186045"
      ]
     },
     "execution_count": 713,
     "metadata": {},
     "output_type": "execute_result"
    }
   ],
   "source": [
    "recall_score(y, authorised2)"
   ]
  },
  {
   "cell_type": "code",
   "execution_count": 714,
   "id": "attended-weight",
   "metadata": {},
   "outputs": [
    {
     "data": {
      "text/plain": [
       "0.9582249622708152"
      ]
     },
     "execution_count": 714,
     "metadata": {},
     "output_type": "execute_result"
    }
   ],
   "source": [
    "recall_score(y, authorised3)"
   ]
  },
  {
   "cell_type": "code",
   "execution_count": 715,
   "id": "restricted-extreme",
   "metadata": {},
   "outputs": [
    {
     "data": {
      "text/plain": [
       "{'False': {'precision': 0.9999874460178769,\n",
       "  'recall': 0.9673482275503884,\n",
       "  'f1-score': 0.9833970851791876,\n",
       "  'support': 247031},\n",
       " 'True': {'precision': 0.8853430752391648,\n",
       "  'recall': 0.9999518350833253,\n",
       "  'f1-score': 0.9391638707731745,\n",
       "  'support': 62286},\n",
       " 'accuracy': 0.9739134932771235,\n",
       " 'macro avg': {'precision': 0.9426652606285209,\n",
       "  'recall': 0.9836500313168568,\n",
       "  'f1-score': 0.961280477976181,\n",
       "  'support': 309317},\n",
       " 'weighted avg': {'precision': 0.9769019406032929,\n",
       "  'recall': 0.9739134932771235,\n",
       "  'f1-score': 0.974490009291044,\n",
       "  'support': 309317}}"
      ]
     },
     "execution_count": 715,
     "metadata": {},
     "output_type": "execute_result"
    }
   ],
   "source": [
    "classification_report(y, authorised, output_dict=True)"
   ]
  },
  {
   "cell_type": "code",
   "execution_count": null,
   "id": "linear-password",
   "metadata": {},
   "outputs": [],
   "source": []
  },
  {
   "cell_type": "code",
   "execution_count": null,
   "id": "forty-baker",
   "metadata": {},
   "outputs": [],
   "source": []
  },
  {
   "cell_type": "markdown",
   "id": "sized-bahamas",
   "metadata": {},
   "source": [
    "### Serialise"
   ]
  },
  {
   "cell_type": "code",
   "execution_count": 63,
   "id": "specific-greek",
   "metadata": {},
   "outputs": [],
   "source": [
    "import json\n",
    "import pickle\n",
    "import joblib"
   ]
  },
  {
   "cell_type": "code",
   "execution_count": 64,
   "id": "mounted-disability",
   "metadata": {},
   "outputs": [
    {
     "data": {
      "text/plain": [
       "['../deploy/pipeline.pickle']"
      ]
     },
     "execution_count": 64,
     "metadata": {},
     "output_type": "execute_result"
    }
   ],
   "source": [
    "# serialise\n",
    "with open('../deploy/columns.json', 'w') as fh:\n",
    "    json.dump(X.columns.tolist(), fh)\n",
    "    \n",
    "with open('../deploy/dtypes.pickle', 'wb') as fh:\n",
    "    pickle.dump(X.dtypes, fh)\n",
    "    \n",
    "joblib.dump(pipeline, '../deploy/pipeline.pickle')"
   ]
  },
  {
   "cell_type": "code",
   "execution_count": null,
   "id": "surprised-interpretation",
   "metadata": {},
   "outputs": [],
   "source": []
  }
 ],
 "metadata": {
  "kernelspec": {
   "display_name": "Python 3",
   "language": "python",
   "name": "python3"
  },
  "language_info": {
   "codemirror_mode": {
    "name": "ipython",
    "version": 3
   },
   "file_extension": ".py",
   "mimetype": "text/x-python",
   "name": "python",
   "nbconvert_exporter": "python",
   "pygments_lexer": "ipython3",
   "version": "3.6.9"
  }
 },
 "nbformat": 4,
 "nbformat_minor": 5
}
