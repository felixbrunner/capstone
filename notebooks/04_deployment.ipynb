{
 "cells": [
  {
   "cell_type": "markdown",
   "id": "collect-broadcast",
   "metadata": {},
   "source": [
    "# 04 - Evaluate"
   ]
  },
  {
   "cell_type": "markdown",
   "id": "effective-snake",
   "metadata": {},
   "source": [
    "## API tests"
   ]
  },
  {
   "cell_type": "markdown",
   "id": "congressional-arlington",
   "metadata": {},
   "source": [
    "Here are 4 samples of real data that you can use later at your own pace, just add app."
   ]
  },
  {
   "cell_type": "markdown",
   "id": "loved-adams",
   "metadata": {},
   "source": [
    "##### Sample 1"
   ]
  },
  {
   "cell_type": "code",
   "execution_count": 74,
   "id": "innovative-faith",
   "metadata": {},
   "outputs": [
    {
     "name": "stdout",
     "output_type": "stream",
     "text": [
      "{\"error\":\"ERROR: Observation ID: '3d931c84-94d3-4a14-869c-b10fef26e9ad' already exists\",\"outcome\":true}\n"
     ]
    }
   ],
   "source": [
    "! curl https://capstone-uk-police.herokuapp.com/should_search/ -H \"Content-Type: application/json\" -d '{\"observation_id\": \"3d931c84-94d3-4a14-869c-b10fef26e9ad\", \"Type\": \"Person search\", \"Date\": \"2020-01-01T00:56:00+00:00\", \"Part of a policing operation\": false, \"Latitude\": null, \"Longitude\": null, \"Gender\": \"Male\", \"Age range\": \"18-24\", \"Officer-defined ethnicity\": \"White\", \"Legislation\": \"Misuse of Drugs Act 1971 (section 23)\", \"Object of search\": \"Controlled drugs\", \"station\": \"nottinghamshire\"}'"
   ]
  },
  {
   "cell_type": "code",
   "execution_count": 75,
   "id": "certain-vacuum",
   "metadata": {},
   "outputs": [
    {
     "name": "stdout",
     "output_type": "stream",
     "text": [
      "{\"observation_id\":\"3d931c84-94d3-4a14-869c-b10fef26e9ad\",\"outcome\":false,\"predicted_outcome\":true}\n"
     ]
    }
   ],
   "source": [
    "! curl https://capstone-uk-police.herokuapp.com/search_result/ -H \"Content-Type: application/json\" -d '{\"observation_id\": \"3d931c84-94d3-4a14-869c-b10fef26e9ad\", \"outcome\": false}'"
   ]
  },
  {
   "cell_type": "markdown",
   "id": "impressed-headquarters",
   "metadata": {},
   "source": [
    "##### Sample 2"
   ]
  },
  {
   "cell_type": "code",
   "execution_count": 76,
   "id": "unknown-syndication",
   "metadata": {},
   "outputs": [
    {
     "name": "stdout",
     "output_type": "stream",
     "text": [
      "{\"outcome\":true}\n"
     ]
    }
   ],
   "source": [
    "! curl https://capstone-uk-police.herokuapp.com/should_search/ -H \"Content-Type: application/json\" -d '{\"observation_id\": \"c6d2de91-445e-40f7-9e5f-9d572f8bb232\", \"Type\": \"Person search\", \"Date\": \"2020-01-01T05:10:30+00:00\", \"Part of a policing operation\": null, \"Latitude\": 51.512598, \"Longitude\": -0.084967, \"Gender\": \"Male\", \"Age range\": \"10-17\", \"Officer-defined ethnicity\": \"Black\", \"Legislation\": \"Misuse of Drugs Act 1971 (section 23)\", \"Object of search\": \"Controlled drugs\", \"station\": \"city-of-london\"}'"
   ]
  },
  {
   "cell_type": "code",
   "execution_count": 77,
   "id": "shared-branch",
   "metadata": {},
   "outputs": [
    {
     "name": "stdout",
     "output_type": "stream",
     "text": [
      "{\"observation_id\":\"c6d2de91-445e-40f7-9e5f-9d572f8bb232\",\"outcome\":false,\"predicted_outcome\":true}\n"
     ]
    }
   ],
   "source": [
    "! curl https://capstone-uk-police.herokuapp.com/search_result/ -H \"Content-Type: application/json\" -d '{\"observation_id\": \"c6d2de91-445e-40f7-9e5f-9d572f8bb232\", \"outcome\": false}'"
   ]
  },
  {
   "cell_type": "markdown",
   "id": "cognitive-fourth",
   "metadata": {},
   "source": [
    "##### Sample 3"
   ]
  },
  {
   "cell_type": "code",
   "execution_count": 78,
   "id": "residential-packet",
   "metadata": {},
   "outputs": [
    {
     "name": "stdout",
     "output_type": "stream",
     "text": [
      "{\"outcome\":true}\n"
     ]
    }
   ],
   "source": [
    "! curl https://capstone-uk-police.herokuapp.com/should_search/ -H \"Content-Type: application/json\" -d '{\"observation_id\": \"ccf22593-5402-41b0-9f3b-ce4bb69389c2\", \"Type\": \"Person and Vehicle search\", \"Date\": \"2020-01-02T07:41:52+00:00\", \"Part of a policing operation\": null, \"Latitude\": 51.51265, \"Longitude\": -0.101452, \"Gender\": \"Male\", \"Age range\": \"18-24\", \"Officer-defined ethnicity\": \"Black\", \"Legislation\": \"Misuse of Drugs Act 1971 (section 23)\", \"Object of search\": \"Controlled drugs\", \"station\": \"city-of-london\"}'"
   ]
  },
  {
   "cell_type": "code",
   "execution_count": 79,
   "id": "solid-czech",
   "metadata": {},
   "outputs": [
    {
     "name": "stdout",
     "output_type": "stream",
     "text": [
      "{\"observation_id\":\"ccf22593-5402-41b0-9f3b-ce4bb69389c2\",\"outcome\":true,\"predicted_outcome\":true}\n"
     ]
    }
   ],
   "source": [
    "! curl https://capstone-uk-police.herokuapp.com/search_result/ -H \"Content-Type: application/json\" -d '{\"observation_id\": \"ccf22593-5402-41b0-9f3b-ce4bb69389c2\", \"outcome\": true}'"
   ]
  },
  {
   "cell_type": "markdown",
   "id": "coastal-galaxy",
   "metadata": {},
   "source": [
    "##### Sample 4"
   ]
  },
  {
   "cell_type": "code",
   "execution_count": 80,
   "id": "breathing-brooks",
   "metadata": {},
   "outputs": [
    {
     "name": "stdout",
     "output_type": "stream",
     "text": [
      "{\"outcome\":true}\n"
     ]
    }
   ],
   "source": [
    "! curl https://capstone-uk-police.herokuapp.com/should_search/ -H \"Content-Type: application/json\" -d '{\"observation_id\": \"0bcac709-1531-49e4-881e-e0f5e1c28e31\", \"Type\": \"Person and Vehicle search\", \"Date\": \"2020-01-02T10:19:13+00:00\", \"Part of a policing operation\": null, \"Latitude\": null, \"Longitude\": null, \"Gender\": \"Male\", \"Age range\": \"18-24\", \"Officer-defined ethnicity\": \"White\", \"Legislation\": \"Misuse of Drugs Act 1971 (section 23)\", \"Object of search\": \"Controlled drugs\", \"station\": \"city-of-london\"}'"
   ]
  },
  {
   "cell_type": "code",
   "execution_count": 81,
   "id": "welsh-texture",
   "metadata": {},
   "outputs": [
    {
     "name": "stdout",
     "output_type": "stream",
     "text": [
      "{\"observation_id\":\"0bcac709-1531-49e4-881e-e0f5e1c28e31\",\"outcome\":true,\"predicted_outcome\":true}\n"
     ]
    }
   ],
   "source": [
    "! curl https://capstone-uk-police.herokuapp.com/search_result/ -H \"Content-Type: application/json\" -d '{\"observation_id\": \"0bcac709-1531-49e4-881e-e0f5e1c28e31\", \"outcome\": true}'"
   ]
  },
  {
   "cell_type": "markdown",
   "id": "adaptive-california",
   "metadata": {},
   "source": [
    "## Local tests"
   ]
  },
  {
   "cell_type": "code",
   "execution_count": 86,
   "id": "lasting-drive",
   "metadata": {},
   "outputs": [],
   "source": [
    "### IMPORTS ###\n",
    "\n",
    "import os\n",
    "import joblib\n",
    "import json\n",
    "import pickle\n",
    "import pandas as pd\n",
    "from flask import Flask, request, jsonify\n",
    "from peewee import (\n",
    "    SqliteDatabase, PostgresqlDatabase, Model, IntegerField, BooleanField,\n",
    "    FloatField, TextField, IntegrityError\n",
    ")\n",
    "from playhouse.shortcuts import model_to_dict\n",
    "from playhouse.db_url import connect\n",
    "\n",
    "import sys\n",
    "sys.path.append('../')\n",
    "\n",
    "import src\n",
    "from src.modeling import (\n",
    "    coordinate_dict,\n",
    "    fill_coordinates_with_station_means,\n",
    "    grid_to_category,\n",
    "    extract_datetime_features)\n",
    "\n",
    "\n",
    "\n",
    "### UNPICKLE THE PREVIOUSLY-TRAINED SKLEARN MODEL ###\n",
    "\n",
    "with open('../deploy/columns.json') as fh:\n",
    "    columns = json.load(fh)\n",
    "\n",
    "with open('../deploy/dtypes.pickle', 'rb') as fh:\n",
    "    dtypes = pickle.load(fh)\n",
    "\n",
    "pipeline = joblib.load('../deploy/pipeline.pickle')"
   ]
  },
  {
   "cell_type": "code",
   "execution_count": 88,
   "id": "private-transportation",
   "metadata": {},
   "outputs": [
    {
     "data": {
      "text/html": [
       "<div>\n",
       "<style scoped>\n",
       "    .dataframe tbody tr th:only-of-type {\n",
       "        vertical-align: middle;\n",
       "    }\n",
       "\n",
       "    .dataframe tbody tr th {\n",
       "        vertical-align: top;\n",
       "    }\n",
       "\n",
       "    .dataframe thead th {\n",
       "        text-align: right;\n",
       "    }\n",
       "</style>\n",
       "<table border=\"1\" class=\"dataframe\">\n",
       "  <thead>\n",
       "    <tr style=\"text-align: right;\">\n",
       "      <th></th>\n",
       "      <th>type</th>\n",
       "      <th>date</th>\n",
       "      <th>operation</th>\n",
       "      <th>lat</th>\n",
       "      <th>long</th>\n",
       "      <th>sex</th>\n",
       "      <th>age</th>\n",
       "      <th>ethnicity_officer</th>\n",
       "      <th>legislation</th>\n",
       "      <th>search_target</th>\n",
       "      <th>station</th>\n",
       "    </tr>\n",
       "  </thead>\n",
       "  <tbody>\n",
       "    <tr>\n",
       "      <th>c6d2de91-445e-40f7-9e5f-9d572f8bb232</th>\n",
       "      <td>Person search</td>\n",
       "      <td>2020-01-01 05:10:30+00:00</td>\n",
       "      <td>NaN</td>\n",
       "      <td>51.512598</td>\n",
       "      <td>-0.084967</td>\n",
       "      <td>Male</td>\n",
       "      <td>10-17</td>\n",
       "      <td>Black</td>\n",
       "      <td>Misuse of Drugs Act 1971 (section 23)</td>\n",
       "      <td>Controlled drugs</td>\n",
       "      <td>city-of-london</td>\n",
       "    </tr>\n",
       "  </tbody>\n",
       "</table>\n",
       "</div>"
      ],
      "text/plain": [
       "                                               type                      date  \\\n",
       "c6d2de91-445e-40f7-9e5f-9d572f8bb232  Person search 2020-01-01 05:10:30+00:00   \n",
       "\n",
       "                                     operation        lat      long   sex  \\\n",
       "c6d2de91-445e-40f7-9e5f-9d572f8bb232       NaN  51.512598 -0.084967  Male   \n",
       "\n",
       "                                        age ethnicity_officer  \\\n",
       "c6d2de91-445e-40f7-9e5f-9d572f8bb232  10-17             Black   \n",
       "\n",
       "                                                                legislation  \\\n",
       "c6d2de91-445e-40f7-9e5f-9d572f8bb232  Misuse of Drugs Act 1971 (section 23)   \n",
       "\n",
       "                                         search_target         station  \n",
       "c6d2de91-445e-40f7-9e5f-9d572f8bb232  Controlled drugs  city-of-london  "
      ]
     },
     "execution_count": 88,
     "metadata": {},
     "output_type": "execute_result"
    }
   ],
   "source": [
    "d2 = {\"observation_id\": \"c6d2de91-445e-40f7-9e5f-9d572f8bb232\",\n",
    "       \"Type\": \"Person search\",\n",
    "      \"Date\": \"2020-01-01T05:10:30+00:00\",\n",
    "      \"Part of a policing operation\": None,\n",
    "      \"Latitude\": 51.512598,\n",
    "      \"Longitude\": -0.084967,\n",
    "      \"Gender\": \"Male\",\n",
    "      \"Age range\": \"10-17\",\n",
    "      \"Officer-defined ethnicity\": \"Black\",\n",
    "      \"Legislation\": \"Misuse of Drugs Act 1971 (section 23)\",\n",
    "      \"Object of search\": \"Controlled drugs\",\n",
    "      \"station\": \"city-of-london\"}\n",
    "\n",
    "keys = ['Type',\n",
    "            'Date',\n",
    "            'Part of a policing operation',\n",
    "            'Latitude',\n",
    "            'Longitude',\n",
    "            'Gender',\n",
    "            'Age range',\n",
    "            'Officer-defined ethnicity',\n",
    "            'Legislation',\n",
    "            'Object of search',\n",
    "            'station']\n",
    "myobs = pd.DataFrame([[d2[key] for key in keys]], index=[d2['observation_id']], columns=columns).astype(dtypes)\n",
    "myobs"
   ]
  },
  {
   "cell_type": "code",
   "execution_count": 89,
   "id": "scenic-preparation",
   "metadata": {},
   "outputs": [
    {
     "data": {
      "text/plain": [
       "array([False])"
      ]
     },
     "execution_count": 89,
     "metadata": {},
     "output_type": "execute_result"
    }
   ],
   "source": [
    "pipeline.predict(myobs)"
   ]
  }
 ],
 "metadata": {
  "kernelspec": {
   "display_name": "Python 3",
   "language": "python",
   "name": "python3"
  },
  "language_info": {
   "codemirror_mode": {
    "name": "ipython",
    "version": 3
   },
   "file_extension": ".py",
   "mimetype": "text/x-python",
   "name": "python",
   "nbconvert_exporter": "python",
   "pygments_lexer": "ipython3",
   "version": "3.6.9"
  }
 },
 "nbformat": 4,
 "nbformat_minor": 5
}
