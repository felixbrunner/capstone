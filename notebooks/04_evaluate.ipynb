{
 "cells": [
  {
   "cell_type": "markdown",
   "id": "stone-photograph",
   "metadata": {},
   "source": [
    "# 04 - Evaluate"
   ]
  },
  {
   "cell_type": "code",
   "execution_count": null,
   "id": "requested-producer",
   "metadata": {},
   "outputs": [],
   "source": []
  },
  {
   "cell_type": "code",
   "execution_count": null,
   "id": "herbal-plastic",
   "metadata": {},
   "outputs": [],
   "source": []
  },
  {
   "cell_type": "code",
   "execution_count": null,
   "id": "brave-parallel",
   "metadata": {},
   "outputs": [],
   "source": []
  },
  {
   "cell_type": "markdown",
   "id": "obvious-accreditation",
   "metadata": {},
   "source": [
    "## Deployment"
   ]
  },
  {
   "cell_type": "markdown",
   "id": "hired-resident",
   "metadata": {},
   "source": [
    "### Failing requests"
   ]
  },
  {
   "cell_type": "code",
   "execution_count": null,
   "id": "comparable-sullivan",
   "metadata": {},
   "outputs": [],
   "source": [
    "curl -X POST http://127.0.0.1:5000/should_search -d '{\"observation_id\": 1, \"Type\": \"Vehicle Search\"}' -H \"Content-Type:application/json\""
   ]
  },
  {
   "cell_type": "markdown",
   "id": "judicial-mailing",
   "metadata": {},
   "source": [
    "### Successful requests"
   ]
  },
  {
   "cell_type": "code",
   "execution_count": null,
   "id": "static-pasta",
   "metadata": {},
   "outputs": [],
   "source": [
    "curl -X POST \"http://127.0.0.1:5000/should_search\" -H  \"accept: application/json\" -H  \"Content-Type: application/json\" -d '{\"Type\": \"Vehicle search\", \"observation_id\": \"d62c9e35-6293-45fc-aab6-706bdac1601e\", \"station\": \"metropolitan\", \"Longitude\": 1, \"Officer-defined ethnicity\": \"White\", \"Legislation\": 12, \"Date\": \"2020\", \"Part of a policing operation\": true, \"Age range\": \"25-34\", \"Object of search\": \"\", \"Latitude\": 50, \"Gender\": \"Male\"}'"
   ]
  },
  {
   "cell_type": "code",
   "execution_count": null,
   "id": "respective-incident",
   "metadata": {},
   "outputs": [],
   "source": [
    "curl -X POST \"http://127.0.0.1:5000/should_search\" -H  \"accept: application/json\" -H  \"Content-Type: application/json\" -d '{\"Type\": \"Vehicle search\", \"observation_id\": \"d62c9e35-6293-45fc-aab6-706bdac1601e\", \"station\": \"metropolitan\", \"Longitude\": 1, \"Officer-defined ethnicity\": \"Black\", \"Legislation\": 12, \"Date\": \"2020\", \"Part of a policing operation\": true, \"Age range\": \"18-24\", \"Object of search\": \"\", \"Latitude\": 50, \"Gender\": \"Male\"}'"
   ]
  },
  {
   "cell_type": "code",
   "execution_count": null,
   "id": "union-thesaurus",
   "metadata": {},
   "outputs": [],
   "source": []
  },
  {
   "cell_type": "code",
   "execution_count": null,
   "id": "hollow-course",
   "metadata": {},
   "outputs": [],
   "source": [
    "curl -X POST \"http://127.0.0.1:5000/list-db-contents\""
   ]
  },
  {
   "cell_type": "code",
   "execution_count": null,
   "id": "specific-jackson",
   "metadata": {},
   "outputs": [],
   "source": []
  },
  {
   "cell_type": "code",
   "execution_count": null,
   "id": "immune-syndicate",
   "metadata": {},
   "outputs": [],
   "source": []
  },
  {
   "cell_type": "code",
   "execution_count": null,
   "id": "changing-genesis",
   "metadata": {},
   "outputs": [],
   "source": [
    ", \"operation\": False, \"lat\": 50.923411, \"long\": -0.461108, \"sex\": \"Male\", \"age\": \"18-24\", \"ethnicity_self\": \"White - English/Welsh/Scottish/Northern Irish/British\", \"ethnicity_officer\": \"White\", \"legislation\": \"Misuse of Drugs Act 1971 (section 23)\", \"search_target\": \"Controlled drugs\", \"outcome\": \"Offender given drugs possession warning\", \"found_target\": False, \"stripped\": False, \"station\": \"sussex\"}'"
   ]
  },
  {
   "cell_type": "code",
   "execution_count": 5,
   "id": "rapid-stephen",
   "metadata": {},
   "outputs": [],
   "source": [
    "s = \"\"\"'station', 'Longitude', 'Officer-defined ethnicity', 'Legislation', 'Date', 'Part of a policing operation', 'Age range', 'Object of search', 'Latitude', 'Gender' \"\"\""
   ]
  },
  {
   "cell_type": "code",
   "execution_count": 6,
   "id": "concerned-updating",
   "metadata": {},
   "outputs": [
    {
     "data": {
      "text/plain": [
       "'\"station\", \"Longitude\", \"Officer-defined ethnicity\", \"Legislation\", \"Date\", \"Part of a policing operation\", \"Age range\", \"Object of search\", \"Latitude\", \"Gender\" '"
      ]
     },
     "execution_count": 6,
     "metadata": {},
     "output_type": "execute_result"
    }
   ],
   "source": [
    "s.replace('\\'', '\\\"')"
   ]
  },
  {
   "cell_type": "code",
   "execution_count": null,
   "id": "yellow-polls",
   "metadata": {},
   "outputs": [],
   "source": []
  }
 ],
 "metadata": {
  "kernelspec": {
   "display_name": "Python 3",
   "language": "python",
   "name": "python3"
  },
  "language_info": {
   "codemirror_mode": {
    "name": "ipython",
    "version": 3
   },
   "file_extension": ".py",
   "mimetype": "text/x-python",
   "name": "python",
   "nbconvert_exporter": "python",
   "pygments_lexer": "ipython3",
   "version": "3.6.9"
  }
 },
 "nbformat": 4,
 "nbformat_minor": 5
}
