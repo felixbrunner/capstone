{
 "cells": [
  {
   "cell_type": "markdown",
   "id": "naughty-closure",
   "metadata": {},
   "source": [
    "# 05 - Retraining"
   ]
  },
  {
   "cell_type": "markdown",
   "id": "altered-facility",
   "metadata": {},
   "source": [
    "## Imports"
   ]
  },
  {
   "cell_type": "code",
   "execution_count": 1,
   "id": "periodic-collector",
   "metadata": {},
   "outputs": [],
   "source": [
    "%load_ext autoreload\n",
    "%autoreload 2"
   ]
  },
  {
   "cell_type": "code",
   "execution_count": 2,
   "id": "ruled-business",
   "metadata": {},
   "outputs": [],
   "source": [
    "import numpy as np\n",
    "import pandas as pd\n",
    "import sklearn as skl\n",
    "import matplotlib.pyplot as plt\n",
    "import seaborn as sns\n",
    "import pandas_profiling as pp\n",
    "import time\n",
    "\n",
    "import joblib\n",
    "import json\n",
    "import pickle"
   ]
  },
  {
   "cell_type": "code",
   "execution_count": 3,
   "id": "portuguese-xerox",
   "metadata": {},
   "outputs": [],
   "source": [
    "import sys\n",
    "sys.path.append('../')\n",
    "\n",
    "import src"
   ]
  },
  {
   "cell_type": "code",
   "execution_count": 4,
   "id": "human-tablet",
   "metadata": {},
   "outputs": [],
   "source": [
    "plt.style.use('fivethirtyeight')\n",
    "pd.set_option('precision', 4)"
   ]
  },
  {
   "cell_type": "markdown",
   "id": "compact-queue",
   "metadata": {},
   "source": [
    "## Load model"
   ]
  },
  {
   "cell_type": "code",
   "execution_count": 5,
   "id": "centered-threshold",
   "metadata": {},
   "outputs": [],
   "source": [
    "with open('../deploy/columns.json') as fh:\n",
    "    columns = json.load(fh)\n",
    "\n",
    "with open('../deploy/dtypes.pickle', 'rb') as fh:\n",
    "    dtypes = pickle.load(fh)\n",
    "\n",
    "pipeline = joblib.load('../models/pipeline.pickle')"
   ]
  },
  {
   "cell_type": "markdown",
   "id": "indonesian-generation",
   "metadata": {},
   "source": [
    "## Load database data"
   ]
  },
  {
   "cell_type": "code",
   "execution_count": 6,
   "id": "clear-beach",
   "metadata": {},
   "outputs": [],
   "source": [
    "df_heroku = src.loader.load_heroku_csv(columns, dtypes)"
   ]
  },
  {
   "cell_type": "code",
   "execution_count": 7,
   "id": "featured-ecuador",
   "metadata": {},
   "outputs": [
    {
     "data": {
      "text/html": [
       "<div>\n",
       "<style scoped>\n",
       "    .dataframe tbody tr th:only-of-type {\n",
       "        vertical-align: middle;\n",
       "    }\n",
       "\n",
       "    .dataframe tbody tr th {\n",
       "        vertical-align: top;\n",
       "    }\n",
       "\n",
       "    .dataframe thead th {\n",
       "        text-align: right;\n",
       "    }\n",
       "</style>\n",
       "<table border=\"1\" class=\"dataframe\">\n",
       "  <thead>\n",
       "    <tr style=\"text-align: right;\">\n",
       "      <th></th>\n",
       "      <th>type</th>\n",
       "      <th>date</th>\n",
       "      <th>operation</th>\n",
       "      <th>lat</th>\n",
       "      <th>long</th>\n",
       "      <th>sex</th>\n",
       "      <th>age</th>\n",
       "      <th>ethnicity_officer</th>\n",
       "      <th>legislation</th>\n",
       "      <th>search_target</th>\n",
       "      <th>station</th>\n",
       "      <th>predicted_outcome</th>\n",
       "      <th>success</th>\n",
       "    </tr>\n",
       "    <tr>\n",
       "      <th>observation_id</th>\n",
       "      <th></th>\n",
       "      <th></th>\n",
       "      <th></th>\n",
       "      <th></th>\n",
       "      <th></th>\n",
       "      <th></th>\n",
       "      <th></th>\n",
       "      <th></th>\n",
       "      <th></th>\n",
       "      <th></th>\n",
       "      <th></th>\n",
       "      <th></th>\n",
       "      <th></th>\n",
       "    </tr>\n",
       "  </thead>\n",
       "  <tbody>\n",
       "    <tr>\n",
       "      <th>cf46ed6e-e6bb-4bc9-959d-ef2e5a8162a0</th>\n",
       "      <td>Person search</td>\n",
       "      <td>2020-01-01 01:45:00+00:00</td>\n",
       "      <td>False</td>\n",
       "      <td>NaN</td>\n",
       "      <td>NaN</td>\n",
       "      <td>Male</td>\n",
       "      <td>18-24</td>\n",
       "      <td>White</td>\n",
       "      <td>Police and Criminal Evidence Act 1984 (section 1)</td>\n",
       "      <td>Offensive weapons</td>\n",
       "      <td>nottinghamshire</td>\n",
       "      <td>True</td>\n",
       "      <td>False</td>\n",
       "    </tr>\n",
       "    <tr>\n",
       "      <th>3601e51b-f40a-4466-b884-d9284497462c</th>\n",
       "      <td>Person search</td>\n",
       "      <td>2020-01-01 02:53:14+00:00</td>\n",
       "      <td>NaN</td>\n",
       "      <td>NaN</td>\n",
       "      <td>NaN</td>\n",
       "      <td>Male</td>\n",
       "      <td>18-24</td>\n",
       "      <td>White</td>\n",
       "      <td>Police and Criminal Evidence Act 1984 (section 1)</td>\n",
       "      <td>Stolen goods</td>\n",
       "      <td>city-of-london</td>\n",
       "      <td>True</td>\n",
       "      <td>False</td>\n",
       "    </tr>\n",
       "  </tbody>\n",
       "</table>\n",
       "</div>"
      ],
      "text/plain": [
       "                                               type                      date  \\\n",
       "observation_id                                                                  \n",
       "cf46ed6e-e6bb-4bc9-959d-ef2e5a8162a0  Person search 2020-01-01 01:45:00+00:00   \n",
       "3601e51b-f40a-4466-b884-d9284497462c  Person search 2020-01-01 02:53:14+00:00   \n",
       "\n",
       "                                     operation  lat  long   sex    age  \\\n",
       "observation_id                                                           \n",
       "cf46ed6e-e6bb-4bc9-959d-ef2e5a8162a0     False  NaN   NaN  Male  18-24   \n",
       "3601e51b-f40a-4466-b884-d9284497462c       NaN  NaN   NaN  Male  18-24   \n",
       "\n",
       "                                     ethnicity_officer  \\\n",
       "observation_id                                           \n",
       "cf46ed6e-e6bb-4bc9-959d-ef2e5a8162a0             White   \n",
       "3601e51b-f40a-4466-b884-d9284497462c             White   \n",
       "\n",
       "                                                                            legislation  \\\n",
       "observation_id                                                                            \n",
       "cf46ed6e-e6bb-4bc9-959d-ef2e5a8162a0  Police and Criminal Evidence Act 1984 (section 1)   \n",
       "3601e51b-f40a-4466-b884-d9284497462c  Police and Criminal Evidence Act 1984 (section 1)   \n",
       "\n",
       "                                          search_target          station  \\\n",
       "observation_id                                                             \n",
       "cf46ed6e-e6bb-4bc9-959d-ef2e5a8162a0  Offensive weapons  nottinghamshire   \n",
       "3601e51b-f40a-4466-b884-d9284497462c       Stolen goods   city-of-london   \n",
       "\n",
       "                                      predicted_outcome  success  \n",
       "observation_id                                                    \n",
       "cf46ed6e-e6bb-4bc9-959d-ef2e5a8162a0               True    False  \n",
       "3601e51b-f40a-4466-b884-d9284497462c               True    False  "
      ]
     },
     "execution_count": 7,
     "metadata": {},
     "output_type": "execute_result"
    }
   ],
   "source": [
    "df_heroku.head(2)"
   ]
  },
  {
   "cell_type": "code",
   "execution_count": 8,
   "id": "union-scott",
   "metadata": {},
   "outputs": [
    {
     "data": {
      "text/plain": [
       "(3999, 13)"
      ]
     },
     "execution_count": 8,
     "metadata": {},
     "output_type": "execute_result"
    }
   ],
   "source": [
    "df_heroku.shape"
   ]
  },
  {
   "cell_type": "code",
   "execution_count": 9,
   "id": "employed-season",
   "metadata": {},
   "outputs": [],
   "source": [
    "df_customer =  pd.read_csv('../data/X_test_1.csv')\\\n",
    "                    .set_index('observation_id')\\\n",
    "                    .drop(columns=['Self-defined ethnicity'])\n",
    "df_customer.columns = columns\n",
    "df_customer = df_customer.astype(dtypes)\n",
    "df_customer['predicted_outcome'] = src.evaluate.authorise_search(pipeline, df_customer)\n",
    "df_customer = df_customer.join(pd.read_csv('../data/y_test_1.csv')\\\n",
    "                                  .set_index('observation_id')\\\n",
    "                                  .rename(columns={'0': 'success'}))"
   ]
  },
  {
   "cell_type": "code",
   "execution_count": 10,
   "id": "impaired-wages",
   "metadata": {},
   "outputs": [
    {
     "data": {
      "text/html": [
       "<div>\n",
       "<style scoped>\n",
       "    .dataframe tbody tr th:only-of-type {\n",
       "        vertical-align: middle;\n",
       "    }\n",
       "\n",
       "    .dataframe tbody tr th {\n",
       "        vertical-align: top;\n",
       "    }\n",
       "\n",
       "    .dataframe thead th {\n",
       "        text-align: right;\n",
       "    }\n",
       "</style>\n",
       "<table border=\"1\" class=\"dataframe\">\n",
       "  <thead>\n",
       "    <tr style=\"text-align: right;\">\n",
       "      <th></th>\n",
       "      <th>type</th>\n",
       "      <th>date</th>\n",
       "      <th>operation</th>\n",
       "      <th>lat</th>\n",
       "      <th>long</th>\n",
       "      <th>sex</th>\n",
       "      <th>age</th>\n",
       "      <th>ethnicity_officer</th>\n",
       "      <th>legislation</th>\n",
       "      <th>search_target</th>\n",
       "      <th>station</th>\n",
       "      <th>predicted_outcome</th>\n",
       "      <th>success</th>\n",
       "    </tr>\n",
       "    <tr>\n",
       "      <th>observation_id</th>\n",
       "      <th></th>\n",
       "      <th></th>\n",
       "      <th></th>\n",
       "      <th></th>\n",
       "      <th></th>\n",
       "      <th></th>\n",
       "      <th></th>\n",
       "      <th></th>\n",
       "      <th></th>\n",
       "      <th></th>\n",
       "      <th></th>\n",
       "      <th></th>\n",
       "      <th></th>\n",
       "    </tr>\n",
       "  </thead>\n",
       "  <tbody>\n",
       "    <tr>\n",
       "      <th>3d931c84-94d3-4a14-869c-b10fef26e9ad</th>\n",
       "      <td>Person search</td>\n",
       "      <td>2020-01-01 00:56:00+00:00</td>\n",
       "      <td>False</td>\n",
       "      <td>NaN</td>\n",
       "      <td>NaN</td>\n",
       "      <td>Male</td>\n",
       "      <td>18-24</td>\n",
       "      <td>White</td>\n",
       "      <td>Misuse of Drugs Act 1971 (section 23)</td>\n",
       "      <td>Controlled drugs</td>\n",
       "      <td>nottinghamshire</td>\n",
       "      <td>True</td>\n",
       "      <td>False</td>\n",
       "    </tr>\n",
       "    <tr>\n",
       "      <th>cf46ed6e-e6bb-4bc9-959d-ef2e5a8162a0</th>\n",
       "      <td>Person search</td>\n",
       "      <td>2020-01-01 01:45:00+00:00</td>\n",
       "      <td>False</td>\n",
       "      <td>NaN</td>\n",
       "      <td>NaN</td>\n",
       "      <td>Male</td>\n",
       "      <td>18-24</td>\n",
       "      <td>White</td>\n",
       "      <td>Police and Criminal Evidence Act 1984 (section 1)</td>\n",
       "      <td>Offensive weapons</td>\n",
       "      <td>nottinghamshire</td>\n",
       "      <td>True</td>\n",
       "      <td>False</td>\n",
       "    </tr>\n",
       "  </tbody>\n",
       "</table>\n",
       "</div>"
      ],
      "text/plain": [
       "                                               type                      date  \\\n",
       "observation_id                                                                  \n",
       "3d931c84-94d3-4a14-869c-b10fef26e9ad  Person search 2020-01-01 00:56:00+00:00   \n",
       "cf46ed6e-e6bb-4bc9-959d-ef2e5a8162a0  Person search 2020-01-01 01:45:00+00:00   \n",
       "\n",
       "                                     operation  lat  long   sex    age  \\\n",
       "observation_id                                                           \n",
       "3d931c84-94d3-4a14-869c-b10fef26e9ad     False  NaN   NaN  Male  18-24   \n",
       "cf46ed6e-e6bb-4bc9-959d-ef2e5a8162a0     False  NaN   NaN  Male  18-24   \n",
       "\n",
       "                                     ethnicity_officer  \\\n",
       "observation_id                                           \n",
       "3d931c84-94d3-4a14-869c-b10fef26e9ad             White   \n",
       "cf46ed6e-e6bb-4bc9-959d-ef2e5a8162a0             White   \n",
       "\n",
       "                                                                            legislation  \\\n",
       "observation_id                                                                            \n",
       "3d931c84-94d3-4a14-869c-b10fef26e9ad              Misuse of Drugs Act 1971 (section 23)   \n",
       "cf46ed6e-e6bb-4bc9-959d-ef2e5a8162a0  Police and Criminal Evidence Act 1984 (section 1)   \n",
       "\n",
       "                                          search_target          station  \\\n",
       "observation_id                                                             \n",
       "3d931c84-94d3-4a14-869c-b10fef26e9ad   Controlled drugs  nottinghamshire   \n",
       "cf46ed6e-e6bb-4bc9-959d-ef2e5a8162a0  Offensive weapons  nottinghamshire   \n",
       "\n",
       "                                      predicted_outcome  success  \n",
       "observation_id                                                    \n",
       "3d931c84-94d3-4a14-869c-b10fef26e9ad               True    False  \n",
       "cf46ed6e-e6bb-4bc9-959d-ef2e5a8162a0               True    False  "
      ]
     },
     "execution_count": 10,
     "metadata": {},
     "output_type": "execute_result"
    }
   ],
   "source": [
    "df_customer.head(2)"
   ]
  },
  {
   "cell_type": "markdown",
   "id": "variable-fundamental",
   "metadata": {},
   "source": [
    "## Analysis"
   ]
  },
  {
   "cell_type": "markdown",
   "id": "conservative-yeast",
   "metadata": {},
   "source": [
    "### Data Profile"
   ]
  },
  {
   "cell_type": "code",
   "execution_count": 11,
   "id": "guided-times",
   "metadata": {},
   "outputs": [
    {
     "data": {
      "application/vnd.jupyter.widget-view+json": {
       "model_id": "ae6e48bc3f344ac18d54c56a1b7cd60f",
       "version_major": 2,
       "version_minor": 0
      },
      "text/plain": [
       "Summarize dataset:   0%|          | 0/27 [00:00<?, ?it/s]"
      ]
     },
     "metadata": {},
     "output_type": "display_data"
    },
    {
     "name": "stderr",
     "output_type": "stream",
     "text": [
      "/home/rubelrennfix/.virtualenvs/capstone/lib/python3.6/site-packages/pandas_profiling/model/correlations.py:139: UserWarning: There was an attempt to calculate the phi_k correlation, but this failed.\n",
      "To hide this warning, disable the calculation\n",
      "(using `df.profile_report(correlations={\"phi_k\": {\"calculate\": False}})`\n",
      "If this is problematic for your use case, please report this as an issue:\n",
      "https://github.com/pandas-profiling/pandas-profiling/issues\n",
      "(include the error message: 'No data; `observed` has size 0.')\n",
      "  (include the error message: '{error}')\"\"\"\n"
     ]
    },
    {
     "data": {
      "application/vnd.jupyter.widget-view+json": {
       "model_id": "3aa44ffb5a3f410995a28d63177ad451",
       "version_major": 2,
       "version_minor": 0
      },
      "text/plain": [
       "Generate report structure:   0%|          | 0/1 [00:00<?, ?it/s]"
      ]
     },
     "metadata": {},
     "output_type": "display_data"
    },
    {
     "data": {
      "application/vnd.jupyter.widget-view+json": {
       "model_id": "417cb0da559e4075a7ede49f10ef2570",
       "version_major": 2,
       "version_minor": 0
      },
      "text/plain": [
       "Render HTML:   0%|          | 0/1 [00:00<?, ?it/s]"
      ]
     },
     "metadata": {},
     "output_type": "display_data"
    },
    {
     "data": {
      "application/vnd.jupyter.widget-view+json": {
       "model_id": "21e9e27a34634840af26d4e45fb0ffb4",
       "version_major": 2,
       "version_minor": 0
      },
      "text/plain": [
       "Export report to file:   0%|          | 0/1 [00:00<?, ?it/s]"
      ]
     },
     "metadata": {},
     "output_type": "display_data"
    }
   ],
   "source": [
    "profile = pp.ProfileReport(df_customer, title='Live Data Profiling Report', explorative=False, minimal=False, pool_size=0, progress_bar=True)\n",
    "profile.to_file('../reports/profiling/live_profile.html')"
   ]
  },
  {
   "cell_type": "markdown",
   "id": "worth-television",
   "metadata": {},
   "source": [
    "### Analyse Results"
   ]
  },
  {
   "cell_type": "code",
   "execution_count": 11,
   "id": "qualified-studio",
   "metadata": {},
   "outputs": [],
   "source": [
    "from sklearn.metrics import precision_score, confusion_matrix"
   ]
  },
  {
   "cell_type": "code",
   "execution_count": 12,
   "id": "interesting-policy",
   "metadata": {},
   "outputs": [],
   "source": [
    "df_train_labels = pd.read_pickle('../data/labelled_train')"
   ]
  },
  {
   "cell_type": "markdown",
   "id": "worldwide-manor",
   "metadata": {},
   "source": [
    "#### Pipeline performance on Test 1"
   ]
  },
  {
   "cell_type": "code",
   "execution_count": 16,
   "id": "sought-belarus",
   "metadata": {},
   "outputs": [
    {
     "data": {
      "text/html": [
       "<div>\n",
       "<style scoped>\n",
       "    .dataframe tbody tr th:only-of-type {\n",
       "        vertical-align: middle;\n",
       "    }\n",
       "\n",
       "    .dataframe tbody tr th {\n",
       "        vertical-align: top;\n",
       "    }\n",
       "\n",
       "    .dataframe thead tr th {\n",
       "        text-align: left;\n",
       "    }\n",
       "</style>\n",
       "<table border=\"1\" class=\"dataframe\">\n",
       "  <thead>\n",
       "    <tr>\n",
       "      <th></th>\n",
       "      <th colspan=\"2\" halign=\"left\">Test set 1</th>\n",
       "      <th colspan=\"2\" halign=\"left\">Training data</th>\n",
       "      <th></th>\n",
       "    </tr>\n",
       "    <tr>\n",
       "      <th></th>\n",
       "      <th>Model</th>\n",
       "      <th>Benchmark</th>\n",
       "      <th>Model</th>\n",
       "      <th>Benchmark</th>\n",
       "      <th>Target</th>\n",
       "    </tr>\n",
       "  </thead>\n",
       "  <tbody>\n",
       "    <tr>\n",
       "      <th>Search precision</th>\n",
       "      <td>0.2915</td>\n",
       "      <td>0.2782</td>\n",
       "      <td>0.24</td>\n",
       "      <td>0.2014</td>\n",
       "      <td>-</td>\n",
       "    </tr>\n",
       "    <tr>\n",
       "      <th>Maximum difference in precision between ethnicity-gender-subgroups within stations</th>\n",
       "      <td>0.117</td>\n",
       "      <td>0.1123</td>\n",
       "      <td>0.2913</td>\n",
       "      <td>0.24</td>\n",
       "      <td>0.05</td>\n",
       "    </tr>\n",
       "    <tr>\n",
       "      <th>Maximum difference in precision between stations</th>\n",
       "      <td>0.3573</td>\n",
       "      <td>0.397</td>\n",
       "      <td>0.1988</td>\n",
       "      <td>0.3602</td>\n",
       "      <td>0.1</td>\n",
       "    </tr>\n",
       "    <tr>\n",
       "      <th>Maximum difference in precision between ethnicity-gender-subgroups</th>\n",
       "      <td>0.113</td>\n",
       "      <td>0.1152</td>\n",
       "      <td>0.05109</td>\n",
       "      <td>0.04013</td>\n",
       "      <td>0.05</td>\n",
       "    </tr>\n",
       "  </tbody>\n",
       "</table>\n",
       "</div>"
      ],
      "text/plain": [
       "                                                   Test set 1            \\\n",
       "                                                        Model Benchmark   \n",
       "Search precision                                       0.2915    0.2782   \n",
       "Maximum difference in precision between ethnici...      0.117    0.1123   \n",
       "Maximum difference in precision between stations       0.3573     0.397   \n",
       "Maximum difference in precision between ethnici...      0.113    0.1152   \n",
       "\n",
       "                                                   Training data            \\\n",
       "                                                           Model Benchmark   \n",
       "Search precision                                            0.24    0.2014   \n",
       "Maximum difference in precision between ethnici...        0.2913      0.24   \n",
       "Maximum difference in precision between stations          0.1988    0.3602   \n",
       "Maximum difference in precision between ethnici...       0.05109   0.04013   \n",
       "\n",
       "                                                           \n",
       "                                                   Target  \n",
       "Search precision                                        -  \n",
       "Maximum difference in precision between ethnici...   0.05  \n",
       "Maximum difference in precision between stations      0.1  \n",
       "Maximum difference in precision between ethnici...   0.05  "
      ]
     },
     "execution_count": 16,
     "metadata": {},
     "output_type": "execute_result"
    }
   ],
   "source": [
    "# set up\n",
    "df_results = pd.DataFrame(index=['Search precision',\n",
    "                                 'Maximum difference in precision between ethnicity-gender-subgroups within stations',\n",
    "                                 'Maximum difference in precision between stations',\n",
    "                                 'Maximum difference in precision between ethnicity-gender-subgroups'],\n",
    "                          columns=pd.MultiIndex.from_arrays([['Test set 1']*2+['Training data']*2+[''], ['Model', 'Benchmark','Model', 'Benchmark', 'Target']]))\n",
    "\n",
    "# pipeline\n",
    "include = df_customer['success'].notna()\n",
    "authorised = df_customer.loc[include, 'predicted_outcome'].astype(bool)\n",
    "success = df_customer.loc[include, 'success'].astype(bool)\n",
    "X = df_customer.loc[include, columns]\n",
    "df_results.iat[0, 0] = precision_score(success, authorised)\n",
    "df_results.iat[1, 0] = src.evaluate.within_station_discrepancy(authorised, success, X).max()\n",
    "df_results.iat[2, 0] = src.evaluate.across_station_discrepancy(authorised, success, X)\n",
    "df_results.iat[3, 0] = src.evaluate.across_subgroup_discrepancy(authorised, success, X)\n",
    "\n",
    "# evaluate benchmark\n",
    "df_results.iat[0, 1] = precision_score(success, np.ones(success.shape))\n",
    "df_results.iat[1, 1] = src.evaluate.within_station_discrepancy(np.ones(success.shape), success, X).max()\n",
    "df_results.iat[2, 1] = src.evaluate.across_station_discrepancy(np.ones(success.shape), success, X)\n",
    "df_results.iat[3, 1] = src.evaluate.across_subgroup_discrepancy(np.ones(success.shape), success, X)\n",
    "\n",
    "# training data\n",
    "success = df_train_labels['success']\n",
    "authorised = df_train_labels['authorised']\n",
    "X = df_train_labels[columns]\n",
    "df_results.iat[0, 2] = precision_score(success, authorised)\n",
    "df_results.iat[1, 2] = src.evaluate.within_station_discrepancy(authorised, success, X).max()\n",
    "df_results.iat[2, 2] = src.evaluate.across_station_discrepancy(authorised, success, X)\n",
    "df_results.iat[3, 2] = src.evaluate.across_subgroup_discrepancy(authorised, success, X)\n",
    "df_results.iat[0, 3] = precision_score(success, np.ones(success.shape))\n",
    "df_results.iat[1, 3] = src.evaluate.within_station_discrepancy(np.ones(success.shape), success, X).max()\n",
    "df_results.iat[2, 3] = src.evaluate.across_station_discrepancy(np.ones(success.shape), success, X)\n",
    "df_results.iat[3, 3] = src.evaluate.across_subgroup_discrepancy(np.ones(success.shape), success, X)\n",
    "\n",
    "# targets\n",
    "df_results.iat[0, 4] = '-'\n",
    "df_results.iat[1, 4] = 0.05\n",
    "df_results.iat[2, 4] = 0.1\n",
    "df_results.iat[3, 4] = 0.05\n",
    "\n",
    "df_results.round(3)"
   ]
  },
  {
   "cell_type": "code",
   "execution_count": 42,
   "id": "decent-transport",
   "metadata": {},
   "outputs": [
    {
     "data": {
      "text/html": [
       "<div>\n",
       "<style scoped>\n",
       "    .dataframe tbody tr th:only-of-type {\n",
       "        vertical-align: middle;\n",
       "    }\n",
       "\n",
       "    .dataframe tbody tr th {\n",
       "        vertical-align: top;\n",
       "    }\n",
       "\n",
       "    .dataframe thead th {\n",
       "        text-align: right;\n",
       "    }\n",
       "</style>\n",
       "<table border=\"1\" class=\"dataframe\">\n",
       "  <thead>\n",
       "    <tr style=\"text-align: right;\">\n",
       "      <th></th>\n",
       "      <th>Model</th>\n",
       "      <th>Benchmark</th>\n",
       "      <th>Target</th>\n",
       "    </tr>\n",
       "  </thead>\n",
       "  <tbody>\n",
       "    <tr>\n",
       "      <th>Search precision</th>\n",
       "      <td>0.2915</td>\n",
       "      <td>0.2782</td>\n",
       "      <td>-</td>\n",
       "    </tr>\n",
       "    <tr>\n",
       "      <th>Maximum difference in precision between ethnicity-gender-subgroups within stations</th>\n",
       "      <td>0.117</td>\n",
       "      <td>0.1123</td>\n",
       "      <td>0.05</td>\n",
       "    </tr>\n",
       "    <tr>\n",
       "      <th>Maximum difference in precision between stations</th>\n",
       "      <td>0.3573</td>\n",
       "      <td>0.397</td>\n",
       "      <td>0.1</td>\n",
       "    </tr>\n",
       "    <tr>\n",
       "      <th>Maximum difference in precision between ethnicity-gender-subgroups</th>\n",
       "      <td>0.113</td>\n",
       "      <td>0.1152</td>\n",
       "      <td>0.05</td>\n",
       "    </tr>\n",
       "  </tbody>\n",
       "</table>\n",
       "</div>"
      ],
      "text/plain": [
       "                                                     Model Benchmark Target\n",
       "Search precision                                    0.2915    0.2782      -\n",
       "Maximum difference in precision between ethnici...   0.117    0.1123   0.05\n",
       "Maximum difference in precision between stations    0.3573     0.397    0.1\n",
       "Maximum difference in precision between ethnici...   0.113    0.1152   0.05"
      ]
     },
     "execution_count": 42,
     "metadata": {},
     "output_type": "execute_result"
    }
   ],
   "source": [
    "# set up\n",
    "df_results = pd.DataFrame(index=['Search precision',\n",
    "                                 'Maximum difference in precision between ethnicity-gender-subgroups within stations',\n",
    "                                 'Maximum difference in precision between stations',\n",
    "                                 'Maximum difference in precision between ethnicity-gender-subgroups'],\n",
    "                          columns=['Model', 'Benchmark', 'Target'])\n",
    "\n",
    "# pipeline\n",
    "include = df_customer['success'].notna()\n",
    "authorised = df_customer.loc[include, 'predicted_outcome'].astype(bool)\n",
    "success = df_customer.loc[include, 'success'].astype(bool)\n",
    "X = df_customer.loc[include, columns]\n",
    "df_results.iat[0, 0] = precision_score(success, authorised)\n",
    "df_results.iat[1, 0] = src.evaluate.within_station_discrepancy(authorised, success, X).max()\n",
    "df_results.iat[2, 0] = src.evaluate.across_station_discrepancy(authorised, success, X)\n",
    "df_results.iat[3, 0] = src.evaluate.across_subgroup_discrepancy(authorised, success, X)\n",
    "\n",
    "# evaluate benchmark\n",
    "df_results.iat[0, 1] = precision_score(success, np.ones(success.shape))\n",
    "df_results.iat[1, 1] = src.evaluate.within_station_discrepancy(np.ones(success.shape), success, X).max()\n",
    "df_results.iat[2, 1] = src.evaluate.across_station_discrepancy(np.ones(success.shape), success, X)\n",
    "df_results.iat[3, 1] = src.evaluate.across_subgroup_discrepancy(np.ones(success.shape), success, X)\n",
    "\n",
    "# targets\n",
    "df_results.iat[0, 2] = '-'\n",
    "df_results.iat[1, 2] = 0.05\n",
    "df_results.iat[2, 2] = 0.1\n",
    "df_results.iat[3, 2] = 0.05\n",
    "\n",
    "df_results"
   ]
  },
  {
   "cell_type": "code",
   "execution_count": 14,
   "id": "productive-permission",
   "metadata": {},
   "outputs": [
    {
     "data": {
      "text/html": [
       "<div>\n",
       "<style scoped>\n",
       "    .dataframe tbody tr th:only-of-type {\n",
       "        vertical-align: middle;\n",
       "    }\n",
       "\n",
       "    .dataframe tbody tr th {\n",
       "        vertical-align: top;\n",
       "    }\n",
       "\n",
       "    .dataframe thead tr th {\n",
       "        text-align: left;\n",
       "    }\n",
       "</style>\n",
       "<table border=\"1\" class=\"dataframe\">\n",
       "  <thead>\n",
       "    <tr>\n",
       "      <th></th>\n",
       "      <th></th>\n",
       "      <th colspan=\"2\" halign=\"left\">Predicted outcome</th>\n",
       "    </tr>\n",
       "    <tr>\n",
       "      <th></th>\n",
       "      <th></th>\n",
       "      <th>no succes</th>\n",
       "      <th>success</th>\n",
       "    </tr>\n",
       "  </thead>\n",
       "  <tbody>\n",
       "    <tr>\n",
       "      <th rowspan=\"2\" valign=\"top\">True outcome</th>\n",
       "      <th>no succes</th>\n",
       "      <td>242</td>\n",
       "      <td>2645</td>\n",
       "    </tr>\n",
       "    <tr>\n",
       "      <th>success</th>\n",
       "      <td>25</td>\n",
       "      <td>1088</td>\n",
       "    </tr>\n",
       "  </tbody>\n",
       "</table>\n",
       "</div>"
      ],
      "text/plain": [
       "                       Predicted outcome        \n",
       "                               no succes success\n",
       "True outcome no succes               242    2645\n",
       "             success                  25    1088"
      ]
     },
     "execution_count": 14,
     "metadata": {},
     "output_type": "execute_result"
    }
   ],
   "source": [
    "pd.DataFrame(confusion_matrix(success, authorised),\n",
    "             index=pd.MultiIndex.from_product([['True outcome'], ['no succes', 'success']]),\n",
    "             columns=pd.MultiIndex.from_product([['Predicted outcome'], ['no succes', 'success']]),\n",
    "            )"
   ]
  },
  {
   "cell_type": "markdown",
   "id": "important-matthew",
   "metadata": {},
   "source": [
    "##### Fairness"
   ]
  },
  {
   "cell_type": "code",
   "execution_count": 20,
   "id": "liquid-insulation",
   "metadata": {},
   "outputs": [
    {
     "data": {
      "text/html": [
       "<div>\n",
       "<style scoped>\n",
       "    .dataframe tbody tr th:only-of-type {\n",
       "        vertical-align: middle;\n",
       "    }\n",
       "\n",
       "    .dataframe tbody tr th {\n",
       "        vertical-align: top;\n",
       "    }\n",
       "\n",
       "    .dataframe thead th {\n",
       "        text-align: right;\n",
       "    }\n",
       "</style>\n",
       "<table border=\"1\" class=\"dataframe\">\n",
       "  <thead>\n",
       "    <tr style=\"text-align: right;\">\n",
       "      <th></th>\n",
       "      <th></th>\n",
       "      <th>Benchmark</th>\n",
       "      <th>Model</th>\n",
       "    </tr>\n",
       "    <tr>\n",
       "      <th>ethnicity</th>\n",
       "      <th>gender</th>\n",
       "      <th></th>\n",
       "      <th></th>\n",
       "    </tr>\n",
       "  </thead>\n",
       "  <tbody>\n",
       "    <tr>\n",
       "      <th rowspan=\"2\" valign=\"top\">Asian</th>\n",
       "      <th>Female</th>\n",
       "      <td>-</td>\n",
       "      <td>-</td>\n",
       "    </tr>\n",
       "    <tr>\n",
       "      <th>Male</th>\n",
       "      <td>0.2114</td>\n",
       "      <td>0.2202</td>\n",
       "    </tr>\n",
       "    <tr>\n",
       "      <th rowspan=\"2\" valign=\"top\">Black</th>\n",
       "      <th>Female</th>\n",
       "      <td>-</td>\n",
       "      <td>-</td>\n",
       "    </tr>\n",
       "    <tr>\n",
       "      <th>Male</th>\n",
       "      <td>0.2408</td>\n",
       "      <td>0.2461</td>\n",
       "    </tr>\n",
       "    <tr>\n",
       "      <th rowspan=\"2\" valign=\"top\">Mixed</th>\n",
       "      <th>Female</th>\n",
       "      <td>-</td>\n",
       "      <td>-</td>\n",
       "    </tr>\n",
       "    <tr>\n",
       "      <th>Male</th>\n",
       "      <td>0.1988</td>\n",
       "      <td>0.2148</td>\n",
       "    </tr>\n",
       "    <tr>\n",
       "      <th rowspan=\"2\" valign=\"top\">Other</th>\n",
       "      <th>Female</th>\n",
       "      <td>-</td>\n",
       "      <td>-</td>\n",
       "    </tr>\n",
       "    <tr>\n",
       "      <th>Male</th>\n",
       "      <td>0.2299</td>\n",
       "      <td>0.2317</td>\n",
       "    </tr>\n",
       "    <tr>\n",
       "      <th rowspan=\"2\" valign=\"top\">White</th>\n",
       "      <th>Female</th>\n",
       "      <td>0.314</td>\n",
       "      <td>0.3152</td>\n",
       "    </tr>\n",
       "    <tr>\n",
       "      <th>Male</th>\n",
       "      <td>0.3093</td>\n",
       "      <td>0.3278</td>\n",
       "    </tr>\n",
       "  </tbody>\n",
       "</table>\n",
       "</div>"
      ],
      "text/plain": [
       "                 Benchmark   Model\n",
       "ethnicity gender                  \n",
       "Asian     Female         -       -\n",
       "          Male      0.2114  0.2202\n",
       "Black     Female         -       -\n",
       "          Male      0.2408  0.2461\n",
       "Mixed     Female         -       -\n",
       "          Male      0.1988  0.2148\n",
       "Other     Female         -       -\n",
       "          Male      0.2299  0.2317\n",
       "White     Female     0.314  0.3152\n",
       "          Male      0.3093  0.3278"
      ]
     },
     "execution_count": 20,
     "metadata": {},
     "output_type": "execute_result"
    }
   ],
   "source": [
    "df_subgroups = src.evaluate.calculate_subgroup_precisions(authorised, success, X, grouping=['ethnicity', 'gender'])\\\n",
    "                    .unstack()\n",
    "df_subgroups.columns = pd.MultiIndex.from_product([['Model'], df_subgroups.columns])\n",
    "\n",
    "_ = src.evaluate.calculate_subgroup_precisions(np.ones(success.shape), success, X, grouping=['ethnicity', 'gender'])\\\n",
    "                       .unstack()\n",
    "_.columns = pd.MultiIndex.from_product([['Benchmark'], _.columns])\n",
    "\n",
    "df_subgroups = df_subgroups.merge(_, left_index=True, right_on='ethnicity')\\\n",
    "                           .replace(np.nan, '-')\n",
    "df_subgroups"
   ]
  },
  {
   "cell_type": "code",
   "execution_count": 26,
   "id": "desperate-uniform",
   "metadata": {},
   "outputs": [
    {
     "data": {
      "text/html": [
       "<div>\n",
       "<style scoped>\n",
       "    .dataframe tbody tr th:only-of-type {\n",
       "        vertical-align: middle;\n",
       "    }\n",
       "\n",
       "    .dataframe tbody tr th {\n",
       "        vertical-align: top;\n",
       "    }\n",
       "\n",
       "    .dataframe thead tr th {\n",
       "        text-align: left;\n",
       "    }\n",
       "\n",
       "    .dataframe thead tr:last-of-type th {\n",
       "        text-align: right;\n",
       "    }\n",
       "</style>\n",
       "<table border=\"1\" class=\"dataframe\">\n",
       "  <thead>\n",
       "    <tr>\n",
       "      <th></th>\n",
       "      <th></th>\n",
       "      <th colspan=\"2\" halign=\"left\">Test set 1</th>\n",
       "      <th colspan=\"2\" halign=\"left\">Training data</th>\n",
       "    </tr>\n",
       "    <tr>\n",
       "      <th></th>\n",
       "      <th></th>\n",
       "      <th>Benchmark</th>\n",
       "      <th>Model</th>\n",
       "      <th>Benchmark</th>\n",
       "      <th>Model</th>\n",
       "    </tr>\n",
       "    <tr>\n",
       "      <th>ethnicity</th>\n",
       "      <th>gender</th>\n",
       "      <th></th>\n",
       "      <th></th>\n",
       "      <th></th>\n",
       "      <th></th>\n",
       "    </tr>\n",
       "  </thead>\n",
       "  <tbody>\n",
       "    <tr>\n",
       "      <th rowspan=\"2\" valign=\"top\">Asian</th>\n",
       "      <th>Female</th>\n",
       "      <td>-</td>\n",
       "      <td>-</td>\n",
       "      <td>0.1936</td>\n",
       "      <td>0.2249</td>\n",
       "    </tr>\n",
       "    <tr>\n",
       "      <th>Male</th>\n",
       "      <td>0.2114</td>\n",
       "      <td>0.2202</td>\n",
       "      <td>0.2006</td>\n",
       "      <td>0.2417</td>\n",
       "    </tr>\n",
       "    <tr>\n",
       "      <th rowspan=\"2\" valign=\"top\">Black</th>\n",
       "      <th>Female</th>\n",
       "      <td>-</td>\n",
       "      <td>-</td>\n",
       "      <td>0.1991</td>\n",
       "      <td>0.2240</td>\n",
       "    </tr>\n",
       "    <tr>\n",
       "      <th>Male</th>\n",
       "      <td>0.2408</td>\n",
       "      <td>0.2461</td>\n",
       "      <td>0.2076</td>\n",
       "      <td>0.2468</td>\n",
       "    </tr>\n",
       "    <tr>\n",
       "      <th rowspan=\"2\" valign=\"top\">Mixed</th>\n",
       "      <th>Female</th>\n",
       "      <td>-</td>\n",
       "      <td>-</td>\n",
       "      <td>0.1864</td>\n",
       "      <td>0.2042</td>\n",
       "    </tr>\n",
       "    <tr>\n",
       "      <th>Male</th>\n",
       "      <td>0.1988</td>\n",
       "      <td>0.2148</td>\n",
       "      <td>0.2119</td>\n",
       "      <td>0.2530</td>\n",
       "    </tr>\n",
       "    <tr>\n",
       "      <th rowspan=\"2\" valign=\"top\">Other</th>\n",
       "      <th>Female</th>\n",
       "      <td>-</td>\n",
       "      <td>-</td>\n",
       "      <td>0.2194</td>\n",
       "      <td>0.2553</td>\n",
       "    </tr>\n",
       "    <tr>\n",
       "      <th>Male</th>\n",
       "      <td>0.2299</td>\n",
       "      <td>0.2317</td>\n",
       "      <td>0.2126</td>\n",
       "      <td>0.2535</td>\n",
       "    </tr>\n",
       "    <tr>\n",
       "      <th rowspan=\"2\" valign=\"top\">White</th>\n",
       "      <th>Female</th>\n",
       "      <td>0.314</td>\n",
       "      <td>0.3152</td>\n",
       "      <td>0.1793</td>\n",
       "      <td>0.2057</td>\n",
       "    </tr>\n",
       "    <tr>\n",
       "      <th>Male</th>\n",
       "      <td>0.3093</td>\n",
       "      <td>0.3278</td>\n",
       "      <td>0.2031</td>\n",
       "      <td>0.2434</td>\n",
       "    </tr>\n",
       "  </tbody>\n",
       "</table>\n",
       "</div>"
      ],
      "text/plain": [
       "                 Test set 1         Training data        \n",
       "                  Benchmark   Model     Benchmark   Model\n",
       "ethnicity gender                                         \n",
       "Asian     Female          -       -        0.1936  0.2249\n",
       "          Male       0.2114  0.2202        0.2006  0.2417\n",
       "Black     Female          -       -        0.1991  0.2240\n",
       "          Male       0.2408  0.2461        0.2076  0.2468\n",
       "Mixed     Female          -       -        0.1864  0.2042\n",
       "          Male       0.1988  0.2148        0.2119  0.2530\n",
       "Other     Female          -       -        0.2194  0.2553\n",
       "          Male       0.2299  0.2317        0.2126  0.2535\n",
       "White     Female      0.314  0.3152        0.1793  0.2057\n",
       "          Male       0.3093  0.3278        0.2031  0.2434"
      ]
     },
     "execution_count": 26,
     "metadata": {},
     "output_type": "execute_result"
    }
   ],
   "source": [
    "success2 = df_train_labels['success']\n",
    "authorised2 = df_train_labels['authorised']\n",
    "X2 = df_train_labels[columns]\n",
    "df_subgroups2 = src.evaluate.calculate_subgroup_precisions(authorised2, success2, X2, grouping=['ethnicity', 'gender'])\\\n",
    "                    .unstack()\n",
    "df_subgroups2.columns = pd.MultiIndex.from_product([['Model'], df_subgroups2.columns])\n",
    "\n",
    "_ = src.evaluate.calculate_subgroup_precisions(np.ones(success2.shape), success2, X2, grouping=['ethnicity', 'gender'])\\\n",
    "                       .unstack()\n",
    "_.columns = pd.MultiIndex.from_product([['Benchmark'], _.columns])\n",
    "\n",
    "df_subgroups2 = df_subgroups2.merge(_, left_index=True, right_on='ethnicity')\\\n",
    "                           .replace(np.nan, '-')\n",
    "df_comb = df_subgroups.stack().merge(df_subgroups2.stack(), left_index=True, right_on=['ethnicity', 'gender'])\n",
    "df_comb.columns = pd.MultiIndex.from_product([['Test set 1', 'Training data'], ['Benchmark', 'Model']])\n",
    "df_comb"
   ]
  },
  {
   "cell_type": "code",
   "execution_count": 62,
   "id": "loose-disposal",
   "metadata": {},
   "outputs": [
    {
     "data": {
      "image/png": "[encoded data removed]",
      "text/plain": [
       "<Figure size 504x216 with 1 Axes>"
      ]
     },
     "metadata": {},
     "output_type": "display_data"
    }
   ],
   "source": [
    "fig, ax = plt.subplots(1, 1, figsize=(7,3))\n",
    "\n",
    "station_precisions = src.evaluate.calculate_subgroup_precisions(authorised, success, X, grouping=['station']).dropna()\n",
    "station_precisions2 = src.evaluate.calculate_subgroup_precisions(authorised2, success2, X2, grouping=['station']).dropna()\n",
    "station_precisions2 = station_precisions2[station_precisions2.index.isin(station_precisions.index)]\n",
    "ax.set_title('Search precision by station')\n",
    "\n",
    "#bars\n",
    "ax.bar(x=np.arange(0, len(station_precisions), 1)-0.15, height=station_precisions, label='Model on Test set 1', width=0.3)\n",
    "ax.bar(x=np.arange(0, len(station_precisions2), 1)+0.15, height=station_precisions2, label='Model on Trainig data', width=0.3)\n",
    "\n",
    "# benchmarks\n",
    "ax.scatter(x=np.arange(0, len(station_precisions), 1)-0.15, y=src.evaluate.calculate_subgroup_precisions(np.ones(success.shape), success, X, grouping=['station']).dropna(), zorder=10, label='Test set 1 benchmark', marker='_', s=100)\n",
    "ax.scatter(x=np.arange(0, len(station_precisions2), 1)+0.15, y=src.evaluate.calculate_subgroup_precisions(np.ones(success2.shape), success2, X2, grouping=['station'])[station_precisions.index].dropna(), zorder=10, label='Training data benchmark', marker='_', s=100)\n",
    "\n",
    "ax.axhline(precision_score(success, np.ones(success.shape)), linewidth=2, linestyle='--', c='k', label='Average')\n",
    "ax.set_xticks(np.arange(0, len(station_precisions), 1))\n",
    "ax.set_xticklabels(station_precisions.index, rotation=90)\n",
    "ax.legend(bbox_to_anchor=(1.1, 0.5), ncol=1)\n",
    "\n",
    "plt.show()\n",
    "\n",
    "fig.savefig('../reports/figures/live_stations_precision.jpg', dpi=300, bbox_inches='tight')"
   ]
  },
  {
   "cell_type": "markdown",
   "id": "pharmaceutical-unemployment",
   "metadata": {},
   "source": [
    "##### Classification report"
   ]
  },
  {
   "cell_type": "code",
   "execution_count": 63,
   "id": "derived-penalty",
   "metadata": {},
   "outputs": [],
   "source": [
    "from sklearn.metrics import classification_report"
   ]
  },
  {
   "cell_type": "code",
   "execution_count": 66,
   "id": "religious-pocket",
   "metadata": {},
   "outputs": [
    {
     "data": {
      "text/html": [
       "<div>\n",
       "<style scoped>\n",
       "    .dataframe tbody tr th:only-of-type {\n",
       "        vertical-align: middle;\n",
       "    }\n",
       "\n",
       "    .dataframe tbody tr th {\n",
       "        vertical-align: top;\n",
       "    }\n",
       "\n",
       "    .dataframe thead th {\n",
       "        text-align: right;\n",
       "    }\n",
       "</style>\n",
       "<table border=\"1\" class=\"dataframe\">\n",
       "  <thead>\n",
       "    <tr style=\"text-align: right;\">\n",
       "      <th></th>\n",
       "      <th>False</th>\n",
       "      <th>True</th>\n",
       "      <th>accuracy</th>\n",
       "      <th>macro avg</th>\n",
       "      <th>weighted avg</th>\n",
       "    </tr>\n",
       "  </thead>\n",
       "  <tbody>\n",
       "    <tr>\n",
       "      <th>precision</th>\n",
       "      <td>0.9064</td>\n",
       "      <td>0.2915</td>\n",
       "      <td>0.3325</td>\n",
       "      <td>0.5989</td>\n",
       "      <td>0.7353</td>\n",
       "    </tr>\n",
       "    <tr>\n",
       "      <th>recall</th>\n",
       "      <td>0.0838</td>\n",
       "      <td>0.9775</td>\n",
       "      <td>0.3325</td>\n",
       "      <td>0.5307</td>\n",
       "      <td>0.3325</td>\n",
       "    </tr>\n",
       "    <tr>\n",
       "      <th>f1-score</th>\n",
       "      <td>0.1535</td>\n",
       "      <td>0.4490</td>\n",
       "      <td>0.3325</td>\n",
       "      <td>0.3012</td>\n",
       "      <td>0.2357</td>\n",
       "    </tr>\n",
       "    <tr>\n",
       "      <th>support</th>\n",
       "      <td>2887.0000</td>\n",
       "      <td>1113.0000</td>\n",
       "      <td>0.3325</td>\n",
       "      <td>4000.0000</td>\n",
       "      <td>4000.0000</td>\n",
       "    </tr>\n",
       "  </tbody>\n",
       "</table>\n",
       "</div>"
      ],
      "text/plain": [
       "               False       True  accuracy  macro avg  weighted avg\n",
       "precision     0.9064     0.2915    0.3325     0.5989        0.7353\n",
       "recall        0.0838     0.9775    0.3325     0.5307        0.3325\n",
       "f1-score      0.1535     0.4490    0.3325     0.3012        0.2357\n",
       "support    2887.0000  1113.0000    0.3325  4000.0000     4000.0000"
      ]
     },
     "execution_count": 66,
     "metadata": {},
     "output_type": "execute_result"
    }
   ],
   "source": [
    "pd.DataFrame(classification_report(success, authorised, output_dict=True))"
   ]
  },
  {
   "cell_type": "markdown",
   "id": "cheap-native",
   "metadata": {},
   "source": [
    "## Improve Model\n",
    "First, we reduce bias by explicitly correcting for group means.\n",
    "(replace src.evaluate.authorise_search function)\n",
    "\n",
    "Then, add ethnicity feature to pipeline.\n",
    "\n",
    "Finally, retrain with full dataset, overweighting recent observations."
   ]
  },
  {
   "cell_type": "markdown",
   "id": "aware-aggregate",
   "metadata": {},
   "source": [
    "### Prepare re-training data"
   ]
  },
  {
   "cell_type": "code",
   "execution_count": 32,
   "id": "southern-title",
   "metadata": {},
   "outputs": [],
   "source": [
    "df = pd.read_pickle('../data/training.pickle')"
   ]
  },
  {
   "cell_type": "code",
   "execution_count": 33,
   "id": "optional-parallel",
   "metadata": {},
   "outputs": [
    {
     "data": {
      "text/html": [
       "<div>\n",
       "<style scoped>\n",
       "    .dataframe tbody tr th:only-of-type {\n",
       "        vertical-align: middle;\n",
       "    }\n",
       "\n",
       "    .dataframe tbody tr th {\n",
       "        vertical-align: top;\n",
       "    }\n",
       "\n",
       "    .dataframe thead th {\n",
       "        text-align: right;\n",
       "    }\n",
       "</style>\n",
       "<table border=\"1\" class=\"dataframe\">\n",
       "  <thead>\n",
       "    <tr style=\"text-align: right;\">\n",
       "      <th></th>\n",
       "      <th>type</th>\n",
       "      <th>date</th>\n",
       "      <th>operation</th>\n",
       "      <th>lat</th>\n",
       "      <th>long</th>\n",
       "      <th>sex</th>\n",
       "      <th>age</th>\n",
       "      <th>ethnicity_self</th>\n",
       "      <th>ethnicity_officer</th>\n",
       "      <th>legislation</th>\n",
       "      <th>search_target</th>\n",
       "      <th>outcome</th>\n",
       "      <th>found_target</th>\n",
       "      <th>stripped</th>\n",
       "      <th>station</th>\n",
       "      <th>offense</th>\n",
       "      <th>success</th>\n",
       "    </tr>\n",
       "    <tr>\n",
       "      <th>observation_id</th>\n",
       "      <th></th>\n",
       "      <th></th>\n",
       "      <th></th>\n",
       "      <th></th>\n",
       "      <th></th>\n",
       "      <th></th>\n",
       "      <th></th>\n",
       "      <th></th>\n",
       "      <th></th>\n",
       "      <th></th>\n",
       "      <th></th>\n",
       "      <th></th>\n",
       "      <th></th>\n",
       "      <th></th>\n",
       "      <th></th>\n",
       "      <th></th>\n",
       "      <th></th>\n",
       "    </tr>\n",
       "  </thead>\n",
       "  <tbody>\n",
       "    <tr>\n",
       "      <th>d62c9e35-6293-45fc-aab6-706bdac1601e</th>\n",
       "      <td>Person search</td>\n",
       "      <td>2017-12-01 00:00:00+00:00</td>\n",
       "      <td>False</td>\n",
       "      <td>50.9234</td>\n",
       "      <td>-0.4611</td>\n",
       "      <td>Male</td>\n",
       "      <td>18-24</td>\n",
       "      <td>White - English/Welsh/Scottish/Northern Irish/...</td>\n",
       "      <td>White</td>\n",
       "      <td>Misuse of Drugs Act 1971 (section 23)</td>\n",
       "      <td>Controlled drugs</td>\n",
       "      <td>Offender given drugs possession warning</td>\n",
       "      <td>False</td>\n",
       "      <td>False</td>\n",
       "      <td>sussex</td>\n",
       "      <td>True</td>\n",
       "      <td>False</td>\n",
       "    </tr>\n",
       "  </tbody>\n",
       "</table>\n",
       "</div>"
      ],
      "text/plain": [
       "                                               type                      date  \\\n",
       "observation_id                                                                  \n",
       "d62c9e35-6293-45fc-aab6-706bdac1601e  Person search 2017-12-01 00:00:00+00:00   \n",
       "\n",
       "                                     operation      lat    long   sex    age  \\\n",
       "observation_id                                                                 \n",
       "d62c9e35-6293-45fc-aab6-706bdac1601e     False  50.9234 -0.4611  Male  18-24   \n",
       "\n",
       "                                                                         ethnicity_self  \\\n",
       "observation_id                                                                            \n",
       "d62c9e35-6293-45fc-aab6-706bdac1601e  White - English/Welsh/Scottish/Northern Irish/...   \n",
       "\n",
       "                                     ethnicity_officer  \\\n",
       "observation_id                                           \n",
       "d62c9e35-6293-45fc-aab6-706bdac1601e             White   \n",
       "\n",
       "                                                                legislation  \\\n",
       "observation_id                                                                \n",
       "d62c9e35-6293-45fc-aab6-706bdac1601e  Misuse of Drugs Act 1971 (section 23)   \n",
       "\n",
       "                                         search_target  \\\n",
       "observation_id                                           \n",
       "d62c9e35-6293-45fc-aab6-706bdac1601e  Controlled drugs   \n",
       "\n",
       "                                                                      outcome  \\\n",
       "observation_id                                                                  \n",
       "d62c9e35-6293-45fc-aab6-706bdac1601e  Offender given drugs possession warning   \n",
       "\n",
       "                                      found_target stripped station  offense  \\\n",
       "observation_id                                                                 \n",
       "d62c9e35-6293-45fc-aab6-706bdac1601e         False    False  sussex     True   \n",
       "\n",
       "                                      success  \n",
       "observation_id                                 \n",
       "d62c9e35-6293-45fc-aab6-706bdac1601e    False  "
      ]
     },
     "execution_count": 33,
     "metadata": {},
     "output_type": "execute_result"
    }
   ],
   "source": [
    "df.head(1)"
   ]
  },
  {
   "cell_type": "code",
   "execution_count": 34,
   "id": "nearby-montreal",
   "metadata": {},
   "outputs": [
    {
     "data": {
      "text/plain": [
       "(379976, 12)"
      ]
     },
     "execution_count": 34,
     "metadata": {},
     "output_type": "execute_result"
    }
   ],
   "source": [
    "# Drop metropolitan station from dataset\n",
    "df = df[df.station!='metropolitan']\n",
    "\n",
    "df = df[columns + ['success']]\n",
    "for i in range(1):\n",
    "    # oversample recent data\n",
    "    df = df.append(df_customer[columns + ['success']])\n",
    "    \n",
    "    # oversample minorities\n",
    "    df = df.append(df[df.ethnicity_officer!='White'])\n",
    "    \n",
    "df.shape"
   ]
  },
  {
   "cell_type": "markdown",
   "id": "analyzed-kazakhstan",
   "metadata": {},
   "source": [
    "#### Select relevant columns"
   ]
  },
  {
   "cell_type": "markdown",
   "id": "cosmetic-philippines",
   "metadata": {},
   "source": [
    "Requests will have the following format:\n",
    "```\n",
    "[\"observation_id\": <string>,\n",
    " \"Type\": <string>,\n",
    " \"Date\": <string>,\n",
    " \"Part of a policing operation\": <boolean>,\n",
    " \"Latitude\": <float>,\n",
    " \"Longitude\": <float>,\n",
    " \"Gender\": <string>,\n",
    " \"Age range\": <string>,\n",
    " \"Officer-defined ethnicity\": <string>,\n",
    " \"Legislation\": <string>,\n",
    " \"Object of search\": <string>,\n",
    " \"station\": <string>]\n",
    " '''\n"
   ]
  },
  {
   "cell_type": "code",
   "execution_count": 35,
   "id": "bottom-softball",
   "metadata": {},
   "outputs": [],
   "source": [
    "supplied_columns = ['type', 'date', 'operation', 'lat', 'long', 'sex', 'age', 'ethnicity_officer', 'legislation', 'search_target', 'station']"
   ]
  },
  {
   "cell_type": "code",
   "execution_count": 46,
   "id": "median-speaker",
   "metadata": {},
   "outputs": [],
   "source": [
    "X = df[supplied_columns]\n",
    "y = df.success.values"
   ]
  },
  {
   "cell_type": "markdown",
   "id": "equipped-diagram",
   "metadata": {},
   "source": [
    "### Adapt pipeline"
   ]
  },
  {
   "cell_type": "code",
   "execution_count": 37,
   "id": "capable-receptor",
   "metadata": {},
   "outputs": [],
   "source": [
    "from sklearn.preprocessing import OneHotEncoder"
   ]
  },
  {
   "cell_type": "code",
   "execution_count": 38,
   "id": "dutch-reconstruction",
   "metadata": {},
   "outputs": [],
   "source": [
    "categoricals = ['type', 'sex', 'age', 'search_target', 'station', 'ethnicity_officer']\n",
    "oh_encoder = OneHotEncoder(handle_unknown='ignore', sparse=False)\n",
    "pipeline['preprocess'].transformer_list[0][1].transformers[2] = ('cat_encoder', oh_encoder, categoricals)"
   ]
  },
  {
   "cell_type": "markdown",
   "id": "exposed-cooperative",
   "metadata": {},
   "source": [
    "#### Train-Validation Split"
   ]
  },
  {
   "cell_type": "code",
   "execution_count": 39,
   "id": "appreciated-marks",
   "metadata": {},
   "outputs": [],
   "source": [
    "from sklearn.model_selection import train_test_split"
   ]
  },
  {
   "cell_type": "code",
   "execution_count": 40,
   "id": "electric-telling",
   "metadata": {},
   "outputs": [],
   "source": [
    "X_train, X_val, y_train, y_val = train_test_split(X, y, test_size=0.3, random_state=0, stratify=X[['station']], shuffle=True)"
   ]
  },
  {
   "cell_type": "markdown",
   "id": "spectacular-ecuador",
   "metadata": {},
   "source": [
    "#### Fit"
   ]
  },
  {
   "cell_type": "code",
   "execution_count": 41,
   "id": "sexual-oklahoma",
   "metadata": {},
   "outputs": [
    {
     "name": "stderr",
     "output_type": "stream",
     "text": [
      "/home/rubelrennfix/.virtualenvs/capstone/lib/python3.6/site-packages/sklearn/preprocessing/_discretization.py:222: UserWarning: Bins whose width are too small (i.e., <= 1e-8) in feature 0 are removed. Consider decreasing the number of bins.\n",
      "  'decreasing the number of bins.' % jj)\n",
      "/home/rubelrennfix/.virtualenvs/capstone/lib/python3.6/site-packages/sklearn/preprocessing/_discretization.py:222: UserWarning: Bins whose width are too small (i.e., <= 1e-8) in feature 1 are removed. Consider decreasing the number of bins.\n",
      "  'decreasing the number of bins.' % jj)\n",
      "/home/rubelrennfix/.virtualenvs/capstone/lib/python3.6/site-packages/category_encoders/utils.py:21: FutureWarning: is_categorical is deprecated and will be removed in a future version.  Use is_categorical_dtype instead\n",
      "  elif pd.api.types.is_categorical(cols):\n"
     ]
    },
    {
     "name": "stdout",
     "output_type": "stream",
     "text": [
      "CPU times: user 14.6 s, sys: 8.48 s, total: 23.1 s\n",
      "Wall time: 31.8 s\n"
     ]
    }
   ],
   "source": [
    "%%time\n",
    "pipeline_ = pipeline.fit(X, y)"
   ]
  },
  {
   "cell_type": "markdown",
   "id": "automatic-moore",
   "metadata": {},
   "source": [
    "## Evaluation"
   ]
  },
  {
   "cell_type": "markdown",
   "id": "preliminary-halloween",
   "metadata": {},
   "source": [
    "#### Retrained pipeline in sample"
   ]
  },
  {
   "cell_type": "code",
   "execution_count": 48,
   "id": "advance-breach",
   "metadata": {},
   "outputs": [
    {
     "data": {
      "text/html": [
       "<div>\n",
       "<style scoped>\n",
       "    .dataframe tbody tr th:only-of-type {\n",
       "        vertical-align: middle;\n",
       "    }\n",
       "\n",
       "    .dataframe tbody tr th {\n",
       "        vertical-align: top;\n",
       "    }\n",
       "\n",
       "    .dataframe thead th {\n",
       "        text-align: right;\n",
       "    }\n",
       "</style>\n",
       "<table border=\"1\" class=\"dataframe\">\n",
       "  <thead>\n",
       "    <tr style=\"text-align: right;\">\n",
       "      <th></th>\n",
       "      <th>Model</th>\n",
       "      <th>Benchmark</th>\n",
       "      <th>Target</th>\n",
       "    </tr>\n",
       "  </thead>\n",
       "  <tbody>\n",
       "    <tr>\n",
       "      <th>Search precision</th>\n",
       "      <td>0.2329</td>\n",
       "      <td>0.2029</td>\n",
       "      <td>-</td>\n",
       "    </tr>\n",
       "    <tr>\n",
       "      <th>Maximum difference in precision between ethnicity-gender-subgroups within stations</th>\n",
       "      <td>0.4152</td>\n",
       "      <td>0.4174</td>\n",
       "      <td>0.05</td>\n",
       "    </tr>\n",
       "    <tr>\n",
       "      <th>Maximum difference in precision between stations</th>\n",
       "      <td>0.394</td>\n",
       "      <td>0.392</td>\n",
       "      <td>0.1</td>\n",
       "    </tr>\n",
       "    <tr>\n",
       "      <th>Maximum difference in precision between ethnicity-gender-subgroups</th>\n",
       "      <td>0.05598</td>\n",
       "      <td>0.03942</td>\n",
       "      <td>0.05</td>\n",
       "    </tr>\n",
       "  </tbody>\n",
       "</table>\n",
       "</div>"
      ],
      "text/plain": [
       "                                                      Model Benchmark Target\n",
       "Search precision                                     0.2329    0.2029      -\n",
       "Maximum difference in precision between ethnici...   0.4152    0.4174   0.05\n",
       "Maximum difference in precision between stations      0.394     0.392    0.1\n",
       "Maximum difference in precision between ethnici...  0.05598   0.03942   0.05"
      ]
     },
     "execution_count": 48,
     "metadata": {},
     "output_type": "execute_result"
    }
   ],
   "source": [
    "# set up\n",
    "df_results = pd.DataFrame(index=['Search precision',\n",
    "                                 'Maximum difference in precision between ethnicity-gender-subgroups within stations',\n",
    "                                 'Maximum difference in precision between stations',\n",
    "                                 'Maximum difference in precision between ethnicity-gender-subgroups'],\n",
    "                          columns=['Model', 'Benchmark', 'Target'])\n",
    "\n",
    "# pipeline\n",
    "authorised = src.evaluate.authorise_search(pipeline_, X, bias_correction=True).astype(bool)\n",
    "\n",
    "df_results.iat[0, 0] = precision_score(y, authorised)\n",
    "df_results.iat[1, 0] = src.evaluate.within_station_discrepancy(authorised, y, X).max()\n",
    "df_results.iat[2, 0] = src.evaluate.across_station_discrepancy(authorised, y, X)\n",
    "df_results.iat[3, 0] = src.evaluate.across_subgroup_discrepancy(authorised, y, X)\n",
    "\n",
    "# evaluate benchmark\n",
    "df_results.iat[0, 1] = precision_score(y, np.ones(y.shape))\n",
    "df_results.iat[1, 1] = src.evaluate.within_station_discrepancy(np.ones(y.shape), y, X).max()\n",
    "df_results.iat[2, 1] = src.evaluate.across_station_discrepancy(np.ones(y.shape), y, X)\n",
    "df_results.iat[3, 1] = src.evaluate.across_subgroup_discrepancy(np.ones(y.shape), y, X)\n",
    "\n",
    "# targets\n",
    "df_results.iat[0, 2] = '-'\n",
    "df_results.iat[1, 2] = 0.05\n",
    "df_results.iat[2, 2] = 0.1\n",
    "df_results.iat[3, 2] = 0.05\n",
    "\n",
    "df_results"
   ]
  },
  {
   "cell_type": "code",
   "execution_count": 49,
   "id": "surgical-activation",
   "metadata": {},
   "outputs": [
    {
     "data": {
      "text/html": [
       "<div>\n",
       "<style scoped>\n",
       "    .dataframe tbody tr th:only-of-type {\n",
       "        vertical-align: middle;\n",
       "    }\n",
       "\n",
       "    .dataframe tbody tr th {\n",
       "        vertical-align: top;\n",
       "    }\n",
       "\n",
       "    .dataframe thead tr th {\n",
       "        text-align: left;\n",
       "    }\n",
       "</style>\n",
       "<table border=\"1\" class=\"dataframe\">\n",
       "  <thead>\n",
       "    <tr>\n",
       "      <th></th>\n",
       "      <th></th>\n",
       "      <th colspan=\"2\" halign=\"left\">Predicted outcome</th>\n",
       "    </tr>\n",
       "    <tr>\n",
       "      <th></th>\n",
       "      <th></th>\n",
       "      <th>no succes</th>\n",
       "      <th>success</th>\n",
       "    </tr>\n",
       "  </thead>\n",
       "  <tbody>\n",
       "    <tr>\n",
       "      <th rowspan=\"2\" valign=\"top\">True outcome</th>\n",
       "      <th>no succes</th>\n",
       "      <td>59960</td>\n",
       "      <td>242915</td>\n",
       "    </tr>\n",
       "    <tr>\n",
       "      <th>success</th>\n",
       "      <td>3347</td>\n",
       "      <td>73754</td>\n",
       "    </tr>\n",
       "  </tbody>\n",
       "</table>\n",
       "</div>"
      ],
      "text/plain": [
       "                       Predicted outcome        \n",
       "                               no succes success\n",
       "True outcome no succes             59960  242915\n",
       "             success                3347   73754"
      ]
     },
     "execution_count": 49,
     "metadata": {},
     "output_type": "execute_result"
    }
   ],
   "source": [
    "pd.DataFrame(confusion_matrix(y, authorised),\n",
    "             index=pd.MultiIndex.from_product([['True outcome'], ['no succes', 'success']]),\n",
    "             columns=pd.MultiIndex.from_product([['Predicted outcome'], ['no succes', 'success']]),\n",
    "            )"
   ]
  },
  {
   "cell_type": "markdown",
   "id": "terminal-disaster",
   "metadata": {},
   "source": [
    "##### Fairness"
   ]
  },
  {
   "cell_type": "code",
   "execution_count": 51,
   "id": "reverse-bibliography",
   "metadata": {},
   "outputs": [
    {
     "data": {
      "text/html": [
       "<div>\n",
       "<style scoped>\n",
       "    .dataframe tbody tr th:only-of-type {\n",
       "        vertical-align: middle;\n",
       "    }\n",
       "\n",
       "    .dataframe tbody tr th {\n",
       "        vertical-align: top;\n",
       "    }\n",
       "\n",
       "    .dataframe thead tr th {\n",
       "        text-align: left;\n",
       "    }\n",
       "\n",
       "    .dataframe thead tr:last-of-type th {\n",
       "        text-align: right;\n",
       "    }\n",
       "</style>\n",
       "<table border=\"1\" class=\"dataframe\">\n",
       "  <thead>\n",
       "    <tr>\n",
       "      <th></th>\n",
       "      <th colspan=\"2\" halign=\"left\">Model</th>\n",
       "      <th colspan=\"2\" halign=\"left\">Benchmark</th>\n",
       "    </tr>\n",
       "    <tr>\n",
       "      <th>gender</th>\n",
       "      <th>Female</th>\n",
       "      <th>Male</th>\n",
       "      <th>Female</th>\n",
       "      <th>Male</th>\n",
       "    </tr>\n",
       "    <tr>\n",
       "      <th>ethnicity</th>\n",
       "      <th></th>\n",
       "      <th></th>\n",
       "      <th></th>\n",
       "      <th></th>\n",
       "    </tr>\n",
       "  </thead>\n",
       "  <tbody>\n",
       "    <tr>\n",
       "      <th>Asian</th>\n",
       "      <td>0.2088</td>\n",
       "      <td>0.2320</td>\n",
       "      <td>0.1911</td>\n",
       "      <td>0.2009</td>\n",
       "    </tr>\n",
       "    <tr>\n",
       "      <th>Black</th>\n",
       "      <td>0.2113</td>\n",
       "      <td>0.2353</td>\n",
       "      <td>0.1977</td>\n",
       "      <td>0.2082</td>\n",
       "    </tr>\n",
       "    <tr>\n",
       "      <th>Mixed</th>\n",
       "      <td>0.1977</td>\n",
       "      <td>0.2384</td>\n",
       "      <td>0.1875</td>\n",
       "      <td>0.2107</td>\n",
       "    </tr>\n",
       "    <tr>\n",
       "      <th>Other</th>\n",
       "      <td>0.2537</td>\n",
       "      <td>0.2430</td>\n",
       "      <td>0.2199</td>\n",
       "      <td>0.2129</td>\n",
       "    </tr>\n",
       "    <tr>\n",
       "      <th>White</th>\n",
       "      <td>0.2002</td>\n",
       "      <td>0.2369</td>\n",
       "      <td>0.1805</td>\n",
       "      <td>0.2042</td>\n",
       "    </tr>\n",
       "  </tbody>\n",
       "</table>\n",
       "</div>"
      ],
      "text/plain": [
       "            Model         Benchmark        \n",
       "gender     Female    Male    Female    Male\n",
       "ethnicity                                  \n",
       "Asian      0.2088  0.2320    0.1911  0.2009\n",
       "Black      0.2113  0.2353    0.1977  0.2082\n",
       "Mixed      0.1977  0.2384    0.1875  0.2107\n",
       "Other      0.2537  0.2430    0.2199  0.2129\n",
       "White      0.2002  0.2369    0.1805  0.2042"
      ]
     },
     "execution_count": 51,
     "metadata": {},
     "output_type": "execute_result"
    }
   ],
   "source": [
    "df_subgroups = src.evaluate.calculate_subgroup_precisions(authorised, y, X, grouping=['ethnicity', 'gender'])\\\n",
    "                    .unstack()\n",
    "df_subgroups.columns = pd.MultiIndex.from_product([['Model'], df_subgroups.columns])\n",
    "\n",
    "_ = src.evaluate.calculate_subgroup_precisions(np.ones(y.shape), y, X, grouping=['ethnicity', 'gender'])\\\n",
    "                       .unstack()\n",
    "_.columns = pd.MultiIndex.from_product([['Benchmark'], _.columns])\n",
    "\n",
    "df_subgroups = df_subgroups.merge(_, left_index=True, right_on='ethnicity')\\\n",
    "                           .replace(np.nan, '-')\n",
    "df_subgroups"
   ]
  },
  {
   "cell_type": "code",
   "execution_count": 42,
   "id": "compliant-planet",
   "metadata": {},
   "outputs": [
    {
     "data": {
      "image/png": "[encoded data removed]",
      "text/plain": [
       "<Figure size 1224x216 with 1 Axes>"
      ]
     },
     "metadata": {},
     "output_type": "display_data"
    }
   ],
   "source": [
    "fig, ax = plt.subplots(1, 1, figsize=(17,3))\n",
    "\n",
    "station_precisions = src.evaluate.calculate_subgroup_precisions(authorised, y, X, grouping=['station']).dropna()\n",
    "ax.set_title('Search precision by station')\n",
    "ax.bar(x=np.arange(0, len(station_precisions), 1), height=station_precisions, label='Model')\n",
    "ax.scatter(x=np.arange(0, len(station_precisions), 1), y=src.evaluate.calculate_subgroup_precisions(np.ones(y.shape), y, X, grouping=['station'])[station_precisions.index], zorder=10, label='Benchmark', marker='_', s=100)\n",
    "ax.axhline(precision_score(y, authorised), linewidth=2, linestyle='--', c='k', label='Average')\n",
    "ax.set_xticks(np.arange(0, len(station_precisions), 1))\n",
    "ax.set_xticklabels(station_precisions.index, rotation=90)\n",
    "ax.legend(bbox_to_anchor=(1.1, 0.5), ncol=1)\n",
    "plt.show()\n",
    "\n",
    "fig.savefig('../reports/figures/stations_precision_retrain.jpg', dpi=300, bbox_inches='tight')"
   ]
  },
  {
   "cell_type": "code",
   "execution_count": null,
   "id": "associate-robinson",
   "metadata": {},
   "outputs": [],
   "source": [
    "# set up\n",
    "df_results = pd.DataFrame(index=['Search precision',\n",
    "                                 'Maximum difference in precision between ethnicity-gender-subgroups within stations',\n",
    "                                 'Maximum difference in precision between stations',\n",
    "                                 'Maximum difference in precision between ethnicity-gender-subgroups'],\n",
    "                          columns=['Model', 'Benchmark', 'Target'])\n",
    "\n",
    "# pipeline\n",
    "authorised = src.evaluate.authorise_search(pipeline_, X_train, bias_correction=True).astype(bool)\n",
    "\n",
    "df_results.iat[0, 0] = precision_score(y_train, authorised)\n",
    "df_results.iat[1, 0] = src.evaluate.within_station_discrepancy(authorised, y_train, X_train).max()\n",
    "df_results.iat[2, 0] = src.evaluate.across_station_discrepancy(authorised, y_train, X_train)\n",
    "df_results.iat[3, 0] = src.evaluate.across_subgroup_discrepancy(authorised, y_train, X_train)\n",
    "\n",
    "# evaluate benchmark\n",
    "df_results.iat[0, 1] = precision_score(y_train, np.ones(y_train.shape))\n",
    "df_results.iat[1, 1] = src.evaluate.within_station_discrepancy(np.ones(y_train.shape), y_train, X_train).max()\n",
    "df_results.iat[2, 1] = src.evaluate.across_station_discrepancy(np.ones(y_train.shape), y_train, X_train)\n",
    "df_results.iat[3, 1] = src.evaluate.across_subgroup_discrepancy(np.ones(y_train.shape), y_train, X_train)\n",
    "\n",
    "# targets\n",
    "df_results.iat[0, 2] = '-'\n",
    "df_results.iat[1, 2] = 0.05\n",
    "df_results.iat[2, 2] = 0.1\n",
    "df_results.iat[3, 2] = 0.05\n",
    "\n",
    "df_results"
   ]
  },
  {
   "cell_type": "code",
   "execution_count": 36,
   "id": "disciplinary-console",
   "metadata": {},
   "outputs": [
    {
     "data": {
      "text/html": [
       "<div>\n",
       "<style scoped>\n",
       "    .dataframe tbody tr th:only-of-type {\n",
       "        vertical-align: middle;\n",
       "    }\n",
       "\n",
       "    .dataframe tbody tr th {\n",
       "        vertical-align: top;\n",
       "    }\n",
       "\n",
       "    .dataframe thead th {\n",
       "        text-align: right;\n",
       "    }\n",
       "</style>\n",
       "<table border=\"1\" class=\"dataframe\">\n",
       "  <thead>\n",
       "    <tr style=\"text-align: right;\">\n",
       "      <th></th>\n",
       "      <th>Model</th>\n",
       "      <th>Benchmark</th>\n",
       "      <th>Target</th>\n",
       "    </tr>\n",
       "  </thead>\n",
       "  <tbody>\n",
       "    <tr>\n",
       "      <th>Search precision</th>\n",
       "      <td>0.2389</td>\n",
       "      <td>0.2023</td>\n",
       "      <td>-</td>\n",
       "    </tr>\n",
       "    <tr>\n",
       "      <th>Maximum discrimination within station between ethnicity-gender-subgroup</th>\n",
       "      <td>0.2343</td>\n",
       "      <td>0.2434</td>\n",
       "      <td>0.05</td>\n",
       "    </tr>\n",
       "    <tr>\n",
       "      <th>Maximum precision discrepancy between stations overall</th>\n",
       "      <td>0.243</td>\n",
       "      <td>0.3995</td>\n",
       "      <td>0.1</td>\n",
       "    </tr>\n",
       "    <tr>\n",
       "      <th>Maximum discrimination between ethnicity-gender-subgroups</th>\n",
       "      <td>0.1183</td>\n",
       "      <td>0.09418</td>\n",
       "      <td>0.05</td>\n",
       "    </tr>\n",
       "  </tbody>\n",
       "</table>\n",
       "</div>"
      ],
      "text/plain": [
       "                                                     Model Benchmark Target\n",
       "Search precision                                    0.2389    0.2023      -\n",
       "Maximum discrimination within station between e...  0.2343    0.2434   0.05\n",
       "Maximum precision discrepancy between stations ...   0.243    0.3995    0.1\n",
       "Maximum discrimination between ethnicity-gender...  0.1183   0.09418   0.05"
      ]
     },
     "execution_count": 36,
     "metadata": {},
     "output_type": "execute_result"
    }
   ],
   "source": [
    "# set up\n",
    "df_results = pd.DataFrame(index=['Search precision',\n",
    "                                 'Maximum difference in precision between ethnicity-gender-subgroups within stations',\n",
    "                                 'Maximum difference in precision between stations',\n",
    "                                 'Maximum difference in precision between ethnicity-gender-subgroups'],\n",
    "                          columns=['Model', 'Benchmark', 'Target'])\n",
    "\n",
    "# pipeline\n",
    "authorised = src.evaluate.authorise_search(pipeline_, X_val, bias_correction=True).astype(bool)\n",
    "\n",
    "df_results.iat[0, 0] = precision_score(y_val, authorised)\n",
    "df_results.iat[1, 0] = src.evaluate.within_station_discrepancy(authorised, y_val, X_val).max()\n",
    "df_results.iat[2, 0] = src.evaluate.across_station_discrepancy(authorised, y_val, X_val)\n",
    "df_results.iat[3, 0] = src.evaluate.across_subgroup_discrepancy(authorised, y_val, X_val)\n",
    "\n",
    "# evaluate benchmark\n",
    "df_results.iat[0, 1] = precision_score(y_val, np.ones(y_val.shape))\n",
    "df_results.iat[1, 1] = src.evaluate.within_station_discrepancy(np.ones(y_val.shape), y_val, X_val).max()\n",
    "df_results.iat[2, 1] = src.evaluate.across_station_discrepancy(np.ones(y_val.shape), y_val, X_val)\n",
    "df_results.iat[3, 1] = src.evaluate.across_subgroup_discrepancy(np.ones(y_val.shape), y_val, X_val)\n",
    "\n",
    "# targets\n",
    "df_results.iat[0, 2] = '-'\n",
    "df_results.iat[1, 2] = 0.05\n",
    "df_results.iat[2, 2] = 0.1\n",
    "df_results.iat[3, 2] = 0.05\n",
    "\n",
    "df_results"
   ]
  },
  {
   "cell_type": "markdown",
   "id": "imperial-price",
   "metadata": {},
   "source": [
    "### Serialise"
   ]
  },
  {
   "cell_type": "code",
   "execution_count": 52,
   "id": "dutch-width",
   "metadata": {},
   "outputs": [
    {
     "data": {
      "text/plain": [
       "['../models/pipeline_retrained.pickle']"
      ]
     },
     "execution_count": 52,
     "metadata": {},
     "output_type": "execute_result"
    }
   ],
   "source": [
    "# serialise\n",
    "joblib.dump(pipeline_, '../deploy/pipeline.pickle')\n",
    "joblib.dump(pipeline_, '../models/pipeline_retrained.pickle')"
   ]
  }
 ],
 "metadata": {
  "kernelspec": {
   "display_name": "Python 3",
   "language": "python",
   "name": "python3"
  },
  "language_info": {
   "codemirror_mode": {
    "name": "ipython",
    "version": 3
   },
   "file_extension": ".py",
   "mimetype": "text/x-python",
   "name": "python",
   "nbconvert_exporter": "python",
   "pygments_lexer": "ipython3",
   "version": "3.6.9"
  }
 },
 "nbformat": 4,
 "nbformat_minor": 5
}
