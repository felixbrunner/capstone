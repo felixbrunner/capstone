{
 "cells": [
  {
   "cell_type": "markdown",
   "id": "patient-count",
   "metadata": {},
   "source": [
    "# 05 - Retraining"
   ]
  },
  {
   "cell_type": "markdown",
   "id": "recent-maryland",
   "metadata": {},
   "source": [
    "## Imports"
   ]
  },
  {
   "cell_type": "code",
   "execution_count": 1,
   "id": "automatic-helmet",
   "metadata": {},
   "outputs": [],
   "source": [
    "%load_ext autoreload\n",
    "%autoreload 2"
   ]
  },
  {
   "cell_type": "code",
   "execution_count": 2,
   "id": "adjusted-locator",
   "metadata": {},
   "outputs": [],
   "source": [
    "import numpy as np\n",
    "import pandas as pd\n",
    "import sklearn as skl\n",
    "import matplotlib.pyplot as plt\n",
    "import seaborn as sns\n",
    "import pandas_profiling as pp\n",
    "import time\n",
    "\n",
    "import joblib\n",
    "import json\n",
    "import pickle"
   ]
  },
  {
   "cell_type": "code",
   "execution_count": 3,
   "id": "sensitive-preliminary",
   "metadata": {},
   "outputs": [],
   "source": [
    "import sys\n",
    "sys.path.append('../')\n",
    "\n",
    "import src"
   ]
  },
  {
   "cell_type": "code",
   "execution_count": 4,
   "id": "fuzzy-breast",
   "metadata": {},
   "outputs": [],
   "source": [
    "plt.style.use('fivethirtyeight')\n",
    "pd.set_option('precision', 4)"
   ]
  },
  {
   "cell_type": "markdown",
   "id": "compact-parcel",
   "metadata": {},
   "source": [
    "## Load model"
   ]
  },
  {
   "cell_type": "code",
   "execution_count": 5,
   "id": "natural-ridge",
   "metadata": {},
   "outputs": [],
   "source": [
    "with open('../deploy/columns.json') as fh:\n",
    "    columns = json.load(fh)\n",
    "\n",
    "with open('../deploy/dtypes.pickle', 'rb') as fh:\n",
    "    dtypes = pickle.load(fh)\n",
    "\n",
    "pipeline = joblib.load('../deploy/pipeline.pickle')"
   ]
  },
  {
   "cell_type": "markdown",
   "id": "absent-ordinance",
   "metadata": {},
   "source": [
    "## Load database data"
   ]
  },
  {
   "cell_type": "code",
   "execution_count": 6,
   "id": "isolated-madrid",
   "metadata": {},
   "outputs": [],
   "source": [
    "df_heroku = src.loader.load_heroku_csv(columns, dtypes)"
   ]
  },
  {
   "cell_type": "code",
   "execution_count": 7,
   "id": "worth-country",
   "metadata": {},
   "outputs": [
    {
     "data": {
      "text/html": [
       "<div>\n",
       "<style scoped>\n",
       "    .dataframe tbody tr th:only-of-type {\n",
       "        vertical-align: middle;\n",
       "    }\n",
       "\n",
       "    .dataframe tbody tr th {\n",
       "        vertical-align: top;\n",
       "    }\n",
       "\n",
       "    .dataframe thead th {\n",
       "        text-align: right;\n",
       "    }\n",
       "</style>\n",
       "<table border=\"1\" class=\"dataframe\">\n",
       "  <thead>\n",
       "    <tr style=\"text-align: right;\">\n",
       "      <th></th>\n",
       "      <th>type</th>\n",
       "      <th>date</th>\n",
       "      <th>operation</th>\n",
       "      <th>lat</th>\n",
       "      <th>long</th>\n",
       "      <th>sex</th>\n",
       "      <th>age</th>\n",
       "      <th>ethnicity_officer</th>\n",
       "      <th>legislation</th>\n",
       "      <th>search_target</th>\n",
       "      <th>station</th>\n",
       "      <th>predicted_outcome</th>\n",
       "      <th>success</th>\n",
       "    </tr>\n",
       "    <tr>\n",
       "      <th>observation_id</th>\n",
       "      <th></th>\n",
       "      <th></th>\n",
       "      <th></th>\n",
       "      <th></th>\n",
       "      <th></th>\n",
       "      <th></th>\n",
       "      <th></th>\n",
       "      <th></th>\n",
       "      <th></th>\n",
       "      <th></th>\n",
       "      <th></th>\n",
       "      <th></th>\n",
       "      <th></th>\n",
       "    </tr>\n",
       "  </thead>\n",
       "  <tbody>\n",
       "    <tr>\n",
       "      <th>cf46ed6e-e6bb-4bc9-959d-ef2e5a8162a0</th>\n",
       "      <td>Person search</td>\n",
       "      <td>2020-01-01 01:45:00+00:00</td>\n",
       "      <td>False</td>\n",
       "      <td>NaN</td>\n",
       "      <td>NaN</td>\n",
       "      <td>Male</td>\n",
       "      <td>18-24</td>\n",
       "      <td>White</td>\n",
       "      <td>Police and Criminal Evidence Act 1984 (section 1)</td>\n",
       "      <td>Offensive weapons</td>\n",
       "      <td>nottinghamshire</td>\n",
       "      <td>True</td>\n",
       "      <td>False</td>\n",
       "    </tr>\n",
       "    <tr>\n",
       "      <th>3601e51b-f40a-4466-b884-d9284497462c</th>\n",
       "      <td>Person search</td>\n",
       "      <td>2020-01-01 02:53:14+00:00</td>\n",
       "      <td>NaN</td>\n",
       "      <td>NaN</td>\n",
       "      <td>NaN</td>\n",
       "      <td>Male</td>\n",
       "      <td>18-24</td>\n",
       "      <td>White</td>\n",
       "      <td>Police and Criminal Evidence Act 1984 (section 1)</td>\n",
       "      <td>Stolen goods</td>\n",
       "      <td>city-of-london</td>\n",
       "      <td>True</td>\n",
       "      <td>False</td>\n",
       "    </tr>\n",
       "  </tbody>\n",
       "</table>\n",
       "</div>"
      ],
      "text/plain": [
       "                                               type                      date  \\\n",
       "observation_id                                                                  \n",
       "cf46ed6e-e6bb-4bc9-959d-ef2e5a8162a0  Person search 2020-01-01 01:45:00+00:00   \n",
       "3601e51b-f40a-4466-b884-d9284497462c  Person search 2020-01-01 02:53:14+00:00   \n",
       "\n",
       "                                     operation  lat  long   sex    age  \\\n",
       "observation_id                                                           \n",
       "cf46ed6e-e6bb-4bc9-959d-ef2e5a8162a0     False  NaN   NaN  Male  18-24   \n",
       "3601e51b-f40a-4466-b884-d9284497462c       NaN  NaN   NaN  Male  18-24   \n",
       "\n",
       "                                     ethnicity_officer  \\\n",
       "observation_id                                           \n",
       "cf46ed6e-e6bb-4bc9-959d-ef2e5a8162a0             White   \n",
       "3601e51b-f40a-4466-b884-d9284497462c             White   \n",
       "\n",
       "                                                                            legislation  \\\n",
       "observation_id                                                                            \n",
       "cf46ed6e-e6bb-4bc9-959d-ef2e5a8162a0  Police and Criminal Evidence Act 1984 (section 1)   \n",
       "3601e51b-f40a-4466-b884-d9284497462c  Police and Criminal Evidence Act 1984 (section 1)   \n",
       "\n",
       "                                          search_target          station  \\\n",
       "observation_id                                                             \n",
       "cf46ed6e-e6bb-4bc9-959d-ef2e5a8162a0  Offensive weapons  nottinghamshire   \n",
       "3601e51b-f40a-4466-b884-d9284497462c       Stolen goods   city-of-london   \n",
       "\n",
       "                                      predicted_outcome  success  \n",
       "observation_id                                                    \n",
       "cf46ed6e-e6bb-4bc9-959d-ef2e5a8162a0               True    False  \n",
       "3601e51b-f40a-4466-b884-d9284497462c               True    False  "
      ]
     },
     "execution_count": 7,
     "metadata": {},
     "output_type": "execute_result"
    }
   ],
   "source": [
    "df_heroku.head(2)"
   ]
  },
  {
   "cell_type": "code",
   "execution_count": 8,
   "id": "preceding-contemporary",
   "metadata": {},
   "outputs": [],
   "source": [
    "df_customer =  pd.read_csv('../data/X_test_1.csv')\\\n",
    "                    .set_index('observation_id')\\\n",
    "                    .drop(columns=['Self-defined ethnicity'])\n",
    "df_customer.columns = columns\n",
    "df_customer = df_customer.astype(dtypes)\n",
    "df_customer['predicted_outcome'] = src.evaluate.authorise_search(pipeline, df_customer)\n",
    "df_customer = df_customer.join(pd.read_csv('../data/y_test_1.csv')\\\n",
    "                                  .set_index('observation_id')\\\n",
    "                                  .rename(columns={'0': 'success'}))"
   ]
  },
  {
   "cell_type": "code",
   "execution_count": 9,
   "id": "residential-detail",
   "metadata": {},
   "outputs": [
    {
     "data": {
      "text/html": [
       "<div>\n",
       "<style scoped>\n",
       "    .dataframe tbody tr th:only-of-type {\n",
       "        vertical-align: middle;\n",
       "    }\n",
       "\n",
       "    .dataframe tbody tr th {\n",
       "        vertical-align: top;\n",
       "    }\n",
       "\n",
       "    .dataframe thead th {\n",
       "        text-align: right;\n",
       "    }\n",
       "</style>\n",
       "<table border=\"1\" class=\"dataframe\">\n",
       "  <thead>\n",
       "    <tr style=\"text-align: right;\">\n",
       "      <th></th>\n",
       "      <th>type</th>\n",
       "      <th>date</th>\n",
       "      <th>operation</th>\n",
       "      <th>lat</th>\n",
       "      <th>long</th>\n",
       "      <th>sex</th>\n",
       "      <th>age</th>\n",
       "      <th>ethnicity_officer</th>\n",
       "      <th>legislation</th>\n",
       "      <th>search_target</th>\n",
       "      <th>station</th>\n",
       "      <th>predicted_outcome</th>\n",
       "      <th>success</th>\n",
       "    </tr>\n",
       "    <tr>\n",
       "      <th>observation_id</th>\n",
       "      <th></th>\n",
       "      <th></th>\n",
       "      <th></th>\n",
       "      <th></th>\n",
       "      <th></th>\n",
       "      <th></th>\n",
       "      <th></th>\n",
       "      <th></th>\n",
       "      <th></th>\n",
       "      <th></th>\n",
       "      <th></th>\n",
       "      <th></th>\n",
       "      <th></th>\n",
       "    </tr>\n",
       "  </thead>\n",
       "  <tbody>\n",
       "    <tr>\n",
       "      <th>3d931c84-94d3-4a14-869c-b10fef26e9ad</th>\n",
       "      <td>Person search</td>\n",
       "      <td>2020-01-01 00:56:00+00:00</td>\n",
       "      <td>False</td>\n",
       "      <td>NaN</td>\n",
       "      <td>NaN</td>\n",
       "      <td>Male</td>\n",
       "      <td>18-24</td>\n",
       "      <td>White</td>\n",
       "      <td>Misuse of Drugs Act 1971 (section 23)</td>\n",
       "      <td>Controlled drugs</td>\n",
       "      <td>nottinghamshire</td>\n",
       "      <td>True</td>\n",
       "      <td>False</td>\n",
       "    </tr>\n",
       "    <tr>\n",
       "      <th>cf46ed6e-e6bb-4bc9-959d-ef2e5a8162a0</th>\n",
       "      <td>Person search</td>\n",
       "      <td>2020-01-01 01:45:00+00:00</td>\n",
       "      <td>False</td>\n",
       "      <td>NaN</td>\n",
       "      <td>NaN</td>\n",
       "      <td>Male</td>\n",
       "      <td>18-24</td>\n",
       "      <td>White</td>\n",
       "      <td>Police and Criminal Evidence Act 1984 (section 1)</td>\n",
       "      <td>Offensive weapons</td>\n",
       "      <td>nottinghamshire</td>\n",
       "      <td>True</td>\n",
       "      <td>False</td>\n",
       "    </tr>\n",
       "  </tbody>\n",
       "</table>\n",
       "</div>"
      ],
      "text/plain": [
       "                                               type                      date  \\\n",
       "observation_id                                                                  \n",
       "3d931c84-94d3-4a14-869c-b10fef26e9ad  Person search 2020-01-01 00:56:00+00:00   \n",
       "cf46ed6e-e6bb-4bc9-959d-ef2e5a8162a0  Person search 2020-01-01 01:45:00+00:00   \n",
       "\n",
       "                                     operation  lat  long   sex    age  \\\n",
       "observation_id                                                           \n",
       "3d931c84-94d3-4a14-869c-b10fef26e9ad     False  NaN   NaN  Male  18-24   \n",
       "cf46ed6e-e6bb-4bc9-959d-ef2e5a8162a0     False  NaN   NaN  Male  18-24   \n",
       "\n",
       "                                     ethnicity_officer  \\\n",
       "observation_id                                           \n",
       "3d931c84-94d3-4a14-869c-b10fef26e9ad             White   \n",
       "cf46ed6e-e6bb-4bc9-959d-ef2e5a8162a0             White   \n",
       "\n",
       "                                                                            legislation  \\\n",
       "observation_id                                                                            \n",
       "3d931c84-94d3-4a14-869c-b10fef26e9ad              Misuse of Drugs Act 1971 (section 23)   \n",
       "cf46ed6e-e6bb-4bc9-959d-ef2e5a8162a0  Police and Criminal Evidence Act 1984 (section 1)   \n",
       "\n",
       "                                          search_target          station  \\\n",
       "observation_id                                                             \n",
       "3d931c84-94d3-4a14-869c-b10fef26e9ad   Controlled drugs  nottinghamshire   \n",
       "cf46ed6e-e6bb-4bc9-959d-ef2e5a8162a0  Offensive weapons  nottinghamshire   \n",
       "\n",
       "                                      predicted_outcome  success  \n",
       "observation_id                                                    \n",
       "3d931c84-94d3-4a14-869c-b10fef26e9ad               True    False  \n",
       "cf46ed6e-e6bb-4bc9-959d-ef2e5a8162a0               True    False  "
      ]
     },
     "execution_count": 9,
     "metadata": {},
     "output_type": "execute_result"
    }
   ],
   "source": [
    "df_customer.head(2)"
   ]
  },
  {
   "cell_type": "markdown",
   "id": "corporate-senegal",
   "metadata": {},
   "source": [
    "## Analysis"
   ]
  },
  {
   "cell_type": "markdown",
   "id": "instant-fountain",
   "metadata": {},
   "source": [
    "### Data Profile"
   ]
  },
  {
   "cell_type": "code",
   "execution_count": 11,
   "id": "sorted-findings",
   "metadata": {},
   "outputs": [
    {
     "data": {
      "application/vnd.jupyter.widget-view+json": {
       "model_id": "4a7c303b200c473996e5b25c95a0e76c",
       "version_major": 2,
       "version_minor": 0
      },
      "text/plain": [
       "Summarize dataset:   0%|          | 0/27 [00:00<?, ?it/s]"
      ]
     },
     "metadata": {},
     "output_type": "display_data"
    },
    {
     "name": "stderr",
     "output_type": "stream",
     "text": [
      "/home/rubelrennfix/.virtualenvs/capstone/lib/python3.6/site-packages/pandas_profiling/model/correlations.py:139: UserWarning: There was an attempt to calculate the phi_k correlation, but this failed.\n",
      "To hide this warning, disable the calculation\n",
      "(using `df.profile_report(correlations={\"phi_k\": {\"calculate\": False}})`\n",
      "If this is problematic for your use case, please report this as an issue:\n",
      "https://github.com/pandas-profiling/pandas-profiling/issues\n",
      "(include the error message: 'No data; `observed` has size 0.')\n",
      "  (include the error message: '{error}')\"\"\"\n"
     ]
    },
    {
     "data": {
      "application/vnd.jupyter.widget-view+json": {
       "model_id": "348f380302464705aeaa263b23eeccec",
       "version_major": 2,
       "version_minor": 0
      },
      "text/plain": [
       "Generate report structure:   0%|          | 0/1 [00:00<?, ?it/s]"
      ]
     },
     "metadata": {},
     "output_type": "display_data"
    },
    {
     "data": {
      "application/vnd.jupyter.widget-view+json": {
       "model_id": "4800cc465f1343a8be5d853e241d291e",
       "version_major": 2,
       "version_minor": 0
      },
      "text/plain": [
       "Render HTML:   0%|          | 0/1 [00:00<?, ?it/s]"
      ]
     },
     "metadata": {},
     "output_type": "display_data"
    },
    {
     "data": {
      "application/vnd.jupyter.widget-view+json": {
       "model_id": "fbdc00757d18477ba812238937289ba0",
       "version_major": 2,
       "version_minor": 0
      },
      "text/plain": [
       "Export report to file:   0%|          | 0/1 [00:00<?, ?it/s]"
      ]
     },
     "metadata": {},
     "output_type": "display_data"
    }
   ],
   "source": [
    "profile = pp.ProfileReport(df_customer, title='Live Data Profiling Report', explorative=False, minimal=False, pool_size=0, progress_bar=True)\n",
    "profile.to_file('../reports/profiling/live_profile.html')"
   ]
  },
  {
   "cell_type": "markdown",
   "id": "going-reward",
   "metadata": {},
   "source": [
    "### Analyse Results"
   ]
  },
  {
   "cell_type": "code",
   "execution_count": 12,
   "id": "cloudy-saver",
   "metadata": {},
   "outputs": [],
   "source": [
    "from sklearn.metrics import precision_score, confusion_matrix"
   ]
  },
  {
   "cell_type": "code",
   "execution_count": 13,
   "id": "altered-project",
   "metadata": {},
   "outputs": [
    {
     "data": {
      "text/html": [
       "<div>\n",
       "<style scoped>\n",
       "    .dataframe tbody tr th:only-of-type {\n",
       "        vertical-align: middle;\n",
       "    }\n",
       "\n",
       "    .dataframe tbody tr th {\n",
       "        vertical-align: top;\n",
       "    }\n",
       "\n",
       "    .dataframe thead th {\n",
       "        text-align: right;\n",
       "    }\n",
       "</style>\n",
       "<table border=\"1\" class=\"dataframe\">\n",
       "  <thead>\n",
       "    <tr style=\"text-align: right;\">\n",
       "      <th></th>\n",
       "      <th>Model</th>\n",
       "      <th>Benchmark</th>\n",
       "      <th>Target</th>\n",
       "    </tr>\n",
       "  </thead>\n",
       "  <tbody>\n",
       "    <tr>\n",
       "      <th>Search precision</th>\n",
       "      <td>0.2915</td>\n",
       "      <td>0.2782</td>\n",
       "      <td>-</td>\n",
       "    </tr>\n",
       "    <tr>\n",
       "      <th>Maximum discrimination within station between ethnicity-gender-subgroup</th>\n",
       "      <td>0.117</td>\n",
       "      <td>0.1123</td>\n",
       "      <td>0.05</td>\n",
       "    </tr>\n",
       "    <tr>\n",
       "      <th>Maximum precision discrepancy between stations overall</th>\n",
       "      <td>0.3573</td>\n",
       "      <td>0.397</td>\n",
       "      <td>0.1</td>\n",
       "    </tr>\n",
       "    <tr>\n",
       "      <th>Maximum discrimination between ethnicity-gender-subgroups</th>\n",
       "      <td>0.113</td>\n",
       "      <td>0.1152</td>\n",
       "      <td>0.05</td>\n",
       "    </tr>\n",
       "  </tbody>\n",
       "</table>\n",
       "</div>"
      ],
      "text/plain": [
       "                                                     Model Benchmark Target\n",
       "Search precision                                    0.2915    0.2782      -\n",
       "Maximum discrimination within station between e...   0.117    0.1123   0.05\n",
       "Maximum precision discrepancy between stations ...  0.3573     0.397    0.1\n",
       "Maximum discrimination between ethnicity-gender...   0.113    0.1152   0.05"
      ]
     },
     "execution_count": 13,
     "metadata": {},
     "output_type": "execute_result"
    }
   ],
   "source": [
    "# set up\n",
    "df_results = pd.DataFrame(index=['Search precision',\n",
    "                                 'Maximum discrimination within station between ethnicity-gender-subgroup',\n",
    "                                 'Maximum precision discrepancy between stations overall',\n",
    "                                 'Maximum discrimination between ethnicity-gender-subgroups'],\n",
    "                          columns=['Model', 'Benchmark', 'Target'])\n",
    "\n",
    "# pipeline\n",
    "include = df_customer['success'].notna()\n",
    "authorised = df_customer.loc[include, 'predicted_outcome'].astype(bool)\n",
    "success = df_customer.loc[include, 'success'].astype(bool)\n",
    "X = df_customer.loc[include, columns]\n",
    "df_results.iat[0, 0] = precision_score(success, authorised)\n",
    "df_results.iat[1, 0] = src.evaluate.within_station_discrepancy(authorised, success, X).max()\n",
    "df_results.iat[2, 0] = src.evaluate.across_station_discrepancy(authorised, success, X)\n",
    "df_results.iat[3, 0] = src.evaluate.across_subgroup_discrepancy(authorised, success, X)\n",
    "\n",
    "# evaluate benchmark\n",
    "df_results.iat[0, 1] = precision_score(success, np.ones(success.shape))\n",
    "df_results.iat[1, 1] = src.evaluate.within_station_discrepancy(np.ones(success.shape), success, X).max()\n",
    "df_results.iat[2, 1] = src.evaluate.across_station_discrepancy(np.ones(success.shape), success, X)\n",
    "df_results.iat[3, 1] = src.evaluate.across_subgroup_discrepancy(np.ones(success.shape), success, X)\n",
    "\n",
    "# targets\n",
    "df_results.iat[0, 2] = '-'\n",
    "df_results.iat[1, 2] = 0.05\n",
    "df_results.iat[2, 2] = 0.1\n",
    "df_results.iat[3, 2] = 0.05\n",
    "\n",
    "df_results"
   ]
  },
  {
   "cell_type": "code",
   "execution_count": 14,
   "id": "exotic-baseline",
   "metadata": {},
   "outputs": [
    {
     "data": {
      "text/html": [
       "<div>\n",
       "<style scoped>\n",
       "    .dataframe tbody tr th:only-of-type {\n",
       "        vertical-align: middle;\n",
       "    }\n",
       "\n",
       "    .dataframe tbody tr th {\n",
       "        vertical-align: top;\n",
       "    }\n",
       "\n",
       "    .dataframe thead tr th {\n",
       "        text-align: left;\n",
       "    }\n",
       "</style>\n",
       "<table border=\"1\" class=\"dataframe\">\n",
       "  <thead>\n",
       "    <tr>\n",
       "      <th></th>\n",
       "      <th></th>\n",
       "      <th colspan=\"2\" halign=\"left\">Predicted outcome</th>\n",
       "    </tr>\n",
       "    <tr>\n",
       "      <th></th>\n",
       "      <th></th>\n",
       "      <th>no succes</th>\n",
       "      <th>success</th>\n",
       "    </tr>\n",
       "  </thead>\n",
       "  <tbody>\n",
       "    <tr>\n",
       "      <th rowspan=\"2\" valign=\"top\">True outcome</th>\n",
       "      <th>no succes</th>\n",
       "      <td>242</td>\n",
       "      <td>2645</td>\n",
       "    </tr>\n",
       "    <tr>\n",
       "      <th>success</th>\n",
       "      <td>25</td>\n",
       "      <td>1088</td>\n",
       "    </tr>\n",
       "  </tbody>\n",
       "</table>\n",
       "</div>"
      ],
      "text/plain": [
       "                       Predicted outcome        \n",
       "                               no succes success\n",
       "True outcome no succes               242    2645\n",
       "             success                  25    1088"
      ]
     },
     "execution_count": 14,
     "metadata": {},
     "output_type": "execute_result"
    }
   ],
   "source": [
    "pd.DataFrame(confusion_matrix(success, authorised),\n",
    "             index=pd.MultiIndex.from_product([['True outcome'], ['no succes', 'success']]),\n",
    "             columns=pd.MultiIndex.from_product([['Predicted outcome'], ['no succes', 'success']]),\n",
    "            )"
   ]
  },
  {
   "cell_type": "markdown",
   "id": "numeric-beijing",
   "metadata": {},
   "source": [
    "##### Fairness"
   ]
  },
  {
   "cell_type": "code",
   "execution_count": 15,
   "id": "global-disaster",
   "metadata": {},
   "outputs": [
    {
     "data": {
      "text/html": [
       "<div>\n",
       "<style scoped>\n",
       "    .dataframe tbody tr th:only-of-type {\n",
       "        vertical-align: middle;\n",
       "    }\n",
       "\n",
       "    .dataframe tbody tr th {\n",
       "        vertical-align: top;\n",
       "    }\n",
       "\n",
       "    .dataframe thead th {\n",
       "        text-align: right;\n",
       "    }\n",
       "</style>\n",
       "<table border=\"1\" class=\"dataframe\">\n",
       "  <thead>\n",
       "    <tr style=\"text-align: right;\">\n",
       "      <th>gender</th>\n",
       "      <th>Female</th>\n",
       "      <th>Male</th>\n",
       "    </tr>\n",
       "    <tr>\n",
       "      <th>ethnicity</th>\n",
       "      <th></th>\n",
       "      <th></th>\n",
       "    </tr>\n",
       "  </thead>\n",
       "  <tbody>\n",
       "    <tr>\n",
       "      <th>Asian</th>\n",
       "      <td>NaN</td>\n",
       "      <td>0.2202</td>\n",
       "    </tr>\n",
       "    <tr>\n",
       "      <th>Black</th>\n",
       "      <td>NaN</td>\n",
       "      <td>0.2461</td>\n",
       "    </tr>\n",
       "    <tr>\n",
       "      <th>Mixed</th>\n",
       "      <td>NaN</td>\n",
       "      <td>0.2148</td>\n",
       "    </tr>\n",
       "    <tr>\n",
       "      <th>Other</th>\n",
       "      <td>NaN</td>\n",
       "      <td>0.2317</td>\n",
       "    </tr>\n",
       "    <tr>\n",
       "      <th>White</th>\n",
       "      <td>0.3152</td>\n",
       "      <td>0.3278</td>\n",
       "    </tr>\n",
       "  </tbody>\n",
       "</table>\n",
       "</div>"
      ],
      "text/plain": [
       "gender     Female    Male\n",
       "ethnicity                \n",
       "Asian         NaN  0.2202\n",
       "Black         NaN  0.2461\n",
       "Mixed         NaN  0.2148\n",
       "Other         NaN  0.2317\n",
       "White      0.3152  0.3278"
      ]
     },
     "execution_count": 15,
     "metadata": {},
     "output_type": "execute_result"
    }
   ],
   "source": [
    "src.evaluate.calculate_subgroup_precisions(authorised, success, X, grouping=['ethnicity', 'gender']).unstack()"
   ]
  },
  {
   "cell_type": "code",
   "execution_count": 16,
   "id": "dramatic-satellite",
   "metadata": {},
   "outputs": [
    {
     "data": {
      "text/html": [
       "<div>\n",
       "<style scoped>\n",
       "    .dataframe tbody tr th:only-of-type {\n",
       "        vertical-align: middle;\n",
       "    }\n",
       "\n",
       "    .dataframe tbody tr th {\n",
       "        vertical-align: top;\n",
       "    }\n",
       "\n",
       "    .dataframe thead th {\n",
       "        text-align: right;\n",
       "    }\n",
       "</style>\n",
       "<table border=\"1\" class=\"dataframe\">\n",
       "  <thead>\n",
       "    <tr style=\"text-align: right;\">\n",
       "      <th>gender</th>\n",
       "      <th>Female</th>\n",
       "      <th>Male</th>\n",
       "    </tr>\n",
       "    <tr>\n",
       "      <th>ethnicity</th>\n",
       "      <th></th>\n",
       "      <th></th>\n",
       "    </tr>\n",
       "  </thead>\n",
       "  <tbody>\n",
       "    <tr>\n",
       "      <th>Asian</th>\n",
       "      <td>NaN</td>\n",
       "      <td>0.2114</td>\n",
       "    </tr>\n",
       "    <tr>\n",
       "      <th>Black</th>\n",
       "      <td>NaN</td>\n",
       "      <td>0.2408</td>\n",
       "    </tr>\n",
       "    <tr>\n",
       "      <th>Mixed</th>\n",
       "      <td>NaN</td>\n",
       "      <td>0.1988</td>\n",
       "    </tr>\n",
       "    <tr>\n",
       "      <th>Other</th>\n",
       "      <td>NaN</td>\n",
       "      <td>0.2299</td>\n",
       "    </tr>\n",
       "    <tr>\n",
       "      <th>White</th>\n",
       "      <td>0.314</td>\n",
       "      <td>0.3093</td>\n",
       "    </tr>\n",
       "  </tbody>\n",
       "</table>\n",
       "</div>"
      ],
      "text/plain": [
       "gender     Female    Male\n",
       "ethnicity                \n",
       "Asian         NaN  0.2114\n",
       "Black         NaN  0.2408\n",
       "Mixed         NaN  0.1988\n",
       "Other         NaN  0.2299\n",
       "White       0.314  0.3093"
      ]
     },
     "execution_count": 16,
     "metadata": {},
     "output_type": "execute_result"
    }
   ],
   "source": [
    "src.evaluate.calculate_subgroup_precisions(np.ones(success.shape), success, X, grouping=['ethnicity', 'gender']).unstack()"
   ]
  },
  {
   "cell_type": "code",
   "execution_count": 17,
   "id": "sound-explosion",
   "metadata": {},
   "outputs": [
    {
     "data": {
      "image/png": "[encoded data removed]",
      "text/plain": [
       "<Figure size 360x216 with 1 Axes>"
      ]
     },
     "metadata": {},
     "output_type": "display_data"
    }
   ],
   "source": [
    "fig, ax = plt.subplots(1, 1, figsize=(5,3))\n",
    "\n",
    "station_precisions = src.evaluate.calculate_subgroup_precisions(authorised, success, X, grouping=['station']).dropna()\n",
    "ax.set_title('Search precision by station')\n",
    "ax.bar(x=np.arange(0, len(station_precisions), 1), height=station_precisions, label='Model')\n",
    "ax.scatter(x=np.arange(0, len(station_precisions), 1), y=src.evaluate.calculate_subgroup_precisions(np.ones(success.shape), success, X, grouping=['station']).dropna(), zorder=10, label='Benchmark', marker='_', s=100)\n",
    "ax.axhline(precision_score(success, np.ones(success.shape)), linewidth=2, linestyle='--', c='k', label='Average')\n",
    "ax.set_xticks(np.arange(0, len(station_precisions), 1))\n",
    "ax.set_xticklabels(station_precisions.index, rotation=90)\n",
    "ax.legend(bbox_to_anchor=(1.1, 0.5), ncol=1)\n",
    "\n",
    "plt.show()\n",
    "\n",
    "fig.savefig('../reports/figures/live_stations_precision.jpg', dpi=300, bbox_inches='tight')"
   ]
  },
  {
   "cell_type": "markdown",
   "id": "bacterial-annotation",
   "metadata": {},
   "source": [
    "## Improve Model\n",
    "First, we reduce bias by explicitly correcting for group means.\n",
    "(replace src.evaluate.authorise_search function)\n",
    "\n",
    "Then, add ethnicity feature to pipeline.\n",
    "\n",
    "Finally, retrain with full dataset, overweighting recent observations."
   ]
  },
  {
   "cell_type": "markdown",
   "id": "approved-battlefield",
   "metadata": {},
   "source": [
    "### Prepare re-training data"
   ]
  },
  {
   "cell_type": "code",
   "execution_count": 21,
   "id": "direct-store",
   "metadata": {},
   "outputs": [],
   "source": [
    "df = pd.read_pickle('../data/training.pickle')"
   ]
  },
  {
   "cell_type": "code",
   "execution_count": 22,
   "id": "sitting-routine",
   "metadata": {},
   "outputs": [
    {
     "data": {
      "text/html": [
       "<div>\n",
       "<style scoped>\n",
       "    .dataframe tbody tr th:only-of-type {\n",
       "        vertical-align: middle;\n",
       "    }\n",
       "\n",
       "    .dataframe tbody tr th {\n",
       "        vertical-align: top;\n",
       "    }\n",
       "\n",
       "    .dataframe thead th {\n",
       "        text-align: right;\n",
       "    }\n",
       "</style>\n",
       "<table border=\"1\" class=\"dataframe\">\n",
       "  <thead>\n",
       "    <tr style=\"text-align: right;\">\n",
       "      <th></th>\n",
       "      <th>type</th>\n",
       "      <th>date</th>\n",
       "      <th>operation</th>\n",
       "      <th>lat</th>\n",
       "      <th>long</th>\n",
       "      <th>sex</th>\n",
       "      <th>age</th>\n",
       "      <th>ethnicity_self</th>\n",
       "      <th>ethnicity_officer</th>\n",
       "      <th>legislation</th>\n",
       "      <th>search_target</th>\n",
       "      <th>outcome</th>\n",
       "      <th>found_target</th>\n",
       "      <th>stripped</th>\n",
       "      <th>station</th>\n",
       "      <th>offense</th>\n",
       "      <th>success</th>\n",
       "    </tr>\n",
       "    <tr>\n",
       "      <th>observation_id</th>\n",
       "      <th></th>\n",
       "      <th></th>\n",
       "      <th></th>\n",
       "      <th></th>\n",
       "      <th></th>\n",
       "      <th></th>\n",
       "      <th></th>\n",
       "      <th></th>\n",
       "      <th></th>\n",
       "      <th></th>\n",
       "      <th></th>\n",
       "      <th></th>\n",
       "      <th></th>\n",
       "      <th></th>\n",
       "      <th></th>\n",
       "      <th></th>\n",
       "      <th></th>\n",
       "    </tr>\n",
       "  </thead>\n",
       "  <tbody>\n",
       "    <tr>\n",
       "      <th>d62c9e35-6293-45fc-aab6-706bdac1601e</th>\n",
       "      <td>Person search</td>\n",
       "      <td>2017-12-01 00:00:00+00:00</td>\n",
       "      <td>False</td>\n",
       "      <td>50.9234</td>\n",
       "      <td>-0.4611</td>\n",
       "      <td>Male</td>\n",
       "      <td>18-24</td>\n",
       "      <td>White - English/Welsh/Scottish/Northern Irish/...</td>\n",
       "      <td>White</td>\n",
       "      <td>Misuse of Drugs Act 1971 (section 23)</td>\n",
       "      <td>Controlled drugs</td>\n",
       "      <td>Offender given drugs possession warning</td>\n",
       "      <td>False</td>\n",
       "      <td>False</td>\n",
       "      <td>sussex</td>\n",
       "      <td>True</td>\n",
       "      <td>False</td>\n",
       "    </tr>\n",
       "  </tbody>\n",
       "</table>\n",
       "</div>"
      ],
      "text/plain": [
       "                                               type                      date  \\\n",
       "observation_id                                                                  \n",
       "d62c9e35-6293-45fc-aab6-706bdac1601e  Person search 2017-12-01 00:00:00+00:00   \n",
       "\n",
       "                                     operation      lat    long   sex    age  \\\n",
       "observation_id                                                                 \n",
       "d62c9e35-6293-45fc-aab6-706bdac1601e     False  50.9234 -0.4611  Male  18-24   \n",
       "\n",
       "                                                                         ethnicity_self  \\\n",
       "observation_id                                                                            \n",
       "d62c9e35-6293-45fc-aab6-706bdac1601e  White - English/Welsh/Scottish/Northern Irish/...   \n",
       "\n",
       "                                     ethnicity_officer  \\\n",
       "observation_id                                           \n",
       "d62c9e35-6293-45fc-aab6-706bdac1601e             White   \n",
       "\n",
       "                                                                legislation  \\\n",
       "observation_id                                                                \n",
       "d62c9e35-6293-45fc-aab6-706bdac1601e  Misuse of Drugs Act 1971 (section 23)   \n",
       "\n",
       "                                         search_target  \\\n",
       "observation_id                                           \n",
       "d62c9e35-6293-45fc-aab6-706bdac1601e  Controlled drugs   \n",
       "\n",
       "                                                                      outcome  \\\n",
       "observation_id                                                                  \n",
       "d62c9e35-6293-45fc-aab6-706bdac1601e  Offender given drugs possession warning   \n",
       "\n",
       "                                      found_target stripped station  offense  \\\n",
       "observation_id                                                                 \n",
       "d62c9e35-6293-45fc-aab6-706bdac1601e         False    False  sussex     True   \n",
       "\n",
       "                                      success  \n",
       "observation_id                                 \n",
       "d62c9e35-6293-45fc-aab6-706bdac1601e    False  "
      ]
     },
     "execution_count": 22,
     "metadata": {},
     "output_type": "execute_result"
    }
   ],
   "source": [
    "df.head(1)"
   ]
  },
  {
   "cell_type": "code",
   "execution_count": 23,
   "id": "accepting-progress",
   "metadata": {},
   "outputs": [],
   "source": [
    "df = df[columns + ['success']]\n",
    "for i in range(2): # overweight recent data\n",
    "    df = df.append(df_customer[columns + ['success']])"
   ]
  },
  {
   "cell_type": "markdown",
   "id": "drawn-southeast",
   "metadata": {},
   "source": [
    "#### Drop metropolitan station from dataset"
   ]
  },
  {
   "cell_type": "code",
   "execution_count": 24,
   "id": "fiscal-wilson",
   "metadata": {},
   "outputs": [
    {
     "data": {
      "text/plain": [
       "(317317, 12)"
      ]
     },
     "execution_count": 24,
     "metadata": {},
     "output_type": "execute_result"
    }
   ],
   "source": [
    "df = df[df.station!='metropolitan']\n",
    "df.shape"
   ]
  },
  {
   "cell_type": "markdown",
   "id": "prompt-venice",
   "metadata": {},
   "source": [
    "#### Select relevant columns"
   ]
  },
  {
   "cell_type": "markdown",
   "id": "aboriginal-dryer",
   "metadata": {},
   "source": [
    "Requests will have the following format:\n",
    "```\n",
    "[\"observation_id\": <string>,\n",
    " \"Type\": <string>,\n",
    " \"Date\": <string>,\n",
    " \"Part of a policing operation\": <boolean>,\n",
    " \"Latitude\": <float>,\n",
    " \"Longitude\": <float>,\n",
    " \"Gender\": <string>,\n",
    " \"Age range\": <string>,\n",
    " \"Officer-defined ethnicity\": <string>,\n",
    " \"Legislation\": <string>,\n",
    " \"Object of search\": <string>,\n",
    " \"station\": <string>]\n",
    " '''\n"
   ]
  },
  {
   "cell_type": "code",
   "execution_count": 25,
   "id": "nearby-network",
   "metadata": {},
   "outputs": [],
   "source": [
    "supplied_columns = ['type', 'date', 'operation', 'lat', 'long', 'sex', 'age', 'ethnicity_officer', 'legislation', 'search_target', 'station']"
   ]
  },
  {
   "cell_type": "code",
   "execution_count": 26,
   "id": "funded-might",
   "metadata": {},
   "outputs": [],
   "source": [
    "X = df[supplied_columns]\n",
    "y = df.success.values"
   ]
  },
  {
   "cell_type": "markdown",
   "id": "round-request",
   "metadata": {},
   "source": [
    "### Adapt pipeline"
   ]
  },
  {
   "cell_type": "code",
   "execution_count": 27,
   "id": "several-architect",
   "metadata": {},
   "outputs": [],
   "source": [
    "from sklearn.preprocessing import OneHotEncoder"
   ]
  },
  {
   "cell_type": "code",
   "execution_count": 28,
   "id": "pacific-trunk",
   "metadata": {},
   "outputs": [],
   "source": [
    "categoricals = ['type', 'sex', 'age', 'search_target', 'station', 'ethnicity_officer']\n",
    "oh_encoder = OneHotEncoder(handle_unknown='ignore', sparse=False)\n",
    "pipeline['preprocess'].transformer_list[0][1].transformers[2] = ('cat_encoder', oh_encoder, categoricals)"
   ]
  },
  {
   "cell_type": "markdown",
   "id": "improved-fitting",
   "metadata": {},
   "source": [
    "#### Train-Validation Split"
   ]
  },
  {
   "cell_type": "code",
   "execution_count": 29,
   "id": "identified-melissa",
   "metadata": {},
   "outputs": [],
   "source": [
    "from sklearn.model_selection import train_test_split"
   ]
  },
  {
   "cell_type": "code",
   "execution_count": 30,
   "id": "written-wedding",
   "metadata": {},
   "outputs": [],
   "source": [
    "X_train, X_val, y_train, y_val = train_test_split(X, y, test_size=0.3, random_state=0, stratify=X[['station']], shuffle=True)"
   ]
  },
  {
   "cell_type": "markdown",
   "id": "eight-showcase",
   "metadata": {},
   "source": [
    "#### Fit"
   ]
  },
  {
   "cell_type": "code",
   "execution_count": 31,
   "id": "increasing-float",
   "metadata": {},
   "outputs": [
    {
     "name": "stderr",
     "output_type": "stream",
     "text": [
      "/home/rubelrennfix/.virtualenvs/capstone/lib/python3.6/site-packages/sklearn/preprocessing/_discretization.py:222: UserWarning: Bins whose width are too small (i.e., <= 1e-8) in feature 0 are removed. Consider decreasing the number of bins.\n",
      "  'decreasing the number of bins.' % jj)\n",
      "/home/rubelrennfix/.virtualenvs/capstone/lib/python3.6/site-packages/sklearn/preprocessing/_discretization.py:222: UserWarning: Bins whose width are too small (i.e., <= 1e-8) in feature 1 are removed. Consider decreasing the number of bins.\n",
      "  'decreasing the number of bins.' % jj)\n",
      "/home/rubelrennfix/.virtualenvs/capstone/lib/python3.6/site-packages/category_encoders/utils.py:21: FutureWarning: is_categorical is deprecated and will be removed in a future version.  Use is_categorical_dtype instead\n",
      "  elif pd.api.types.is_categorical(cols):\n"
     ]
    }
   ],
   "source": [
    "pipeline_ = pipeline.fit(X, y)"
   ]
  },
  {
   "cell_type": "markdown",
   "id": "indoor-accreditation",
   "metadata": {},
   "source": [
    "## Evaluation"
   ]
  },
  {
   "cell_type": "code",
   "execution_count": 38,
   "id": "thrown-triangle",
   "metadata": {},
   "outputs": [
    {
     "data": {
      "text/html": [
       "<div>\n",
       "<style scoped>\n",
       "    .dataframe tbody tr th:only-of-type {\n",
       "        vertical-align: middle;\n",
       "    }\n",
       "\n",
       "    .dataframe tbody tr th {\n",
       "        vertical-align: top;\n",
       "    }\n",
       "\n",
       "    .dataframe thead th {\n",
       "        text-align: right;\n",
       "    }\n",
       "</style>\n",
       "<table border=\"1\" class=\"dataframe\">\n",
       "  <thead>\n",
       "    <tr style=\"text-align: right;\">\n",
       "      <th></th>\n",
       "      <th>Model</th>\n",
       "      <th>Benchmark</th>\n",
       "      <th>Target</th>\n",
       "    </tr>\n",
       "  </thead>\n",
       "  <tbody>\n",
       "    <tr>\n",
       "      <th>Search precision</th>\n",
       "      <td>0.2399</td>\n",
       "      <td>0.2033</td>\n",
       "      <td>-</td>\n",
       "    </tr>\n",
       "    <tr>\n",
       "      <th>Maximum discrimination within station between ethnicity-gender-subgroup</th>\n",
       "      <td>0.2582</td>\n",
       "      <td>0.24</td>\n",
       "      <td>0.05</td>\n",
       "    </tr>\n",
       "    <tr>\n",
       "      <th>Maximum precision discrepancy between stations overall</th>\n",
       "      <td>0.4133</td>\n",
       "      <td>0.4111</td>\n",
       "      <td>0.1</td>\n",
       "    </tr>\n",
       "    <tr>\n",
       "      <th>Maximum discrimination between ethnicity-gender-subgroups</th>\n",
       "      <td>0.05469</td>\n",
       "      <td>0.03871</td>\n",
       "      <td>0.05</td>\n",
       "    </tr>\n",
       "  </tbody>\n",
       "</table>\n",
       "</div>"
      ],
      "text/plain": [
       "                                                      Model Benchmark Target\n",
       "Search precision                                     0.2399    0.2033      -\n",
       "Maximum discrimination within station between e...   0.2582      0.24   0.05\n",
       "Maximum precision discrepancy between stations ...   0.4133    0.4111    0.1\n",
       "Maximum discrimination between ethnicity-gender...  0.05469   0.03871   0.05"
      ]
     },
     "execution_count": 38,
     "metadata": {},
     "output_type": "execute_result"
    }
   ],
   "source": [
    "# set up\n",
    "df_results = pd.DataFrame(index=['Search precision',\n",
    "                                 'Maximum discrimination within station between ethnicity-gender-subgroup',\n",
    "                                 'Maximum precision discrepancy between stations overall',\n",
    "                                 'Maximum discrimination between ethnicity-gender-subgroups'],\n",
    "                          columns=['Model', 'Benchmark', 'Target'])\n",
    "\n",
    "# pipeline\n",
    "authorised = src.evaluate.authorise_search(pipeline_, X, bias_correction=True).astype(bool)\n",
    "\n",
    "df_results.iat[0, 0] = precision_score(y, authorised)\n",
    "df_results.iat[1, 0] = src.evaluate.within_station_discrepancy(authorised, y, X).max()\n",
    "df_results.iat[2, 0] = src.evaluate.across_station_discrepancy(authorised, y, X)\n",
    "df_results.iat[3, 0] = src.evaluate.across_subgroup_discrepancy(authorised, y, X)\n",
    "\n",
    "# evaluate benchmark\n",
    "df_results.iat[0, 1] = precision_score(y, np.ones(y.shape))\n",
    "df_results.iat[1, 1] = src.evaluate.within_station_discrepancy(np.ones(y.shape), y, X).max()\n",
    "df_results.iat[2, 1] = src.evaluate.across_station_discrepancy(np.ones(y.shape), y, X)\n",
    "df_results.iat[3, 1] = src.evaluate.across_subgroup_discrepancy(np.ones(y.shape), y, X)\n",
    "\n",
    "# targets\n",
    "df_results.iat[0, 2] = '-'\n",
    "df_results.iat[1, 2] = 0.05\n",
    "df_results.iat[2, 2] = 0.1\n",
    "df_results.iat[3, 2] = 0.05\n",
    "\n",
    "df_results"
   ]
  },
  {
   "cell_type": "code",
   "execution_count": 35,
   "id": "prescribed-samba",
   "metadata": {},
   "outputs": [
    {
     "data": {
      "text/html": [
       "<div>\n",
       "<style scoped>\n",
       "    .dataframe tbody tr th:only-of-type {\n",
       "        vertical-align: middle;\n",
       "    }\n",
       "\n",
       "    .dataframe tbody tr th {\n",
       "        vertical-align: top;\n",
       "    }\n",
       "\n",
       "    .dataframe thead th {\n",
       "        text-align: right;\n",
       "    }\n",
       "</style>\n",
       "<table border=\"1\" class=\"dataframe\">\n",
       "  <thead>\n",
       "    <tr style=\"text-align: right;\">\n",
       "      <th></th>\n",
       "      <th>Model</th>\n",
       "      <th>Benchmark</th>\n",
       "      <th>Target</th>\n",
       "    </tr>\n",
       "  </thead>\n",
       "  <tbody>\n",
       "    <tr>\n",
       "      <th>Search precision</th>\n",
       "      <td>0.2403</td>\n",
       "      <td>0.2037</td>\n",
       "      <td>-</td>\n",
       "    </tr>\n",
       "    <tr>\n",
       "      <th>Maximum discrimination within station between ethnicity-gender-subgroup</th>\n",
       "      <td>0.2776</td>\n",
       "      <td>0.2616</td>\n",
       "      <td>0.05</td>\n",
       "    </tr>\n",
       "    <tr>\n",
       "      <th>Maximum precision discrepancy between stations overall</th>\n",
       "      <td>0.4184</td>\n",
       "      <td>0.4162</td>\n",
       "      <td>0.1</td>\n",
       "    </tr>\n",
       "    <tr>\n",
       "      <th>Maximum discrimination between ethnicity-gender-subgroups</th>\n",
       "      <td>0.04439</td>\n",
       "      <td>0.03297</td>\n",
       "      <td>0.05</td>\n",
       "    </tr>\n",
       "  </tbody>\n",
       "</table>\n",
       "</div>"
      ],
      "text/plain": [
       "                                                      Model Benchmark Target\n",
       "Search precision                                     0.2403    0.2037      -\n",
       "Maximum discrimination within station between e...   0.2776    0.2616   0.05\n",
       "Maximum precision discrepancy between stations ...   0.4184    0.4162    0.1\n",
       "Maximum discrimination between ethnicity-gender...  0.04439   0.03297   0.05"
      ]
     },
     "execution_count": 35,
     "metadata": {},
     "output_type": "execute_result"
    }
   ],
   "source": [
    "# set up\n",
    "df_results = pd.DataFrame(index=['Search precision',\n",
    "                                 'Maximum discrimination within station between ethnicity-gender-subgroup',\n",
    "                                 'Maximum precision discrepancy between stations overall',\n",
    "                                 'Maximum discrimination between ethnicity-gender-subgroups'],\n",
    "                          columns=['Model', 'Benchmark', 'Target'])\n",
    "\n",
    "# pipeline\n",
    "authorised = src.evaluate.authorise_search(pipeline_, X_train, bias_correction=True).astype(bool)\n",
    "\n",
    "df_results.iat[0, 0] = precision_score(y_train, authorised)\n",
    "df_results.iat[1, 0] = src.evaluate.within_station_discrepancy(authorised, y_train, X_train).max()\n",
    "df_results.iat[2, 0] = src.evaluate.across_station_discrepancy(authorised, y_train, X_train)\n",
    "df_results.iat[3, 0] = src.evaluate.across_subgroup_discrepancy(authorised, y_train, X_train)\n",
    "\n",
    "# evaluate benchmark\n",
    "df_results.iat[0, 1] = precision_score(y_train, np.ones(y_train.shape))\n",
    "df_results.iat[1, 1] = src.evaluate.within_station_discrepancy(np.ones(y_train.shape), y_train, X_train).max()\n",
    "df_results.iat[2, 1] = src.evaluate.across_station_discrepancy(np.ones(y_train.shape), y_train, X_train)\n",
    "df_results.iat[3, 1] = src.evaluate.across_subgroup_discrepancy(np.ones(y_train.shape), y_train, X_train)\n",
    "\n",
    "# targets\n",
    "df_results.iat[0, 2] = '-'\n",
    "df_results.iat[1, 2] = 0.05\n",
    "df_results.iat[2, 2] = 0.1\n",
    "df_results.iat[3, 2] = 0.05\n",
    "\n",
    "df_results"
   ]
  },
  {
   "cell_type": "code",
   "execution_count": 36,
   "id": "cooked-compromise",
   "metadata": {},
   "outputs": [
    {
     "data": {
      "text/html": [
       "<div>\n",
       "<style scoped>\n",
       "    .dataframe tbody tr th:only-of-type {\n",
       "        vertical-align: middle;\n",
       "    }\n",
       "\n",
       "    .dataframe tbody tr th {\n",
       "        vertical-align: top;\n",
       "    }\n",
       "\n",
       "    .dataframe thead th {\n",
       "        text-align: right;\n",
       "    }\n",
       "</style>\n",
       "<table border=\"1\" class=\"dataframe\">\n",
       "  <thead>\n",
       "    <tr style=\"text-align: right;\">\n",
       "      <th></th>\n",
       "      <th>Model</th>\n",
       "      <th>Benchmark</th>\n",
       "      <th>Target</th>\n",
       "    </tr>\n",
       "  </thead>\n",
       "  <tbody>\n",
       "    <tr>\n",
       "      <th>Search precision</th>\n",
       "      <td>0.2389</td>\n",
       "      <td>0.2023</td>\n",
       "      <td>-</td>\n",
       "    </tr>\n",
       "    <tr>\n",
       "      <th>Maximum discrimination within station between ethnicity-gender-subgroup</th>\n",
       "      <td>0.2343</td>\n",
       "      <td>0.2434</td>\n",
       "      <td>0.05</td>\n",
       "    </tr>\n",
       "    <tr>\n",
       "      <th>Maximum precision discrepancy between stations overall</th>\n",
       "      <td>0.243</td>\n",
       "      <td>0.3995</td>\n",
       "      <td>0.1</td>\n",
       "    </tr>\n",
       "    <tr>\n",
       "      <th>Maximum discrimination between ethnicity-gender-subgroups</th>\n",
       "      <td>0.1183</td>\n",
       "      <td>0.09418</td>\n",
       "      <td>0.05</td>\n",
       "    </tr>\n",
       "  </tbody>\n",
       "</table>\n",
       "</div>"
      ],
      "text/plain": [
       "                                                     Model Benchmark Target\n",
       "Search precision                                    0.2389    0.2023      -\n",
       "Maximum discrimination within station between e...  0.2343    0.2434   0.05\n",
       "Maximum precision discrepancy between stations ...   0.243    0.3995    0.1\n",
       "Maximum discrimination between ethnicity-gender...  0.1183   0.09418   0.05"
      ]
     },
     "execution_count": 36,
     "metadata": {},
     "output_type": "execute_result"
    }
   ],
   "source": [
    "# set up\n",
    "df_results = pd.DataFrame(index=['Search precision',\n",
    "                                 'Maximum discrimination within station between ethnicity-gender-subgroup',\n",
    "                                 'Maximum precision discrepancy between stations overall',\n",
    "                                 'Maximum discrimination between ethnicity-gender-subgroups'],\n",
    "                          columns=['Model', 'Benchmark', 'Target'])\n",
    "\n",
    "# pipeline\n",
    "authorised = src.evaluate.authorise_search(pipeline_, X_val, bias_correction=True).astype(bool)\n",
    "\n",
    "df_results.iat[0, 0] = precision_score(y_val, authorised)\n",
    "df_results.iat[1, 0] = src.evaluate.within_station_discrepancy(authorised, y_val, X_val).max()\n",
    "df_results.iat[2, 0] = src.evaluate.across_station_discrepancy(authorised, y_val, X_val)\n",
    "df_results.iat[3, 0] = src.evaluate.across_subgroup_discrepancy(authorised, y_val, X_val)\n",
    "\n",
    "# evaluate benchmark\n",
    "df_results.iat[0, 1] = precision_score(y_val, np.ones(y_val.shape))\n",
    "df_results.iat[1, 1] = src.evaluate.within_station_discrepancy(np.ones(y_val.shape), y_val, X_val).max()\n",
    "df_results.iat[2, 1] = src.evaluate.across_station_discrepancy(np.ones(y_val.shape), y_val, X_val)\n",
    "df_results.iat[3, 1] = src.evaluate.across_subgroup_discrepancy(np.ones(y_val.shape), y_val, X_val)\n",
    "\n",
    "# targets\n",
    "df_results.iat[0, 2] = '-'\n",
    "df_results.iat[1, 2] = 0.05\n",
    "df_results.iat[2, 2] = 0.1\n",
    "df_results.iat[3, 2] = 0.05\n",
    "\n",
    "df_results"
   ]
  },
  {
   "cell_type": "code",
   "execution_count": 39,
   "id": "significant-inclusion",
   "metadata": {},
   "outputs": [
    {
     "data": {
      "text/html": [
       "<div>\n",
       "<style scoped>\n",
       "    .dataframe tbody tr th:only-of-type {\n",
       "        vertical-align: middle;\n",
       "    }\n",
       "\n",
       "    .dataframe tbody tr th {\n",
       "        vertical-align: top;\n",
       "    }\n",
       "\n",
       "    .dataframe thead tr th {\n",
       "        text-align: left;\n",
       "    }\n",
       "</style>\n",
       "<table border=\"1\" class=\"dataframe\">\n",
       "  <thead>\n",
       "    <tr>\n",
       "      <th></th>\n",
       "      <th></th>\n",
       "      <th colspan=\"2\" halign=\"left\">Predicted outcome</th>\n",
       "    </tr>\n",
       "    <tr>\n",
       "      <th></th>\n",
       "      <th></th>\n",
       "      <th>no succes</th>\n",
       "      <th>success</th>\n",
       "    </tr>\n",
       "  </thead>\n",
       "  <tbody>\n",
       "    <tr>\n",
       "      <th rowspan=\"2\" valign=\"top\">True outcome</th>\n",
       "      <th>no succes</th>\n",
       "      <td>61085</td>\n",
       "      <td>191720</td>\n",
       "    </tr>\n",
       "    <tr>\n",
       "      <th>success</th>\n",
       "      <td>4003</td>\n",
       "      <td>60509</td>\n",
       "    </tr>\n",
       "  </tbody>\n",
       "</table>\n",
       "</div>"
      ],
      "text/plain": [
       "                       Predicted outcome        \n",
       "                               no succes success\n",
       "True outcome no succes             61085  191720\n",
       "             success                4003   60509"
      ]
     },
     "execution_count": 39,
     "metadata": {},
     "output_type": "execute_result"
    }
   ],
   "source": [
    "pd.DataFrame(confusion_matrix(y, authorised),\n",
    "             index=pd.MultiIndex.from_product([['True outcome'], ['no succes', 'success']]),\n",
    "             columns=pd.MultiIndex.from_product([['Predicted outcome'], ['no succes', 'success']]),\n",
    "            )"
   ]
  },
  {
   "cell_type": "markdown",
   "id": "starting-vampire",
   "metadata": {},
   "source": [
    "##### Fairness"
   ]
  },
  {
   "cell_type": "code",
   "execution_count": 40,
   "id": "brazilian-garbage",
   "metadata": {},
   "outputs": [
    {
     "data": {
      "text/html": [
       "<div>\n",
       "<style scoped>\n",
       "    .dataframe tbody tr th:only-of-type {\n",
       "        vertical-align: middle;\n",
       "    }\n",
       "\n",
       "    .dataframe tbody tr th {\n",
       "        vertical-align: top;\n",
       "    }\n",
       "\n",
       "    .dataframe thead th {\n",
       "        text-align: right;\n",
       "    }\n",
       "</style>\n",
       "<table border=\"1\" class=\"dataframe\">\n",
       "  <thead>\n",
       "    <tr style=\"text-align: right;\">\n",
       "      <th>gender</th>\n",
       "      <th>Female</th>\n",
       "      <th>Male</th>\n",
       "    </tr>\n",
       "    <tr>\n",
       "      <th>ethnicity</th>\n",
       "      <th></th>\n",
       "      <th></th>\n",
       "    </tr>\n",
       "  </thead>\n",
       "  <tbody>\n",
       "    <tr>\n",
       "      <th>Asian</th>\n",
       "      <td>0.2084</td>\n",
       "      <td>0.2336</td>\n",
       "    </tr>\n",
       "    <tr>\n",
       "      <th>Black</th>\n",
       "      <td>0.2126</td>\n",
       "      <td>0.2402</td>\n",
       "    </tr>\n",
       "    <tr>\n",
       "      <th>Mixed</th>\n",
       "      <td>0.2033</td>\n",
       "      <td>0.2427</td>\n",
       "    </tr>\n",
       "    <tr>\n",
       "      <th>Other</th>\n",
       "      <td>0.2580</td>\n",
       "      <td>0.2433</td>\n",
       "    </tr>\n",
       "    <tr>\n",
       "      <th>White</th>\n",
       "      <td>0.2074</td>\n",
       "      <td>0.2453</td>\n",
       "    </tr>\n",
       "  </tbody>\n",
       "</table>\n",
       "</div>"
      ],
      "text/plain": [
       "gender     Female    Male\n",
       "ethnicity                \n",
       "Asian      0.2084  0.2336\n",
       "Black      0.2126  0.2402\n",
       "Mixed      0.2033  0.2427\n",
       "Other      0.2580  0.2433\n",
       "White      0.2074  0.2453"
      ]
     },
     "execution_count": 40,
     "metadata": {},
     "output_type": "execute_result"
    }
   ],
   "source": [
    "src.evaluate.calculate_subgroup_precisions(authorised, y, X, grouping=['ethnicity', 'gender']).unstack()"
   ]
  },
  {
   "cell_type": "code",
   "execution_count": 41,
   "id": "broadband-westminster",
   "metadata": {},
   "outputs": [
    {
     "data": {
      "text/html": [
       "<div>\n",
       "<style scoped>\n",
       "    .dataframe tbody tr th:only-of-type {\n",
       "        vertical-align: middle;\n",
       "    }\n",
       "\n",
       "    .dataframe tbody tr th {\n",
       "        vertical-align: top;\n",
       "    }\n",
       "\n",
       "    .dataframe thead th {\n",
       "        text-align: right;\n",
       "    }\n",
       "</style>\n",
       "<table border=\"1\" class=\"dataframe\">\n",
       "  <thead>\n",
       "    <tr style=\"text-align: right;\">\n",
       "      <th>gender</th>\n",
       "      <th>Female</th>\n",
       "      <th>Male</th>\n",
       "    </tr>\n",
       "    <tr>\n",
       "      <th>ethnicity</th>\n",
       "      <th></th>\n",
       "      <th></th>\n",
       "    </tr>\n",
       "  </thead>\n",
       "  <tbody>\n",
       "    <tr>\n",
       "      <th>Asian</th>\n",
       "      <td>0.1887</td>\n",
       "      <td>0.2011</td>\n",
       "    </tr>\n",
       "    <tr>\n",
       "      <th>Black</th>\n",
       "      <td>0.1964</td>\n",
       "      <td>0.2089</td>\n",
       "    </tr>\n",
       "    <tr>\n",
       "      <th>Mixed</th>\n",
       "      <td>0.1884</td>\n",
       "      <td>0.2097</td>\n",
       "    </tr>\n",
       "    <tr>\n",
       "      <th>Other</th>\n",
       "      <td>0.2204</td>\n",
       "      <td>0.2131</td>\n",
       "    </tr>\n",
       "    <tr>\n",
       "      <th>White</th>\n",
       "      <td>0.1817</td>\n",
       "      <td>0.2053</td>\n",
       "    </tr>\n",
       "  </tbody>\n",
       "</table>\n",
       "</div>"
      ],
      "text/plain": [
       "gender     Female    Male\n",
       "ethnicity                \n",
       "Asian      0.1887  0.2011\n",
       "Black      0.1964  0.2089\n",
       "Mixed      0.1884  0.2097\n",
       "Other      0.2204  0.2131\n",
       "White      0.1817  0.2053"
      ]
     },
     "execution_count": 41,
     "metadata": {},
     "output_type": "execute_result"
    }
   ],
   "source": [
    "src.evaluate.calculate_subgroup_precisions(np.ones(y.shape), y, X, grouping=['ethnicity', 'gender']).unstack()"
   ]
  },
  {
   "cell_type": "code",
   "execution_count": 42,
   "id": "formed-bicycle",
   "metadata": {},
   "outputs": [
    {
     "data": {
      "image/png": "[encoded data removed]",
      "text/plain": [
       "<Figure size 1224x216 with 1 Axes>"
      ]
     },
     "metadata": {},
     "output_type": "display_data"
    }
   ],
   "source": [
    "fig, ax = plt.subplots(1, 1, figsize=(17,3))\n",
    "\n",
    "station_precisions = src.evaluate.calculate_subgroup_precisions(authorised, y, X, grouping=['station']).dropna()\n",
    "ax.set_title('Search precision by station')\n",
    "ax.bar(x=np.arange(0, len(station_precisions), 1), height=station_precisions, label='Model')\n",
    "ax.scatter(x=np.arange(0, len(station_precisions), 1), y=src.evaluate.calculate_subgroup_precisions(np.ones(y.shape), y, X, grouping=['station'])[station_precisions.index], zorder=10, label='Benchmark', marker='_', s=100)\n",
    "ax.axhline(precision_score(y, authorised), linewidth=2, linestyle='--', c='k', label='Average')\n",
    "ax.set_xticks(np.arange(0, len(station_precisions), 1))\n",
    "ax.set_xticklabels(station_precisions.index, rotation=90)\n",
    "ax.legend(bbox_to_anchor=(1.1, 0.5), ncol=1)\n",
    "plt.show()\n",
    "\n",
    "fig.savefig('../reports/figures/stations_precision_retrain.jpg', dpi=300, bbox_inches='tight')"
   ]
  },
  {
   "cell_type": "markdown",
   "id": "framed-kidney",
   "metadata": {},
   "source": [
    "### Serialise"
   ]
  },
  {
   "cell_type": "code",
   "execution_count": 43,
   "id": "sitting-talent",
   "metadata": {},
   "outputs": [
    {
     "data": {
      "text/plain": [
       "['../deploy/pipeline.pickle']"
      ]
     },
     "execution_count": 43,
     "metadata": {},
     "output_type": "execute_result"
    }
   ],
   "source": [
    "# serialise\n",
    "joblib.dump(pipeline_, '../deploy/pipeline.pickle')"
   ]
  }
 ],
 "metadata": {
  "kernelspec": {
   "display_name": "Python 3",
   "language": "python",
   "name": "python3"
  },
  "language_info": {
   "codemirror_mode": {
    "name": "ipython",
    "version": 3
   },
   "file_extension": ".py",
   "mimetype": "text/x-python",
   "name": "python",
   "nbconvert_exporter": "python",
   "pygments_lexer": "ipython3",
   "version": "3.6.9"
  }
 },
 "nbformat": 4,
 "nbformat_minor": 5
}
